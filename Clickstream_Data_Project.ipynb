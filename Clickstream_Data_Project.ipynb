{
 "cells": [
  {
   "cell_type": "code",
   "execution_count": 274,
   "metadata": {
    "collapsed": true
   },
   "outputs": [],
   "source": [
    "import pandas as pd\n",
    "import re\n",
    "import seaborn as sns\n",
    "import matplotlib.pyplot as plt\n",
    "import numpy as np\n",
    "import scipy as sp\n",
    "import scipy.spatial.distance as spd\n",
    "import scipy.cluster.hierarchy as sph\n",
    "import sklearn as sk\n",
    "import sklearn.metrics as skm\n",
    "import sklearn.cluster as skc\n",
    "import sklearn.decomposition as skd\n",
    "import sklearn.mixture as skmix\n",
    "%matplotlib inline"
   ]
  },
  {
   "cell_type": "code",
   "execution_count": 275,
   "metadata": {
    "collapsed": true
   },
   "outputs": [],
   "source": [
    "df = pd.read_csv('requests_export000.tsv', delimiter = '\\t')"
   ]
  },
  {
   "cell_type": "code",
   "execution_count": 330,
   "metadata": {
    "collapsed": false
   },
   "outputs": [
    {
     "name": "stdout",
     "output_type": "stream",
     "text": [
      "15022923\n"
     ]
    }
   ],
   "source": [
    "df.head(5)\n",
    "print(len(df))"
   ]
  },
  {
   "cell_type": "code",
   "execution_count": 277,
   "metadata": {
    "collapsed": false
   },
   "outputs": [],
   "source": [
    "df = df.dropna()"
   ]
  },
  {
   "cell_type": "code",
   "execution_count": 278,
   "metadata": {
    "collapsed": true
   },
   "outputs": [],
   "source": [
    "df_reduced = df.sample(10000)"
   ]
  },
  {
   "cell_type": "code",
   "execution_count": 279,
   "metadata": {
    "collapsed": false
   },
   "outputs": [
    {
     "data": {
      "text/html": [
       "<div>\n",
       "<table border=\"1\" class=\"dataframe\">\n",
       "  <thead>\n",
       "    <tr style=\"text-align: right;\">\n",
       "      <th></th>\n",
       "      <th>/courses/166/files/569/preview</th>\n",
       "      <th>Mozilla/5.0 (Macintosh; Intel Mac OS X 10_9_4) AppleWebKit/537.78.2 (KHTML, like Gecko) Version/7.0.6 Safari/537.78.2</th>\n",
       "      <th>89346</th>\n",
       "      <th>013ee67cd2f2a42eb788b1061ed14155</th>\n",
       "      <th>2015-10-07 03:34:09</th>\n",
       "      <th>05d0532840f04928dfdd86296c51189d</th>\n",
       "    </tr>\n",
       "  </thead>\n",
       "  <tbody>\n",
       "    <tr>\n",
       "      <th>6774042</th>\n",
       "      <td>/api/v1/courses/166/pages/virtual-sites/revisi...</td>\n",
       "      <td>Mozilla/5.0 (Windows NT 6.1; WOW64) AppleWebKi...</td>\n",
       "      <td>145955</td>\n",
       "      <td>219c6016e64bc2bd208a5cf9f531e65c</td>\n",
       "      <td>2014-12-04 02:58:22</td>\n",
       "      <td>05d0532840f04928dfdd86296c51189d</td>\n",
       "    </tr>\n",
       "    <tr>\n",
       "      <th>8539718</th>\n",
       "      <td>/api/v1/courses/166/pages/virtual-sites/revisi...</td>\n",
       "      <td>Mozilla/5.0 (Macintosh; Intel Mac OS X 10_9_4)...</td>\n",
       "      <td>150544</td>\n",
       "      <td>324f5965809bb2a90afa8bc419568fff</td>\n",
       "      <td>2014-09-12 19:18:16</td>\n",
       "      <td>05d0532840f04928dfdd86296c51189d</td>\n",
       "    </tr>\n",
       "    <tr>\n",
       "      <th>11553861</th>\n",
       "      <td>/courses/166/files/568/preview?verifier=0YGs41...</td>\n",
       "      <td>Mozilla/5.0 (Windows NT 6.1; WOW64) AppleWebKi...</td>\n",
       "      <td>424676</td>\n",
       "      <td>49f9d95813dede0e1434d93cdf32bac3</td>\n",
       "      <td>2014-10-22 16:42:26</td>\n",
       "      <td>05d0532840f04928dfdd86296c51189d</td>\n",
       "    </tr>\n",
       "    <tr>\n",
       "      <th>6823085</th>\n",
       "      <td>/api/v1/courses/166/pages/home-page/revisions/...</td>\n",
       "      <td>Mozilla/5.0 (Windows NT 6.1; WOW64) AppleWebKi...</td>\n",
       "      <td>128879</td>\n",
       "      <td>a0cf02bfe68d9e63784db7cd4be58ff4</td>\n",
       "      <td>2014-12-05 05:00:53</td>\n",
       "      <td>05d0532840f04928dfdd86296c51189d</td>\n",
       "    </tr>\n",
       "    <tr>\n",
       "      <th>5139106</th>\n",
       "      <td>/api/v1/courses/166/modules?page=2&amp;per_page=10</td>\n",
       "      <td>Mozilla/5.0 (X11; Linux x86_64) AppleWebKit/53...</td>\n",
       "      <td>96500</td>\n",
       "      <td>f17b3bd0327831e9519add6dee058ecb</td>\n",
       "      <td>2014-11-10 19:24:03</td>\n",
       "      <td>05d0532840f04928dfdd86296c51189d</td>\n",
       "    </tr>\n",
       "  </tbody>\n",
       "</table>\n",
       "</div>"
      ],
      "text/plain": [
       "                             /courses/166/files/569/preview  \\\n",
       "6774042   /api/v1/courses/166/pages/virtual-sites/revisi...   \n",
       "8539718   /api/v1/courses/166/pages/virtual-sites/revisi...   \n",
       "11553861  /courses/166/files/568/preview?verifier=0YGs41...   \n",
       "6823085   /api/v1/courses/166/pages/home-page/revisions/...   \n",
       "5139106      /api/v1/courses/166/modules?page=2&per_page=10   \n",
       "\n",
       "         Mozilla/5.0 (Macintosh; Intel Mac OS X 10_9_4) AppleWebKit/537.78.2 (KHTML, like Gecko) Version/7.0.6 Safari/537.78.2  \\\n",
       "6774042   Mozilla/5.0 (Windows NT 6.1; WOW64) AppleWebKi...                                                                      \n",
       "8539718   Mozilla/5.0 (Macintosh; Intel Mac OS X 10_9_4)...                                                                      \n",
       "11553861  Mozilla/5.0 (Windows NT 6.1; WOW64) AppleWebKi...                                                                      \n",
       "6823085   Mozilla/5.0 (Windows NT 6.1; WOW64) AppleWebKi...                                                                      \n",
       "5139106   Mozilla/5.0 (X11; Linux x86_64) AppleWebKit/53...                                                                      \n",
       "\n",
       "           89346  013ee67cd2f2a42eb788b1061ed14155  2015-10-07 03:34:09  \\\n",
       "6774042   145955  219c6016e64bc2bd208a5cf9f531e65c  2014-12-04 02:58:22   \n",
       "8539718   150544  324f5965809bb2a90afa8bc419568fff  2014-09-12 19:18:16   \n",
       "11553861  424676  49f9d95813dede0e1434d93cdf32bac3  2014-10-22 16:42:26   \n",
       "6823085   128879  a0cf02bfe68d9e63784db7cd4be58ff4  2014-12-05 05:00:53   \n",
       "5139106    96500  f17b3bd0327831e9519add6dee058ecb  2014-11-10 19:24:03   \n",
       "\n",
       "          05d0532840f04928dfdd86296c51189d  \n",
       "6774042   05d0532840f04928dfdd86296c51189d  \n",
       "8539718   05d0532840f04928dfdd86296c51189d  \n",
       "11553861  05d0532840f04928dfdd86296c51189d  \n",
       "6823085   05d0532840f04928dfdd86296c51189d  \n",
       "5139106   05d0532840f04928dfdd86296c51189d  "
      ]
     },
     "execution_count": 279,
     "metadata": {},
     "output_type": "execute_result"
    }
   ],
   "source": [
    "df_reduced.head()"
   ]
  },
  {
   "cell_type": "code",
   "execution_count": 280,
   "metadata": {
    "collapsed": false
   },
   "outputs": [],
   "source": [
    "new_header = ['URL', 'User Agent', 'Unknown', 'UUID', 'TimeStamp', 'ClassID']\n",
    "df_reduced.columns = new_header"
   ]
  },
  {
   "cell_type": "code",
   "execution_count": 281,
   "metadata": {
    "collapsed": false
   },
   "outputs": [
    {
     "data": {
      "text/html": [
       "<div>\n",
       "<table border=\"1\" class=\"dataframe\">\n",
       "  <thead>\n",
       "    <tr style=\"text-align: right;\">\n",
       "      <th></th>\n",
       "      <th>URL</th>\n",
       "      <th>User Agent</th>\n",
       "      <th>Unknown</th>\n",
       "      <th>UUID</th>\n",
       "      <th>TimeStamp</th>\n",
       "      <th>ClassID</th>\n",
       "    </tr>\n",
       "  </thead>\n",
       "  <tbody>\n",
       "    <tr>\n",
       "      <th>6774042</th>\n",
       "      <td>/api/v1/courses/166/pages/virtual-sites/revisi...</td>\n",
       "      <td>Mozilla/5.0 (Windows NT 6.1; WOW64) AppleWebKi...</td>\n",
       "      <td>145955</td>\n",
       "      <td>219c6016e64bc2bd208a5cf9f531e65c</td>\n",
       "      <td>2014-12-04 02:58:22</td>\n",
       "      <td>05d0532840f04928dfdd86296c51189d</td>\n",
       "    </tr>\n",
       "    <tr>\n",
       "      <th>8539718</th>\n",
       "      <td>/api/v1/courses/166/pages/virtual-sites/revisi...</td>\n",
       "      <td>Mozilla/5.0 (Macintosh; Intel Mac OS X 10_9_4)...</td>\n",
       "      <td>150544</td>\n",
       "      <td>324f5965809bb2a90afa8bc419568fff</td>\n",
       "      <td>2014-09-12 19:18:16</td>\n",
       "      <td>05d0532840f04928dfdd86296c51189d</td>\n",
       "    </tr>\n",
       "    <tr>\n",
       "      <th>11553861</th>\n",
       "      <td>/courses/166/files/568/preview?verifier=0YGs41...</td>\n",
       "      <td>Mozilla/5.0 (Windows NT 6.1; WOW64) AppleWebKi...</td>\n",
       "      <td>424676</td>\n",
       "      <td>49f9d95813dede0e1434d93cdf32bac3</td>\n",
       "      <td>2014-10-22 16:42:26</td>\n",
       "      <td>05d0532840f04928dfdd86296c51189d</td>\n",
       "    </tr>\n",
       "    <tr>\n",
       "      <th>6823085</th>\n",
       "      <td>/api/v1/courses/166/pages/home-page/revisions/...</td>\n",
       "      <td>Mozilla/5.0 (Windows NT 6.1; WOW64) AppleWebKi...</td>\n",
       "      <td>128879</td>\n",
       "      <td>a0cf02bfe68d9e63784db7cd4be58ff4</td>\n",
       "      <td>2014-12-05 05:00:53</td>\n",
       "      <td>05d0532840f04928dfdd86296c51189d</td>\n",
       "    </tr>\n",
       "    <tr>\n",
       "      <th>5139106</th>\n",
       "      <td>/api/v1/courses/166/modules?page=2&amp;per_page=10</td>\n",
       "      <td>Mozilla/5.0 (X11; Linux x86_64) AppleWebKit/53...</td>\n",
       "      <td>96500</td>\n",
       "      <td>f17b3bd0327831e9519add6dee058ecb</td>\n",
       "      <td>2014-11-10 19:24:03</td>\n",
       "      <td>05d0532840f04928dfdd86296c51189d</td>\n",
       "    </tr>\n",
       "  </tbody>\n",
       "</table>\n",
       "</div>"
      ],
      "text/plain": [
       "                                                        URL  \\\n",
       "6774042   /api/v1/courses/166/pages/virtual-sites/revisi...   \n",
       "8539718   /api/v1/courses/166/pages/virtual-sites/revisi...   \n",
       "11553861  /courses/166/files/568/preview?verifier=0YGs41...   \n",
       "6823085   /api/v1/courses/166/pages/home-page/revisions/...   \n",
       "5139106      /api/v1/courses/166/modules?page=2&per_page=10   \n",
       "\n",
       "                                                 User Agent  Unknown  \\\n",
       "6774042   Mozilla/5.0 (Windows NT 6.1; WOW64) AppleWebKi...   145955   \n",
       "8539718   Mozilla/5.0 (Macintosh; Intel Mac OS X 10_9_4)...   150544   \n",
       "11553861  Mozilla/5.0 (Windows NT 6.1; WOW64) AppleWebKi...   424676   \n",
       "6823085   Mozilla/5.0 (Windows NT 6.1; WOW64) AppleWebKi...   128879   \n",
       "5139106   Mozilla/5.0 (X11; Linux x86_64) AppleWebKit/53...    96500   \n",
       "\n",
       "                                      UUID            TimeStamp  \\\n",
       "6774042   219c6016e64bc2bd208a5cf9f531e65c  2014-12-04 02:58:22   \n",
       "8539718   324f5965809bb2a90afa8bc419568fff  2014-09-12 19:18:16   \n",
       "11553861  49f9d95813dede0e1434d93cdf32bac3  2014-10-22 16:42:26   \n",
       "6823085   a0cf02bfe68d9e63784db7cd4be58ff4  2014-12-05 05:00:53   \n",
       "5139106   f17b3bd0327831e9519add6dee058ecb  2014-11-10 19:24:03   \n",
       "\n",
       "                                   ClassID  \n",
       "6774042   05d0532840f04928dfdd86296c51189d  \n",
       "8539718   05d0532840f04928dfdd86296c51189d  \n",
       "11553861  05d0532840f04928dfdd86296c51189d  \n",
       "6823085   05d0532840f04928dfdd86296c51189d  \n",
       "5139106   05d0532840f04928dfdd86296c51189d  "
      ]
     },
     "execution_count": 281,
     "metadata": {},
     "output_type": "execute_result"
    }
   ],
   "source": [
    "df_reduced.head()"
   ]
  },
  {
   "cell_type": "code",
   "execution_count": 282,
   "metadata": {
    "collapsed": true
   },
   "outputs": [],
   "source": [
    "del df_reduced['Unknown']"
   ]
  },
  {
   "cell_type": "code",
   "execution_count": 283,
   "metadata": {
    "collapsed": false
   },
   "outputs": [
    {
     "data": {
      "text/html": [
       "<div>\n",
       "<table border=\"1\" class=\"dataframe\">\n",
       "  <thead>\n",
       "    <tr style=\"text-align: right;\">\n",
       "      <th></th>\n",
       "      <th>URL</th>\n",
       "      <th>User Agent</th>\n",
       "      <th>UUID</th>\n",
       "      <th>TimeStamp</th>\n",
       "      <th>ClassID</th>\n",
       "    </tr>\n",
       "  </thead>\n",
       "  <tbody>\n",
       "    <tr>\n",
       "      <th>6774042</th>\n",
       "      <td>/api/v1/courses/166/pages/virtual-sites/revisi...</td>\n",
       "      <td>Mozilla/5.0 (Windows NT 6.1; WOW64) AppleWebKi...</td>\n",
       "      <td>219c6016e64bc2bd208a5cf9f531e65c</td>\n",
       "      <td>2014-12-04 02:58:22</td>\n",
       "      <td>05d0532840f04928dfdd86296c51189d</td>\n",
       "    </tr>\n",
       "    <tr>\n",
       "      <th>8539718</th>\n",
       "      <td>/api/v1/courses/166/pages/virtual-sites/revisi...</td>\n",
       "      <td>Mozilla/5.0 (Macintosh; Intel Mac OS X 10_9_4)...</td>\n",
       "      <td>324f5965809bb2a90afa8bc419568fff</td>\n",
       "      <td>2014-09-12 19:18:16</td>\n",
       "      <td>05d0532840f04928dfdd86296c51189d</td>\n",
       "    </tr>\n",
       "    <tr>\n",
       "      <th>11553861</th>\n",
       "      <td>/courses/166/files/568/preview?verifier=0YGs41...</td>\n",
       "      <td>Mozilla/5.0 (Windows NT 6.1; WOW64) AppleWebKi...</td>\n",
       "      <td>49f9d95813dede0e1434d93cdf32bac3</td>\n",
       "      <td>2014-10-22 16:42:26</td>\n",
       "      <td>05d0532840f04928dfdd86296c51189d</td>\n",
       "    </tr>\n",
       "    <tr>\n",
       "      <th>6823085</th>\n",
       "      <td>/api/v1/courses/166/pages/home-page/revisions/...</td>\n",
       "      <td>Mozilla/5.0 (Windows NT 6.1; WOW64) AppleWebKi...</td>\n",
       "      <td>a0cf02bfe68d9e63784db7cd4be58ff4</td>\n",
       "      <td>2014-12-05 05:00:53</td>\n",
       "      <td>05d0532840f04928dfdd86296c51189d</td>\n",
       "    </tr>\n",
       "    <tr>\n",
       "      <th>5139106</th>\n",
       "      <td>/api/v1/courses/166/modules?page=2&amp;per_page=10</td>\n",
       "      <td>Mozilla/5.0 (X11; Linux x86_64) AppleWebKit/53...</td>\n",
       "      <td>f17b3bd0327831e9519add6dee058ecb</td>\n",
       "      <td>2014-11-10 19:24:03</td>\n",
       "      <td>05d0532840f04928dfdd86296c51189d</td>\n",
       "    </tr>\n",
       "  </tbody>\n",
       "</table>\n",
       "</div>"
      ],
      "text/plain": [
       "                                                        URL  \\\n",
       "6774042   /api/v1/courses/166/pages/virtual-sites/revisi...   \n",
       "8539718   /api/v1/courses/166/pages/virtual-sites/revisi...   \n",
       "11553861  /courses/166/files/568/preview?verifier=0YGs41...   \n",
       "6823085   /api/v1/courses/166/pages/home-page/revisions/...   \n",
       "5139106      /api/v1/courses/166/modules?page=2&per_page=10   \n",
       "\n",
       "                                                 User Agent  \\\n",
       "6774042   Mozilla/5.0 (Windows NT 6.1; WOW64) AppleWebKi...   \n",
       "8539718   Mozilla/5.0 (Macintosh; Intel Mac OS X 10_9_4)...   \n",
       "11553861  Mozilla/5.0 (Windows NT 6.1; WOW64) AppleWebKi...   \n",
       "6823085   Mozilla/5.0 (Windows NT 6.1; WOW64) AppleWebKi...   \n",
       "5139106   Mozilla/5.0 (X11; Linux x86_64) AppleWebKit/53...   \n",
       "\n",
       "                                      UUID            TimeStamp  \\\n",
       "6774042   219c6016e64bc2bd208a5cf9f531e65c  2014-12-04 02:58:22   \n",
       "8539718   324f5965809bb2a90afa8bc419568fff  2014-09-12 19:18:16   \n",
       "11553861  49f9d95813dede0e1434d93cdf32bac3  2014-10-22 16:42:26   \n",
       "6823085   a0cf02bfe68d9e63784db7cd4be58ff4  2014-12-05 05:00:53   \n",
       "5139106   f17b3bd0327831e9519add6dee058ecb  2014-11-10 19:24:03   \n",
       "\n",
       "                                   ClassID  \n",
       "6774042   05d0532840f04928dfdd86296c51189d  \n",
       "8539718   05d0532840f04928dfdd86296c51189d  \n",
       "11553861  05d0532840f04928dfdd86296c51189d  \n",
       "6823085   05d0532840f04928dfdd86296c51189d  \n",
       "5139106   05d0532840f04928dfdd86296c51189d  "
      ]
     },
     "execution_count": 283,
     "metadata": {},
     "output_type": "execute_result"
    }
   ],
   "source": [
    "df_reduced.head()"
   ]
  },
  {
   "cell_type": "code",
   "execution_count": 284,
   "metadata": {
    "collapsed": true
   },
   "outputs": [],
   "source": [
    "dfnew = df_reduced\n",
    "dflater = df_reduced"
   ]
  },
  {
   "cell_type": "code",
   "execution_count": 285,
   "metadata": {
    "collapsed": false
   },
   "outputs": [],
   "source": [
    "df_reduced['date'] = pd.to_datetime(df_reduced['TimeStamp'])"
   ]
  },
  {
   "cell_type": "code",
   "execution_count": 286,
   "metadata": {
    "collapsed": false
   },
   "outputs": [
    {
     "data": {
      "text/html": [
       "<div>\n",
       "<table border=\"1\" class=\"dataframe\">\n",
       "  <thead>\n",
       "    <tr style=\"text-align: right;\">\n",
       "      <th></th>\n",
       "      <th>URL</th>\n",
       "      <th>User Agent</th>\n",
       "      <th>UUID</th>\n",
       "      <th>TimeStamp</th>\n",
       "      <th>ClassID</th>\n",
       "      <th>date</th>\n",
       "    </tr>\n",
       "  </thead>\n",
       "  <tbody>\n",
       "    <tr>\n",
       "      <th>6774042</th>\n",
       "      <td>/api/v1/courses/166/pages/virtual-sites/revisi...</td>\n",
       "      <td>Mozilla/5.0 (Windows NT 6.1; WOW64) AppleWebKi...</td>\n",
       "      <td>219c6016e64bc2bd208a5cf9f531e65c</td>\n",
       "      <td>2014-12-04 02:58:22</td>\n",
       "      <td>05d0532840f04928dfdd86296c51189d</td>\n",
       "      <td>2014-12-04 02:58:22</td>\n",
       "    </tr>\n",
       "    <tr>\n",
       "      <th>8539718</th>\n",
       "      <td>/api/v1/courses/166/pages/virtual-sites/revisi...</td>\n",
       "      <td>Mozilla/5.0 (Macintosh; Intel Mac OS X 10_9_4)...</td>\n",
       "      <td>324f5965809bb2a90afa8bc419568fff</td>\n",
       "      <td>2014-09-12 19:18:16</td>\n",
       "      <td>05d0532840f04928dfdd86296c51189d</td>\n",
       "      <td>2014-09-12 19:18:16</td>\n",
       "    </tr>\n",
       "    <tr>\n",
       "      <th>11553861</th>\n",
       "      <td>/courses/166/files/568/preview?verifier=0YGs41...</td>\n",
       "      <td>Mozilla/5.0 (Windows NT 6.1; WOW64) AppleWebKi...</td>\n",
       "      <td>49f9d95813dede0e1434d93cdf32bac3</td>\n",
       "      <td>2014-10-22 16:42:26</td>\n",
       "      <td>05d0532840f04928dfdd86296c51189d</td>\n",
       "      <td>2014-10-22 16:42:26</td>\n",
       "    </tr>\n",
       "    <tr>\n",
       "      <th>6823085</th>\n",
       "      <td>/api/v1/courses/166/pages/home-page/revisions/...</td>\n",
       "      <td>Mozilla/5.0 (Windows NT 6.1; WOW64) AppleWebKi...</td>\n",
       "      <td>a0cf02bfe68d9e63784db7cd4be58ff4</td>\n",
       "      <td>2014-12-05 05:00:53</td>\n",
       "      <td>05d0532840f04928dfdd86296c51189d</td>\n",
       "      <td>2014-12-05 05:00:53</td>\n",
       "    </tr>\n",
       "    <tr>\n",
       "      <th>5139106</th>\n",
       "      <td>/api/v1/courses/166/modules?page=2&amp;per_page=10</td>\n",
       "      <td>Mozilla/5.0 (X11; Linux x86_64) AppleWebKit/53...</td>\n",
       "      <td>f17b3bd0327831e9519add6dee058ecb</td>\n",
       "      <td>2014-11-10 19:24:03</td>\n",
       "      <td>05d0532840f04928dfdd86296c51189d</td>\n",
       "      <td>2014-11-10 19:24:03</td>\n",
       "    </tr>\n",
       "  </tbody>\n",
       "</table>\n",
       "</div>"
      ],
      "text/plain": [
       "                                                        URL  \\\n",
       "6774042   /api/v1/courses/166/pages/virtual-sites/revisi...   \n",
       "8539718   /api/v1/courses/166/pages/virtual-sites/revisi...   \n",
       "11553861  /courses/166/files/568/preview?verifier=0YGs41...   \n",
       "6823085   /api/v1/courses/166/pages/home-page/revisions/...   \n",
       "5139106      /api/v1/courses/166/modules?page=2&per_page=10   \n",
       "\n",
       "                                                 User Agent  \\\n",
       "6774042   Mozilla/5.0 (Windows NT 6.1; WOW64) AppleWebKi...   \n",
       "8539718   Mozilla/5.0 (Macintosh; Intel Mac OS X 10_9_4)...   \n",
       "11553861  Mozilla/5.0 (Windows NT 6.1; WOW64) AppleWebKi...   \n",
       "6823085   Mozilla/5.0 (Windows NT 6.1; WOW64) AppleWebKi...   \n",
       "5139106   Mozilla/5.0 (X11; Linux x86_64) AppleWebKit/53...   \n",
       "\n",
       "                                      UUID            TimeStamp  \\\n",
       "6774042   219c6016e64bc2bd208a5cf9f531e65c  2014-12-04 02:58:22   \n",
       "8539718   324f5965809bb2a90afa8bc419568fff  2014-09-12 19:18:16   \n",
       "11553861  49f9d95813dede0e1434d93cdf32bac3  2014-10-22 16:42:26   \n",
       "6823085   a0cf02bfe68d9e63784db7cd4be58ff4  2014-12-05 05:00:53   \n",
       "5139106   f17b3bd0327831e9519add6dee058ecb  2014-11-10 19:24:03   \n",
       "\n",
       "                                   ClassID                date  \n",
       "6774042   05d0532840f04928dfdd86296c51189d 2014-12-04 02:58:22  \n",
       "8539718   05d0532840f04928dfdd86296c51189d 2014-09-12 19:18:16  \n",
       "11553861  05d0532840f04928dfdd86296c51189d 2014-10-22 16:42:26  \n",
       "6823085   05d0532840f04928dfdd86296c51189d 2014-12-05 05:00:53  \n",
       "5139106   05d0532840f04928dfdd86296c51189d 2014-11-10 19:24:03  "
      ]
     },
     "execution_count": 286,
     "metadata": {},
     "output_type": "execute_result"
    }
   ],
   "source": [
    "df_reduced.head()"
   ]
  },
  {
   "cell_type": "code",
   "execution_count": 287,
   "metadata": {
    "collapsed": false
   },
   "outputs": [],
   "source": [
    "df_reduced.index = df_reduced['date']\n",
    "del df_reduced['date']\n",
    "del df_reduced['TimeStamp']"
   ]
  },
  {
   "cell_type": "code",
   "execution_count": 288,
   "metadata": {
    "collapsed": false,
    "scrolled": true
   },
   "outputs": [
    {
     "data": {
      "text/html": [
       "<div>\n",
       "<table border=\"1\" class=\"dataframe\">\n",
       "  <thead>\n",
       "    <tr style=\"text-align: right;\">\n",
       "      <th></th>\n",
       "      <th>URL</th>\n",
       "      <th>User Agent</th>\n",
       "      <th>UUID</th>\n",
       "      <th>ClassID</th>\n",
       "    </tr>\n",
       "    <tr>\n",
       "      <th>date</th>\n",
       "      <th></th>\n",
       "      <th></th>\n",
       "      <th></th>\n",
       "      <th></th>\n",
       "    </tr>\n",
       "  </thead>\n",
       "  <tbody>\n",
       "    <tr>\n",
       "      <th>2014-10-22 16:42:26</th>\n",
       "      <td>/courses/166/files/568/preview?verifier=0YGs41...</td>\n",
       "      <td>Mozilla/5.0 (Windows NT 6.1; WOW64) AppleWebKi...</td>\n",
       "      <td>49f9d95813dede0e1434d93cdf32bac3</td>\n",
       "      <td>05d0532840f04928dfdd86296c51189d</td>\n",
       "    </tr>\n",
       "    <tr>\n",
       "      <th>2014-10-05 20:44:01</th>\n",
       "      <td>/api/v1/courses/166/pages/simulating-confidenc...</td>\n",
       "      <td>Mozilla/5.0 (Windows NT 6.1; WOW64; rv:32.0) G...</td>\n",
       "      <td>cd375faccca4d8c8ee4fc71625909fcc</td>\n",
       "      <td>05d0532840f04928dfdd86296c51189d</td>\n",
       "    </tr>\n",
       "    <tr>\n",
       "      <th>2014-10-08 15:04:29</th>\n",
       "      <td>/courses/166/files/570/preview?verifier=ZRV9FL...</td>\n",
       "      <td>Mozilla/5.0 (Macintosh; Intel Mac OS X 10_9_5)...</td>\n",
       "      <td>71659457065224ae174d2c7490a5ec12</td>\n",
       "      <td>05d0532840f04928dfdd86296c51189d</td>\n",
       "    </tr>\n",
       "    <tr>\n",
       "      <th>2014-10-25 13:24:22</th>\n",
       "      <td>/api/v1/courses/166/pages/home-page/revisions/...</td>\n",
       "      <td>Mozilla/5.0 (Macintosh; Intel Mac OS X 10_9_5)...</td>\n",
       "      <td>09153877a4928466ebeefe0d0327442c</td>\n",
       "      <td>05d0532840f04928dfdd86296c51189d</td>\n",
       "    </tr>\n",
       "    <tr>\n",
       "      <th>2014-10-28 15:46:30</th>\n",
       "      <td>/api/v1/courses/166/pages/home-page/revisions/...</td>\n",
       "      <td>Mozilla/5.0 (Windows NT 6.1; WOW64) AppleWebKi...</td>\n",
       "      <td>e8f61848f86a464159846e2724533c62</td>\n",
       "      <td>05d0532840f04928dfdd86296c51189d</td>\n",
       "    </tr>\n",
       "  </tbody>\n",
       "</table>\n",
       "</div>"
      ],
      "text/plain": [
       "                                                                   URL  \\\n",
       "date                                                                     \n",
       "2014-10-22 16:42:26  /courses/166/files/568/preview?verifier=0YGs41...   \n",
       "2014-10-05 20:44:01  /api/v1/courses/166/pages/simulating-confidenc...   \n",
       "2014-10-08 15:04:29  /courses/166/files/570/preview?verifier=ZRV9FL...   \n",
       "2014-10-25 13:24:22  /api/v1/courses/166/pages/home-page/revisions/...   \n",
       "2014-10-28 15:46:30  /api/v1/courses/166/pages/home-page/revisions/...   \n",
       "\n",
       "                                                            User Agent  \\\n",
       "date                                                                     \n",
       "2014-10-22 16:42:26  Mozilla/5.0 (Windows NT 6.1; WOW64) AppleWebKi...   \n",
       "2014-10-05 20:44:01  Mozilla/5.0 (Windows NT 6.1; WOW64; rv:32.0) G...   \n",
       "2014-10-08 15:04:29  Mozilla/5.0 (Macintosh; Intel Mac OS X 10_9_5)...   \n",
       "2014-10-25 13:24:22  Mozilla/5.0 (Macintosh; Intel Mac OS X 10_9_5)...   \n",
       "2014-10-28 15:46:30  Mozilla/5.0 (Windows NT 6.1; WOW64) AppleWebKi...   \n",
       "\n",
       "                                                 UUID  \\\n",
       "date                                                    \n",
       "2014-10-22 16:42:26  49f9d95813dede0e1434d93cdf32bac3   \n",
       "2014-10-05 20:44:01  cd375faccca4d8c8ee4fc71625909fcc   \n",
       "2014-10-08 15:04:29  71659457065224ae174d2c7490a5ec12   \n",
       "2014-10-25 13:24:22  09153877a4928466ebeefe0d0327442c   \n",
       "2014-10-28 15:46:30  e8f61848f86a464159846e2724533c62   \n",
       "\n",
       "                                              ClassID  \n",
       "date                                                   \n",
       "2014-10-22 16:42:26  05d0532840f04928dfdd86296c51189d  \n",
       "2014-10-05 20:44:01  05d0532840f04928dfdd86296c51189d  \n",
       "2014-10-08 15:04:29  05d0532840f04928dfdd86296c51189d  \n",
       "2014-10-25 13:24:22  05d0532840f04928dfdd86296c51189d  \n",
       "2014-10-28 15:46:30  05d0532840f04928dfdd86296c51189d  "
      ]
     },
     "execution_count": 288,
     "metadata": {},
     "output_type": "execute_result"
    }
   ],
   "source": [
    "df_reduced['2014-10'].head()"
   ]
  },
  {
   "cell_type": "code",
   "execution_count": 289,
   "metadata": {
    "collapsed": false
   },
   "outputs": [
    {
     "name": "stderr",
     "output_type": "stream",
     "text": [
      "/Users/andycho/anaconda/lib/python3.5/site-packages/ipykernel/__main__.py:1: FutureWarning: sort(....) is deprecated, use sort_index(.....)\n",
      "  if __name__ == '__main__':\n"
     ]
    },
    {
     "data": {
      "text/html": [
       "<div>\n",
       "<table border=\"1\" class=\"dataframe\">\n",
       "  <thead>\n",
       "    <tr style=\"text-align: right;\">\n",
       "      <th></th>\n",
       "      <th>URL</th>\n",
       "      <th>User Agent</th>\n",
       "      <th>UUID</th>\n",
       "      <th>ClassID</th>\n",
       "    </tr>\n",
       "    <tr>\n",
       "      <th>date</th>\n",
       "      <th></th>\n",
       "      <th></th>\n",
       "      <th></th>\n",
       "      <th></th>\n",
       "    </tr>\n",
       "  </thead>\n",
       "  <tbody>\n",
       "    <tr>\n",
       "      <th>2014-08-13 22:06:50</th>\n",
       "      <td>/api/v1/courses/166/ping</td>\n",
       "      <td>Mozilla/5.0 (Windows NT 6.1; WOW64) AppleWebKi...</td>\n",
       "      <td>3e3285a3f7fc205049a674f35246ec10</td>\n",
       "      <td>05d0532840f04928dfdd86296c51189d</td>\n",
       "    </tr>\n",
       "    <tr>\n",
       "      <th>2014-08-13 22:07:38</th>\n",
       "      <td>/api/v1/courses/164/ping</td>\n",
       "      <td>Mozilla/5.0 (Macintosh; Intel Mac OS X 10_9_4)...</td>\n",
       "      <td>e615051e71cf6f13c86385f3d6e0317c</td>\n",
       "      <td>a6ff862f8df9f99bec63a4096890db10</td>\n",
       "    </tr>\n",
       "    <tr>\n",
       "      <th>2014-08-15 18:21:58</th>\n",
       "      <td>/courses/166/pages/f11-exam-1/edit</td>\n",
       "      <td>Mozilla/5.0 (Windows NT 6.3; WOW64) AppleWebKi...</td>\n",
       "      <td>64e7eac94789799183db4cfb1702833d</td>\n",
       "      <td>05d0532840f04928dfdd86296c51189d</td>\n",
       "    </tr>\n",
       "    <tr>\n",
       "      <th>2014-08-18 03:00:02</th>\n",
       "      <td>/courses/164/files/1397/preview?verifier=Yadnz...</td>\n",
       "      <td>Mozilla/5.0 (Macintosh; Intel Mac OS X 10_9_4)...</td>\n",
       "      <td>a0c8a26d034f06df2e5833517bf84169</td>\n",
       "      <td>a6ff862f8df9f99bec63a4096890db10</td>\n",
       "    </tr>\n",
       "    <tr>\n",
       "      <th>2014-08-18 04:53:34</th>\n",
       "      <td>/api/v1/courses/164/ping</td>\n",
       "      <td>Mozilla/5.0 (Windows NT 6.0) AppleWebKit/537.3...</td>\n",
       "      <td>3fbbbf95e2b3f4437efc70f2d72a9d15</td>\n",
       "      <td>a6ff862f8df9f99bec63a4096890db10</td>\n",
       "    </tr>\n",
       "    <tr>\n",
       "      <th>2014-08-18 22:18:36</th>\n",
       "      <td>/api/v1/courses/164/module_item_sequence?asset...</td>\n",
       "      <td>Mozilla/5.0 (Windows NT 6.3; WOW64) AppleWebKi...</td>\n",
       "      <td>bc62bda4ed88da2bc1464483b93859c9</td>\n",
       "      <td>a6ff862f8df9f99bec63a4096890db10</td>\n",
       "    </tr>\n",
       "    <tr>\n",
       "      <th>2014-08-19 03:12:16</th>\n",
       "      <td>/api/v1/courses/164/pages/concepts-covered-in-...</td>\n",
       "      <td>Mozilla/5.0 (Macintosh; Intel Mac OS X 10_9_4)...</td>\n",
       "      <td>6e4b86c2a853a9bb58bc6a184131d21c</td>\n",
       "      <td>a6ff862f8df9f99bec63a4096890db10</td>\n",
       "    </tr>\n",
       "    <tr>\n",
       "      <th>2014-08-19 18:08:50</th>\n",
       "      <td>/api/v1/courses/164/users?include%5B%5D=avatar...</td>\n",
       "      <td>Mozilla/5.0 (Macintosh; Intel Mac OS X 10_8_5)...</td>\n",
       "      <td>9d99a9d9e00509b107bc5064c9a4bff1</td>\n",
       "      <td>a6ff862f8df9f99bec63a4096890db10</td>\n",
       "    </tr>\n",
       "    <tr>\n",
       "      <th>2014-08-20 14:49:28</th>\n",
       "      <td>/api/v1/courses/166/students/submissions?group...</td>\n",
       "      <td>Mozilla/5.0 (Windows NT 6.1; WOW64) AppleWebKi...</td>\n",
       "      <td>d666347cc82994e3d7e675988948a9ad</td>\n",
       "      <td>05d0532840f04928dfdd86296c51189d</td>\n",
       "    </tr>\n",
       "    <tr>\n",
       "      <th>2014-08-20 15:17:05</th>\n",
       "      <td>/api/v1/courses/166/assignment_groups?include%...</td>\n",
       "      <td>Mozilla/5.0 (Windows NT 6.3; WOW64) AppleWebKi...</td>\n",
       "      <td>64e7eac94789799183db4cfb1702833d</td>\n",
       "      <td>05d0532840f04928dfdd86296c51189d</td>\n",
       "    </tr>\n",
       "    <tr>\n",
       "      <th>2014-08-20 18:13:25</th>\n",
       "      <td>/api/v1/courses/166/pages/home-page/revisions/...</td>\n",
       "      <td>Mozilla/5.0 (Windows NT 6.1; WOW64) AppleWebKi...</td>\n",
       "      <td>3e3285a3f7fc205049a674f35246ec10</td>\n",
       "      <td>05d0532840f04928dfdd86296c51189d</td>\n",
       "    </tr>\n",
       "    <tr>\n",
       "      <th>2014-08-21 00:42:50</th>\n",
       "      <td>/courses/166/files/568/preview?verifier=0YGs41...</td>\n",
       "      <td>Mozilla/5.0 (Macintosh; Intel Mac OS X 10_9_2)...</td>\n",
       "      <td>6781e9d533b969dec8be78e611835b20</td>\n",
       "      <td>05d0532840f04928dfdd86296c51189d</td>\n",
       "    </tr>\n",
       "    <tr>\n",
       "      <th>2014-08-21 13:24:12</th>\n",
       "      <td>/courses/166/modules/items/assignment_info?pag...</td>\n",
       "      <td>Mozilla/5.0 (Linux; Android 4.4.2; LG-D800 Bui...</td>\n",
       "      <td>cff8f53dce3e66d2645059a746a298c4</td>\n",
       "      <td>05d0532840f04928dfdd86296c51189d</td>\n",
       "    </tr>\n",
       "    <tr>\n",
       "      <th>2014-08-21 15:53:11</th>\n",
       "      <td>/courses/166/files/567/preview?verifier=op3Atw...</td>\n",
       "      <td>Mozilla/5.0 (Macintosh; Intel Mac OS X 10_9_4)...</td>\n",
       "      <td>0c377ae3a8f3e2ac5558e3c3360b48fb</td>\n",
       "      <td>05d0532840f04928dfdd86296c51189d</td>\n",
       "    </tr>\n",
       "    <tr>\n",
       "      <th>2014-08-21 17:22:00</th>\n",
       "      <td>/courses/166</td>\n",
       "      <td>Mozilla/5.0 (Macintosh; Intel Mac OS X 10_9_4)...</td>\n",
       "      <td>8a8bc405d7cffa3e031335663e4f4ce8</td>\n",
       "      <td>05d0532840f04928dfdd86296c51189d</td>\n",
       "    </tr>\n",
       "    <tr>\n",
       "      <th>2014-08-21 18:40:13</th>\n",
       "      <td>/courses/166/files/567/preview?verifier=op3Atw...</td>\n",
       "      <td>Mozilla/5.0 (Linux; Android 4.4.2; VS985 4G Bu...</td>\n",
       "      <td>a424fa1d883e2beed00326867a69db92</td>\n",
       "      <td>05d0532840f04928dfdd86296c51189d</td>\n",
       "    </tr>\n",
       "    <tr>\n",
       "      <th>2014-08-22 13:56:40</th>\n",
       "      <td>/api/v1/courses/166/pages/home-page/revisions/...</td>\n",
       "      <td>Mozilla/5.0 (Macintosh; Intel Mac OS X 10_8_5)...</td>\n",
       "      <td>aa4aef71468ad443dec9a6d2ecd7f1d6</td>\n",
       "      <td>05d0532840f04928dfdd86296c51189d</td>\n",
       "    </tr>\n",
       "    <tr>\n",
       "      <th>2014-08-22 16:08:26</th>\n",
       "      <td>/courses/166/files/1924/download?wrap=1</td>\n",
       "      <td>Mozilla/5.0 (Macintosh; Intel Mac OS X 10_9_4)...</td>\n",
       "      <td>95f3fd5879f8be2ccc7a11f9754125cd</td>\n",
       "      <td>05d0532840f04928dfdd86296c51189d</td>\n",
       "    </tr>\n",
       "    <tr>\n",
       "      <th>2014-08-22 17:17:01</th>\n",
       "      <td>/courses/166/files/1928/preview?verifier=Ie1me...</td>\n",
       "      <td>Mozilla/5.0 (Macintosh; Intel Mac OS X 10_9_4)...</td>\n",
       "      <td>7de5b58e388cb04fc7794f0704f3996f</td>\n",
       "      <td>05d0532840f04928dfdd86296c51189d</td>\n",
       "    </tr>\n",
       "    <tr>\n",
       "      <th>2014-08-23 13:16:52</th>\n",
       "      <td>/api/v1/courses/166/outcome_groups/122/subgroups</td>\n",
       "      <td>Mozilla/5.0 (Macintosh; Intel Mac OS X 10_9_3)...</td>\n",
       "      <td>36945ca5c0e29a4f31a6c007e67fb9f7</td>\n",
       "      <td>05d0532840f04928dfdd86296c51189d</td>\n",
       "    </tr>\n",
       "    <tr>\n",
       "      <th>2014-08-24 02:07:27</th>\n",
       "      <td>/api/v1/courses/164/pages/instructors/revision...</td>\n",
       "      <td>Mozilla/5.0 (Macintosh; Intel Mac OS X 10_9_3)...</td>\n",
       "      <td>812bd7fa816130f0699d184d93d3c233</td>\n",
       "      <td>a6ff862f8df9f99bec63a4096890db10</td>\n",
       "    </tr>\n",
       "    <tr>\n",
       "      <th>2014-08-24 17:08:51</th>\n",
       "      <td>/api/v1/courses/164/pages/blogging/revisions/l...</td>\n",
       "      <td>Mozilla/5.0 (Macintosh; Intel Mac OS X 10_9_4)...</td>\n",
       "      <td>eb8eef99616f3825f89ac2c4e7fdc62a</td>\n",
       "      <td>a6ff862f8df9f99bec63a4096890db10</td>\n",
       "    </tr>\n",
       "    <tr>\n",
       "      <th>2014-08-24 20:53:10</th>\n",
       "      <td>/courses/166/files/1928/preview?verifier=Ie1me...</td>\n",
       "      <td>Mozilla/5.0 (Macintosh; Intel Mac OS X 10_9_4)...</td>\n",
       "      <td>bdef446cd78321a1643c244449a01cc8</td>\n",
       "      <td>05d0532840f04928dfdd86296c51189d</td>\n",
       "    </tr>\n",
       "    <tr>\n",
       "      <th>2014-08-25 01:13:06</th>\n",
       "      <td>/api/v1/courses/164/pages/blogging/revisions/l...</td>\n",
       "      <td>Mozilla/5.0 (Macintosh; Intel Mac OS X 10_9_4)...</td>\n",
       "      <td>eb8eef99616f3825f89ac2c4e7fdc62a</td>\n",
       "      <td>a6ff862f8df9f99bec63a4096890db10</td>\n",
       "    </tr>\n",
       "    <tr>\n",
       "      <th>2014-08-25 23:39:08</th>\n",
       "      <td>/api/v1/courses/166/pages/home-page/revisions/...</td>\n",
       "      <td>Mozilla/5.0 (Macintosh; Intel Mac OS X 10_8_5)...</td>\n",
       "      <td>f619219db95200337f2662f9731d6676</td>\n",
       "      <td>05d0532840f04928dfdd86296c51189d</td>\n",
       "    </tr>\n",
       "    <tr>\n",
       "      <th>2014-08-26 19:02:48</th>\n",
       "      <td>/courses/166/folders/412?page_view_id=7c2bd8d0...</td>\n",
       "      <td>Mozilla/5.0 (Windows NT 6.1; WOW64; rv:31.0) G...</td>\n",
       "      <td>1fc3c098b6b86a2d4a105b91415fdda8</td>\n",
       "      <td>05d0532840f04928dfdd86296c51189d</td>\n",
       "    </tr>\n",
       "    <tr>\n",
       "      <th>2014-08-26 19:09:00</th>\n",
       "      <td>/api/v1/courses/166/pages/home-page/revisions/...</td>\n",
       "      <td>Mozilla/5.0 (Windows NT 6.1; WOW64) AppleWebKi...</td>\n",
       "      <td>340ad25a9e631254325d4ef5286d0054</td>\n",
       "      <td>05d0532840f04928dfdd86296c51189d</td>\n",
       "    </tr>\n",
       "    <tr>\n",
       "      <th>2014-08-26 22:16:31</th>\n",
       "      <td>/api/v1/courses/164/external_feeds</td>\n",
       "      <td>Mozilla/5.0 (Macintosh; Intel Mac OS X 10_9_4)...</td>\n",
       "      <td>eb8eef99616f3825f89ac2c4e7fdc62a</td>\n",
       "      <td>a6ff862f8df9f99bec63a4096890db10</td>\n",
       "    </tr>\n",
       "    <tr>\n",
       "      <th>2014-08-27 02:19:03</th>\n",
       "      <td>/courses/166/files/1928/preview?verifier=Ie1me...</td>\n",
       "      <td>Mozilla/5.0 (Windows NT 6.1; WOW64) AppleWebKi...</td>\n",
       "      <td>ba969c8cb5cd4a66d8b519efb1a0a6f3</td>\n",
       "      <td>05d0532840f04928dfdd86296c51189d</td>\n",
       "    </tr>\n",
       "    <tr>\n",
       "      <th>2014-08-27 05:05:51</th>\n",
       "      <td>/courses/166/files/577/preview?verifier=NwilNK...</td>\n",
       "      <td>Mozilla/5.0 (Windows NT 6.3; WOW64) AppleWebKi...</td>\n",
       "      <td>d5715c2f341fa7d09a44a58faa8eda66</td>\n",
       "      <td>05d0532840f04928dfdd86296c51189d</td>\n",
       "    </tr>\n",
       "    <tr>\n",
       "      <th>...</th>\n",
       "      <td>...</td>\n",
       "      <td>...</td>\n",
       "      <td>...</td>\n",
       "      <td>...</td>\n",
       "    </tr>\n",
       "    <tr>\n",
       "      <th>2015-04-15 18:47:53</th>\n",
       "      <td>/courses/166/files/3412/file_preview?annotate=0</td>\n",
       "      <td>Mozilla/5.0 (Macintosh; Intel Mac OS X 10_9_5)...</td>\n",
       "      <td>16eccf4cd6fe9abc51ab46fe6eebeacc</td>\n",
       "      <td>05d0532840f04928dfdd86296c51189d</td>\n",
       "    </tr>\n",
       "    <tr>\n",
       "      <th>2015-04-21 12:41:14</th>\n",
       "      <td>/api/v1/courses/166/pages/virtual-sites/revisi...</td>\n",
       "      <td>Mozilla/5.0 (Windows NT 6.1; WOW64) AppleWebKi...</td>\n",
       "      <td>044ff8ba644867af6a0ad8ca801c3065</td>\n",
       "      <td>05d0532840f04928dfdd86296c51189d</td>\n",
       "    </tr>\n",
       "    <tr>\n",
       "      <th>2015-04-21 18:36:54</th>\n",
       "      <td>/api/v1/courses/166/pages/virtual-sites/revisi...</td>\n",
       "      <td>Mozilla/5.0 (Windows NT 6.1; WOW64) AppleWebKi...</td>\n",
       "      <td>044ff8ba644867af6a0ad8ca801c3065</td>\n",
       "      <td>05d0532840f04928dfdd86296c51189d</td>\n",
       "    </tr>\n",
       "    <tr>\n",
       "      <th>2015-04-21 20:24:47</th>\n",
       "      <td>/api/v1/courses/166/pages/virtual-sites/revisi...</td>\n",
       "      <td>Mozilla/5.0 (Windows NT 6.1; WOW64) AppleWebKi...</td>\n",
       "      <td>044ff8ba644867af6a0ad8ca801c3065</td>\n",
       "      <td>05d0532840f04928dfdd86296c51189d</td>\n",
       "    </tr>\n",
       "    <tr>\n",
       "      <th>2015-04-22 17:56:18</th>\n",
       "      <td>/api/v1/courses/166/pages/virtual-sites/revisi...</td>\n",
       "      <td>Mozilla/5.0 (Windows NT 6.3; WOW64; Trident/7....</td>\n",
       "      <td>c3256f39d40fab02e1cc916136ae9f41</td>\n",
       "      <td>05d0532840f04928dfdd86296c51189d</td>\n",
       "    </tr>\n",
       "    <tr>\n",
       "      <th>2015-04-22 22:21:07</th>\n",
       "      <td>/api/v1/courses/166/pages/home-page/revisions/...</td>\n",
       "      <td>Mozilla/5.0 (Macintosh; Intel Mac OS X 10_9_5)...</td>\n",
       "      <td>da0e9805b3266b1b85e1fc36768f6d77</td>\n",
       "      <td>05d0532840f04928dfdd86296c51189d</td>\n",
       "    </tr>\n",
       "    <tr>\n",
       "      <th>2015-04-22 22:32:34</th>\n",
       "      <td>/courses/166/files/567/preview</td>\n",
       "      <td>Mozilla/5.0 (Windows NT 6.1; WOW64) AppleWebKi...</td>\n",
       "      <td>0eaa621a8b3d456173d7b6646844171c</td>\n",
       "      <td>05d0532840f04928dfdd86296c51189d</td>\n",
       "    </tr>\n",
       "    <tr>\n",
       "      <th>2015-04-23 04:31:19</th>\n",
       "      <td>/api/v1/courses/166/pages/home-page/revisions/...</td>\n",
       "      <td>Mozilla/5.0 (Macintosh; Intel Mac OS X 10_9_5)...</td>\n",
       "      <td>da0e9805b3266b1b85e1fc36768f6d77</td>\n",
       "      <td>05d0532840f04928dfdd86296c51189d</td>\n",
       "    </tr>\n",
       "    <tr>\n",
       "      <th>2015-04-23 18:50:38</th>\n",
       "      <td>/courses/166/files/572/preview</td>\n",
       "      <td>Mozilla/5.0 (Windows NT 6.1; WOW64) AppleWebKi...</td>\n",
       "      <td>e5ca88b483169c27cd0bd2f99107e166</td>\n",
       "      <td>05d0532840f04928dfdd86296c51189d</td>\n",
       "    </tr>\n",
       "    <tr>\n",
       "      <th>2015-04-24 01:20:22</th>\n",
       "      <td>/api/v1/courses/158/pages/me250-home-page/revi...</td>\n",
       "      <td>Mozilla/5.0 (Windows NT 6.3; WOW64) AppleWebKi...</td>\n",
       "      <td>4fd510c0d850c83df49c5f83c5294779</td>\n",
       "      <td>08acd1cae6c97712fc8dbe400c35b47d</td>\n",
       "    </tr>\n",
       "    <tr>\n",
       "      <th>2015-04-24 22:46:19</th>\n",
       "      <td>/courses/166/files/572/preview</td>\n",
       "      <td>Mozilla/5.0 (Macintosh; Intel Mac OS X 10_8_5)...</td>\n",
       "      <td>11a29e351d9724e13598cc3bd1f1052f</td>\n",
       "      <td>05d0532840f04928dfdd86296c51189d</td>\n",
       "    </tr>\n",
       "    <tr>\n",
       "      <th>2015-07-28 14:00:47</th>\n",
       "      <td>/api/v1/courses/166/ping</td>\n",
       "      <td>Mozilla/5.0 (Windows NT 6.1; WOW64; Trident/7....</td>\n",
       "      <td>c70a3ef78bee2e4ecfe8e576bd2bae4f</td>\n",
       "      <td>05d0532840f04928dfdd86296c51189d</td>\n",
       "    </tr>\n",
       "    <tr>\n",
       "      <th>2015-08-22 21:05:44</th>\n",
       "      <td>/api/v1/courses/166/pages/dr-millers-lecture-0...</td>\n",
       "      <td>Mozilla/5.0 (Windows NT 6.3; WOW64) AppleWebKi...</td>\n",
       "      <td>974b35058a68b0b4777346b76a147158</td>\n",
       "      <td>05d0532840f04928dfdd86296c51189d</td>\n",
       "    </tr>\n",
       "    <tr>\n",
       "      <th>2015-08-22 22:32:32</th>\n",
       "      <td>/api/v1/courses/166/pages/dr-millers-lecture-0...</td>\n",
       "      <td>Mozilla/5.0 (Windows NT 6.3; WOW64) AppleWebKi...</td>\n",
       "      <td>974b35058a68b0b4777346b76a147158</td>\n",
       "      <td>05d0532840f04928dfdd86296c51189d</td>\n",
       "    </tr>\n",
       "    <tr>\n",
       "      <th>2015-08-22 23:18:00</th>\n",
       "      <td>/api/v1/courses/166/pages/dr-millers-lecture-0...</td>\n",
       "      <td>Mozilla/5.0 (Windows NT 6.3; WOW64) AppleWebKi...</td>\n",
       "      <td>974b35058a68b0b4777346b76a147158</td>\n",
       "      <td>05d0532840f04928dfdd86296c51189d</td>\n",
       "    </tr>\n",
       "    <tr>\n",
       "      <th>2015-08-23 05:16:34</th>\n",
       "      <td>/api/v1/courses/166/pages/dr-millers-lecture-0...</td>\n",
       "      <td>Mozilla/5.0 (Windows NT 6.3; WOW64) AppleWebKi...</td>\n",
       "      <td>974b35058a68b0b4777346b76a147158</td>\n",
       "      <td>05d0532840f04928dfdd86296c51189d</td>\n",
       "    </tr>\n",
       "    <tr>\n",
       "      <th>2015-08-28 16:06:58</th>\n",
       "      <td>/api/v1/courses/166/pages/dr-millers-lecture-0...</td>\n",
       "      <td>Mozilla/5.0 (Macintosh; Intel Mac OS X 10_10_4...</td>\n",
       "      <td>b87657d83a8b469e9fd82dbaeb4fdd4d</td>\n",
       "      <td>05d0532840f04928dfdd86296c51189d</td>\n",
       "    </tr>\n",
       "    <tr>\n",
       "      <th>2015-08-30 00:06:36</th>\n",
       "      <td>/api/v1/courses/166/pages/home-page/revisions/...</td>\n",
       "      <td>Mozilla/5.0 (Windows NT 10.0; WOW64) AppleWebK...</td>\n",
       "      <td>1698bdb449301db00559d391458a9222</td>\n",
       "      <td>05d0532840f04928dfdd86296c51189d</td>\n",
       "    </tr>\n",
       "    <tr>\n",
       "      <th>2015-09-09 18:39:03</th>\n",
       "      <td>/courses/166/files/568/preview</td>\n",
       "      <td>Mozilla/5.0 (Macintosh; Intel Mac OS X 10_7_5)...</td>\n",
       "      <td>4ab3f20212d7edcde9c7122dc25be982</td>\n",
       "      <td>05d0532840f04928dfdd86296c51189d</td>\n",
       "    </tr>\n",
       "    <tr>\n",
       "      <th>2015-09-10 15:28:47</th>\n",
       "      <td>/api/v1/courses/158/pages/me250-home-page/revi...</td>\n",
       "      <td>Mozilla/5.0 (Macintosh; Intel Mac OS X 10_10_5...</td>\n",
       "      <td>401ec56db32e0998805ddeaa3e01d970</td>\n",
       "      <td>08acd1cae6c97712fc8dbe400c35b47d</td>\n",
       "    </tr>\n",
       "    <tr>\n",
       "      <th>2015-09-10 19:03:02</th>\n",
       "      <td>/api/v1/courses/158/pages/me250-home-page/revi...</td>\n",
       "      <td>Mozilla/5.0 (Macintosh; Intel Mac OS X 10_10_5...</td>\n",
       "      <td>401ec56db32e0998805ddeaa3e01d970</td>\n",
       "      <td>08acd1cae6c97712fc8dbe400c35b47d</td>\n",
       "    </tr>\n",
       "    <tr>\n",
       "      <th>2015-09-11 13:52:53</th>\n",
       "      <td>/courses/166/files/568/preview</td>\n",
       "      <td>Mozilla/5.0 (Macintosh; Intel Mac OS X 10_10_3...</td>\n",
       "      <td>0baa7c71761ac520df18abe51ce1a25c</td>\n",
       "      <td>05d0532840f04928dfdd86296c51189d</td>\n",
       "    </tr>\n",
       "    <tr>\n",
       "      <th>2015-09-15 01:51:28</th>\n",
       "      <td>/courses/166</td>\n",
       "      <td>Mozilla/5.0 (Macintosh; Intel Mac OS X 10_10_3...</td>\n",
       "      <td>0baa7c71761ac520df18abe51ce1a25c</td>\n",
       "      <td>05d0532840f04928dfdd86296c51189d</td>\n",
       "    </tr>\n",
       "    <tr>\n",
       "      <th>2015-09-16 22:09:43</th>\n",
       "      <td>/courses/166/files/577/preview</td>\n",
       "      <td>Mozilla/5.0 (Windows NT 6.1) AppleWebKit/537.3...</td>\n",
       "      <td>96b7824d3d307b9ee9ef6e346cab9b30</td>\n",
       "      <td>05d0532840f04928dfdd86296c51189d</td>\n",
       "    </tr>\n",
       "    <tr>\n",
       "      <th>2015-09-17 16:53:44</th>\n",
       "      <td>/api/v1/courses/166/ping</td>\n",
       "      <td>Mozilla/5.0 (Macintosh; Intel Mac OS X 10_10_2...</td>\n",
       "      <td>32917b8449fd5255721d430a91f54d5a</td>\n",
       "      <td>05d0532840f04928dfdd86296c51189d</td>\n",
       "    </tr>\n",
       "    <tr>\n",
       "      <th>2015-09-21 16:24:21</th>\n",
       "      <td>/courses/166/files/571/preview</td>\n",
       "      <td>Mozilla/5.0 (Macintosh; Intel Mac OS X 10_9_5)...</td>\n",
       "      <td>46fe68bcd80a162f5a8876d7e1900cb2</td>\n",
       "      <td>05d0532840f04928dfdd86296c51189d</td>\n",
       "    </tr>\n",
       "    <tr>\n",
       "      <th>2015-10-06 19:35:01</th>\n",
       "      <td>/api/v1/courses/158/folders/root</td>\n",
       "      <td>Mozilla/5.0 (Macintosh; Intel Mac OS X 10_9_5)...</td>\n",
       "      <td>fbed2ddf5782f517acc9ab628475391c</td>\n",
       "      <td>08acd1cae6c97712fc8dbe400c35b47d</td>\n",
       "    </tr>\n",
       "    <tr>\n",
       "      <th>2015-10-13 14:44:45</th>\n",
       "      <td>/api/v1/courses/158/folders/by_path/Lecture%20...</td>\n",
       "      <td>Mozilla/5.0 (Windows NT 6.1; WOW64) AppleWebKi...</td>\n",
       "      <td>f217fa359082dffb10ea1d3ba46a4180</td>\n",
       "      <td>08acd1cae6c97712fc8dbe400c35b47d</td>\n",
       "    </tr>\n",
       "    <tr>\n",
       "      <th>2015-10-13 18:42:06</th>\n",
       "      <td>/courses/166/files/569/preview</td>\n",
       "      <td>Mozilla/5.0 (Windows NT 6.1; WOW64) AppleWebKi...</td>\n",
       "      <td>d2609dd24397ddd03b9c64ff23938398</td>\n",
       "      <td>05d0532840f04928dfdd86296c51189d</td>\n",
       "    </tr>\n",
       "    <tr>\n",
       "      <th>2015-10-15 01:19:08</th>\n",
       "      <td>/api/v1/courses/166/pages/home-page/revisions/...</td>\n",
       "      <td>Mozilla/5.0 (Macintosh; Intel Mac OS X 10_10_4...</td>\n",
       "      <td>0dc04e5a381c3a1d228d8df0d5e58966</td>\n",
       "      <td>05d0532840f04928dfdd86296c51189d</td>\n",
       "    </tr>\n",
       "  </tbody>\n",
       "</table>\n",
       "<p>10000 rows × 4 columns</p>\n",
       "</div>"
      ],
      "text/plain": [
       "                                                                   URL  \\\n",
       "date                                                                     \n",
       "2014-08-13 22:06:50                           /api/v1/courses/166/ping   \n",
       "2014-08-13 22:07:38                           /api/v1/courses/164/ping   \n",
       "2014-08-15 18:21:58                 /courses/166/pages/f11-exam-1/edit   \n",
       "2014-08-18 03:00:02  /courses/164/files/1397/preview?verifier=Yadnz...   \n",
       "2014-08-18 04:53:34                           /api/v1/courses/164/ping   \n",
       "2014-08-18 22:18:36  /api/v1/courses/164/module_item_sequence?asset...   \n",
       "2014-08-19 03:12:16  /api/v1/courses/164/pages/concepts-covered-in-...   \n",
       "2014-08-19 18:08:50  /api/v1/courses/164/users?include%5B%5D=avatar...   \n",
       "2014-08-20 14:49:28  /api/v1/courses/166/students/submissions?group...   \n",
       "2014-08-20 15:17:05  /api/v1/courses/166/assignment_groups?include%...   \n",
       "2014-08-20 18:13:25  /api/v1/courses/166/pages/home-page/revisions/...   \n",
       "2014-08-21 00:42:50  /courses/166/files/568/preview?verifier=0YGs41...   \n",
       "2014-08-21 13:24:12  /courses/166/modules/items/assignment_info?pag...   \n",
       "2014-08-21 15:53:11  /courses/166/files/567/preview?verifier=op3Atw...   \n",
       "2014-08-21 17:22:00                                       /courses/166   \n",
       "2014-08-21 18:40:13  /courses/166/files/567/preview?verifier=op3Atw...   \n",
       "2014-08-22 13:56:40  /api/v1/courses/166/pages/home-page/revisions/...   \n",
       "2014-08-22 16:08:26            /courses/166/files/1924/download?wrap=1   \n",
       "2014-08-22 17:17:01  /courses/166/files/1928/preview?verifier=Ie1me...   \n",
       "2014-08-23 13:16:52   /api/v1/courses/166/outcome_groups/122/subgroups   \n",
       "2014-08-24 02:07:27  /api/v1/courses/164/pages/instructors/revision...   \n",
       "2014-08-24 17:08:51  /api/v1/courses/164/pages/blogging/revisions/l...   \n",
       "2014-08-24 20:53:10  /courses/166/files/1928/preview?verifier=Ie1me...   \n",
       "2014-08-25 01:13:06  /api/v1/courses/164/pages/blogging/revisions/l...   \n",
       "2014-08-25 23:39:08  /api/v1/courses/166/pages/home-page/revisions/...   \n",
       "2014-08-26 19:02:48  /courses/166/folders/412?page_view_id=7c2bd8d0...   \n",
       "2014-08-26 19:09:00  /api/v1/courses/166/pages/home-page/revisions/...   \n",
       "2014-08-26 22:16:31                 /api/v1/courses/164/external_feeds   \n",
       "2014-08-27 02:19:03  /courses/166/files/1928/preview?verifier=Ie1me...   \n",
       "2014-08-27 05:05:51  /courses/166/files/577/preview?verifier=NwilNK...   \n",
       "...                                                                ...   \n",
       "2015-04-15 18:47:53    /courses/166/files/3412/file_preview?annotate=0   \n",
       "2015-04-21 12:41:14  /api/v1/courses/166/pages/virtual-sites/revisi...   \n",
       "2015-04-21 18:36:54  /api/v1/courses/166/pages/virtual-sites/revisi...   \n",
       "2015-04-21 20:24:47  /api/v1/courses/166/pages/virtual-sites/revisi...   \n",
       "2015-04-22 17:56:18  /api/v1/courses/166/pages/virtual-sites/revisi...   \n",
       "2015-04-22 22:21:07  /api/v1/courses/166/pages/home-page/revisions/...   \n",
       "2015-04-22 22:32:34                     /courses/166/files/567/preview   \n",
       "2015-04-23 04:31:19  /api/v1/courses/166/pages/home-page/revisions/...   \n",
       "2015-04-23 18:50:38                     /courses/166/files/572/preview   \n",
       "2015-04-24 01:20:22  /api/v1/courses/158/pages/me250-home-page/revi...   \n",
       "2015-04-24 22:46:19                     /courses/166/files/572/preview   \n",
       "2015-07-28 14:00:47                           /api/v1/courses/166/ping   \n",
       "2015-08-22 21:05:44  /api/v1/courses/166/pages/dr-millers-lecture-0...   \n",
       "2015-08-22 22:32:32  /api/v1/courses/166/pages/dr-millers-lecture-0...   \n",
       "2015-08-22 23:18:00  /api/v1/courses/166/pages/dr-millers-lecture-0...   \n",
       "2015-08-23 05:16:34  /api/v1/courses/166/pages/dr-millers-lecture-0...   \n",
       "2015-08-28 16:06:58  /api/v1/courses/166/pages/dr-millers-lecture-0...   \n",
       "2015-08-30 00:06:36  /api/v1/courses/166/pages/home-page/revisions/...   \n",
       "2015-09-09 18:39:03                     /courses/166/files/568/preview   \n",
       "2015-09-10 15:28:47  /api/v1/courses/158/pages/me250-home-page/revi...   \n",
       "2015-09-10 19:03:02  /api/v1/courses/158/pages/me250-home-page/revi...   \n",
       "2015-09-11 13:52:53                     /courses/166/files/568/preview   \n",
       "2015-09-15 01:51:28                                       /courses/166   \n",
       "2015-09-16 22:09:43                     /courses/166/files/577/preview   \n",
       "2015-09-17 16:53:44                           /api/v1/courses/166/ping   \n",
       "2015-09-21 16:24:21                     /courses/166/files/571/preview   \n",
       "2015-10-06 19:35:01                   /api/v1/courses/158/folders/root   \n",
       "2015-10-13 14:44:45  /api/v1/courses/158/folders/by_path/Lecture%20...   \n",
       "2015-10-13 18:42:06                     /courses/166/files/569/preview   \n",
       "2015-10-15 01:19:08  /api/v1/courses/166/pages/home-page/revisions/...   \n",
       "\n",
       "                                                            User Agent  \\\n",
       "date                                                                     \n",
       "2014-08-13 22:06:50  Mozilla/5.0 (Windows NT 6.1; WOW64) AppleWebKi...   \n",
       "2014-08-13 22:07:38  Mozilla/5.0 (Macintosh; Intel Mac OS X 10_9_4)...   \n",
       "2014-08-15 18:21:58  Mozilla/5.0 (Windows NT 6.3; WOW64) AppleWebKi...   \n",
       "2014-08-18 03:00:02  Mozilla/5.0 (Macintosh; Intel Mac OS X 10_9_4)...   \n",
       "2014-08-18 04:53:34  Mozilla/5.0 (Windows NT 6.0) AppleWebKit/537.3...   \n",
       "2014-08-18 22:18:36  Mozilla/5.0 (Windows NT 6.3; WOW64) AppleWebKi...   \n",
       "2014-08-19 03:12:16  Mozilla/5.0 (Macintosh; Intel Mac OS X 10_9_4)...   \n",
       "2014-08-19 18:08:50  Mozilla/5.0 (Macintosh; Intel Mac OS X 10_8_5)...   \n",
       "2014-08-20 14:49:28  Mozilla/5.0 (Windows NT 6.1; WOW64) AppleWebKi...   \n",
       "2014-08-20 15:17:05  Mozilla/5.0 (Windows NT 6.3; WOW64) AppleWebKi...   \n",
       "2014-08-20 18:13:25  Mozilla/5.0 (Windows NT 6.1; WOW64) AppleWebKi...   \n",
       "2014-08-21 00:42:50  Mozilla/5.0 (Macintosh; Intel Mac OS X 10_9_2)...   \n",
       "2014-08-21 13:24:12  Mozilla/5.0 (Linux; Android 4.4.2; LG-D800 Bui...   \n",
       "2014-08-21 15:53:11  Mozilla/5.0 (Macintosh; Intel Mac OS X 10_9_4)...   \n",
       "2014-08-21 17:22:00  Mozilla/5.0 (Macintosh; Intel Mac OS X 10_9_4)...   \n",
       "2014-08-21 18:40:13  Mozilla/5.0 (Linux; Android 4.4.2; VS985 4G Bu...   \n",
       "2014-08-22 13:56:40  Mozilla/5.0 (Macintosh; Intel Mac OS X 10_8_5)...   \n",
       "2014-08-22 16:08:26  Mozilla/5.0 (Macintosh; Intel Mac OS X 10_9_4)...   \n",
       "2014-08-22 17:17:01  Mozilla/5.0 (Macintosh; Intel Mac OS X 10_9_4)...   \n",
       "2014-08-23 13:16:52  Mozilla/5.0 (Macintosh; Intel Mac OS X 10_9_3)...   \n",
       "2014-08-24 02:07:27  Mozilla/5.0 (Macintosh; Intel Mac OS X 10_9_3)...   \n",
       "2014-08-24 17:08:51  Mozilla/5.0 (Macintosh; Intel Mac OS X 10_9_4)...   \n",
       "2014-08-24 20:53:10  Mozilla/5.0 (Macintosh; Intel Mac OS X 10_9_4)...   \n",
       "2014-08-25 01:13:06  Mozilla/5.0 (Macintosh; Intel Mac OS X 10_9_4)...   \n",
       "2014-08-25 23:39:08  Mozilla/5.0 (Macintosh; Intel Mac OS X 10_8_5)...   \n",
       "2014-08-26 19:02:48  Mozilla/5.0 (Windows NT 6.1; WOW64; rv:31.0) G...   \n",
       "2014-08-26 19:09:00  Mozilla/5.0 (Windows NT 6.1; WOW64) AppleWebKi...   \n",
       "2014-08-26 22:16:31  Mozilla/5.0 (Macintosh; Intel Mac OS X 10_9_4)...   \n",
       "2014-08-27 02:19:03  Mozilla/5.0 (Windows NT 6.1; WOW64) AppleWebKi...   \n",
       "2014-08-27 05:05:51  Mozilla/5.0 (Windows NT 6.3; WOW64) AppleWebKi...   \n",
       "...                                                                ...   \n",
       "2015-04-15 18:47:53  Mozilla/5.0 (Macintosh; Intel Mac OS X 10_9_5)...   \n",
       "2015-04-21 12:41:14  Mozilla/5.0 (Windows NT 6.1; WOW64) AppleWebKi...   \n",
       "2015-04-21 18:36:54  Mozilla/5.0 (Windows NT 6.1; WOW64) AppleWebKi...   \n",
       "2015-04-21 20:24:47  Mozilla/5.0 (Windows NT 6.1; WOW64) AppleWebKi...   \n",
       "2015-04-22 17:56:18  Mozilla/5.0 (Windows NT 6.3; WOW64; Trident/7....   \n",
       "2015-04-22 22:21:07  Mozilla/5.0 (Macintosh; Intel Mac OS X 10_9_5)...   \n",
       "2015-04-22 22:32:34  Mozilla/5.0 (Windows NT 6.1; WOW64) AppleWebKi...   \n",
       "2015-04-23 04:31:19  Mozilla/5.0 (Macintosh; Intel Mac OS X 10_9_5)...   \n",
       "2015-04-23 18:50:38  Mozilla/5.0 (Windows NT 6.1; WOW64) AppleWebKi...   \n",
       "2015-04-24 01:20:22  Mozilla/5.0 (Windows NT 6.3; WOW64) AppleWebKi...   \n",
       "2015-04-24 22:46:19  Mozilla/5.0 (Macintosh; Intel Mac OS X 10_8_5)...   \n",
       "2015-07-28 14:00:47  Mozilla/5.0 (Windows NT 6.1; WOW64; Trident/7....   \n",
       "2015-08-22 21:05:44  Mozilla/5.0 (Windows NT 6.3; WOW64) AppleWebKi...   \n",
       "2015-08-22 22:32:32  Mozilla/5.0 (Windows NT 6.3; WOW64) AppleWebKi...   \n",
       "2015-08-22 23:18:00  Mozilla/5.0 (Windows NT 6.3; WOW64) AppleWebKi...   \n",
       "2015-08-23 05:16:34  Mozilla/5.0 (Windows NT 6.3; WOW64) AppleWebKi...   \n",
       "2015-08-28 16:06:58  Mozilla/5.0 (Macintosh; Intel Mac OS X 10_10_4...   \n",
       "2015-08-30 00:06:36  Mozilla/5.0 (Windows NT 10.0; WOW64) AppleWebK...   \n",
       "2015-09-09 18:39:03  Mozilla/5.0 (Macintosh; Intel Mac OS X 10_7_5)...   \n",
       "2015-09-10 15:28:47  Mozilla/5.0 (Macintosh; Intel Mac OS X 10_10_5...   \n",
       "2015-09-10 19:03:02  Mozilla/5.0 (Macintosh; Intel Mac OS X 10_10_5...   \n",
       "2015-09-11 13:52:53  Mozilla/5.0 (Macintosh; Intel Mac OS X 10_10_3...   \n",
       "2015-09-15 01:51:28  Mozilla/5.0 (Macintosh; Intel Mac OS X 10_10_3...   \n",
       "2015-09-16 22:09:43  Mozilla/5.0 (Windows NT 6.1) AppleWebKit/537.3...   \n",
       "2015-09-17 16:53:44  Mozilla/5.0 (Macintosh; Intel Mac OS X 10_10_2...   \n",
       "2015-09-21 16:24:21  Mozilla/5.0 (Macintosh; Intel Mac OS X 10_9_5)...   \n",
       "2015-10-06 19:35:01  Mozilla/5.0 (Macintosh; Intel Mac OS X 10_9_5)...   \n",
       "2015-10-13 14:44:45  Mozilla/5.0 (Windows NT 6.1; WOW64) AppleWebKi...   \n",
       "2015-10-13 18:42:06  Mozilla/5.0 (Windows NT 6.1; WOW64) AppleWebKi...   \n",
       "2015-10-15 01:19:08  Mozilla/5.0 (Macintosh; Intel Mac OS X 10_10_4...   \n",
       "\n",
       "                                                 UUID  \\\n",
       "date                                                    \n",
       "2014-08-13 22:06:50  3e3285a3f7fc205049a674f35246ec10   \n",
       "2014-08-13 22:07:38  e615051e71cf6f13c86385f3d6e0317c   \n",
       "2014-08-15 18:21:58  64e7eac94789799183db4cfb1702833d   \n",
       "2014-08-18 03:00:02  a0c8a26d034f06df2e5833517bf84169   \n",
       "2014-08-18 04:53:34  3fbbbf95e2b3f4437efc70f2d72a9d15   \n",
       "2014-08-18 22:18:36  bc62bda4ed88da2bc1464483b93859c9   \n",
       "2014-08-19 03:12:16  6e4b86c2a853a9bb58bc6a184131d21c   \n",
       "2014-08-19 18:08:50  9d99a9d9e00509b107bc5064c9a4bff1   \n",
       "2014-08-20 14:49:28  d666347cc82994e3d7e675988948a9ad   \n",
       "2014-08-20 15:17:05  64e7eac94789799183db4cfb1702833d   \n",
       "2014-08-20 18:13:25  3e3285a3f7fc205049a674f35246ec10   \n",
       "2014-08-21 00:42:50  6781e9d533b969dec8be78e611835b20   \n",
       "2014-08-21 13:24:12  cff8f53dce3e66d2645059a746a298c4   \n",
       "2014-08-21 15:53:11  0c377ae3a8f3e2ac5558e3c3360b48fb   \n",
       "2014-08-21 17:22:00  8a8bc405d7cffa3e031335663e4f4ce8   \n",
       "2014-08-21 18:40:13  a424fa1d883e2beed00326867a69db92   \n",
       "2014-08-22 13:56:40  aa4aef71468ad443dec9a6d2ecd7f1d6   \n",
       "2014-08-22 16:08:26  95f3fd5879f8be2ccc7a11f9754125cd   \n",
       "2014-08-22 17:17:01  7de5b58e388cb04fc7794f0704f3996f   \n",
       "2014-08-23 13:16:52  36945ca5c0e29a4f31a6c007e67fb9f7   \n",
       "2014-08-24 02:07:27  812bd7fa816130f0699d184d93d3c233   \n",
       "2014-08-24 17:08:51  eb8eef99616f3825f89ac2c4e7fdc62a   \n",
       "2014-08-24 20:53:10  bdef446cd78321a1643c244449a01cc8   \n",
       "2014-08-25 01:13:06  eb8eef99616f3825f89ac2c4e7fdc62a   \n",
       "2014-08-25 23:39:08  f619219db95200337f2662f9731d6676   \n",
       "2014-08-26 19:02:48  1fc3c098b6b86a2d4a105b91415fdda8   \n",
       "2014-08-26 19:09:00  340ad25a9e631254325d4ef5286d0054   \n",
       "2014-08-26 22:16:31  eb8eef99616f3825f89ac2c4e7fdc62a   \n",
       "2014-08-27 02:19:03  ba969c8cb5cd4a66d8b519efb1a0a6f3   \n",
       "2014-08-27 05:05:51  d5715c2f341fa7d09a44a58faa8eda66   \n",
       "...                                               ...   \n",
       "2015-04-15 18:47:53  16eccf4cd6fe9abc51ab46fe6eebeacc   \n",
       "2015-04-21 12:41:14  044ff8ba644867af6a0ad8ca801c3065   \n",
       "2015-04-21 18:36:54  044ff8ba644867af6a0ad8ca801c3065   \n",
       "2015-04-21 20:24:47  044ff8ba644867af6a0ad8ca801c3065   \n",
       "2015-04-22 17:56:18  c3256f39d40fab02e1cc916136ae9f41   \n",
       "2015-04-22 22:21:07  da0e9805b3266b1b85e1fc36768f6d77   \n",
       "2015-04-22 22:32:34  0eaa621a8b3d456173d7b6646844171c   \n",
       "2015-04-23 04:31:19  da0e9805b3266b1b85e1fc36768f6d77   \n",
       "2015-04-23 18:50:38  e5ca88b483169c27cd0bd2f99107e166   \n",
       "2015-04-24 01:20:22  4fd510c0d850c83df49c5f83c5294779   \n",
       "2015-04-24 22:46:19  11a29e351d9724e13598cc3bd1f1052f   \n",
       "2015-07-28 14:00:47  c70a3ef78bee2e4ecfe8e576bd2bae4f   \n",
       "2015-08-22 21:05:44  974b35058a68b0b4777346b76a147158   \n",
       "2015-08-22 22:32:32  974b35058a68b0b4777346b76a147158   \n",
       "2015-08-22 23:18:00  974b35058a68b0b4777346b76a147158   \n",
       "2015-08-23 05:16:34  974b35058a68b0b4777346b76a147158   \n",
       "2015-08-28 16:06:58  b87657d83a8b469e9fd82dbaeb4fdd4d   \n",
       "2015-08-30 00:06:36  1698bdb449301db00559d391458a9222   \n",
       "2015-09-09 18:39:03  4ab3f20212d7edcde9c7122dc25be982   \n",
       "2015-09-10 15:28:47  401ec56db32e0998805ddeaa3e01d970   \n",
       "2015-09-10 19:03:02  401ec56db32e0998805ddeaa3e01d970   \n",
       "2015-09-11 13:52:53  0baa7c71761ac520df18abe51ce1a25c   \n",
       "2015-09-15 01:51:28  0baa7c71761ac520df18abe51ce1a25c   \n",
       "2015-09-16 22:09:43  96b7824d3d307b9ee9ef6e346cab9b30   \n",
       "2015-09-17 16:53:44  32917b8449fd5255721d430a91f54d5a   \n",
       "2015-09-21 16:24:21  46fe68bcd80a162f5a8876d7e1900cb2   \n",
       "2015-10-06 19:35:01  fbed2ddf5782f517acc9ab628475391c   \n",
       "2015-10-13 14:44:45  f217fa359082dffb10ea1d3ba46a4180   \n",
       "2015-10-13 18:42:06  d2609dd24397ddd03b9c64ff23938398   \n",
       "2015-10-15 01:19:08  0dc04e5a381c3a1d228d8df0d5e58966   \n",
       "\n",
       "                                              ClassID  \n",
       "date                                                   \n",
       "2014-08-13 22:06:50  05d0532840f04928dfdd86296c51189d  \n",
       "2014-08-13 22:07:38  a6ff862f8df9f99bec63a4096890db10  \n",
       "2014-08-15 18:21:58  05d0532840f04928dfdd86296c51189d  \n",
       "2014-08-18 03:00:02  a6ff862f8df9f99bec63a4096890db10  \n",
       "2014-08-18 04:53:34  a6ff862f8df9f99bec63a4096890db10  \n",
       "2014-08-18 22:18:36  a6ff862f8df9f99bec63a4096890db10  \n",
       "2014-08-19 03:12:16  a6ff862f8df9f99bec63a4096890db10  \n",
       "2014-08-19 18:08:50  a6ff862f8df9f99bec63a4096890db10  \n",
       "2014-08-20 14:49:28  05d0532840f04928dfdd86296c51189d  \n",
       "2014-08-20 15:17:05  05d0532840f04928dfdd86296c51189d  \n",
       "2014-08-20 18:13:25  05d0532840f04928dfdd86296c51189d  \n",
       "2014-08-21 00:42:50  05d0532840f04928dfdd86296c51189d  \n",
       "2014-08-21 13:24:12  05d0532840f04928dfdd86296c51189d  \n",
       "2014-08-21 15:53:11  05d0532840f04928dfdd86296c51189d  \n",
       "2014-08-21 17:22:00  05d0532840f04928dfdd86296c51189d  \n",
       "2014-08-21 18:40:13  05d0532840f04928dfdd86296c51189d  \n",
       "2014-08-22 13:56:40  05d0532840f04928dfdd86296c51189d  \n",
       "2014-08-22 16:08:26  05d0532840f04928dfdd86296c51189d  \n",
       "2014-08-22 17:17:01  05d0532840f04928dfdd86296c51189d  \n",
       "2014-08-23 13:16:52  05d0532840f04928dfdd86296c51189d  \n",
       "2014-08-24 02:07:27  a6ff862f8df9f99bec63a4096890db10  \n",
       "2014-08-24 17:08:51  a6ff862f8df9f99bec63a4096890db10  \n",
       "2014-08-24 20:53:10  05d0532840f04928dfdd86296c51189d  \n",
       "2014-08-25 01:13:06  a6ff862f8df9f99bec63a4096890db10  \n",
       "2014-08-25 23:39:08  05d0532840f04928dfdd86296c51189d  \n",
       "2014-08-26 19:02:48  05d0532840f04928dfdd86296c51189d  \n",
       "2014-08-26 19:09:00  05d0532840f04928dfdd86296c51189d  \n",
       "2014-08-26 22:16:31  a6ff862f8df9f99bec63a4096890db10  \n",
       "2014-08-27 02:19:03  05d0532840f04928dfdd86296c51189d  \n",
       "2014-08-27 05:05:51  05d0532840f04928dfdd86296c51189d  \n",
       "...                                               ...  \n",
       "2015-04-15 18:47:53  05d0532840f04928dfdd86296c51189d  \n",
       "2015-04-21 12:41:14  05d0532840f04928dfdd86296c51189d  \n",
       "2015-04-21 18:36:54  05d0532840f04928dfdd86296c51189d  \n",
       "2015-04-21 20:24:47  05d0532840f04928dfdd86296c51189d  \n",
       "2015-04-22 17:56:18  05d0532840f04928dfdd86296c51189d  \n",
       "2015-04-22 22:21:07  05d0532840f04928dfdd86296c51189d  \n",
       "2015-04-22 22:32:34  05d0532840f04928dfdd86296c51189d  \n",
       "2015-04-23 04:31:19  05d0532840f04928dfdd86296c51189d  \n",
       "2015-04-23 18:50:38  05d0532840f04928dfdd86296c51189d  \n",
       "2015-04-24 01:20:22  08acd1cae6c97712fc8dbe400c35b47d  \n",
       "2015-04-24 22:46:19  05d0532840f04928dfdd86296c51189d  \n",
       "2015-07-28 14:00:47  05d0532840f04928dfdd86296c51189d  \n",
       "2015-08-22 21:05:44  05d0532840f04928dfdd86296c51189d  \n",
       "2015-08-22 22:32:32  05d0532840f04928dfdd86296c51189d  \n",
       "2015-08-22 23:18:00  05d0532840f04928dfdd86296c51189d  \n",
       "2015-08-23 05:16:34  05d0532840f04928dfdd86296c51189d  \n",
       "2015-08-28 16:06:58  05d0532840f04928dfdd86296c51189d  \n",
       "2015-08-30 00:06:36  05d0532840f04928dfdd86296c51189d  \n",
       "2015-09-09 18:39:03  05d0532840f04928dfdd86296c51189d  \n",
       "2015-09-10 15:28:47  08acd1cae6c97712fc8dbe400c35b47d  \n",
       "2015-09-10 19:03:02  08acd1cae6c97712fc8dbe400c35b47d  \n",
       "2015-09-11 13:52:53  05d0532840f04928dfdd86296c51189d  \n",
       "2015-09-15 01:51:28  05d0532840f04928dfdd86296c51189d  \n",
       "2015-09-16 22:09:43  05d0532840f04928dfdd86296c51189d  \n",
       "2015-09-17 16:53:44  05d0532840f04928dfdd86296c51189d  \n",
       "2015-09-21 16:24:21  05d0532840f04928dfdd86296c51189d  \n",
       "2015-10-06 19:35:01  08acd1cae6c97712fc8dbe400c35b47d  \n",
       "2015-10-13 14:44:45  08acd1cae6c97712fc8dbe400c35b47d  \n",
       "2015-10-13 18:42:06  05d0532840f04928dfdd86296c51189d  \n",
       "2015-10-15 01:19:08  05d0532840f04928dfdd86296c51189d  \n",
       "\n",
       "[10000 rows x 4 columns]"
      ]
     },
     "execution_count": 289,
     "metadata": {},
     "output_type": "execute_result"
    }
   ],
   "source": [
    "df_reduced = df_reduced.sort()\n",
    "df_reduced"
   ]
  },
  {
   "cell_type": "code",
   "execution_count": 290,
   "metadata": {
    "collapsed": false
   },
   "outputs": [],
   "source": [
    "#grouped by class\n",
    "df_reduced05 = df_reduced[df_reduced.ClassID.str.contains('05d0532840f04928dfdd86296c51189d')]"
   ]
  },
  {
   "cell_type": "code",
   "execution_count": 291,
   "metadata": {
    "collapsed": false
   },
   "outputs": [
    {
     "data": {
      "text/plain": [
       "835"
      ]
     },
     "execution_count": 291,
     "metadata": {},
     "output_type": "execute_result"
    }
   ],
   "source": [
    "df_reduced05['URL'].nunique() #unique page views "
   ]
  },
  {
   "cell_type": "code",
   "execution_count": 292,
   "metadata": {
    "collapsed": false
   },
   "outputs": [
    {
     "data": {
      "text/plain": [
       "URL           4.788131\n",
       "User Agent    4.788131\n",
       "ClassID       4.788131\n",
       "dtype: float64"
      ]
     },
     "execution_count": 292,
     "metadata": {},
     "output_type": "execute_result"
    }
   ],
   "source": [
    "df_reduced05.groupby('UUID').count().mean() #average number of page views for each student in this group"
   ]
  },
  {
   "cell_type": "code",
   "execution_count": 293,
   "metadata": {
    "collapsed": false
   },
   "outputs": [
    {
     "name": "stderr",
     "output_type": "stream",
     "text": [
      "/Users/andycho/anaconda/lib/python3.5/site-packages/ipykernel/__main__.py:2: SettingWithCopyWarning: \n",
      "A value is trying to be set on a copy of a slice from a DataFrame.\n",
      "Try using .loc[row_indexer,col_indexer] = value instead\n",
      "\n",
      "See the caveats in the documentation: http://pandas.pydata.org/pandas-docs/stable/indexing.html#indexing-view-versus-copy\n",
      "  from ipykernel import kernelapp as app\n",
      "/Users/andycho/anaconda/lib/python3.5/site-packages/ipykernel/__main__.py:3: SettingWithCopyWarning: \n",
      "A value is trying to be set on a copy of a slice from a DataFrame.\n",
      "Try using .loc[row_indexer,col_indexer] = value instead\n",
      "\n",
      "See the caveats in the documentation: http://pandas.pydata.org/pandas-docs/stable/indexing.html#indexing-view-versus-copy\n",
      "  app.launch_new_instance()\n"
     ]
    },
    {
     "data": {
      "text/html": [
       "<div>\n",
       "<table border=\"1\" class=\"dataframe\">\n",
       "  <thead>\n",
       "    <tr style=\"text-align: right;\">\n",
       "      <th></th>\n",
       "      <th>URL</th>\n",
       "      <th>User Agent</th>\n",
       "      <th>UUID</th>\n",
       "      <th>ClassID</th>\n",
       "      <th>HofD</th>\n",
       "      <th>DofM</th>\n",
       "    </tr>\n",
       "    <tr>\n",
       "      <th>date</th>\n",
       "      <th></th>\n",
       "      <th></th>\n",
       "      <th></th>\n",
       "      <th></th>\n",
       "      <th></th>\n",
       "      <th></th>\n",
       "    </tr>\n",
       "  </thead>\n",
       "  <tbody>\n",
       "    <tr>\n",
       "      <th>2014-08-13 22:06:50</th>\n",
       "      <td>/api/v1/courses/166/ping</td>\n",
       "      <td>Mozilla/5.0 (Windows NT 6.1; WOW64) AppleWebKi...</td>\n",
       "      <td>3e3285a3f7fc205049a674f35246ec10</td>\n",
       "      <td>05d0532840f04928dfdd86296c51189d</td>\n",
       "      <td>22</td>\n",
       "      <td>13</td>\n",
       "    </tr>\n",
       "    <tr>\n",
       "      <th>2014-08-15 18:21:58</th>\n",
       "      <td>/courses/166/pages/f11-exam-1/edit</td>\n",
       "      <td>Mozilla/5.0 (Windows NT 6.3; WOW64) AppleWebKi...</td>\n",
       "      <td>64e7eac94789799183db4cfb1702833d</td>\n",
       "      <td>05d0532840f04928dfdd86296c51189d</td>\n",
       "      <td>18</td>\n",
       "      <td>15</td>\n",
       "    </tr>\n",
       "    <tr>\n",
       "      <th>2014-08-20 14:49:28</th>\n",
       "      <td>/api/v1/courses/166/students/submissions?group...</td>\n",
       "      <td>Mozilla/5.0 (Windows NT 6.1; WOW64) AppleWebKi...</td>\n",
       "      <td>d666347cc82994e3d7e675988948a9ad</td>\n",
       "      <td>05d0532840f04928dfdd86296c51189d</td>\n",
       "      <td>14</td>\n",
       "      <td>20</td>\n",
       "    </tr>\n",
       "    <tr>\n",
       "      <th>2014-08-20 15:17:05</th>\n",
       "      <td>/api/v1/courses/166/assignment_groups?include%...</td>\n",
       "      <td>Mozilla/5.0 (Windows NT 6.3; WOW64) AppleWebKi...</td>\n",
       "      <td>64e7eac94789799183db4cfb1702833d</td>\n",
       "      <td>05d0532840f04928dfdd86296c51189d</td>\n",
       "      <td>15</td>\n",
       "      <td>20</td>\n",
       "    </tr>\n",
       "    <tr>\n",
       "      <th>2014-08-20 18:13:25</th>\n",
       "      <td>/api/v1/courses/166/pages/home-page/revisions/...</td>\n",
       "      <td>Mozilla/5.0 (Windows NT 6.1; WOW64) AppleWebKi...</td>\n",
       "      <td>3e3285a3f7fc205049a674f35246ec10</td>\n",
       "      <td>05d0532840f04928dfdd86296c51189d</td>\n",
       "      <td>18</td>\n",
       "      <td>20</td>\n",
       "    </tr>\n",
       "  </tbody>\n",
       "</table>\n",
       "</div>"
      ],
      "text/plain": [
       "                                                                   URL  \\\n",
       "date                                                                     \n",
       "2014-08-13 22:06:50                           /api/v1/courses/166/ping   \n",
       "2014-08-15 18:21:58                 /courses/166/pages/f11-exam-1/edit   \n",
       "2014-08-20 14:49:28  /api/v1/courses/166/students/submissions?group...   \n",
       "2014-08-20 15:17:05  /api/v1/courses/166/assignment_groups?include%...   \n",
       "2014-08-20 18:13:25  /api/v1/courses/166/pages/home-page/revisions/...   \n",
       "\n",
       "                                                            User Agent  \\\n",
       "date                                                                     \n",
       "2014-08-13 22:06:50  Mozilla/5.0 (Windows NT 6.1; WOW64) AppleWebKi...   \n",
       "2014-08-15 18:21:58  Mozilla/5.0 (Windows NT 6.3; WOW64) AppleWebKi...   \n",
       "2014-08-20 14:49:28  Mozilla/5.0 (Windows NT 6.1; WOW64) AppleWebKi...   \n",
       "2014-08-20 15:17:05  Mozilla/5.0 (Windows NT 6.3; WOW64) AppleWebKi...   \n",
       "2014-08-20 18:13:25  Mozilla/5.0 (Windows NT 6.1; WOW64) AppleWebKi...   \n",
       "\n",
       "                                                 UUID  \\\n",
       "date                                                    \n",
       "2014-08-13 22:06:50  3e3285a3f7fc205049a674f35246ec10   \n",
       "2014-08-15 18:21:58  64e7eac94789799183db4cfb1702833d   \n",
       "2014-08-20 14:49:28  d666347cc82994e3d7e675988948a9ad   \n",
       "2014-08-20 15:17:05  64e7eac94789799183db4cfb1702833d   \n",
       "2014-08-20 18:13:25  3e3285a3f7fc205049a674f35246ec10   \n",
       "\n",
       "                                              ClassID  HofD  DofM  \n",
       "date                                                               \n",
       "2014-08-13 22:06:50  05d0532840f04928dfdd86296c51189d    22    13  \n",
       "2014-08-15 18:21:58  05d0532840f04928dfdd86296c51189d    18    15  \n",
       "2014-08-20 14:49:28  05d0532840f04928dfdd86296c51189d    14    20  \n",
       "2014-08-20 15:17:05  05d0532840f04928dfdd86296c51189d    15    20  \n",
       "2014-08-20 18:13:25  05d0532840f04928dfdd86296c51189d    18    20  "
      ]
     },
     "execution_count": 293,
     "metadata": {},
     "output_type": "execute_result"
    }
   ],
   "source": [
    "#bin them into days or something and then use the count to see how many are in a certain day or hour\n",
    "df_reduced05['HofD'] = [r.hour for r in df_reduced05.index]\n",
    "df_reduced05['DofM'] = [r.day for r in df_reduced05.index]\n",
    "df_reduced05.head()"
   ]
  },
  {
   "cell_type": "code",
   "execution_count": 294,
   "metadata": {
    "collapsed": false
   },
   "outputs": [
    {
     "data": {
      "text/plain": [
       "<matplotlib.axes._subplots.AxesSubplot at 0x14dc009e8>"
      ]
     },
     "execution_count": 294,
     "metadata": {},
     "output_type": "execute_result"
    },
    {
     "data": {
      "image/png": "[encoded data removed]",
      "text/plain": [
       "<matplotlib.figure.Figure at 0x16c1ae358>"
      ]
     },
     "metadata": {},
     "output_type": "display_data"
    }
   ],
   "source": [
    "df_reduced05.groupby('HofD').count().plot(title='05 Course Site Views by Hour')"
   ]
  },
  {
   "cell_type": "code",
   "execution_count": 295,
   "metadata": {
    "collapsed": false
   },
   "outputs": [
    {
     "data": {
      "text/plain": [
       "<matplotlib.axes._subplots.AxesSubplot at 0x15d6ce1d0>"
      ]
     },
     "execution_count": 295,
     "metadata": {},
     "output_type": "execute_result"
    },
    {
     "data": {
      "image/png": "[encoded data removed]",
      "text/plain": [
       "<matplotlib.figure.Figure at 0x130fbe748>"
      ]
     },
     "metadata": {},
     "output_type": "display_data"
    }
   ],
   "source": [
    "df_reduced05.groupby('DofM').count().plot(title = '05 Course Site Views by Day')"
   ]
  },
  {
   "cell_type": "code",
   "execution_count": 296,
   "metadata": {
    "collapsed": false
   },
   "outputs": [],
   "source": [
    "df_reduceda6 = df_reduced[df_reduced.ClassID.str.contains('a6ff862f8df9f99bec63a4096890db10')]"
   ]
  },
  {
   "cell_type": "code",
   "execution_count": 297,
   "metadata": {
    "collapsed": false
   },
   "outputs": [
    {
     "name": "stderr",
     "output_type": "stream",
     "text": [
      "/Users/andycho/anaconda/lib/python3.5/site-packages/ipykernel/__main__.py:2: SettingWithCopyWarning: \n",
      "A value is trying to be set on a copy of a slice from a DataFrame.\n",
      "Try using .loc[row_indexer,col_indexer] = value instead\n",
      "\n",
      "See the caveats in the documentation: http://pandas.pydata.org/pandas-docs/stable/indexing.html#indexing-view-versus-copy\n",
      "  from ipykernel import kernelapp as app\n",
      "/Users/andycho/anaconda/lib/python3.5/site-packages/ipykernel/__main__.py:3: SettingWithCopyWarning: \n",
      "A value is trying to be set on a copy of a slice from a DataFrame.\n",
      "Try using .loc[row_indexer,col_indexer] = value instead\n",
      "\n",
      "See the caveats in the documentation: http://pandas.pydata.org/pandas-docs/stable/indexing.html#indexing-view-versus-copy\n",
      "  app.launch_new_instance()\n"
     ]
    }
   ],
   "source": [
    "#bin them into days or something and then use the count to see how many are in a certain day or hour\n",
    "df_reduceda6['HofD'] = [r.hour for r in df_reduceda6.index]\n",
    "df_reduceda6['DofM'] = [r.day for r in df_reduceda6.index]"
   ]
  },
  {
   "cell_type": "code",
   "execution_count": 298,
   "metadata": {
    "collapsed": false
   },
   "outputs": [
    {
     "data": {
      "text/plain": [
       "<matplotlib.axes._subplots.AxesSubplot at 0x130feddd8>"
      ]
     },
     "execution_count": 298,
     "metadata": {},
     "output_type": "execute_result"
    },
    {
     "data": {
      "image/png": "[encoded data removed]",
      "text/plain": [
       "<matplotlib.figure.Figure at 0x16d7ddf98>"
      ]
     },
     "metadata": {},
     "output_type": "display_data"
    }
   ],
   "source": [
    "df_reduceda6.groupby('HofD').count().plot(title = 'a6 Course Site Views by Hour')"
   ]
  },
  {
   "cell_type": "code",
   "execution_count": 299,
   "metadata": {
    "collapsed": false
   },
   "outputs": [
    {
     "data": {
      "text/plain": [
       "<matplotlib.axes._subplots.AxesSubplot at 0x16d7ff780>"
      ]
     },
     "execution_count": 299,
     "metadata": {},
     "output_type": "execute_result"
    },
    {
     "data": {
      "image/png": "[encoded data removed]",
      "text/plain": [
       "<matplotlib.figure.Figure at 0x16d856198>"
      ]
     },
     "metadata": {},
     "output_type": "display_data"
    }
   ],
   "source": [
    "df_reduceda6.groupby('DofM').count().plot(title = 'a6 Course Site Views by Day')"
   ]
  },
  {
   "cell_type": "code",
   "execution_count": 300,
   "metadata": {
    "collapsed": false
   },
   "outputs": [],
   "source": [
    "df_reduced08 = df_reduced[df_reduced.ClassID.str.contains('08acd1cae6c97712fc8dbe400c35b47d')]"
   ]
  },
  {
   "cell_type": "code",
   "execution_count": 301,
   "metadata": {
    "collapsed": false
   },
   "outputs": [
    {
     "name": "stderr",
     "output_type": "stream",
     "text": [
      "/Users/andycho/anaconda/lib/python3.5/site-packages/ipykernel/__main__.py:2: SettingWithCopyWarning: \n",
      "A value is trying to be set on a copy of a slice from a DataFrame.\n",
      "Try using .loc[row_indexer,col_indexer] = value instead\n",
      "\n",
      "See the caveats in the documentation: http://pandas.pydata.org/pandas-docs/stable/indexing.html#indexing-view-versus-copy\n",
      "  from ipykernel import kernelapp as app\n",
      "/Users/andycho/anaconda/lib/python3.5/site-packages/ipykernel/__main__.py:3: SettingWithCopyWarning: \n",
      "A value is trying to be set on a copy of a slice from a DataFrame.\n",
      "Try using .loc[row_indexer,col_indexer] = value instead\n",
      "\n",
      "See the caveats in the documentation: http://pandas.pydata.org/pandas-docs/stable/indexing.html#indexing-view-versus-copy\n",
      "  app.launch_new_instance()\n"
     ]
    }
   ],
   "source": [
    "#bin them into days or something and then use the count to see how many are in a certain day or hour\n",
    "df_reduced08['HofD'] = [r.hour for r in df_reduced08.index]\n",
    "df_reduced08['DofM'] = [r.day for r in df_reduced08.index]"
   ]
  },
  {
   "cell_type": "code",
   "execution_count": 302,
   "metadata": {
    "collapsed": false
   },
   "outputs": [
    {
     "data": {
      "text/plain": [
       "<matplotlib.axes._subplots.AxesSubplot at 0x171c23c88>"
      ]
     },
     "execution_count": 302,
     "metadata": {},
     "output_type": "execute_result"
    },
    {
     "data": {
      "image/png": "[encoded data removed]",
      "text/plain": [
       "<matplotlib.figure.Figure at 0x171c415f8>"
      ]
     },
     "metadata": {},
     "output_type": "display_data"
    }
   ],
   "source": [
    "df_reduced08.groupby('HofD').count().plot(title = '08 Course Site Views by Hour')"
   ]
  },
  {
   "cell_type": "code",
   "execution_count": 303,
   "metadata": {
    "collapsed": false
   },
   "outputs": [
    {
     "data": {
      "text/plain": [
       "<matplotlib.axes._subplots.AxesSubplot at 0x17580b358>"
      ]
     },
     "execution_count": 303,
     "metadata": {},
     "output_type": "execute_result"
    },
    {
     "data": {
      "image/png": "[encoded data removed]",
      "text/plain": [
       "<matplotlib.figure.Figure at 0x1733c12b0>"
      ]
     },
     "metadata": {},
     "output_type": "display_data"
    }
   ],
   "source": [
    "df_reduced08.groupby('DofM').count().plot(title = '08 Course Site Views by Day')"
   ]
  },
  {
   "cell_type": "code",
   "execution_count": 304,
   "metadata": {
    "collapsed": false
   },
   "outputs": [
    {
     "data": {
      "text/plain": [
       "<matplotlib.axes._subplots.AxesSubplot at 0x1758e1240>"
      ]
     },
     "execution_count": 304,
     "metadata": {},
     "output_type": "execute_result"
    },
    {
     "data": {
      "image/png": "[encoded data removed]",
      "text/plain": [
       "<matplotlib.figure.Figure at 0x1758f0390>"
      ]
     },
     "metadata": {},
     "output_type": "display_data"
    }
   ],
   "source": [
    "df_reduced['DofM'] = [r.day for r in df_reduced.index]\n",
    "df_reduced.groupby('DofM').count().plot(title = 'Total Course Site Views by Day')"
   ]
  },
  {
   "cell_type": "code",
   "execution_count": 305,
   "metadata": {
    "collapsed": false,
    "scrolled": true
   },
   "outputs": [
    {
     "data": {
      "text/html": [
       "<div>\n",
       "<table border=\"1\" class=\"dataframe\">\n",
       "  <thead>\n",
       "    <tr style=\"text-align: right;\">\n",
       "      <th></th>\n",
       "      <th>URL</th>\n",
       "      <th>User Agent</th>\n",
       "      <th>UUID</th>\n",
       "      <th>DofM</th>\n",
       "    </tr>\n",
       "    <tr>\n",
       "      <th>ClassID</th>\n",
       "      <th></th>\n",
       "      <th></th>\n",
       "      <th></th>\n",
       "      <th></th>\n",
       "    </tr>\n",
       "  </thead>\n",
       "  <tbody>\n",
       "    <tr>\n",
       "      <th>05d0532840f04928dfdd86296c51189d</th>\n",
       "      <td>8633</td>\n",
       "      <td>8633</td>\n",
       "      <td>8633</td>\n",
       "      <td>8633</td>\n",
       "    </tr>\n",
       "    <tr>\n",
       "      <th>08acd1cae6c97712fc8dbe400c35b47d</th>\n",
       "      <td>609</td>\n",
       "      <td>609</td>\n",
       "      <td>609</td>\n",
       "      <td>609</td>\n",
       "    </tr>\n",
       "    <tr>\n",
       "      <th>a6ff862f8df9f99bec63a4096890db10</th>\n",
       "      <td>758</td>\n",
       "      <td>758</td>\n",
       "      <td>758</td>\n",
       "      <td>758</td>\n",
       "    </tr>\n",
       "  </tbody>\n",
       "</table>\n",
       "</div>"
      ],
      "text/plain": [
       "                                   URL  User Agent  UUID  DofM\n",
       "ClassID                                                       \n",
       "05d0532840f04928dfdd86296c51189d  8633        8633  8633  8633\n",
       "08acd1cae6c97712fc8dbe400c35b47d   609         609   609   609\n",
       "a6ff862f8df9f99bec63a4096890db10   758         758   758   758"
      ]
     },
     "execution_count": 305,
     "metadata": {},
     "output_type": "execute_result"
    }
   ],
   "source": [
    "df_reduced.groupby('ClassID').count()"
   ]
  },
  {
   "cell_type": "code",
   "execution_count": null,
   "metadata": {
    "collapsed": true
   },
   "outputs": [],
   "source": []
  },
  {
   "cell_type": "code",
   "execution_count": 306,
   "metadata": {
    "collapsed": false
   },
   "outputs": [
    {
     "data": {
      "text/plain": [
       "<matplotlib.axes._subplots.AxesSubplot at 0x175a35d30>"
      ]
     },
     "execution_count": 306,
     "metadata": {},
     "output_type": "execute_result"
    },
    {
     "data": {
      "image/png": "[encoded data removed]",
      "text/plain": [
       "<matplotlib.figure.Figure at 0x1538fb7b8>"
      ]
     },
     "metadata": {},
     "output_type": "display_data"
    }
   ],
   "source": [
    "#count of links per class\n",
    "sns.set(style=\"darkgrid\")\n",
    "sns.countplot(x=\"ClassID\", data=df_reduced)"
   ]
  },
  {
   "cell_type": "code",
   "execution_count": 307,
   "metadata": {
    "collapsed": false
   },
   "outputs": [
    {
     "name": "stderr",
     "output_type": "stream",
     "text": [
      "/Users/andycho/anaconda/lib/python3.5/site-packages/ipykernel/__main__.py:1: FutureWarning: sort(columns=....) is deprecated, use sort_values(by=.....)\n",
      "  if __name__ == '__main__':\n"
     ]
    },
    {
     "data": {
      "text/html": [
       "<div>\n",
       "<table border=\"1\" class=\"dataframe\">\n",
       "  <thead>\n",
       "    <tr style=\"text-align: right;\">\n",
       "      <th></th>\n",
       "      <th>URL</th>\n",
       "      <th>User Agent</th>\n",
       "      <th>ClassID</th>\n",
       "      <th>HofD</th>\n",
       "      <th>DofM</th>\n",
       "    </tr>\n",
       "    <tr>\n",
       "      <th>UUID</th>\n",
       "      <th></th>\n",
       "      <th></th>\n",
       "      <th></th>\n",
       "      <th></th>\n",
       "      <th></th>\n",
       "    </tr>\n",
       "  </thead>\n",
       "  <tbody>\n",
       "    <tr>\n",
       "      <th>6e42e1c23b2bd1b8ef6d3e189670182f</th>\n",
       "      <td>1</td>\n",
       "      <td>1</td>\n",
       "      <td>1</td>\n",
       "      <td>1</td>\n",
       "      <td>1</td>\n",
       "    </tr>\n",
       "    <tr>\n",
       "      <th>ec1388295576e6ac458ecc40393dffed</th>\n",
       "      <td>1</td>\n",
       "      <td>1</td>\n",
       "      <td>1</td>\n",
       "      <td>1</td>\n",
       "      <td>1</td>\n",
       "    </tr>\n",
       "    <tr>\n",
       "      <th>3dc52e5ddce957e759e6ce3909494dff</th>\n",
       "      <td>1</td>\n",
       "      <td>1</td>\n",
       "      <td>1</td>\n",
       "      <td>1</td>\n",
       "      <td>1</td>\n",
       "    </tr>\n",
       "    <tr>\n",
       "      <th>1295dced0db7a3625930593944200e86</th>\n",
       "      <td>1</td>\n",
       "      <td>1</td>\n",
       "      <td>1</td>\n",
       "      <td>1</td>\n",
       "      <td>1</td>\n",
       "    </tr>\n",
       "    <tr>\n",
       "      <th>6f710efb4447f508b491d19923d3486d</th>\n",
       "      <td>1</td>\n",
       "      <td>1</td>\n",
       "      <td>1</td>\n",
       "      <td>1</td>\n",
       "      <td>1</td>\n",
       "    </tr>\n",
       "  </tbody>\n",
       "</table>\n",
       "</div>"
      ],
      "text/plain": [
       "                                  URL  User Agent  ClassID  HofD  DofM\n",
       "UUID                                                                  \n",
       "6e42e1c23b2bd1b8ef6d3e189670182f    1           1        1     1     1\n",
       "ec1388295576e6ac458ecc40393dffed    1           1        1     1     1\n",
       "3dc52e5ddce957e759e6ce3909494dff    1           1        1     1     1\n",
       "1295dced0db7a3625930593944200e86    1           1        1     1     1\n",
       "6f710efb4447f508b491d19923d3486d    1           1        1     1     1"
      ]
     },
     "execution_count": 307,
     "metadata": {},
     "output_type": "execute_result"
    }
   ],
   "source": [
    "df_reduced05.groupby('UUID').count().sort(['URL']).head()"
   ]
  },
  {
   "cell_type": "code",
   "execution_count": 308,
   "metadata": {
    "collapsed": false
   },
   "outputs": [
    {
     "name": "stderr",
     "output_type": "stream",
     "text": [
      "/Users/andycho/anaconda/lib/python3.5/site-packages/ipykernel/__main__.py:2: FutureWarning: sort(columns=....) is deprecated, use sort_values(by=.....)\n",
      "  from ipykernel import kernelapp as app\n"
     ]
    },
    {
     "data": {
      "text/plain": [
       "<matplotlib.axes._subplots.AxesSubplot at 0x171d04390>"
      ]
     },
     "execution_count": 308,
     "metadata": {},
     "output_type": "execute_result"
    },
    {
     "data": {
      "image/png": "[encoded data removed]",
      "text/plain": [
       "<matplotlib.figure.Figure at 0x175d63a90>"
      ]
     },
     "metadata": {},
     "output_type": "display_data"
    }
   ],
   "source": [
    "#distribution of usage (url views) by user ID\n",
    "df_reduced05.groupby('UUID').count().sort(['URL']).plot(kind='hist', bins=10)"
   ]
  },
  {
   "cell_type": "code",
   "execution_count": 309,
   "metadata": {
    "collapsed": false
   },
   "outputs": [
    {
     "name": "stderr",
     "output_type": "stream",
     "text": [
      "/Users/andycho/anaconda/lib/python3.5/site-packages/ipykernel/__main__.py:1: FutureWarning: sort(columns=....) is deprecated, use sort_values(by=.....)\n",
      "  if __name__ == '__main__':\n"
     ]
    },
    {
     "data": {
      "text/plain": [
       "<matplotlib.axes._subplots.AxesSubplot at 0x175a736d8>"
      ]
     },
     "execution_count": 309,
     "metadata": {},
     "output_type": "execute_result"
    },
    {
     "data": {
      "image/png": "[encoded data removed]",
      "text/plain": [
       "<matplotlib.figure.Figure at 0x162304400>"
      ]
     },
     "metadata": {},
     "output_type": "display_data"
    }
   ],
   "source": [
    "df_reduceda6.groupby('UUID').count().sort(['URL']).plot(kind='hist', bins=10)"
   ]
  },
  {
   "cell_type": "code",
   "execution_count": 310,
   "metadata": {
    "collapsed": false
   },
   "outputs": [
    {
     "name": "stderr",
     "output_type": "stream",
     "text": [
      "/Users/andycho/anaconda/lib/python3.5/site-packages/ipykernel/__main__.py:1: FutureWarning: sort(columns=....) is deprecated, use sort_values(by=.....)\n",
      "  if __name__ == '__main__':\n"
     ]
    },
    {
     "data": {
      "text/plain": [
       "<matplotlib.axes._subplots.AxesSubplot at 0x1761339e8>"
      ]
     },
     "execution_count": 310,
     "metadata": {},
     "output_type": "execute_result"
    },
    {
     "data": {
      "image/png": "[encoded data removed]",
      "text/plain": [
       "<matplotlib.figure.Figure at 0x17613e240>"
      ]
     },
     "metadata": {},
     "output_type": "display_data"
    }
   ],
   "source": [
    "df_reduced08.groupby('UUID').count().sort(['URL']).plot(kind='hist', bins=10)"
   ]
  },
  {
   "cell_type": "code",
   "execution_count": 311,
   "metadata": {
    "collapsed": false
   },
   "outputs": [
    {
     "name": "stderr",
     "output_type": "stream",
     "text": [
      "/Users/andycho/anaconda/lib/python3.5/site-packages/ipykernel/__main__.py:1: FutureWarning: sort(columns=....) is deprecated, use sort_values(by=.....)\n",
      "  if __name__ == '__main__':\n"
     ]
    },
    {
     "data": {
      "text/plain": [
       "<matplotlib.text.Text at 0x176df2860>"
      ]
     },
     "execution_count": 311,
     "metadata": {},
     "output_type": "execute_result"
    },
    {
     "data": {
      "image/png": "[encoded data removed]",
      "text/plain": [
       "<matplotlib.figure.Figure at 0x1765a1ba8>"
      ]
     },
     "metadata": {},
     "output_type": "display_data"
    }
   ],
   "source": [
    "df_reduced.groupby('UUID').count().sort(['URL']).plot(kind='hist', bins=10, legend=False,\n",
    "                                                    title = 'Distribution of Page Visits by Users')\n",
    "plt.xlabel('Page Visits')\n",
    "plt.ylabel('Number of Users')"
   ]
  },
  {
   "cell_type": "code",
   "execution_count": 312,
   "metadata": {
    "collapsed": false
   },
   "outputs": [
    {
     "data": {
      "text/plain": [
       "<matplotlib.axes._subplots.AxesSubplot at 0x176ffe908>"
      ]
     },
     "execution_count": 312,
     "metadata": {},
     "output_type": "execute_result"
    },
    {
     "data": {
      "image/png": "[encoded data removed]",
      "text/plain": [
       "<matplotlib.figure.Figure at 0x176ffe0f0>"
      ]
     },
     "metadata": {},
     "output_type": "display_data"
    }
   ],
   "source": [
    "df_pages = pd.DataFrame()\n",
    "df_pages['Views'] = df_reduced['URL'].value_counts()\n",
    "\n",
    "df_pages\n",
    "\n",
    "df_pageTypeCount = pd.DataFrame([[0,0,0,0,0,0,0,0,0,0,0,0,0,0]], columns = ['pages', 'ping', \n",
    "                                                       'preview', 'assignments',\n",
    "                                                       'files', 'module', 'announcements',\n",
    "                                                           'outcome_groups', 'discussion_topics', \n",
    "                                                           'enrollments', 'folders', 'quizzes',\n",
    "                                                                    'gradebook', 'students'])\n",
    "for index, row in df_pages.iterrows():\n",
    "    if index.find('pages') != -1:\n",
    "        df_pageTypeCount['pages'] += row.values[0]\n",
    "    elif index.find('ping') != -1:\n",
    "        df_pageTypeCount['ping'] += row.values[0]\n",
    "    elif index.find('preview') != -1:\n",
    "        df_pageTypeCount['preview'] += row.values[0]\n",
    "    elif index.find('assignments') != -1:\n",
    "        df_pageTypeCount['assignments'] += row.values[0]\n",
    "    elif index.find('files') != -1:\n",
    "        df_pageTypeCount['files'] += row.values[0]\n",
    "    elif index.find('module') != -1:\n",
    "        df_pageTypeCount['module'] += row.values[0]\n",
    "    elif index.find('announcements') != -1:\n",
    "        df_pageTypeCount['announcements'] += row.values[0]    \n",
    "    elif index.find('outcome_groups') != -1:\n",
    "        df_pageTypeCount['outcome_groups'] += row.values[0] \n",
    "    elif index.find('discussion_topics') != -1:\n",
    "        df_pageTypeCount['discussion_topics'] += row.values[0] \n",
    "    elif index.find('enrollments') != -1:\n",
    "        df_pageTypeCount['enrollments'] += row.values[0] \n",
    "    elif index.find('folders') != -1:\n",
    "        df_pageTypeCount['folders'] += row.values[0]    \n",
    "    elif index.find('quizzes') != -1:\n",
    "        df_pageTypeCount['quizzes'] += row.values[0] \n",
    "    elif index.find('gradebook') != -1:\n",
    "        df_pageTypeCount['gradebook'] += row.values[0] \n",
    "    elif index.find('students') != -1:\n",
    "        df_pageTypeCount['students'] += row.values[0] \n",
    "\n",
    "#only 953 results - this is the wrong way to do it; gotta make it scalable and automatically \n",
    "#create columns based on new pages\n",
    "df_pageTypeCount.plot(kind='bar')"
   ]
  },
  {
   "cell_type": "code",
   "execution_count": null,
   "metadata": {
    "collapsed": false
   },
   "outputs": [],
   "source": [
    "#cluster\n",
    "# the links below for URLs 1 thru 9 are the three most clicked links for each course, based on the sorting code that Connie did. \n",
    "\n",
    "dfnew['URL1'] = np.where(dfnew['URL']=='/api/v1/courses/166/ping', 1, 0)\n",
    "dfnew['URL2'] = np.where(dfnew['URL']=='/api/v1/courses/166/pages/virtual-sites/revisions/latest?summary=true', 1, 0)\n",
    "dfnew['URL3'] = np.where(dfnew['URL']=='/api/v1/courses/166/pages/dr-millers-lecture-003-recordings/revisions/latest?summary=true', 1, 0)\n",
    "\n",
    "dfnew['URL4'] = np.where(dfnew['URL']=='/api/v1/courses/158/pages/sketching-videos/revisions/latest?summary=true', 1, 0)\n",
    "dfnew['URL5'] = np.where(dfnew['URL']=='/api/v1/courses/158/ping', 1, 0)\n",
    "dfnew['URL6'] = np.where(dfnew['URL']=='/courses/158', 1, 0)\n",
    "\n",
    "dfnew['URL7'] = np.where(dfnew['URL']=='/api/v1/courses/164/pages/blogging/revisions/latest?summary=true', 1, 0)\n",
    "dfnew['URL8'] = np.where(dfnew['URL']=='/api/v1/courses/164/ping', 1, 0)\n",
    "dfnew['URL9'] = np.where(dfnew['URL']=='/courses/164/', 1, 0)\n",
    "\n",
    "\n",
    "dfnew['ClassID1'] = np.where(dfnew['ClassID']=='05d0532840f04928dfdd86296c51189d', 1, 0)\n",
    "dfnew['ClassID2'] = np.where(dfnew['ClassID']=='08acd1cae6c97712fc8dbe400c35b47d', 1, 0)\n",
    "dfnew['ClassID3'] = np.where(dfnew['ClassID']=='a6ff862f8df9f99bec63a4096890db10', 1, 0)\n",
    "\n",
    "dfnew = dfnew.drop('URL', 1)\n",
    "dfnew = dfnew.drop('ClassID', 1)\n",
    "dfnew.head(100) \n"
   ]
  },
  {
   "cell_type": "code",
   "execution_count": null,
   "metadata": {
    "collapsed": false
   },
   "outputs": [],
   "source": [
    "#Normalize the data. (When working with a smaller subset of the data, there were NAN columns that need to be removed if you want to see the clustering\n",
    "#analysis) \n",
    "df_filtered = dfnew[['URL1', 'URL2', 'URL3', 'URL4', 'URL5', 'URL6', 'URL7', 'URL8','URL9', 'ClassID1','ClassID2','ClassID3',]]\n",
    "df_norm = df_filtered.apply(lambda x: (x - x.mean()) / x.std())\n",
    "df_norm.head(10)"
   ]
  },
  {
   "cell_type": "code",
   "execution_count": 318,
   "metadata": {
    "collapsed": false,
    "scrolled": true
   },
   "outputs": [
    {
     "data": {
      "text/plain": [
       "<matplotlib.figure.Figure at 0x178c770b8>"
      ]
     },
     "metadata": {},
     "output_type": "display_data"
    },
    {
     "data": {
      "image/png": "[encoded data removed]",
      "text/plain": [
       "<matplotlib.figure.Figure at 0x176e1ee10>"
      ]
     },
     "metadata": {},
     "output_type": "display_data"
    },
    {
     "data": {
      "text/plain": [
       "<matplotlib.figure.Figure at 0x176ecb358>"
      ]
     },
     "metadata": {},
     "output_type": "display_data"
    },
    {
     "data": {
      "image/png": "[encoded data removed]",
      "text/plain": [
       "<matplotlib.figure.Figure at 0x178ca1048>"
      ]
     },
     "metadata": {},
     "output_type": "display_data"
    },
    {
     "data": {
      "text/plain": [
       "<matplotlib.figure.Figure at 0x178d35f28>"
      ]
     },
     "metadata": {},
     "output_type": "display_data"
    },
    {
     "data": {
      "image/png": "[encoded data removed]",
      "text/plain": [
       "<matplotlib.figure.Figure at 0x179943eb8>"
      ]
     },
     "metadata": {},
     "output_type": "display_data"
    },
    {
     "data": {
      "text/plain": [
       "<matplotlib.figure.Figure at 0x178ce2ef0>"
      ]
     },
     "metadata": {},
     "output_type": "display_data"
    },
    {
     "data": {
      "image/png": "[encoded data removed]",
      "text/plain": [
       "<matplotlib.figure.Figure at 0x179984eb8>"
      ]
     },
     "metadata": {},
     "output_type": "display_data"
    },
    {
     "data": {
      "text/plain": [
       "<matplotlib.figure.Figure at 0x17b0f6ac8>"
      ]
     },
     "metadata": {},
     "output_type": "display_data"
    },
    {
     "data": {
      "image/png": "[encoded data removed]",
      "text/plain": [
       "<matplotlib.figure.Figure at 0x17b05eb70>"
      ]
     },
     "metadata": {},
     "output_type": "display_data"
    }
   ],
   "source": [
    "#kmeans clustering visualization\n",
    "\n",
    "pca_model = skd.PCA(n_components=2).fit(df_norm)\n",
    "pca_data = pca_model.transform(df_norm)\n",
    "df_pca = pd.DataFrame(pca_data, columns=['pca0', 'pca1'])\n",
    "\n",
    "for k in range(2,7):\n",
    "    kmeans_model = skc.KMeans(k).fit(df_norm)\n",
    "    centroids = kmeans_model.cluster_centers_\n",
    "    centroids_pca = pca_model.transform(centroids)\n",
    "    cluster_labels = kmeans_model.labels_\n",
    "    df_pca['label'] = cluster_labels\n",
    "    silh_score = skm.silhouette_score(df_norm, cluster_labels)\n",
    "    \n",
    "    plt.figure()\n",
    "    f = sns.lmplot(x='pca0', y='pca1', data=df_pca, \n",
    "                   hue='label', fit_reg=False, \n",
    "                   scatter_kws={'s': 100})\n",
    "    f.ax.scatter(centroids_pca[:,0], centroids_pca[:,1], \n",
    "                 marker='+', s=200, linewidths=2, color='black')\n",
    "    plt.title('k-means: k=%d\\nSilhouette_score=%f'%(\n",
    "                k, silh_score), fontsize=15)"
   ]
  },
  {
   "cell_type": "code",
   "execution_count": 321,
   "metadata": {
    "collapsed": false
   },
   "outputs": [
    {
     "name": "stdout",
     "output_type": "stream",
     "text": [
      "There are 5 clusters\n",
      "[6321911 3164958]\n"
     ]
    }
   ],
   "source": [
    "max_label_id = np.max(kmeans_model.labels_)\n",
    "print('There are %d clusters'%max_label_id)\n",
    "for i in range(1, max_label_id + 1):\n",
    "    members = df_norm.index[cluster_labels == i]\n",
    "    if i == 1:\n",
    "        cluster1 = members\n",
    "    elif i == 2:\n",
    "        cluster2 = members\n",
    "    elif i == 3:\n",
    "        cluster3 = members\n",
    "    elif i == 4:\n",
    "        cluster4 = members\n",
    "    elif i == 5:\n",
    "        cluster5 = members\n",
    "    #print('Cluster %d has %d URLS: %s'%(\n",
    "    #        i, len(members), ' '.join(map(str, members))))\n",
    "print(df_cluster5.values)"
   ]
  },
  {
   "cell_type": "code",
   "execution_count": null,
   "metadata": {
    "collapsed": false
   },
   "outputs": [
    {
     "name": "stdout",
     "output_type": "stream",
     "text": [
      "URL           /api/v1/courses/158/pages/me250-home-page/revi...\n",
      "User Agent    Mozilla/5.0 (Windows NT 6.1; WOW64) AppleWebKi...\n",
      "UUID                           b0d6893a5da4808b86a620ddc7fd2369\n",
      "ClassID                        08acd1cae6c97712fc8dbe400c35b47d\n",
      "DofM                                                         12\n",
      "Name: 2014-12-12 01:41:50, dtype: object\n",
      "URL           /api/v1/courses/158/pages/me250-home-page/revi...\n",
      "User Agent    Mozilla/5.0 (Windows NT 6.1; WOW64; Trident/7....\n",
      "UUID                           b0d6893a5da4808b86a620ddc7fd2369\n",
      "ClassID                        08acd1cae6c97712fc8dbe400c35b47d\n",
      "DofM                                                         21\n",
      "Name: 2014-09-21 15:33:23, dtype: object\n",
      "URL           /api/v1/courses/158/pages/me250-home-page/revi...\n",
      "User Agent    Mozilla/5.0 (Windows NT 6.2; WOW64) AppleWebKi...\n",
      "UUID                           2ad3dc8ad09204737e62d5979287c163\n",
      "ClassID                        08acd1cae6c97712fc8dbe400c35b47d\n",
      "DofM                                                         19\n",
      "Name: 2014-10-19 22:22:24, dtype: object\n",
      "URL           /api/v1/courses/158/pages/me250-home-page/revi...\n",
      "User Agent    Mozilla/5.0 (Windows NT 6.1; WOW64) AppleWebKi...\n",
      "UUID                           2459218a09b90bf3250383ff06399efe\n",
      "ClassID                        08acd1cae6c97712fc8dbe400c35b47d\n",
      "DofM                                                         19\n",
      "Name: 2014-10-19 21:03:41, dtype: object\n",
      "URL                                    /courses/158/assignments\n",
      "User Agent    Mozilla/5.0 (Windows NT 6.1; WOW64) AppleWebKi...\n",
      "UUID                           a1aad2bbdc3f2aaa11a1da14fda1b2d5\n",
      "ClassID                        08acd1cae6c97712fc8dbe400c35b47d\n",
      "DofM                                                         27\n",
      "Name: 2014-09-27 20:10:14, dtype: object\n",
      "URL                     /courses/158/files/9900/download?wrap=1\n",
      "User Agent    Mozilla/5.0 (Windows NT 6.1; WOW64) AppleWebKi...\n",
      "UUID                           ae2ac6912ad9e9e40b30ae976ac1b1b0\n",
      "ClassID                        08acd1cae6c97712fc8dbe400c35b47d\n",
      "DofM                                                         24\n",
      "Name: 2014-09-24 21:42:10, dtype: object\n",
      "URL           /api/v1/courses/158/pages/me250-home-page/revi...\n",
      "User Agent    Mozilla/5.0 (Windows NT 6.1; WOW64) AppleWebKi...\n",
      "UUID                           a699f856cc8b166ef81c737c7c16c58d\n",
      "ClassID                        08acd1cae6c97712fc8dbe400c35b47d\n",
      "DofM                                                          5\n",
      "Name: 2014-10-05 20:28:16, dtype: object\n",
      "URL           /courses/158/folders/1389?page_view_id=86befc0...\n",
      "User Agent    Mozilla/5.0 (iPhone; CPU iPhone OS 8_0_2 like ...\n",
      "UUID                           1a6cf3d4934482750a6e49fc74a49eb8\n",
      "ClassID                        08acd1cae6c97712fc8dbe400c35b47d\n",
      "DofM                                                          9\n",
      "Name: 2014-10-09 23:33:11, dtype: object\n",
      "URL                                          /courses/158/files\n",
      "User Agent    Mozilla/5.0 (Windows NT 6.1; WOW64) AppleWebKi...\n",
      "UUID                           ac0505da9d3b5402bab564c1f164f2f0\n",
      "ClassID                        08acd1cae6c97712fc8dbe400c35b47d\n",
      "DofM                                                         19\n",
      "Name: 2014-10-19 18:33:40, dtype: object\n",
      "URL                                                /courses/158\n",
      "User Agent    Mozilla/5.0 (Windows NT 6.1; WOW64) AppleWebKi...\n",
      "UUID                           4ba5ec3a67358cdaed3d913a69916ab0\n",
      "ClassID                        08acd1cae6c97712fc8dbe400c35b47d\n",
      "DofM                                                         17\n",
      "Name: 2014-09-17 17:16:11, dtype: object\n",
      "URL           /api/v1/courses/158/pages/me250-home-page/revi...\n",
      "User Agent    Mozilla/5.0 (Windows NT 6.3; WOW64) AppleWebKi...\n",
      "UUID                           a656fb4acad03014817e11879eb1b9f5\n",
      "ClassID                        08acd1cae6c97712fc8dbe400c35b47d\n",
      "DofM                                                         18\n",
      "Name: 2014-09-18 05:49:31, dtype: object\n",
      "URL           /api/v1/courses/158/pages/me250-home-page/revi...\n",
      "User Agent    Mozilla/5.0 (Macintosh; Intel Mac OS X 10_9_5)...\n",
      "UUID                           401ec56db32e0998805ddeaa3e01d970\n",
      "ClassID                        08acd1cae6c97712fc8dbe400c35b47d\n",
      "DofM                                                         14\n",
      "Name: 2014-10-14 16:47:12, dtype: object\n",
      "URL           /api/v1/courses/158/pages/me250-home-page/revi...\n",
      "User Agent    Mozilla/5.0 (Windows NT 6.1; WOW64) AppleWebKi...\n",
      "UUID                           efe3e75c8ef8767720cc842d4d447074\n",
      "ClassID                        08acd1cae6c97712fc8dbe400c35b47d\n",
      "DofM                                                         12\n",
      "Name: 2014-11-12 00:45:56, dtype: object\n",
      "URL           /api/v1/courses/158/pages/me250-home-page/revi...\n",
      "User Agent    Mozilla/5.0 (Macintosh; Intel Mac OS X 10_8_5)...\n",
      "UUID                           fb871d1ff81105f7f43fc51907ff8d04\n",
      "ClassID                        08acd1cae6c97712fc8dbe400c35b47d\n",
      "DofM                                                         10\n",
      "Name: 2014-11-10 17:24:18, dtype: object\n",
      "URL                                    /courses/158/assignments\n",
      "User Agent    Mozilla/5.0 (Windows NT 6.1; WOW64) AppleWebKi...\n",
      "UUID                           eaa2ed547c291798305355c0ae871aad\n",
      "ClassID                        08acd1cae6c97712fc8dbe400c35b47d\n",
      "DofM                                                         12\n",
      "Name: 2014-11-12 16:25:52, dtype: object\n",
      "URL           /api/v1/courses/158/pages/me250-home-page/revi...\n",
      "User Agent    Mozilla/5.0 (Windows NT 6.3; WOW64) AppleWebKi...\n",
      "UUID                           1b48d65ef27588bfd206be7a32a9cbbd\n",
      "ClassID                        08acd1cae6c97712fc8dbe400c35b47d\n",
      "DofM                                                         22\n",
      "Name: 2014-10-22 03:10:12, dtype: object\n",
      "URL           /api/v1/courses/158/pages/me250-home-page/revi...\n",
      "User Agent    Mozilla/5.0 (Macintosh; Intel Mac OS X 10_10_0...\n",
      "UUID                           326d5ce8938b1746eff63d22dbe9a6e1\n",
      "ClassID                        08acd1cae6c97712fc8dbe400c35b47d\n",
      "DofM                                                         23\n",
      "Name: 2014-10-23 18:35:13, dtype: object\n",
      "URL           /api/v1/courses/158/pages/me250-home-page/revi...\n",
      "User Agent    Mozilla/5.0 (Windows NT 6.1; WOW64) AppleWebKi...\n",
      "UUID                           9522ae66106b80c4bd7fbc0a3a010eb1\n",
      "ClassID                        08acd1cae6c97712fc8dbe400c35b47d\n",
      "DofM                                                          8\n",
      "Name: 2014-11-08 20:46:51, dtype: object\n",
      "URL           /api/v1/courses/158/pages/sketching-videos/rev...\n",
      "User Agent    Mozilla/5.0 (Windows NT 6.1; WOW64; rv:32.0) G...\n",
      "UUID                           c284716a8078261505a38338c960c2bb\n",
      "ClassID                        08acd1cae6c97712fc8dbe400c35b47d\n",
      "DofM                                                         22\n",
      "Name: 2014-09-22 01:57:43, dtype: object\n",
      "URL           /courses/158/folders/689?page_view_id=7b998a00...\n",
      "User Agent    Mozilla/5.0 (Windows NT 6.3; WOW64) AppleWebKi...\n",
      "UUID                           1723707a0cc40e59a890886b2c35243a\n",
      "ClassID                        08acd1cae6c97712fc8dbe400c35b47d\n",
      "DofM                                                         16\n",
      "Name: 2014-10-16 04:04:48, dtype: object\n",
      "URL           /courses/158/folders/708?page_view_id=e8cf8220...\n",
      "User Agent    Mozilla/5.0 (Macintosh; Intel Mac OS X 10_7_5)...\n",
      "UUID                           78cc7d26970d707b2d53652169cbeca6\n",
      "ClassID                        08acd1cae6c97712fc8dbe400c35b47d\n",
      "DofM                                                         12\n",
      "Name: 2014-09-12 15:32:28, dtype: object\n",
      "URL           /api/v1/courses/158/pages/me250-home-page/revi...\n",
      "User Agent    Mozilla/5.0 (Windows NT 6.3; WOW64) AppleWebKi...\n",
      "UUID                           95cd98cfce94eb63904fdc391d067d16\n",
      "ClassID                        08acd1cae6c97712fc8dbe400c35b47d\n",
      "DofM                                                         13\n",
      "Name: 2014-12-13 23:39:35, dtype: object\n",
      "URL           /api/v1/courses/158/pages/sketching-videos/rev...\n",
      "User Agent    Mozilla/5.0 (Windows NT 6.1; WOW64) AppleWebKi...\n",
      "UUID                           a1aad2bbdc3f2aaa11a1da14fda1b2d5\n",
      "ClassID                        08acd1cae6c97712fc8dbe400c35b47d\n",
      "DofM                                                         24\n",
      "Name: 2014-09-24 17:18:24, dtype: object\n",
      "URL           /api/v1/courses/158/pages/sketching-videos/rev...\n",
      "User Agent    Mozilla/5.0 (Macintosh; Intel Mac OS X 10_9_4)...\n",
      "UUID                           b4f855d9643de911ab0360f40831a6c7\n",
      "ClassID                        08acd1cae6c97712fc8dbe400c35b47d\n",
      "DofM                                                         24\n",
      "Name: 2014-09-24 01:47:49, dtype: object\n",
      "URL           /api/v1/courses/158/pages/me250-home-page/revi...\n",
      "User Agent    Mozilla/5.0 (Windows NT 6.3; WOW64) AppleWebKi...\n",
      "UUID                           d79f3cfd7fd812b1cc9031fcdb0b72fb\n",
      "ClassID                        08acd1cae6c97712fc8dbe400c35b47d\n",
      "DofM                                                         22\n",
      "Name: 2014-09-22 00:04:09, dtype: object\n",
      "URL           /api/v1/courses/158/pages/sketching-videos/rev...\n",
      "User Agent    Mozilla/5.0 (Windows NT 6.2; WOW64) AppleWebKi...\n",
      "UUID                           250cfbaa0eeeda7fb76dabcc6d874129\n",
      "ClassID                        08acd1cae6c97712fc8dbe400c35b47d\n",
      "DofM                                                          9\n",
      "Name: 2014-09-09 22:03:59, dtype: object\n",
      "URL           /api/v1/courses/158/pages/sketching-videos/rev...\n",
      "User Agent    Mozilla/5.0 (Macintosh; Intel Mac OS X 10.9; r...\n",
      "UUID                           9c3c35198762749e2ec6abb8a3ea001f\n",
      "ClassID                        08acd1cae6c97712fc8dbe400c35b47d\n",
      "DofM                                                         17\n",
      "Name: 2014-09-17 03:34:39, dtype: object\n",
      "URL           /api/v1/courses/158/pages/me250-home-page/revi...\n",
      "User Agent    Mozilla/5.0 (Macintosh; Intel Mac OS X 10_9_4)...\n",
      "UUID                           46cb8e34e25c58503eb5bc1af4ff29be\n",
      "ClassID                        08acd1cae6c97712fc8dbe400c35b47d\n",
      "DofM                                                          3\n",
      "Name: 2014-09-03 01:29:51, dtype: object\n",
      "URL           /courses/158/files.json?page_view_id=fda0e970-...\n",
      "User Agent    Mozilla/5.0 (Macintosh; Intel Mac OS X 10_9_4)...\n",
      "UUID                           97832eb1d1aafec9ba0f571f6b60c73d\n",
      "ClassID                        08acd1cae6c97712fc8dbe400c35b47d\n",
      "DofM                                                          2\n",
      "Name: 2014-10-02 22:54:34, dtype: object\n",
      "URL           /api/v1/courses/158/pages/me250-home-page/revi...\n",
      "User Agent    Mozilla/5.0 (Windows NT 6.1; WOW64) AppleWebKi...\n",
      "UUID                           b0d6893a5da4808b86a620ddc7fd2369\n",
      "ClassID                        08acd1cae6c97712fc8dbe400c35b47d\n",
      "DofM                                                         21\n",
      "Name: 2014-10-21 17:09:12, dtype: object\n",
      "URL           /api/v1/courses/158/pages/sketching-videos/rev...\n",
      "User Agent    Mozilla/5.0 (Windows NT 6.3; WOW64) AppleWebKi...\n",
      "UUID                           eaa2ed547c291798305355c0ae871aad\n",
      "ClassID                        08acd1cae6c97712fc8dbe400c35b47d\n",
      "DofM                                                         17\n",
      "Name: 2014-09-17 16:48:09, dtype: object\n",
      "URL           /api/v1/courses/158/pages/me250-home-page/revi...\n",
      "User Agent    Mozilla/5.0 (Windows NT 6.1; WOW64) AppleWebKi...\n",
      "UUID                           d85bd79aba765954f4955c68990331f0\n",
      "ClassID                        08acd1cae6c97712fc8dbe400c35b47d\n",
      "DofM                                                         25\n",
      "Name: 2014-11-25 05:48:29, dtype: object\n",
      "URL           /api/v1/courses/158/pages/sketching-videos/rev...\n",
      "User Agent    Mozilla/5.0 (Windows NT 6.3; WOW64) AppleWebKi...\n",
      "UUID                           37b2c226567007355918728b23f2e20c\n",
      "ClassID                        08acd1cae6c97712fc8dbe400c35b47d\n",
      "DofM                                                         21\n",
      "Name: 2014-09-21 13:34:34, dtype: object\n",
      "URL                                          /courses/158/files\n",
      "User Agent    Mozilla/5.0 (Macintosh; Intel Mac OS X 10_9_4)...\n",
      "UUID                           ff63221ff29097f646f395d96dfb1265\n",
      "ClassID                        08acd1cae6c97712fc8dbe400c35b47d\n",
      "DofM                                                         18\n",
      "Name: 2014-11-18 01:49:07, dtype: object\n",
      "URL           /api/v1/courses/158/pages/me250-home-page/revi...\n",
      "User Agent    Mozilla/5.0 (Windows NT 6.1; WOW64) AppleWebKi...\n",
      "UUID                           e51dbf9c7af48f90deb59baf4f0886a8\n",
      "ClassID                        08acd1cae6c97712fc8dbe400c35b47d\n",
      "DofM                                                         31\n",
      "Name: 2014-10-31 23:34:04, dtype: object\n",
      "URL           /api/v1/courses/158/pages/me250-home-page/revi...\n",
      "User Agent    Mozilla/5.0 (Windows NT 6.1; WOW64) AppleWebKi...\n",
      "UUID                           c284716a8078261505a38338c960c2bb\n",
      "ClassID                        08acd1cae6c97712fc8dbe400c35b47d\n",
      "DofM                                                         29\n",
      "Name: 2014-10-29 02:09:07, dtype: object\n",
      "URL           /api/v1/courses/158/pages/me250-home-page/revi...\n",
      "User Agent    Mozilla/5.0 (Windows NT 6.1; WOW64) AppleWebKi...\n",
      "UUID                           603af4be747ac1dba4761a7b22f2ee01\n",
      "ClassID                        08acd1cae6c97712fc8dbe400c35b47d\n",
      "DofM                                                         13\n",
      "Name: 2014-11-13 15:46:51, dtype: object\n",
      "URL           /api/v1/courses/158/pages/me250-home-page/revi...\n",
      "User Agent    Mozilla/5.0 (Macintosh; Intel Mac OS X 10_7_5)...\n",
      "UUID                           78cc7d26970d707b2d53652169cbeca6\n",
      "ClassID                        08acd1cae6c97712fc8dbe400c35b47d\n",
      "DofM                                                          8\n",
      "Name: 2014-09-08 01:59:20, dtype: object\n",
      "URL           /api/v1/courses/158/pages/me250-home-page/revi...\n",
      "User Agent    Mozilla/5.0 (Windows NT 6.1; WOW64) AppleWebKi...\n",
      "UUID                           e7f14e4b617af4808b200124446690f7\n",
      "ClassID                        08acd1cae6c97712fc8dbe400c35b47d\n",
      "DofM                                                          2\n",
      "Name: 2014-12-02 14:05:39, dtype: object\n",
      "URL           /api/v1/courses/158/pages/sketching-videos/rev...\n",
      "User Agent    Mozilla/5.0 (Macintosh; Intel Mac OS X 10_8_5)...\n",
      "UUID                           4ff9f4a5fb510b75d615ba2e70560541\n",
      "ClassID                        08acd1cae6c97712fc8dbe400c35b47d\n",
      "DofM                                                         16\n",
      "Name: 2014-09-16 18:54:18, dtype: object\n",
      "URL           /api/v1/courses/158/pages/me250-home-page/revi...\n",
      "User Agent    Mozilla/5.0 (Windows NT 6.1; WOW64) AppleWebKi...\n",
      "UUID                           f858f3752f1cf2d30f3dab121ca7df62\n",
      "ClassID                        08acd1cae6c97712fc8dbe400c35b47d\n",
      "DofM                                                         18\n",
      "Name: 2014-10-18 22:48:53, dtype: object\n",
      "URL                    /courses/158/files/15705/download?wrap=1\n",
      "User Agent    Mozilla/5.0 (Macintosh; Intel Mac OS X 10_9_5)...\n",
      "UUID                           ff63221ff29097f646f395d96dfb1265\n",
      "ClassID                        08acd1cae6c97712fc8dbe400c35b47d\n",
      "DofM                                                         18\n",
      "Name: 2014-11-18 06:10:53, dtype: object\n",
      "URL           /api/v1/courses/158/pages/me250-home-page/revi...\n",
      "User Agent    Mozilla/5.0 (Windows NT 6.3) AppleWebKit/537.3...\n",
      "UUID                           95cd98cfce94eb63904fdc391d067d16\n",
      "ClassID                        08acd1cae6c97712fc8dbe400c35b47d\n",
      "DofM                                                         25\n",
      "Name: 2014-10-25 17:04:24, dtype: object\n",
      "URL           /api/v1/courses/158/students/submissions?per_p...\n",
      "User Agent    Mozilla/5.0 (Windows NT 6.1; WOW64) AppleWebKi...\n",
      "UUID                           3caa1f1f447ff4aa3a96ca4609817791\n",
      "ClassID                        08acd1cae6c97712fc8dbe400c35b47d\n",
      "DofM                                                         21\n",
      "Name: 2014-09-21 14:45:02, dtype: object\n",
      "URL           /api/v1/courses/158/pages/sketching-videos/rev...\n",
      "User Agent    Mozilla/5.0 (Windows NT 6.1; WOW64) AppleWebKi...\n",
      "UUID                           9db39254dca0d97eb9d14fa42482d02a\n",
      "ClassID                        08acd1cae6c97712fc8dbe400c35b47d\n",
      "DofM                                                         21\n",
      "Name: 2014-09-21 18:10:49, dtype: object\n",
      "URL           /courses/158/folders/693?page_view_id=775b76b0...\n",
      "User Agent    Mozilla/5.0 (Windows NT 6.1; WOW64) AppleWebKi...\n",
      "UUID                           771b08095a5000426de36edf2af4329e\n",
      "ClassID                        08acd1cae6c97712fc8dbe400c35b47d\n",
      "DofM                                                          3\n",
      "Name: 2014-11-03 08:15:38, dtype: object\n",
      "URL           /api/v1/courses/158/pages/me250-home-page/revi...\n",
      "User Agent    Mozilla/5.0 (Windows NT 6.3; WOW64; Trident/7....\n",
      "UUID                           0368a644330ccdbb5f4541a1137691ff\n",
      "ClassID                        08acd1cae6c97712fc8dbe400c35b47d\n",
      "DofM                                                          3\n",
      "Name: 2014-12-03 01:38:15, dtype: object\n",
      "URL           /api/v1/courses/158/pages/sketching-videos/rev...\n",
      "User Agent    Mozilla/5.0 (Macintosh; Intel Mac OS X 10_7_5)...\n",
      "UUID                           9480212d04f599cdf117f6a6eb39bdd7\n",
      "ClassID                        08acd1cae6c97712fc8dbe400c35b47d\n",
      "DofM                                                         21\n",
      "Name: 2014-09-21 23:05:03, dtype: object\n",
      "URL           /api/v1/courses/158/pages/me250-home-page/revi...\n",
      "User Agent    Mozilla/5.0 (Windows NT 6.1; WOW64) AppleWebKi...\n",
      "UUID                           418127ed04ba38547760fc1ca1c4e357\n",
      "ClassID                        08acd1cae6c97712fc8dbe400c35b47d\n",
      "DofM                                                         20\n",
      "Name: 2014-10-20 02:00:35, dtype: object\n",
      "URL           /api/v1/courses/158/pages/me250-home-page/revi...\n",
      "User Agent    Mozilla/5.0 (Windows NT 6.1; WOW64) AppleWebKi...\n",
      "UUID                           efe3e75c8ef8767720cc842d4d447074\n",
      "ClassID                        08acd1cae6c97712fc8dbe400c35b47d\n",
      "DofM                                                         14\n",
      "Name: 2014-11-14 11:32:36, dtype: object\n",
      "URL           /api/v1/courses/158/pages/me250-home-page/revi...\n",
      "User Agent    Mozilla/5.0 (Windows NT 6.1; WOW64) AppleWebKi...\n",
      "UUID                           efe3e75c8ef8767720cc842d4d447074\n",
      "ClassID                        08acd1cae6c97712fc8dbe400c35b47d\n",
      "DofM                                                         14\n",
      "Name: 2014-11-14 14:49:27, dtype: object\n",
      "URL           /api/v1/courses/158/pages/me250-home-page/revi...\n",
      "User Agent    Mozilla/5.0 (Macintosh; Intel Mac OS X 10_8_5)...\n",
      "UUID                           d2245f938b4d5d278b7a26029922ff74\n",
      "ClassID                        08acd1cae6c97712fc8dbe400c35b47d\n",
      "DofM                                                         26\n",
      "Name: 2014-10-26 18:19:48, dtype: object\n",
      "URL           /api/v1/courses/158/pages/me250-home-page/revi...\n",
      "User Agent    Mozilla/5.0 (Windows NT 6.1; WOW64; rv:32.0) G...\n",
      "UUID                           c284716a8078261505a38338c960c2bb\n",
      "ClassID                        08acd1cae6c97712fc8dbe400c35b47d\n",
      "DofM                                                         17\n",
      "Name: 2014-09-17 23:40:31, dtype: object\n",
      "URL                                          /courses/158/files\n",
      "User Agent    Mozilla/5.0 (Windows NT 6.3; WOW64; Trident/7....\n",
      "UUID                           ba04d29696bffb2e2a9a856761408bc2\n",
      "ClassID                        08acd1cae6c97712fc8dbe400c35b47d\n",
      "DofM                                                          7\n",
      "Name: 2014-11-07 19:05:03, dtype: object\n",
      "URL                                    /api/v1/courses/158/ping\n",
      "User Agent    Mozilla/5.0 (Windows NT 6.3; WOW64) AppleWebKi...\n",
      "UUID                           eaa2ed547c291798305355c0ae871aad\n",
      "ClassID                        08acd1cae6c97712fc8dbe400c35b47d\n",
      "DofM                                                          6\n",
      "Name: 2014-11-06 15:25:30, dtype: object\n",
      "URL           /api/v1/courses/158/pages/sketching-videos/rev...\n",
      "User Agent    Mozilla/5.0 (Windows NT 6.3; WOW64) AppleWebKi...\n",
      "UUID                           4fd510c0d850c83df49c5f83c5294779\n",
      "ClassID                        08acd1cae6c97712fc8dbe400c35b47d\n",
      "DofM                                                         10\n",
      "Name: 2014-09-10 00:51:24, dtype: object\n",
      "URL           /api/v1/courses/158/pages/me250-home-page/revi...\n",
      "User Agent    Mozilla/5.0 (Windows NT 6.1; WOW64) AppleWebKi...\n",
      "UUID                           c284716a8078261505a38338c960c2bb\n",
      "ClassID                        08acd1cae6c97712fc8dbe400c35b47d\n",
      "DofM                                                         19\n",
      "Name: 2014-10-19 22:43:07, dtype: object\n",
      "URL           /api/v1/courses/158/pages/sketching-videos/rev...\n",
      "User Agent    Mozilla/5.0 (Windows NT 6.1; WOW64) AppleWebKi...\n",
      "UUID                           cffff64404fb40ee57cbbad0f7fe9d98\n",
      "ClassID                        08acd1cae6c97712fc8dbe400c35b47d\n",
      "DofM                                                         12\n",
      "Name: 2014-09-12 02:53:13, dtype: object\n",
      "URL           /api/v1/courses/158/pages/me250-home-page/revi...\n",
      "User Agent    Mozilla/5.0 (Windows NT 6.3; WOW64) AppleWebKi...\n",
      "UUID                           dc2944671882a581fa69ff1efceedca9\n",
      "ClassID                        08acd1cae6c97712fc8dbe400c35b47d\n",
      "DofM                                                         21\n",
      "Name: 2014-10-21 17:09:39, dtype: object\n",
      "URL           /api/v1/courses/158/pages/sketching-videos/rev...\n",
      "User Agent    Mozilla/5.0 (Macintosh; Intel Mac OS X 10_9_5)...\n",
      "UUID                           9a03e6f591a5e1308ced56cad4e94b67\n",
      "ClassID                        08acd1cae6c97712fc8dbe400c35b47d\n",
      "DofM                                                          1\n",
      "Name: 2014-11-01 22:03:13, dtype: object\n",
      "URL           /api/v1/courses/158/pages/me250-home-page/revi...\n",
      "User Agent    Mozilla/5.0 (Macintosh; Intel Mac OS X 10_9_5)...\n",
      "UUID                           575c25c659411b68e82780dd4c986bdf\n",
      "ClassID                        08acd1cae6c97712fc8dbe400c35b47d\n",
      "DofM                                                         14\n",
      "Name: 2014-12-14 00:16:23, dtype: object\n",
      "URL           /api/v1/courses/158/pages/me250-home-page/revi...\n",
      "User Agent    Mozilla/5.0 (Macintosh; Intel Mac OS X 10.9; r...\n",
      "UUID                           12642760704c9ebddf2fcf46d62e9e56\n",
      "ClassID                        08acd1cae6c97712fc8dbe400c35b47d\n",
      "DofM                                                          3\n",
      "Name: 2014-09-03 02:12:44, dtype: object\n",
      "URL           /api/v1/courses/158/pages/me250-home-page/revi...\n",
      "User Agent    Mozilla/5.0 (Windows NT 6.1; WOW64) AppleWebKi...\n",
      "UUID                           7bbd56f49c7df8253ead53ce2060c9e4\n",
      "ClassID                        08acd1cae6c97712fc8dbe400c35b47d\n",
      "DofM                                                         23\n",
      "Name: 2014-10-23 21:36:55, dtype: object\n",
      "URL           /api/v1/courses/158/pages/me250-home-page/revi...\n",
      "User Agent    Mozilla/5.0 (Macintosh; Intel Mac OS X 10_8_5)...\n",
      "UUID                           4ff9f4a5fb510b75d615ba2e70560541\n",
      "ClassID                        08acd1cae6c97712fc8dbe400c35b47d\n",
      "DofM                                                         18\n",
      "Name: 2014-11-18 01:24:34, dtype: object\n",
      "URL           /api/v1/courses/158/pages/me250-home-page/revi...\n",
      "User Agent    Mozilla/5.0 (Macintosh; Intel Mac OS X 10_8_5)...\n",
      "UUID                           e4bed69c745b7aa9cf54b1429bcfc24b\n",
      "ClassID                        08acd1cae6c97712fc8dbe400c35b47d\n",
      "DofM                                                         17\n",
      "Name: 2014-09-17 21:23:08, dtype: object\n",
      "URL           /api/v1/courses/158/pages/sketching-videos/rev...\n",
      "User Agent    Mozilla/5.0 (Windows NT 6.1; WOW64) AppleWebKi...\n",
      "UUID                           de56dce3e4eff6daca227429f05591f9\n",
      "ClassID                        08acd1cae6c97712fc8dbe400c35b47d\n",
      "DofM                                                          3\n",
      "Name: 2014-11-03 18:12:33, dtype: object\n",
      "URL           /api/v1/courses/158/pages/me250-home-page/revi...\n",
      "User Agent    Mozilla/5.0 (Macintosh; Intel Mac OS X 10_10_0...\n",
      "UUID                           fb7f98e6f225545d69095d6e7eb27dc0\n",
      "ClassID                        08acd1cae6c97712fc8dbe400c35b47d\n",
      "DofM                                                         29\n",
      "Name: 2014-10-29 12:12:35, dtype: object\n",
      "URL           /api/v1/courses/158/pages/me250-home-page/revi...\n",
      "User Agent    Mozilla/5.0 (Windows NT 6.1; WOW64) AppleWebKi...\n",
      "UUID                           95618e3d5a5616af4500b05945634c11\n",
      "ClassID                        08acd1cae6c97712fc8dbe400c35b47d\n",
      "DofM                                                         12\n",
      "Name: 2014-09-12 15:26:43, dtype: object\n",
      "URL                               /courses/158/assignments/1226\n",
      "User Agent    Mozilla/5.0 (iPad; CPU OS 8_1 like Mac OS X) A...\n",
      "UUID                           9480212d04f599cdf117f6a6eb39bdd7\n",
      "ClassID                        08acd1cae6c97712fc8dbe400c35b47d\n",
      "DofM                                                         11\n",
      "Name: 2014-11-11 14:25:57, dtype: object\n",
      "URL           /api/v1/courses/158/pages/me250-home-page/revi...\n",
      "User Agent    Mozilla/5.0 (Windows NT 6.3; WOW64; Trident/7....\n",
      "UUID                           0368a644330ccdbb5f4541a1137691ff\n",
      "ClassID                        08acd1cae6c97712fc8dbe400c35b47d\n",
      "DofM                                                         15\n",
      "Name: 2014-10-15 02:04:56, dtype: object\n",
      "URL           /api/v1/courses/158/students/submissions?per_p...\n",
      "User Agent    Mozilla/5.0 (Windows NT 6.3; WOW64) AppleWebKi...\n",
      "UUID                           a656fb4acad03014817e11879eb1b9f5\n",
      "ClassID                        08acd1cae6c97712fc8dbe400c35b47d\n",
      "DofM                                                         28\n",
      "Name: 2014-10-28 03:27:50, dtype: object\n",
      "URL           /api/v1/courses/158/pages/sketching-videos/rev...\n",
      "User Agent    Mozilla/5.0 (Windows NT 6.1; WOW64) AppleWebKi...\n",
      "UUID                           771b08095a5000426de36edf2af4329e\n",
      "ClassID                        08acd1cae6c97712fc8dbe400c35b47d\n",
      "DofM                                                         24\n",
      "Name: 2014-09-24 06:10:17, dtype: object\n",
      "URL           /api/v1/courses/158/pages/me250-home-page/revi...\n",
      "User Agent    Mozilla/5.0 (Macintosh; Intel Mac OS X 10_10_1...\n",
      "UUID                           73f74ea519f5cbd7b1ecfe88ec60ba87\n",
      "ClassID                        08acd1cae6c97712fc8dbe400c35b47d\n",
      "DofM                                                          8\n",
      "Name: 2014-12-08 03:08:20, dtype: object\n",
      "URL           /api/v1/courses/158/pages/me250-home-page/revi...\n",
      "User Agent    Mozilla/5.0 (Windows NT 6.1; WOW64; rv:32.0) G...\n",
      "UUID                           8db21f3bb5d7126c837a03357af79ddd\n",
      "ClassID                        08acd1cae6c97712fc8dbe400c35b47d\n",
      "DofM                                                         21\n",
      "Name: 2014-10-21 22:43:07, dtype: object\n",
      "URL                                               /courses/158/\n",
      "User Agent    Mozilla/5.0 (Macintosh; Intel Mac OS X 10_8_5)...\n",
      "UUID                           3fc7c824cc53deadb8a88f15f447988b\n",
      "ClassID                        08acd1cae6c97712fc8dbe400c35b47d\n",
      "DofM                                                         22\n",
      "Name: 2014-10-22 00:14:15, dtype: object\n",
      "URL           /api/v1/courses/158/pages/me250-home-page/revi...\n",
      "User Agent    Mozilla/5.0 (Windows NT 6.1; WOW64) AppleWebKi...\n",
      "UUID                           c284716a8078261505a38338c960c2bb\n",
      "ClassID                        08acd1cae6c97712fc8dbe400c35b47d\n",
      "DofM                                                          8\n",
      "Name: 2014-10-08 02:29:53, dtype: object\n",
      "URL           /api/v1/courses/158/pages/me250-home-page/revi...\n",
      "User Agent    Mozilla/5.0 (Windows NT 6.1) AppleWebKit/537.3...\n",
      "UUID                           23086034542c094c805b27462ac051b0\n",
      "ClassID                        08acd1cae6c97712fc8dbe400c35b47d\n",
      "DofM                                                         10\n",
      "Name: 2014-11-10 00:29:57, dtype: object\n",
      "URL           /api/v1/courses/158/pages/me250-home-page/revi...\n",
      "User Agent    Mozilla/5.0 (Windows NT 6.1; WOW64) AppleWebKi...\n",
      "UUID                           a656fb4acad03014817e11879eb1b9f5\n",
      "ClassID                        08acd1cae6c97712fc8dbe400c35b47d\n",
      "DofM                                                          2\n",
      "Name: 2014-09-02 20:06:24, dtype: object\n",
      "URL           /api/v1/courses/158/pages/me250-home-page/revi...\n",
      "User Agent    Mozilla/5.0 (Windows NT 6.1; WOW64) AppleWebKi...\n",
      "UUID                           d85bd79aba765954f4955c68990331f0\n",
      "ClassID                        08acd1cae6c97712fc8dbe400c35b47d\n",
      "DofM                                                         25\n",
      "Name: 2014-11-25 04:36:06, dtype: object\n",
      "URL           /api/v1/courses/158/pages/sketching-videos/rev...\n",
      "User Agent    Mozilla/5.0 (Windows NT 6.3; WOW64) AppleWebKi...\n",
      "UUID                           05624fd3c610dee188696b7ea8c2e228\n",
      "ClassID                        08acd1cae6c97712fc8dbe400c35b47d\n",
      "DofM                                                         17\n",
      "Name: 2014-09-17 20:29:02, dtype: object\n",
      "URL           /api/v1/courses/158/pages/me250-home-page/revi...\n",
      "User Agent    Mozilla/5.0 (Windows NT 6.3; WOW64; Trident/7....\n",
      "UUID                           0368a644330ccdbb5f4541a1137691ff\n",
      "ClassID                        08acd1cae6c97712fc8dbe400c35b47d\n",
      "DofM                                                          3\n",
      "Name: 2014-11-03 03:59:11, dtype: object\n",
      "URL           /api/v1/courses/158/pages/me250-home-page/revi...\n",
      "User Agent    Mozilla/5.0 (Macintosh; Intel Mac OS X 10_10_0...\n",
      "UUID                           fb7f98e6f225545d69095d6e7eb27dc0\n",
      "ClassID                        08acd1cae6c97712fc8dbe400c35b47d\n",
      "DofM                                                          7\n",
      "Name: 2014-09-07 14:38:55, dtype: object\n",
      "URL             /api/v1/courses/158/outcome_groups/133/outcomes\n",
      "User Agent    Mozilla/5.0 (Windows NT 6.3; WOW64) AppleWebKi...\n",
      "UUID                           be1521509a8f9e79888e36bb11728866\n",
      "ClassID                        08acd1cae6c97712fc8dbe400c35b47d\n",
      "DofM                                                          8\n",
      "Name: 2014-10-08 21:18:07, dtype: object\n",
      "URL                    /courses/158/files/13972/download?wrap=1\n",
      "User Agent    Mozilla/5.0 (Windows NT 6.1; WOW64) AppleWebKi...\n",
      "UUID                           4f742667942b7e762f32f7a0d5e4717a\n",
      "ClassID                        08acd1cae6c97712fc8dbe400c35b47d\n",
      "DofM                                                          9\n",
      "Name: 2014-11-09 06:10:54, dtype: object\n",
      "URL                     /courses/158/files/1789/download?wrap=1\n",
      "User Agent    Mozilla/5.0 (Windows NT 6.1) AppleWebKit/537.3...\n",
      "UUID                           7586166acbed9624681caef865f47a21\n",
      "ClassID                        08acd1cae6c97712fc8dbe400c35b47d\n",
      "DofM                                                         28\n",
      "Name: 2014-10-28 01:15:56, dtype: object\n",
      "URL           /api/v1/courses/158/pages/sketching-videos/rev...\n",
      "User Agent    Mozilla/5.0 (Windows NT 6.3; WOW64) AppleWebKi...\n",
      "UUID                           eaa2ed547c291798305355c0ae871aad\n",
      "ClassID                        08acd1cae6c97712fc8dbe400c35b47d\n",
      "DofM                                                         17\n",
      "Name: 2014-09-17 15:03:47, dtype: object\n",
      "URL           /api/v1/courses/158/pages/me250-home-page/revi...\n",
      "User Agent    Mozilla/5.0 (Windows NT 6.1; WOW64) AppleWebKi...\n",
      "UUID                           230f7650364d1a3ab53f2e4a39f86f19\n",
      "ClassID                        08acd1cae6c97712fc8dbe400c35b47d\n",
      "DofM                                                         12\n",
      "Name: 2014-11-12 05:52:18, dtype: object\n",
      "URL           /api/v1/courses/158/pages/me250-home-page/revi...\n",
      "User Agent    Mozilla/5.0 (Windows NT 6.1; WOW64) AppleWebKi...\n",
      "UUID                           3caa1f1f447ff4aa3a96ca4609817791\n",
      "ClassID                        08acd1cae6c97712fc8dbe400c35b47d\n",
      "DofM                                                          7\n",
      "Name: 2014-09-07 22:26:23, dtype: object\n",
      "URL           /api/v1/courses/158/pages/sketching-videos/rev...\n",
      "User Agent    Mozilla/5.0 (Windows NT 6.3; WOW64) AppleWebKi...\n",
      "UUID                           a656fb4acad03014817e11879eb1b9f5\n",
      "ClassID                        08acd1cae6c97712fc8dbe400c35b47d\n",
      "DofM                                                         16\n",
      "Name: 2014-09-16 23:04:31, dtype: object\n",
      "URL                                          /courses/158/files\n",
      "User Agent    Mozilla/5.0 (Windows NT 6.1; WOW64) AppleWebKi...\n",
      "UUID                           121084293848d7881b039f27430010fe\n",
      "ClassID                        08acd1cae6c97712fc8dbe400c35b47d\n",
      "DofM                                                         16\n",
      "Name: 2014-11-16 01:01:22, dtype: object\n",
      "URL                                    /api/v1/courses/158/ping\n",
      "User Agent    Mozilla/5.0 (Windows NT 6.1; WOW64) AppleWebKi...\n",
      "UUID                           e7f14e4b617af4808b200124446690f7\n",
      "ClassID                        08acd1cae6c97712fc8dbe400c35b47d\n",
      "DofM                                                         23\n",
      "Name: 2014-10-23 12:42:53, dtype: object\n",
      "URL           /api/v1/courses/158/pages/sketching-videos/rev...\n",
      "User Agent    Mozilla/5.0 (Windows NT 6.3; WOW64) AppleWebKi...\n",
      "UUID                           9cb2d8c0721f3a0e1aae14ecfc9bb990\n",
      "ClassID                        08acd1cae6c97712fc8dbe400c35b47d\n",
      "DofM                                                         24\n",
      "Name: 2014-09-24 07:05:48, dtype: object\n",
      "URL           /api/v1/courses/158/pages/me250-home-page/revi...\n",
      "User Agent    Mozilla/5.0 (Windows NT 6.3; WOW64; rv:32.0) G...\n",
      "UUID                           8db21f3bb5d7126c837a03357af79ddd\n",
      "ClassID                        08acd1cae6c97712fc8dbe400c35b47d\n",
      "DofM                                                         15\n",
      "Name: 2014-09-15 18:05:13, dtype: object\n",
      "URL           /api/v1/courses/158/pages/me250-home-page/revi...\n",
      "User Agent    Mozilla/5.0 (Macintosh; Intel Mac OS X 10_10_0...\n",
      "UUID                           fb7f98e6f225545d69095d6e7eb27dc0\n",
      "ClassID                        08acd1cae6c97712fc8dbe400c35b47d\n",
      "DofM                                                         22\n",
      "Name: 2014-10-22 06:54:32, dtype: object\n",
      "URL                                    /api/v1/courses/158/ping\n",
      "User Agent    Mozilla/5.0 (Macintosh; Intel Mac OS X 10_9_5)...\n",
      "UUID                           12ad21b9830dca741c9c401ddd1679f1\n",
      "ClassID                        08acd1cae6c97712fc8dbe400c35b47d\n",
      "DofM                                                         26\n",
      "Name: 2014-09-26 05:02:22, dtype: object\n",
      "URL           /api/v1/courses/158/pages/sketching-videos/rev...\n",
      "User Agent    Mozilla/5.0 (Macintosh; Intel Mac OS X 10_9_4)...\n",
      "UUID                           d516d777dbca461b3203c5b9e0b22857\n",
      "ClassID                        08acd1cae6c97712fc8dbe400c35b47d\n",
      "DofM                                                         22\n",
      "Name: 2014-09-22 00:21:48, dtype: object\n",
      "URL           /api/v1/courses/158/pages/me250-home-page/revi...\n",
      "User Agent    Mozilla/5.0 (Windows NT 6.3; WOW64) AppleWebKi...\n",
      "UUID                           95cd98cfce94eb63904fdc391d067d16\n",
      "ClassID                        08acd1cae6c97712fc8dbe400c35b47d\n",
      "DofM                                                         20\n",
      "Name: 2014-11-20 02:44:24, dtype: object\n",
      "URL           /courses/158/files.json?page_view_id=4d4077c0-...\n",
      "User Agent    Mozilla/5.0 (Windows NT 6.1; WOW64) AppleWebKi...\n",
      "UUID                           93583c2cf47874be4aea0463a5552b61\n",
      "ClassID                        08acd1cae6c97712fc8dbe400c35b47d\n",
      "DofM                                                         16\n",
      "Name: 2014-09-16 23:30:06, dtype: object\n",
      "URL                                         /api/v1/courses/158\n",
      "User Agent    Mozilla/5.0 (compatible; MSIE 10.0; Windows NT...\n",
      "UUID                           c4b8f2204e4b587b59a7606e28f049b3\n",
      "ClassID                        08acd1cae6c97712fc8dbe400c35b47d\n",
      "DofM                                                          9\n",
      "Name: 2014-12-09 15:55:34, dtype: object\n",
      "URL           /api/v1/courses/158/pages/me250-home-page/revi...\n",
      "User Agent    Mozilla/5.0 (Macintosh; Intel Mac OS X 10_9_4)...\n",
      "UUID                           401ec56db32e0998805ddeaa3e01d970\n",
      "ClassID                        08acd1cae6c97712fc8dbe400c35b47d\n",
      "DofM                                                         19\n",
      "Name: 2014-09-19 01:15:25, dtype: object\n",
      "URL           /api/v1/courses/158/pages/me250-home-page/revi...\n",
      "User Agent    Mozilla/5.0 (Macintosh; Intel Mac OS X 10_7_5)...\n",
      "UUID                           9480212d04f599cdf117f6a6eb39bdd7\n",
      "ClassID                        08acd1cae6c97712fc8dbe400c35b47d\n",
      "DofM                                                          3\n",
      "Name: 2014-11-03 02:27:34, dtype: object\n",
      "URL                    /courses/158/files/11831/download?wrap=1\n",
      "User Agent    Mozilla/5.0 (Macintosh; Intel Mac OS X 10_6_8)...\n",
      "UUID                           a04c43bdec74d649bd98f0377a6ebf15\n",
      "ClassID                        08acd1cae6c97712fc8dbe400c35b47d\n",
      "DofM                                                          9\n",
      "Name: 2014-10-09 12:43:40, dtype: object\n",
      "URL           /api/v1/courses/158/pages/me250-home-page/revi...\n",
      "User Agent    Mozilla/5.0 (Windows NT 6.1) AppleWebKit/537.3...\n",
      "UUID                           5e958d1919dd7753635406851709fbff\n",
      "ClassID                        08acd1cae6c97712fc8dbe400c35b47d\n",
      "DofM                                                          5\n",
      "Name: 2014-10-05 22:24:43, dtype: object\n",
      "URL           /api/v1/courses/158/pages/sketching-videos/rev...\n",
      "User Agent    Mozilla/5.0 (Windows NT 6.3; WOW64) AppleWebKi...\n",
      "UUID                           1b48d65ef27588bfd206be7a32a9cbbd\n",
      "ClassID                        08acd1cae6c97712fc8dbe400c35b47d\n",
      "DofM                                                          3\n",
      "Name: 2014-11-03 13:20:05, dtype: object\n",
      "URL           /api/v1/courses/158/pages/me250-home-page/revi...\n",
      "User Agent    Mozilla/5.0 (Windows NT 6.1; WOW64) AppleWebKi...\n",
      "UUID                           4ba5ec3a67358cdaed3d913a69916ab0\n",
      "ClassID                        08acd1cae6c97712fc8dbe400c35b47d\n",
      "DofM                                                         20\n",
      "Name: 2014-10-20 13:32:29, dtype: object\n",
      "URL           /api/v1/courses/158/pages/me250-home-page/revi...\n",
      "User Agent    Mozilla/5.0 (Windows NT 6.1; WOW64) AppleWebKi...\n",
      "UUID                           4f742667942b7e762f32f7a0d5e4717a\n",
      "ClassID                        08acd1cae6c97712fc8dbe400c35b47d\n",
      "DofM                                                         15\n",
      "Name: 2014-10-15 15:37:39, dtype: object\n",
      "URL           /api/v1/courses/158/pages/me250-home-page/revi...\n",
      "User Agent    Mozilla/5.0 (Windows NT 6.3; WOW64) AppleWebKi...\n",
      "UUID                           9cb2d8c0721f3a0e1aae14ecfc9bb990\n",
      "ClassID                        08acd1cae6c97712fc8dbe400c35b47d\n",
      "DofM                                                         12\n",
      "Name: 2014-09-12 19:52:55, dtype: object\n",
      "URL            /api/v1/courses/158/outcome_groups/133/subgroups\n",
      "User Agent    Mozilla/5.0 (Windows NT 6.3; WOW64; rv:33.0) G...\n",
      "UUID                           8db21f3bb5d7126c837a03357af79ddd\n",
      "ClassID                        08acd1cae6c97712fc8dbe400c35b47d\n",
      "DofM                                                         19\n",
      "Name: 2014-11-19 17:53:17, dtype: object\n",
      "URL           /api/v1/courses/158/pages/sketching-videos/rev...\n",
      "User Agent    Mozilla/5.0 (Windows NT 6.3; WOW64) AppleWebKi...\n",
      "UUID                           dc2944671882a581fa69ff1efceedca9\n",
      "ClassID                        08acd1cae6c97712fc8dbe400c35b47d\n",
      "DofM                                                         16\n",
      "Name: 2014-09-16 23:26:01, dtype: object"
     ]
    }
   ],
   "source": [
    "df_cluster1 = pd.DataFrame(columns=('URL', 'User Agent', 'UUID', 'ClassID'))\n",
    "for member in cluster1:\n",
    "    print(df_reduced.ix[member])\n",
    "    df_cluster1.append(df_reduced.ix[member])\n",
    "df_cluster1"
   ]
  },
  {
   "cell_type": "code",
   "execution_count": 326,
   "metadata": {
    "collapsed": false
   },
   "outputs": [
    {
     "data": {
      "text/html": [
       "<div>\n",
       "<table border=\"1\" class=\"dataframe\">\n",
       "  <thead>\n",
       "    <tr style=\"text-align: right;\">\n",
       "      <th></th>\n",
       "      <th>URL</th>\n",
       "      <th>User Agent</th>\n",
       "      <th>UUID</th>\n",
       "      <th>ClassID</th>\n",
       "    </tr>\n",
       "  </thead>\n",
       "  <tbody>\n",
       "  </tbody>\n",
       "</table>\n",
       "</div>"
      ],
      "text/plain": [
       "Empty DataFrame\n",
       "Columns: [URL, User Agent, UUID, ClassID]\n",
       "Index: []"
      ]
     },
     "execution_count": 326,
     "metadata": {},
     "output_type": "execute_result"
    }
   ],
   "source": [
    "df_cluster1"
   ]
  },
  {
   "cell_type": "code",
   "execution_count": null,
   "metadata": {
    "collapsed": true
   },
   "outputs": [],
   "source": []
  },
  {
   "cell_type": "code",
   "execution_count": null,
   "metadata": {
    "collapsed": true
   },
   "outputs": [],
   "source": []
  }
 ],
 "metadata": {
  "kernelspec": {
   "display_name": "Python 3",
   "language": "python",
   "name": "python3"
  },
  "language_info": {
   "codemirror_mode": {
    "name": "ipython",
    "version": 3
   },
   "file_extension": ".py",
   "mimetype": "text/x-python",
   "name": "python",
   "nbconvert_exporter": "python",
   "pygments_lexer": "ipython3",
   "version": "3.5.1"
  }
 },
 "nbformat": 4,
 "nbformat_minor": 0
}
