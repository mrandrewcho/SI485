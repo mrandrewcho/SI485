{
 "cells": [
  {
   "cell_type": "code",
   "execution_count": 1,
   "metadata": {
    "collapsed": true
   },
   "outputs": [],
   "source": [
    "import pandas as pd\n",
    "import re\n",
    "import seaborn as sns\n",
    "import matplotlib.pyplot as plt\n",
    "import numpy as np\n",
    "import scipy as sp\n",
    "import scipy.spatial.distance as spd\n",
    "import scipy.cluster.hierarchy as sph\n",
    "import sklearn as sk\n",
    "import sklearn.metrics as skm\n",
    "import sklearn.cluster as skc\n",
    "import sklearn.decomposition as skd\n",
    "import sklearn.mixture as skmix\n",
    "%matplotlib inline"
   ]
  },
  {
   "cell_type": "code",
   "execution_count": 2,
   "metadata": {
    "collapsed": true
   },
   "outputs": [],
   "source": [
    "df = pd.read_csv('requests_export000.tsv', delimiter = '\\t')"
   ]
  },
  {
   "cell_type": "code",
   "execution_count": 3,
   "metadata": {
    "collapsed": false
   },
   "outputs": [
    {
     "name": "stdout",
     "output_type": "stream",
     "text": [
      "15566499\n"
     ]
    }
   ],
   "source": [
    "df.head(5)\n",
    "print(len(df))"
   ]
  },
  {
   "cell_type": "code",
   "execution_count": 4,
   "metadata": {
    "collapsed": true
   },
   "outputs": [],
   "source": [
    "df = df.dropna()"
   ]
  },
  {
   "cell_type": "code",
   "execution_count": 5,
   "metadata": {
    "collapsed": false
   },
   "outputs": [],
   "source": [
    "df_reduced = df.sample(20000)"
   ]
  },
  {
   "cell_type": "code",
   "execution_count": 6,
   "metadata": {
    "collapsed": false
   },
   "outputs": [
    {
     "data": {
      "text/html": [
       "<div>\n",
       "<table border=\"1\" class=\"dataframe\">\n",
       "  <thead>\n",
       "    <tr style=\"text-align: right;\">\n",
       "      <th></th>\n",
       "      <th>/courses/166/files/569/preview</th>\n",
       "      <th>Mozilla/5.0 (Macintosh; Intel Mac OS X 10_9_4) AppleWebKit/537.78.2 (KHTML, like Gecko) Version/7.0.6 Safari/537.78.2</th>\n",
       "      <th>89346</th>\n",
       "      <th>013ee67cd2f2a42eb788b1061ed14155</th>\n",
       "      <th>2015-10-07 03:34:09</th>\n",
       "      <th>05d0532840f04928dfdd86296c51189d</th>\n",
       "    </tr>\n",
       "  </thead>\n",
       "  <tbody>\n",
       "    <tr>\n",
       "      <th>12313157</th>\n",
       "      <td>/courses/166/assignments/202/submissions/1790</td>\n",
       "      <td>Mozilla/5.0 (Macintosh; Intel Mac OS X 10_9_4)...</td>\n",
       "      <td>616383</td>\n",
       "      <td>0a0b89665c5a39665822b1e1618d3574</td>\n",
       "      <td>2014-11-03 04:22:18</td>\n",
       "      <td>05d0532840f04928dfdd86296c51189d</td>\n",
       "    </tr>\n",
       "    <tr>\n",
       "      <th>10830117</th>\n",
       "      <td>/api/v1/courses/166/pages/home-page/revisions/...</td>\n",
       "      <td>Mozilla/5.0 (Macintosh; Intel Mac OS X 10_9_5)...</td>\n",
       "      <td>125103</td>\n",
       "      <td>49140b64b42a8c1c34a09652841bec8c</td>\n",
       "      <td>2014-10-13 22:56:12</td>\n",
       "      <td>05d0532840f04928dfdd86296c51189d</td>\n",
       "    </tr>\n",
       "    <tr>\n",
       "      <th>11771584</th>\n",
       "      <td>/api/v1/courses/166/pages/home-page/revisions/...</td>\n",
       "      <td>Mozilla/5.0 (Windows NT 6.3; WOW64; Trident/7....</td>\n",
       "      <td>98732</td>\n",
       "      <td>6ca4cf4ef2bf78871c0c23bd1a558230</td>\n",
       "      <td>2014-10-26 18:02:50</td>\n",
       "      <td>05d0532840f04928dfdd86296c51189d</td>\n",
       "    </tr>\n",
       "    <tr>\n",
       "      <th>5363414</th>\n",
       "      <td>/api/v1/courses/166/pages/formula-card/revisio...</td>\n",
       "      <td>Mozilla/5.0 (Windows NT 6.1; WOW64) AppleWebKi...</td>\n",
       "      <td>115977</td>\n",
       "      <td>047cf99ee8e9632d9cb599456f18969c</td>\n",
       "      <td>2014-11-12 17:41:30</td>\n",
       "      <td>05d0532840f04928dfdd86296c51189d</td>\n",
       "    </tr>\n",
       "    <tr>\n",
       "      <th>513918</th>\n",
       "      <td>/api/v1/courses/166/pages/home-page/revisions/...</td>\n",
       "      <td>Mozilla/5.0 (Windows NT 6.1; WOW64) AppleWebKi...</td>\n",
       "      <td>252877</td>\n",
       "      <td>3fbce66959b779a43eb31581b917356e</td>\n",
       "      <td>2014-09-10 01:48:27</td>\n",
       "      <td>05d0532840f04928dfdd86296c51189d</td>\n",
       "    </tr>\n",
       "  </tbody>\n",
       "</table>\n",
       "</div>"
      ],
      "text/plain": [
       "                             /courses/166/files/569/preview  \\\n",
       "12313157      /courses/166/assignments/202/submissions/1790   \n",
       "10830117  /api/v1/courses/166/pages/home-page/revisions/...   \n",
       "11771584  /api/v1/courses/166/pages/home-page/revisions/...   \n",
       "5363414   /api/v1/courses/166/pages/formula-card/revisio...   \n",
       "513918    /api/v1/courses/166/pages/home-page/revisions/...   \n",
       "\n",
       "         Mozilla/5.0 (Macintosh; Intel Mac OS X 10_9_4) AppleWebKit/537.78.2 (KHTML, like Gecko) Version/7.0.6 Safari/537.78.2  \\\n",
       "12313157  Mozilla/5.0 (Macintosh; Intel Mac OS X 10_9_4)...                                                                      \n",
       "10830117  Mozilla/5.0 (Macintosh; Intel Mac OS X 10_9_5)...                                                                      \n",
       "11771584  Mozilla/5.0 (Windows NT 6.3; WOW64; Trident/7....                                                                      \n",
       "5363414   Mozilla/5.0 (Windows NT 6.1; WOW64) AppleWebKi...                                                                      \n",
       "513918    Mozilla/5.0 (Windows NT 6.1; WOW64) AppleWebKi...                                                                      \n",
       "\n",
       "           89346  013ee67cd2f2a42eb788b1061ed14155  2015-10-07 03:34:09  \\\n",
       "12313157  616383  0a0b89665c5a39665822b1e1618d3574  2014-11-03 04:22:18   \n",
       "10830117  125103  49140b64b42a8c1c34a09652841bec8c  2014-10-13 22:56:12   \n",
       "11771584   98732  6ca4cf4ef2bf78871c0c23bd1a558230  2014-10-26 18:02:50   \n",
       "5363414   115977  047cf99ee8e9632d9cb599456f18969c  2014-11-12 17:41:30   \n",
       "513918    252877  3fbce66959b779a43eb31581b917356e  2014-09-10 01:48:27   \n",
       "\n",
       "          05d0532840f04928dfdd86296c51189d  \n",
       "12313157  05d0532840f04928dfdd86296c51189d  \n",
       "10830117  05d0532840f04928dfdd86296c51189d  \n",
       "11771584  05d0532840f04928dfdd86296c51189d  \n",
       "5363414   05d0532840f04928dfdd86296c51189d  \n",
       "513918    05d0532840f04928dfdd86296c51189d  "
      ]
     },
     "execution_count": 6,
     "metadata": {},
     "output_type": "execute_result"
    }
   ],
   "source": [
    "df_reduced.head()"
   ]
  },
  {
   "cell_type": "code",
   "execution_count": 7,
   "metadata": {
    "collapsed": true
   },
   "outputs": [],
   "source": [
    "new_header = ['URL', 'User Agent', 'Unknown', 'UUID', 'TimeStamp', 'ClassID']\n",
    "df_reduced.columns = new_header"
   ]
  },
  {
   "cell_type": "code",
   "execution_count": 8,
   "metadata": {
    "collapsed": false
   },
   "outputs": [
    {
     "data": {
      "text/html": [
       "<div>\n",
       "<table border=\"1\" class=\"dataframe\">\n",
       "  <thead>\n",
       "    <tr style=\"text-align: right;\">\n",
       "      <th></th>\n",
       "      <th>URL</th>\n",
       "      <th>User Agent</th>\n",
       "      <th>Unknown</th>\n",
       "      <th>UUID</th>\n",
       "      <th>TimeStamp</th>\n",
       "      <th>ClassID</th>\n",
       "    </tr>\n",
       "  </thead>\n",
       "  <tbody>\n",
       "    <tr>\n",
       "      <th>12313157</th>\n",
       "      <td>/courses/166/assignments/202/submissions/1790</td>\n",
       "      <td>Mozilla/5.0 (Macintosh; Intel Mac OS X 10_9_4)...</td>\n",
       "      <td>616383</td>\n",
       "      <td>0a0b89665c5a39665822b1e1618d3574</td>\n",
       "      <td>2014-11-03 04:22:18</td>\n",
       "      <td>05d0532840f04928dfdd86296c51189d</td>\n",
       "    </tr>\n",
       "    <tr>\n",
       "      <th>10830117</th>\n",
       "      <td>/api/v1/courses/166/pages/home-page/revisions/...</td>\n",
       "      <td>Mozilla/5.0 (Macintosh; Intel Mac OS X 10_9_5)...</td>\n",
       "      <td>125103</td>\n",
       "      <td>49140b64b42a8c1c34a09652841bec8c</td>\n",
       "      <td>2014-10-13 22:56:12</td>\n",
       "      <td>05d0532840f04928dfdd86296c51189d</td>\n",
       "    </tr>\n",
       "    <tr>\n",
       "      <th>11771584</th>\n",
       "      <td>/api/v1/courses/166/pages/home-page/revisions/...</td>\n",
       "      <td>Mozilla/5.0 (Windows NT 6.3; WOW64; Trident/7....</td>\n",
       "      <td>98732</td>\n",
       "      <td>6ca4cf4ef2bf78871c0c23bd1a558230</td>\n",
       "      <td>2014-10-26 18:02:50</td>\n",
       "      <td>05d0532840f04928dfdd86296c51189d</td>\n",
       "    </tr>\n",
       "    <tr>\n",
       "      <th>5363414</th>\n",
       "      <td>/api/v1/courses/166/pages/formula-card/revisio...</td>\n",
       "      <td>Mozilla/5.0 (Windows NT 6.1; WOW64) AppleWebKi...</td>\n",
       "      <td>115977</td>\n",
       "      <td>047cf99ee8e9632d9cb599456f18969c</td>\n",
       "      <td>2014-11-12 17:41:30</td>\n",
       "      <td>05d0532840f04928dfdd86296c51189d</td>\n",
       "    </tr>\n",
       "    <tr>\n",
       "      <th>513918</th>\n",
       "      <td>/api/v1/courses/166/pages/home-page/revisions/...</td>\n",
       "      <td>Mozilla/5.0 (Windows NT 6.1; WOW64) AppleWebKi...</td>\n",
       "      <td>252877</td>\n",
       "      <td>3fbce66959b779a43eb31581b917356e</td>\n",
       "      <td>2014-09-10 01:48:27</td>\n",
       "      <td>05d0532840f04928dfdd86296c51189d</td>\n",
       "    </tr>\n",
       "  </tbody>\n",
       "</table>\n",
       "</div>"
      ],
      "text/plain": [
       "                                                        URL  \\\n",
       "12313157      /courses/166/assignments/202/submissions/1790   \n",
       "10830117  /api/v1/courses/166/pages/home-page/revisions/...   \n",
       "11771584  /api/v1/courses/166/pages/home-page/revisions/...   \n",
       "5363414   /api/v1/courses/166/pages/formula-card/revisio...   \n",
       "513918    /api/v1/courses/166/pages/home-page/revisions/...   \n",
       "\n",
       "                                                 User Agent  Unknown  \\\n",
       "12313157  Mozilla/5.0 (Macintosh; Intel Mac OS X 10_9_4)...   616383   \n",
       "10830117  Mozilla/5.0 (Macintosh; Intel Mac OS X 10_9_5)...   125103   \n",
       "11771584  Mozilla/5.0 (Windows NT 6.3; WOW64; Trident/7....    98732   \n",
       "5363414   Mozilla/5.0 (Windows NT 6.1; WOW64) AppleWebKi...   115977   \n",
       "513918    Mozilla/5.0 (Windows NT 6.1; WOW64) AppleWebKi...   252877   \n",
       "\n",
       "                                      UUID            TimeStamp  \\\n",
       "12313157  0a0b89665c5a39665822b1e1618d3574  2014-11-03 04:22:18   \n",
       "10830117  49140b64b42a8c1c34a09652841bec8c  2014-10-13 22:56:12   \n",
       "11771584  6ca4cf4ef2bf78871c0c23bd1a558230  2014-10-26 18:02:50   \n",
       "5363414   047cf99ee8e9632d9cb599456f18969c  2014-11-12 17:41:30   \n",
       "513918    3fbce66959b779a43eb31581b917356e  2014-09-10 01:48:27   \n",
       "\n",
       "                                   ClassID  \n",
       "12313157  05d0532840f04928dfdd86296c51189d  \n",
       "10830117  05d0532840f04928dfdd86296c51189d  \n",
       "11771584  05d0532840f04928dfdd86296c51189d  \n",
       "5363414   05d0532840f04928dfdd86296c51189d  \n",
       "513918    05d0532840f04928dfdd86296c51189d  "
      ]
     },
     "execution_count": 8,
     "metadata": {},
     "output_type": "execute_result"
    }
   ],
   "source": [
    "df_reduced.head()"
   ]
  },
  {
   "cell_type": "code",
   "execution_count": 9,
   "metadata": {
    "collapsed": true
   },
   "outputs": [],
   "source": [
    "del df_reduced['Unknown']"
   ]
  },
  {
   "cell_type": "code",
   "execution_count": 10,
   "metadata": {
    "collapsed": false
   },
   "outputs": [
    {
     "data": {
      "text/html": [
       "<div>\n",
       "<table border=\"1\" class=\"dataframe\">\n",
       "  <thead>\n",
       "    <tr style=\"text-align: right;\">\n",
       "      <th></th>\n",
       "      <th>URL</th>\n",
       "      <th>User Agent</th>\n",
       "      <th>UUID</th>\n",
       "      <th>TimeStamp</th>\n",
       "      <th>ClassID</th>\n",
       "    </tr>\n",
       "  </thead>\n",
       "  <tbody>\n",
       "    <tr>\n",
       "      <th>12313157</th>\n",
       "      <td>/courses/166/assignments/202/submissions/1790</td>\n",
       "      <td>Mozilla/5.0 (Macintosh; Intel Mac OS X 10_9_4)...</td>\n",
       "      <td>0a0b89665c5a39665822b1e1618d3574</td>\n",
       "      <td>2014-11-03 04:22:18</td>\n",
       "      <td>05d0532840f04928dfdd86296c51189d</td>\n",
       "    </tr>\n",
       "    <tr>\n",
       "      <th>10830117</th>\n",
       "      <td>/api/v1/courses/166/pages/home-page/revisions/...</td>\n",
       "      <td>Mozilla/5.0 (Macintosh; Intel Mac OS X 10_9_5)...</td>\n",
       "      <td>49140b64b42a8c1c34a09652841bec8c</td>\n",
       "      <td>2014-10-13 22:56:12</td>\n",
       "      <td>05d0532840f04928dfdd86296c51189d</td>\n",
       "    </tr>\n",
       "    <tr>\n",
       "      <th>11771584</th>\n",
       "      <td>/api/v1/courses/166/pages/home-page/revisions/...</td>\n",
       "      <td>Mozilla/5.0 (Windows NT 6.3; WOW64; Trident/7....</td>\n",
       "      <td>6ca4cf4ef2bf78871c0c23bd1a558230</td>\n",
       "      <td>2014-10-26 18:02:50</td>\n",
       "      <td>05d0532840f04928dfdd86296c51189d</td>\n",
       "    </tr>\n",
       "    <tr>\n",
       "      <th>5363414</th>\n",
       "      <td>/api/v1/courses/166/pages/formula-card/revisio...</td>\n",
       "      <td>Mozilla/5.0 (Windows NT 6.1; WOW64) AppleWebKi...</td>\n",
       "      <td>047cf99ee8e9632d9cb599456f18969c</td>\n",
       "      <td>2014-11-12 17:41:30</td>\n",
       "      <td>05d0532840f04928dfdd86296c51189d</td>\n",
       "    </tr>\n",
       "    <tr>\n",
       "      <th>513918</th>\n",
       "      <td>/api/v1/courses/166/pages/home-page/revisions/...</td>\n",
       "      <td>Mozilla/5.0 (Windows NT 6.1; WOW64) AppleWebKi...</td>\n",
       "      <td>3fbce66959b779a43eb31581b917356e</td>\n",
       "      <td>2014-09-10 01:48:27</td>\n",
       "      <td>05d0532840f04928dfdd86296c51189d</td>\n",
       "    </tr>\n",
       "  </tbody>\n",
       "</table>\n",
       "</div>"
      ],
      "text/plain": [
       "                                                        URL  \\\n",
       "12313157      /courses/166/assignments/202/submissions/1790   \n",
       "10830117  /api/v1/courses/166/pages/home-page/revisions/...   \n",
       "11771584  /api/v1/courses/166/pages/home-page/revisions/...   \n",
       "5363414   /api/v1/courses/166/pages/formula-card/revisio...   \n",
       "513918    /api/v1/courses/166/pages/home-page/revisions/...   \n",
       "\n",
       "                                                 User Agent  \\\n",
       "12313157  Mozilla/5.0 (Macintosh; Intel Mac OS X 10_9_4)...   \n",
       "10830117  Mozilla/5.0 (Macintosh; Intel Mac OS X 10_9_5)...   \n",
       "11771584  Mozilla/5.0 (Windows NT 6.3; WOW64; Trident/7....   \n",
       "5363414   Mozilla/5.0 (Windows NT 6.1; WOW64) AppleWebKi...   \n",
       "513918    Mozilla/5.0 (Windows NT 6.1; WOW64) AppleWebKi...   \n",
       "\n",
       "                                      UUID            TimeStamp  \\\n",
       "12313157  0a0b89665c5a39665822b1e1618d3574  2014-11-03 04:22:18   \n",
       "10830117  49140b64b42a8c1c34a09652841bec8c  2014-10-13 22:56:12   \n",
       "11771584  6ca4cf4ef2bf78871c0c23bd1a558230  2014-10-26 18:02:50   \n",
       "5363414   047cf99ee8e9632d9cb599456f18969c  2014-11-12 17:41:30   \n",
       "513918    3fbce66959b779a43eb31581b917356e  2014-09-10 01:48:27   \n",
       "\n",
       "                                   ClassID  \n",
       "12313157  05d0532840f04928dfdd86296c51189d  \n",
       "10830117  05d0532840f04928dfdd86296c51189d  \n",
       "11771584  05d0532840f04928dfdd86296c51189d  \n",
       "5363414   05d0532840f04928dfdd86296c51189d  \n",
       "513918    05d0532840f04928dfdd86296c51189d  "
      ]
     },
     "execution_count": 10,
     "metadata": {},
     "output_type": "execute_result"
    }
   ],
   "source": [
    "df_reduced.head()"
   ]
  },
  {
   "cell_type": "code",
   "execution_count": 11,
   "metadata": {
    "collapsed": false
   },
   "outputs": [
    {
     "data": {
      "text/plain": [
       "<matplotlib.axes._subplots.AxesSubplot at 0x173d823c8>"
      ]
     },
     "execution_count": 11,
     "metadata": {},
     "output_type": "execute_result"
    },
    {
     "data": {
      "image/png": "[encoded data removed]",
      "text/plain": [
       "<matplotlib.figure.Figure at 0x1739abbe0>"
      ]
     },
     "metadata": {},
     "output_type": "display_data"
    }
   ],
   "source": [
    "#####OVERALL Analysis\n",
    "df_pages = pd.DataFrame()\n",
    "df_pages['Views'] = df_reduced['URL'].value_counts()\n",
    "\n",
    "df_pages\n",
    "\n",
    "df_pageTypeCount = pd.DataFrame([[0,0,0,0,0,0,0,0,0,0,0,0,0,0]], columns = ['pages', 'ping', \n",
    "                                                       'preview', 'assignments',\n",
    "                                                       'files', 'module', 'announcements',\n",
    "                                                           'outcome_groups', 'discussion_topics', \n",
    "                                                           'enrollments', 'folders', 'quizzes',\n",
    "                                                                    'gradebook', 'students'])\n",
    "for index, row in df_pages.iterrows():\n",
    "    if index.find('pages') != -1:\n",
    "        df_pageTypeCount['pages'] += row.values[0]\n",
    "    elif index.find('ping') != -1:\n",
    "        df_pageTypeCount['ping'] += row.values[0]\n",
    "    elif index.find('preview') != -1:\n",
    "        df_pageTypeCount['preview'] += row.values[0]\n",
    "    elif index.find('assignments') != -1:\n",
    "        df_pageTypeCount['assignments'] += row.values[0]\n",
    "    elif index.find('files') != -1:\n",
    "        df_pageTypeCount['files'] += row.values[0]\n",
    "    elif index.find('module') != -1:\n",
    "        df_pageTypeCount['module'] += row.values[0]\n",
    "    elif index.find('announcements') != -1:\n",
    "        df_pageTypeCount['announcements'] += row.values[0]    \n",
    "    elif index.find('outcome_groups') != -1:\n",
    "        df_pageTypeCount['outcome_groups'] += row.values[0] \n",
    "    elif index.find('discussion_topics') != -1:\n",
    "        df_pageTypeCount['discussion_topics'] += row.values[0] \n",
    "    elif index.find('enrollments') != -1:\n",
    "        df_pageTypeCount['enrollments'] += row.values[0] \n",
    "    elif index.find('folders') != -1:\n",
    "        df_pageTypeCount['folders'] += row.values[0]    \n",
    "    elif index.find('quizzes') != -1:\n",
    "        df_pageTypeCount['quizzes'] += row.values[0] \n",
    "    elif index.find('gradebook') != -1:\n",
    "        df_pageTypeCount['gradebook'] += row.values[0] \n",
    "    elif index.find('students') != -1:\n",
    "        df_pageTypeCount['students'] += row.values[0] \n",
    "\n",
    "#only 953 results - this is the wrong way to do it; gotta make it scalable and automatically \n",
    "#create columns based on new pages\n",
    "df_pageTypeCount.plot(kind='bar')"
   ]
  },
  {
   "cell_type": "code",
   "execution_count": 12,
   "metadata": {
    "collapsed": false
   },
   "outputs": [
    {
     "data": {
      "text/html": [
       "<div>\n",
       "<table border=\"1\" class=\"dataframe\">\n",
       "  <thead>\n",
       "    <tr style=\"text-align: right;\">\n",
       "      <th></th>\n",
       "      <th>User Agent</th>\n",
       "      <th>UUID</th>\n",
       "      <th>TimeStamp</th>\n",
       "      <th>URL1</th>\n",
       "      <th>URL2</th>\n",
       "      <th>URL3</th>\n",
       "      <th>URL4</th>\n",
       "      <th>URL5</th>\n",
       "      <th>URL6</th>\n",
       "      <th>URL7</th>\n",
       "      <th>URL8</th>\n",
       "      <th>URL9</th>\n",
       "      <th>ClassID1</th>\n",
       "      <th>ClassID2</th>\n",
       "      <th>ClassID3</th>\n",
       "    </tr>\n",
       "  </thead>\n",
       "  <tbody>\n",
       "    <tr>\n",
       "      <th>12313157</th>\n",
       "      <td>Mozilla/5.0 (Macintosh; Intel Mac OS X 10_9_4)...</td>\n",
       "      <td>0a0b89665c5a39665822b1e1618d3574</td>\n",
       "      <td>2014-11-03 04:22:18</td>\n",
       "      <td>0</td>\n",
       "      <td>0</td>\n",
       "      <td>0</td>\n",
       "      <td>0</td>\n",
       "      <td>0</td>\n",
       "      <td>0</td>\n",
       "      <td>0</td>\n",
       "      <td>0</td>\n",
       "      <td>0</td>\n",
       "      <td>1</td>\n",
       "      <td>0</td>\n",
       "      <td>0</td>\n",
       "    </tr>\n",
       "    <tr>\n",
       "      <th>10830117</th>\n",
       "      <td>Mozilla/5.0 (Macintosh; Intel Mac OS X 10_9_5)...</td>\n",
       "      <td>49140b64b42a8c1c34a09652841bec8c</td>\n",
       "      <td>2014-10-13 22:56:12</td>\n",
       "      <td>0</td>\n",
       "      <td>0</td>\n",
       "      <td>0</td>\n",
       "      <td>0</td>\n",
       "      <td>0</td>\n",
       "      <td>0</td>\n",
       "      <td>0</td>\n",
       "      <td>0</td>\n",
       "      <td>0</td>\n",
       "      <td>1</td>\n",
       "      <td>0</td>\n",
       "      <td>0</td>\n",
       "    </tr>\n",
       "    <tr>\n",
       "      <th>11771584</th>\n",
       "      <td>Mozilla/5.0 (Windows NT 6.3; WOW64; Trident/7....</td>\n",
       "      <td>6ca4cf4ef2bf78871c0c23bd1a558230</td>\n",
       "      <td>2014-10-26 18:02:50</td>\n",
       "      <td>0</td>\n",
       "      <td>0</td>\n",
       "      <td>0</td>\n",
       "      <td>0</td>\n",
       "      <td>0</td>\n",
       "      <td>0</td>\n",
       "      <td>0</td>\n",
       "      <td>0</td>\n",
       "      <td>0</td>\n",
       "      <td>1</td>\n",
       "      <td>0</td>\n",
       "      <td>0</td>\n",
       "    </tr>\n",
       "    <tr>\n",
       "      <th>5363414</th>\n",
       "      <td>Mozilla/5.0 (Windows NT 6.1; WOW64) AppleWebKi...</td>\n",
       "      <td>047cf99ee8e9632d9cb599456f18969c</td>\n",
       "      <td>2014-11-12 17:41:30</td>\n",
       "      <td>0</td>\n",
       "      <td>0</td>\n",
       "      <td>0</td>\n",
       "      <td>0</td>\n",
       "      <td>0</td>\n",
       "      <td>0</td>\n",
       "      <td>0</td>\n",
       "      <td>0</td>\n",
       "      <td>0</td>\n",
       "      <td>1</td>\n",
       "      <td>0</td>\n",
       "      <td>0</td>\n",
       "    </tr>\n",
       "    <tr>\n",
       "      <th>513918</th>\n",
       "      <td>Mozilla/5.0 (Windows NT 6.1; WOW64) AppleWebKi...</td>\n",
       "      <td>3fbce66959b779a43eb31581b917356e</td>\n",
       "      <td>2014-09-10 01:48:27</td>\n",
       "      <td>0</td>\n",
       "      <td>0</td>\n",
       "      <td>0</td>\n",
       "      <td>0</td>\n",
       "      <td>0</td>\n",
       "      <td>0</td>\n",
       "      <td>0</td>\n",
       "      <td>0</td>\n",
       "      <td>0</td>\n",
       "      <td>1</td>\n",
       "      <td>0</td>\n",
       "      <td>0</td>\n",
       "    </tr>\n",
       "  </tbody>\n",
       "</table>\n",
       "</div>"
      ],
      "text/plain": [
       "                                                 User Agent  \\\n",
       "12313157  Mozilla/5.0 (Macintosh; Intel Mac OS X 10_9_4)...   \n",
       "10830117  Mozilla/5.0 (Macintosh; Intel Mac OS X 10_9_5)...   \n",
       "11771584  Mozilla/5.0 (Windows NT 6.3; WOW64; Trident/7....   \n",
       "5363414   Mozilla/5.0 (Windows NT 6.1; WOW64) AppleWebKi...   \n",
       "513918    Mozilla/5.0 (Windows NT 6.1; WOW64) AppleWebKi...   \n",
       "\n",
       "                                      UUID            TimeStamp  URL1  URL2  \\\n",
       "12313157  0a0b89665c5a39665822b1e1618d3574  2014-11-03 04:22:18     0     0   \n",
       "10830117  49140b64b42a8c1c34a09652841bec8c  2014-10-13 22:56:12     0     0   \n",
       "11771584  6ca4cf4ef2bf78871c0c23bd1a558230  2014-10-26 18:02:50     0     0   \n",
       "5363414   047cf99ee8e9632d9cb599456f18969c  2014-11-12 17:41:30     0     0   \n",
       "513918    3fbce66959b779a43eb31581b917356e  2014-09-10 01:48:27     0     0   \n",
       "\n",
       "          URL3  URL4  URL5  URL6  URL7  URL8  URL9  ClassID1  ClassID2  \\\n",
       "12313157     0     0     0     0     0     0     0         1         0   \n",
       "10830117     0     0     0     0     0     0     0         1         0   \n",
       "11771584     0     0     0     0     0     0     0         1         0   \n",
       "5363414      0     0     0     0     0     0     0         1         0   \n",
       "513918       0     0     0     0     0     0     0         1         0   \n",
       "\n",
       "          ClassID3  \n",
       "12313157         0  \n",
       "10830117         0  \n",
       "11771584         0  \n",
       "5363414          0  \n",
       "513918           0  "
      ]
     },
     "execution_count": 12,
     "metadata": {},
     "output_type": "execute_result"
    }
   ],
   "source": [
    "#cluster\n",
    "# the links below for URLs 1 thru 9 are the three most clicked links for each course, based on the sorting code that Connie did. \n",
    "\n",
    "dfnew = df_reduced\n",
    "\n",
    "dfnew['URL1'] = np.where(dfnew['URL']=='/api/v1/courses/166/ping', 1, 0)\n",
    "dfnew['URL2'] = np.where(dfnew['URL']=='/api/v1/courses/166/pages/virtual-sites/revisions/latest?summary=true', 1, 0)\n",
    "dfnew['URL3'] = np.where(dfnew['URL']=='/api/v1/courses/166/pages/dr-millers-lecture-003-recordings/revisions/latest?summary=true', 1, 0)\n",
    "\n",
    "dfnew['URL4'] = np.where(dfnew['URL']=='/api/v1/courses/158/pages/sketching-videos/revisions/latest?summary=true', 1, 0)\n",
    "dfnew['URL5'] = np.where(dfnew['URL']=='/api/v1/courses/158/ping', 1, 0)\n",
    "dfnew['URL6'] = np.where(dfnew['URL']=='/courses/158', 1, 0)\n",
    "\n",
    "dfnew['URL7'] = np.where(dfnew['URL']=='/api/v1/courses/164/pages/blogging/revisions/latest?summary=true', 1, 0)\n",
    "dfnew['URL8'] = np.where(dfnew['URL']=='/api/v1/courses/164/ping', 1, 0)\n",
    "dfnew['URL9'] = np.where(dfnew['URL']=='/courses/164/', 1, 0)\n",
    "\n",
    "\n",
    "dfnew['ClassID1'] = np.where(dfnew['ClassID']=='05d0532840f04928dfdd86296c51189d', 1, 0)\n",
    "dfnew['ClassID2'] = np.where(dfnew['ClassID']=='08acd1cae6c97712fc8dbe400c35b47d', 1, 0)\n",
    "dfnew['ClassID3'] = np.where(dfnew['ClassID']=='a6ff862f8df9f99bec63a4096890db10', 1, 0)\n",
    "\n",
    "dfnew = dfnew.drop('URL', 1)\n",
    "dfnew = dfnew.drop('ClassID', 1)\n",
    "dfnew.head() "
   ]
  },
  {
   "cell_type": "code",
   "execution_count": 13,
   "metadata": {
    "collapsed": false
   },
   "outputs": [
    {
     "data": {
      "text/html": [
       "<div>\n",
       "<table border=\"1\" class=\"dataframe\">\n",
       "  <thead>\n",
       "    <tr style=\"text-align: right;\">\n",
       "      <th></th>\n",
       "      <th>URL1</th>\n",
       "      <th>URL2</th>\n",
       "      <th>URL3</th>\n",
       "      <th>URL4</th>\n",
       "      <th>URL5</th>\n",
       "      <th>URL6</th>\n",
       "      <th>URL7</th>\n",
       "      <th>URL8</th>\n",
       "      <th>URL9</th>\n",
       "      <th>ClassID1</th>\n",
       "      <th>ClassID2</th>\n",
       "      <th>ClassID3</th>\n",
       "    </tr>\n",
       "  </thead>\n",
       "  <tbody>\n",
       "    <tr>\n",
       "      <th>12313157</th>\n",
       "      <td>-0.231695</td>\n",
       "      <td>-0.163862</td>\n",
       "      <td>-0.159631</td>\n",
       "      <td>-0.085158</td>\n",
       "      <td>-0.064553</td>\n",
       "      <td>-0.0394</td>\n",
       "      <td>-0.089233</td>\n",
       "      <td>-0.075378</td>\n",
       "      <td>-0.01</td>\n",
       "      <td>0.397748</td>\n",
       "      <td>-0.2572</td>\n",
       "      <td>-0.283816</td>\n",
       "    </tr>\n",
       "    <tr>\n",
       "      <th>10830117</th>\n",
       "      <td>-0.231695</td>\n",
       "      <td>-0.163862</td>\n",
       "      <td>-0.159631</td>\n",
       "      <td>-0.085158</td>\n",
       "      <td>-0.064553</td>\n",
       "      <td>-0.0394</td>\n",
       "      <td>-0.089233</td>\n",
       "      <td>-0.075378</td>\n",
       "      <td>-0.01</td>\n",
       "      <td>0.397748</td>\n",
       "      <td>-0.2572</td>\n",
       "      <td>-0.283816</td>\n",
       "    </tr>\n",
       "    <tr>\n",
       "      <th>11771584</th>\n",
       "      <td>-0.231695</td>\n",
       "      <td>-0.163862</td>\n",
       "      <td>-0.159631</td>\n",
       "      <td>-0.085158</td>\n",
       "      <td>-0.064553</td>\n",
       "      <td>-0.0394</td>\n",
       "      <td>-0.089233</td>\n",
       "      <td>-0.075378</td>\n",
       "      <td>-0.01</td>\n",
       "      <td>0.397748</td>\n",
       "      <td>-0.2572</td>\n",
       "      <td>-0.283816</td>\n",
       "    </tr>\n",
       "    <tr>\n",
       "      <th>5363414</th>\n",
       "      <td>-0.231695</td>\n",
       "      <td>-0.163862</td>\n",
       "      <td>-0.159631</td>\n",
       "      <td>-0.085158</td>\n",
       "      <td>-0.064553</td>\n",
       "      <td>-0.0394</td>\n",
       "      <td>-0.089233</td>\n",
       "      <td>-0.075378</td>\n",
       "      <td>-0.01</td>\n",
       "      <td>0.397748</td>\n",
       "      <td>-0.2572</td>\n",
       "      <td>-0.283816</td>\n",
       "    </tr>\n",
       "    <tr>\n",
       "      <th>513918</th>\n",
       "      <td>-0.231695</td>\n",
       "      <td>-0.163862</td>\n",
       "      <td>-0.159631</td>\n",
       "      <td>-0.085158</td>\n",
       "      <td>-0.064553</td>\n",
       "      <td>-0.0394</td>\n",
       "      <td>-0.089233</td>\n",
       "      <td>-0.075378</td>\n",
       "      <td>-0.01</td>\n",
       "      <td>0.397748</td>\n",
       "      <td>-0.2572</td>\n",
       "      <td>-0.283816</td>\n",
       "    </tr>\n",
       "  </tbody>\n",
       "</table>\n",
       "</div>"
      ],
      "text/plain": [
       "              URL1      URL2      URL3      URL4      URL5    URL6      URL7  \\\n",
       "12313157 -0.231695 -0.163862 -0.159631 -0.085158 -0.064553 -0.0394 -0.089233   \n",
       "10830117 -0.231695 -0.163862 -0.159631 -0.085158 -0.064553 -0.0394 -0.089233   \n",
       "11771584 -0.231695 -0.163862 -0.159631 -0.085158 -0.064553 -0.0394 -0.089233   \n",
       "5363414  -0.231695 -0.163862 -0.159631 -0.085158 -0.064553 -0.0394 -0.089233   \n",
       "513918   -0.231695 -0.163862 -0.159631 -0.085158 -0.064553 -0.0394 -0.089233   \n",
       "\n",
       "              URL8  URL9  ClassID1  ClassID2  ClassID3  \n",
       "12313157 -0.075378 -0.01  0.397748   -0.2572 -0.283816  \n",
       "10830117 -0.075378 -0.01  0.397748   -0.2572 -0.283816  \n",
       "11771584 -0.075378 -0.01  0.397748   -0.2572 -0.283816  \n",
       "5363414  -0.075378 -0.01  0.397748   -0.2572 -0.283816  \n",
       "513918   -0.075378 -0.01  0.397748   -0.2572 -0.283816  "
      ]
     },
     "execution_count": 13,
     "metadata": {},
     "output_type": "execute_result"
    }
   ],
   "source": [
    "#Normalize the data. (When working with a smaller subset of the data, there were NAN columns that need to be removed if you want to see the clustering\n",
    "#analysis) \n",
    "df_filtered = dfnew[['URL1', 'URL2', 'URL3', 'URL4', 'URL5', 'URL6', 'URL7', 'URL8','URL9', 'ClassID1','ClassID2','ClassID3',]]\n",
    "df_norm = df_filtered.apply(lambda x: (x - x.mean()) / x.std())\n",
    "df_norm.head()"
   ]
  },
  {
   "cell_type": "code",
   "execution_count": 58,
   "metadata": {
    "collapsed": false
   },
   "outputs": [
    {
     "data": {
      "text/plain": [
       "<matplotlib.figure.Figure at 0x1154fef98>"
      ]
     },
     "metadata": {},
     "output_type": "display_data"
    },
    {
     "data": {
      "image/png": "[encoded data removed]",
      "text/plain": [
       "<matplotlib.figure.Figure at 0x1149cb0b8>"
      ]
     },
     "metadata": {},
     "output_type": "display_data"
    },
    {
     "data": {
      "text/plain": [
       "<matplotlib.figure.Figure at 0x116240438>"
      ]
     },
     "metadata": {},
     "output_type": "display_data"
    },
    {
     "data": {
      "image/png": "[encoded data removed]",
      "text/plain": [
       "<matplotlib.figure.Figure at 0x1149b0630>"
      ]
     },
     "metadata": {},
     "output_type": "display_data"
    },
    {
     "data": {
      "text/plain": [
       "<matplotlib.figure.Figure at 0x116c8e2e8>"
      ]
     },
     "metadata": {},
     "output_type": "display_data"
    },
    {
     "data": {
      "image/png": "[encoded data removed]",
      "text/plain": [
       "<matplotlib.figure.Figure at 0x10e8d0b70>"
      ]
     },
     "metadata": {},
     "output_type": "display_data"
    },
    {
     "data": {
      "text/plain": [
       "<matplotlib.figure.Figure at 0x1138f9ba8>"
      ]
     },
     "metadata": {},
     "output_type": "display_data"
    },
    {
     "data": {
      "image/png": "[encoded data removed]",
      "text/plain": [
       "<matplotlib.figure.Figure at 0x1147f7390>"
      ]
     },
     "metadata": {},
     "output_type": "display_data"
    },
    {
     "data": {
      "text/plain": [
       "<matplotlib.figure.Figure at 0x10fbdfcc0>"
      ]
     },
     "metadata": {},
     "output_type": "display_data"
    },
    {
     "data": {
      "image/png": "[encoded data removed]",
      "text/plain": [
       "<matplotlib.figure.Figure at 0x1105a3c88>"
      ]
     },
     "metadata": {},
     "output_type": "display_data"
    }
   ],
   "source": [
    "#kmeans clustering visualization\n",
    "\n",
    "pca_model = skd.PCA(n_components=2).fit(df_norm)\n",
    "pca_data = pca_model.transform(df_norm)\n",
    "df_pca = pd.DataFrame(pca_data, columns=['pca0', 'pca1'])\n",
    "\n",
    "for k in range(3,8):\n",
    "    kmeans_model = skc.KMeans(k).fit(df_norm)\n",
    "    centroids = kmeans_model.cluster_centers_\n",
    "    centroids_pca = pca_model.transform(centroids)\n",
    "    cluster_labels = kmeans_model.labels_\n",
    "    df_pca['label'] = cluster_labels\n",
    "    silh_score = skm.silhouette_score(df_norm, cluster_labels)\n",
    "    \n",
    "    plt.figure()\n",
    "    f = sns.lmplot(x='pca0', y='pca1', data=df_pca, \n",
    "                   hue='label', fit_reg=False, \n",
    "                   scatter_kws={'s': 100})\n",
    "    f.ax.scatter(centroids_pca[:,0], centroids_pca[:,1], \n",
    "                 marker='+', s=200, linewidths=2, color='black')\n",
    "    plt.title('k-means: k=%d\\nSilhouette_score=%f'%(\n",
    "                k, silh_score), fontsize=15)"
   ]
  },
  {
   "cell_type": "code",
   "execution_count": 60,
   "metadata": {
    "collapsed": false
   },
   "outputs": [
    {
     "name": "stdout",
     "output_type": "stream",
     "text": [
      "There are 6 clusters\n",
      "1019\n"
     ]
    }
   ],
   "source": [
    "max_label_id = np.max(kmeans_model.labels_)\n",
    "print('There are %d clusters'%max_label_id)\n",
    "for i in range(1, max_label_id + 1):\n",
    "    members = df_norm.index[cluster_labels == i]\n",
    "    if i == 1:\n",
    "        cluster1 = members\n",
    "    elif i == 2:\n",
    "        cluster2 = members\n",
    "    elif i == 3:\n",
    "        cluster3 = members\n",
    "    elif i == 4:\n",
    "        cluster4 = members\n",
    "    elif i == 5:\n",
    "        cluster5 = members\n",
    "    elif i == 6:\n",
    "        cluster6 = members\n",
    "print(len(cluster6))"
   ]
  },
  {
   "cell_type": "code",
   "execution_count": 16,
   "metadata": {
    "collapsed": false,
    "scrolled": false
   },
   "outputs": [
    {
     "data": {
      "text/html": [
       "<div>\n",
       "<table border=\"1\" class=\"dataframe\">\n",
       "  <thead>\n",
       "    <tr style=\"text-align: right;\">\n",
       "      <th></th>\n",
       "      <th>URL</th>\n",
       "      <th>User Agent</th>\n",
       "      <th>TimeStamp</th>\n",
       "      <th>UUID</th>\n",
       "      <th>ClassID</th>\n",
       "    </tr>\n",
       "  </thead>\n",
       "  <tbody>\n",
       "    <tr>\n",
       "      <th>0</th>\n",
       "      <td>/api/v1/courses/158/pages/me250-home-page/revi...</td>\n",
       "      <td>Mozilla/5.0 (Windows NT 6.1; WOW64) AppleWebKi...</td>\n",
       "      <td>2014-10-30 03:55:55</td>\n",
       "      <td>418127ed04ba38547760fc1ca1c4e357</td>\n",
       "      <td>08acd1cae6c97712fc8dbe400c35b47d</td>\n",
       "    </tr>\n",
       "    <tr>\n",
       "      <th>1</th>\n",
       "      <td>/courses/158/files/19241/download?wrap=1</td>\n",
       "      <td>Mozilla/5.0 (Windows NT 6.3; WOW64) AppleWebKi...</td>\n",
       "      <td>2014-11-10 03:36:33</td>\n",
       "      <td>1723707a0cc40e59a890886b2c35243a</td>\n",
       "      <td>08acd1cae6c97712fc8dbe400c35b47d</td>\n",
       "    </tr>\n",
       "    <tr>\n",
       "      <th>2</th>\n",
       "      <td>/courses/158/folders/698?page_view_id=2e5d2790...</td>\n",
       "      <td>Mozilla/5.0 (Windows NT 6.1; WOW64) AppleWebKi...</td>\n",
       "      <td>2014-09-24 13:47:09</td>\n",
       "      <td>0f93be7ffd5e3a1ea25f82f0effde4ba</td>\n",
       "      <td>08acd1cae6c97712fc8dbe400c35b47d</td>\n",
       "    </tr>\n",
       "    <tr>\n",
       "      <th>3</th>\n",
       "      <td>/api/v1/courses/158/pages/me250-home-page/revi...</td>\n",
       "      <td>Mozilla/5.0 (Windows NT 6.3; WOW64; Trident/7....</td>\n",
       "      <td>2014-09-04 21:23:00</td>\n",
       "      <td>0bdf7a693d6d3ebbc19d6a5ed0ad9e89</td>\n",
       "      <td>08acd1cae6c97712fc8dbe400c35b47d</td>\n",
       "    </tr>\n",
       "    <tr>\n",
       "      <th>4</th>\n",
       "      <td>/courses/158/assignments/1956</td>\n",
       "      <td>Mozilla/5.0 (Macintosh; Intel Mac OS X 10_9_5)...</td>\n",
       "      <td>2014-12-13 22:16:13</td>\n",
       "      <td>ec97977dde7ef43cf030267efc0fe019</td>\n",
       "      <td>08acd1cae6c97712fc8dbe400c35b47d</td>\n",
       "    </tr>\n",
       "  </tbody>\n",
       "</table>\n",
       "</div>"
      ],
      "text/plain": [
       "                                                 URL  \\\n",
       "0  /api/v1/courses/158/pages/me250-home-page/revi...   \n",
       "1           /courses/158/files/19241/download?wrap=1   \n",
       "2  /courses/158/folders/698?page_view_id=2e5d2790...   \n",
       "3  /api/v1/courses/158/pages/me250-home-page/revi...   \n",
       "4                      /courses/158/assignments/1956   \n",
       "\n",
       "                                          User Agent            TimeStamp  \\\n",
       "0  Mozilla/5.0 (Windows NT 6.1; WOW64) AppleWebKi...  2014-10-30 03:55:55   \n",
       "1  Mozilla/5.0 (Windows NT 6.3; WOW64) AppleWebKi...  2014-11-10 03:36:33   \n",
       "2  Mozilla/5.0 (Windows NT 6.1; WOW64) AppleWebKi...  2014-09-24 13:47:09   \n",
       "3  Mozilla/5.0 (Windows NT 6.3; WOW64; Trident/7....  2014-09-04 21:23:00   \n",
       "4  Mozilla/5.0 (Macintosh; Intel Mac OS X 10_9_5)...  2014-12-13 22:16:13   \n",
       "\n",
       "                               UUID                           ClassID  \n",
       "0  418127ed04ba38547760fc1ca1c4e357  08acd1cae6c97712fc8dbe400c35b47d  \n",
       "1  1723707a0cc40e59a890886b2c35243a  08acd1cae6c97712fc8dbe400c35b47d  \n",
       "2  0f93be7ffd5e3a1ea25f82f0effde4ba  08acd1cae6c97712fc8dbe400c35b47d  \n",
       "3  0bdf7a693d6d3ebbc19d6a5ed0ad9e89  08acd1cae6c97712fc8dbe400c35b47d  \n",
       "4  ec97977dde7ef43cf030267efc0fe019  08acd1cae6c97712fc8dbe400c35b47d  "
      ]
     },
     "execution_count": 16,
     "metadata": {},
     "output_type": "execute_result"
    }
   ],
   "source": [
    "#######CLUSTER 1 ANALYSIS\n",
    "df_cluster1 = pd.DataFrame(columns=('URL', 'User Agent', 'TimeStamp', 'UUID', 'ClassID'))\n",
    "for member in cluster1:\n",
    "    df_cluster1.loc[len(df_cluster1)] = df_reduced.ix[member]\n",
    "df_cluster1.head()"
   ]
  },
  {
   "cell_type": "code",
   "execution_count": 17,
   "metadata": {
    "collapsed": false
   },
   "outputs": [
    {
     "name": "stderr",
     "output_type": "stream",
     "text": [
      "/Users/andycho/anaconda/lib/python3.5/site-packages/ipykernel/__main__.py:2: FutureWarning: sort(columns=....) is deprecated, use sort_values(by=.....)\n",
      "  from ipykernel import kernelapp as app\n"
     ]
    },
    {
     "data": {
      "text/plain": [
       "<matplotlib.text.Text at 0x1115b9fd0>"
      ]
     },
     "execution_count": 17,
     "metadata": {},
     "output_type": "execute_result"
    },
    {
     "data": {
      "image/png": "[encoded data removed]",
      "text/plain": [
       "<matplotlib.figure.Figure at 0x1115b9198>"
      ]
     },
     "metadata": {},
     "output_type": "display_data"
    }
   ],
   "source": [
    "#Descriptive Stats\n",
    "df_cluster1.groupby('UUID').count().sort(['URL']).plot(kind='hist', bins=6, legend=False,\n",
    "                                                    title = 'Distribution of Page Visits by Users')\n",
    "plt.xlabel('Page Visits')\n",
    "plt.ylabel('Number of Users')"
   ]
  },
  {
   "cell_type": "code",
   "execution_count": 18,
   "metadata": {
    "collapsed": false
   },
   "outputs": [
    {
     "data": {
      "text/plain": [
       "6.6171428571428574"
      ]
     },
     "execution_count": 18,
     "metadata": {},
     "output_type": "execute_result"
    }
   ],
   "source": [
    "df_cluster1.groupby('UUID').count().mean()['URL'] #average number of page views for each student in this group"
   ]
  },
  {
   "cell_type": "code",
   "execution_count": 19,
   "metadata": {
    "collapsed": false
   },
   "outputs": [],
   "source": [
    "#Time Series\n",
    "df_cluster1['date'] = pd.to_datetime(df_cluster1['TimeStamp'])\n",
    "df_cluster1.index = df_cluster1['date']\n",
    "del df_cluster1['date']\n",
    "del df_cluster1['TimeStamp']"
   ]
  },
  {
   "cell_type": "code",
   "execution_count": 20,
   "metadata": {
    "collapsed": false
   },
   "outputs": [
    {
     "name": "stderr",
     "output_type": "stream",
     "text": [
      "/Users/andycho/anaconda/lib/python3.5/site-packages/ipykernel/__main__.py:1: FutureWarning: sort(....) is deprecated, use sort_index(.....)\n",
      "  if __name__ == '__main__':\n"
     ]
    },
    {
     "data": {
      "text/html": [
       "<div>\n",
       "<table border=\"1\" class=\"dataframe\">\n",
       "  <thead>\n",
       "    <tr style=\"text-align: right;\">\n",
       "      <th></th>\n",
       "      <th>URL</th>\n",
       "      <th>User Agent</th>\n",
       "      <th>UUID</th>\n",
       "      <th>ClassID</th>\n",
       "    </tr>\n",
       "    <tr>\n",
       "      <th>date</th>\n",
       "      <th></th>\n",
       "      <th></th>\n",
       "      <th></th>\n",
       "      <th></th>\n",
       "    </tr>\n",
       "  </thead>\n",
       "  <tbody>\n",
       "    <tr>\n",
       "      <th>2014-08-20 18:09:50</th>\n",
       "      <td>/api/v1/courses/158/pages/me250-home-page/revi...</td>\n",
       "      <td>Mozilla/5.0 (Windows NT 6.1; WOW64) AppleWebKi...</td>\n",
       "      <td>d85bd79aba765954f4955c68990331f0</td>\n",
       "      <td>08acd1cae6c97712fc8dbe400c35b47d</td>\n",
       "    </tr>\n",
       "    <tr>\n",
       "      <th>2014-08-31 15:34:22</th>\n",
       "      <td>/courses/158/folders/708/download?page_view_id...</td>\n",
       "      <td>Mozilla/5.0 (Windows NT 6.1) AppleWebKit/537.3...</td>\n",
       "      <td>e8b0c7c0c0031144d53c22b9cd362fa0</td>\n",
       "      <td>08acd1cae6c97712fc8dbe400c35b47d</td>\n",
       "    </tr>\n",
       "    <tr>\n",
       "      <th>2014-08-31 21:45:57</th>\n",
       "      <td>/courses/158/files</td>\n",
       "      <td>Mozilla/5.0 (Windows NT 6.1; WOW64) AppleWebKi...</td>\n",
       "      <td>d85bd79aba765954f4955c68990331f0</td>\n",
       "      <td>08acd1cae6c97712fc8dbe400c35b47d</td>\n",
       "    </tr>\n",
       "    <tr>\n",
       "      <th>2014-09-01 18:26:25</th>\n",
       "      <td>/courses/158/discussion_topics/129</td>\n",
       "      <td>Mozilla/5.0 (Macintosh; Intel Mac OS X 10_9_4)...</td>\n",
       "      <td>46cb8e34e25c58503eb5bc1af4ff29be</td>\n",
       "      <td>08acd1cae6c97712fc8dbe400c35b47d</td>\n",
       "    </tr>\n",
       "    <tr>\n",
       "      <th>2014-09-01 19:42:25</th>\n",
       "      <td>/api/v1/courses/158/discussion_topics?only_ann...</td>\n",
       "      <td>Mozilla/5.0 (Macintosh; Intel Mac OS X 10_9_4)...</td>\n",
       "      <td>8d47a11f21ebf64c275a1381dc0238f2</td>\n",
       "      <td>08acd1cae6c97712fc8dbe400c35b47d</td>\n",
       "    </tr>\n",
       "  </tbody>\n",
       "</table>\n",
       "</div>"
      ],
      "text/plain": [
       "                                                                   URL  \\\n",
       "date                                                                     \n",
       "2014-08-20 18:09:50  /api/v1/courses/158/pages/me250-home-page/revi...   \n",
       "2014-08-31 15:34:22  /courses/158/folders/708/download?page_view_id...   \n",
       "2014-08-31 21:45:57                                 /courses/158/files   \n",
       "2014-09-01 18:26:25                 /courses/158/discussion_topics/129   \n",
       "2014-09-01 19:42:25  /api/v1/courses/158/discussion_topics?only_ann...   \n",
       "\n",
       "                                                            User Agent  \\\n",
       "date                                                                     \n",
       "2014-08-20 18:09:50  Mozilla/5.0 (Windows NT 6.1; WOW64) AppleWebKi...   \n",
       "2014-08-31 15:34:22  Mozilla/5.0 (Windows NT 6.1) AppleWebKit/537.3...   \n",
       "2014-08-31 21:45:57  Mozilla/5.0 (Windows NT 6.1; WOW64) AppleWebKi...   \n",
       "2014-09-01 18:26:25  Mozilla/5.0 (Macintosh; Intel Mac OS X 10_9_4)...   \n",
       "2014-09-01 19:42:25  Mozilla/5.0 (Macintosh; Intel Mac OS X 10_9_4)...   \n",
       "\n",
       "                                                 UUID  \\\n",
       "date                                                    \n",
       "2014-08-20 18:09:50  d85bd79aba765954f4955c68990331f0   \n",
       "2014-08-31 15:34:22  e8b0c7c0c0031144d53c22b9cd362fa0   \n",
       "2014-08-31 21:45:57  d85bd79aba765954f4955c68990331f0   \n",
       "2014-09-01 18:26:25  46cb8e34e25c58503eb5bc1af4ff29be   \n",
       "2014-09-01 19:42:25  8d47a11f21ebf64c275a1381dc0238f2   \n",
       "\n",
       "                                              ClassID  \n",
       "date                                                   \n",
       "2014-08-20 18:09:50  08acd1cae6c97712fc8dbe400c35b47d  \n",
       "2014-08-31 15:34:22  08acd1cae6c97712fc8dbe400c35b47d  \n",
       "2014-08-31 21:45:57  08acd1cae6c97712fc8dbe400c35b47d  \n",
       "2014-09-01 18:26:25  08acd1cae6c97712fc8dbe400c35b47d  \n",
       "2014-09-01 19:42:25  08acd1cae6c97712fc8dbe400c35b47d  "
      ]
     },
     "execution_count": 20,
     "metadata": {},
     "output_type": "execute_result"
    }
   ],
   "source": [
    "df_cluster1 = df_cluster1.sort()\n",
    "df_cluster1.head()"
   ]
  },
  {
   "cell_type": "code",
   "execution_count": 21,
   "metadata": {
    "collapsed": false
   },
   "outputs": [
    {
     "data": {
      "text/html": [
       "<div>\n",
       "<table border=\"1\" class=\"dataframe\">\n",
       "  <thead>\n",
       "    <tr style=\"text-align: right;\">\n",
       "      <th></th>\n",
       "      <th>URL</th>\n",
       "      <th>User Agent</th>\n",
       "      <th>UUID</th>\n",
       "      <th>ClassID</th>\n",
       "      <th>HofD</th>\n",
       "      <th>DofM</th>\n",
       "    </tr>\n",
       "    <tr>\n",
       "      <th>date</th>\n",
       "      <th></th>\n",
       "      <th></th>\n",
       "      <th></th>\n",
       "      <th></th>\n",
       "      <th></th>\n",
       "      <th></th>\n",
       "    </tr>\n",
       "  </thead>\n",
       "  <tbody>\n",
       "    <tr>\n",
       "      <th>2014-08-20 18:09:50</th>\n",
       "      <td>/api/v1/courses/158/pages/me250-home-page/revi...</td>\n",
       "      <td>Mozilla/5.0 (Windows NT 6.1; WOW64) AppleWebKi...</td>\n",
       "      <td>d85bd79aba765954f4955c68990331f0</td>\n",
       "      <td>08acd1cae6c97712fc8dbe400c35b47d</td>\n",
       "      <td>18</td>\n",
       "      <td>20</td>\n",
       "    </tr>\n",
       "    <tr>\n",
       "      <th>2014-08-31 15:34:22</th>\n",
       "      <td>/courses/158/folders/708/download?page_view_id...</td>\n",
       "      <td>Mozilla/5.0 (Windows NT 6.1) AppleWebKit/537.3...</td>\n",
       "      <td>e8b0c7c0c0031144d53c22b9cd362fa0</td>\n",
       "      <td>08acd1cae6c97712fc8dbe400c35b47d</td>\n",
       "      <td>15</td>\n",
       "      <td>31</td>\n",
       "    </tr>\n",
       "    <tr>\n",
       "      <th>2014-08-31 21:45:57</th>\n",
       "      <td>/courses/158/files</td>\n",
       "      <td>Mozilla/5.0 (Windows NT 6.1; WOW64) AppleWebKi...</td>\n",
       "      <td>d85bd79aba765954f4955c68990331f0</td>\n",
       "      <td>08acd1cae6c97712fc8dbe400c35b47d</td>\n",
       "      <td>21</td>\n",
       "      <td>31</td>\n",
       "    </tr>\n",
       "    <tr>\n",
       "      <th>2014-09-01 18:26:25</th>\n",
       "      <td>/courses/158/discussion_topics/129</td>\n",
       "      <td>Mozilla/5.0 (Macintosh; Intel Mac OS X 10_9_4)...</td>\n",
       "      <td>46cb8e34e25c58503eb5bc1af4ff29be</td>\n",
       "      <td>08acd1cae6c97712fc8dbe400c35b47d</td>\n",
       "      <td>18</td>\n",
       "      <td>1</td>\n",
       "    </tr>\n",
       "    <tr>\n",
       "      <th>2014-09-01 19:42:25</th>\n",
       "      <td>/api/v1/courses/158/discussion_topics?only_ann...</td>\n",
       "      <td>Mozilla/5.0 (Macintosh; Intel Mac OS X 10_9_4)...</td>\n",
       "      <td>8d47a11f21ebf64c275a1381dc0238f2</td>\n",
       "      <td>08acd1cae6c97712fc8dbe400c35b47d</td>\n",
       "      <td>19</td>\n",
       "      <td>1</td>\n",
       "    </tr>\n",
       "  </tbody>\n",
       "</table>\n",
       "</div>"
      ],
      "text/plain": [
       "                                                                   URL  \\\n",
       "date                                                                     \n",
       "2014-08-20 18:09:50  /api/v1/courses/158/pages/me250-home-page/revi...   \n",
       "2014-08-31 15:34:22  /courses/158/folders/708/download?page_view_id...   \n",
       "2014-08-31 21:45:57                                 /courses/158/files   \n",
       "2014-09-01 18:26:25                 /courses/158/discussion_topics/129   \n",
       "2014-09-01 19:42:25  /api/v1/courses/158/discussion_topics?only_ann...   \n",
       "\n",
       "                                                            User Agent  \\\n",
       "date                                                                     \n",
       "2014-08-20 18:09:50  Mozilla/5.0 (Windows NT 6.1; WOW64) AppleWebKi...   \n",
       "2014-08-31 15:34:22  Mozilla/5.0 (Windows NT 6.1) AppleWebKit/537.3...   \n",
       "2014-08-31 21:45:57  Mozilla/5.0 (Windows NT 6.1; WOW64) AppleWebKi...   \n",
       "2014-09-01 18:26:25  Mozilla/5.0 (Macintosh; Intel Mac OS X 10_9_4)...   \n",
       "2014-09-01 19:42:25  Mozilla/5.0 (Macintosh; Intel Mac OS X 10_9_4)...   \n",
       "\n",
       "                                                 UUID  \\\n",
       "date                                                    \n",
       "2014-08-20 18:09:50  d85bd79aba765954f4955c68990331f0   \n",
       "2014-08-31 15:34:22  e8b0c7c0c0031144d53c22b9cd362fa0   \n",
       "2014-08-31 21:45:57  d85bd79aba765954f4955c68990331f0   \n",
       "2014-09-01 18:26:25  46cb8e34e25c58503eb5bc1af4ff29be   \n",
       "2014-09-01 19:42:25  8d47a11f21ebf64c275a1381dc0238f2   \n",
       "\n",
       "                                              ClassID  HofD  DofM  \n",
       "date                                                               \n",
       "2014-08-20 18:09:50  08acd1cae6c97712fc8dbe400c35b47d    18    20  \n",
       "2014-08-31 15:34:22  08acd1cae6c97712fc8dbe400c35b47d    15    31  \n",
       "2014-08-31 21:45:57  08acd1cae6c97712fc8dbe400c35b47d    21    31  \n",
       "2014-09-01 18:26:25  08acd1cae6c97712fc8dbe400c35b47d    18     1  \n",
       "2014-09-01 19:42:25  08acd1cae6c97712fc8dbe400c35b47d    19     1  "
      ]
     },
     "execution_count": 21,
     "metadata": {},
     "output_type": "execute_result"
    }
   ],
   "source": [
    "#bin them into days or something and then use the count to see how many are in a certain day or hour\n",
    "df_cluster1['HofD'] = [r.hour for r in df_cluster1.index]\n",
    "df_cluster1['DofM'] = [r.day for r in df_cluster1.index]\n",
    "df_cluster1.head()"
   ]
  },
  {
   "cell_type": "code",
   "execution_count": 22,
   "metadata": {
    "collapsed": false
   },
   "outputs": [
    {
     "data": {
      "text/plain": [
       "<matplotlib.axes._subplots.AxesSubplot at 0x11175a208>"
      ]
     },
     "execution_count": 22,
     "metadata": {},
     "output_type": "execute_result"
    },
    {
     "data": {
      "image/png": "[encoded data removed]",
      "text/plain": [
       "<matplotlib.figure.Figure at 0x11171a5f8>"
      ]
     },
     "metadata": {},
     "output_type": "display_data"
    }
   ],
   "source": [
    "df_cluster1.groupby('HofD').count().plot(title='Cluster 1 Site Views by Hour')"
   ]
  },
  {
   "cell_type": "code",
   "execution_count": 23,
   "metadata": {
    "collapsed": false
   },
   "outputs": [
    {
     "data": {
      "text/plain": [
       "<matplotlib.axes._subplots.AxesSubplot at 0x10fbe46a0>"
      ]
     },
     "execution_count": 23,
     "metadata": {},
     "output_type": "execute_result"
    },
    {
     "data": {
      "image/png": "[encoded data removed]",
      "text/plain": [
       "<matplotlib.figure.Figure at 0x111781128>"
      ]
     },
     "metadata": {},
     "output_type": "display_data"
    }
   ],
   "source": [
    "df_cluster1.groupby('DofM').count().plot(title='Cluster 1 Site Views by Day of Month')"
   ]
  },
  {
   "cell_type": "code",
   "execution_count": 24,
   "metadata": {
    "collapsed": false,
    "scrolled": true
   },
   "outputs": [
    {
     "data": {
      "text/html": [
       "<div>\n",
       "<table border=\"1\" class=\"dataframe\">\n",
       "  <thead>\n",
       "    <tr style=\"text-align: right;\">\n",
       "      <th></th>\n",
       "      <th>URL</th>\n",
       "      <th>User Agent</th>\n",
       "      <th>TimeStamp</th>\n",
       "      <th>UUID</th>\n",
       "      <th>ClassID</th>\n",
       "    </tr>\n",
       "  </thead>\n",
       "  <tbody>\n",
       "    <tr>\n",
       "      <th>0</th>\n",
       "      <td>/courses/164/enroll_users</td>\n",
       "      <td>Mozilla/5.0 (Macintosh; Intel Mac OS X 10_10_1...</td>\n",
       "      <td>2014-11-26 20:10:05</td>\n",
       "      <td>eb8eef99616f3825f89ac2c4e7fdc62a</td>\n",
       "      <td>a6ff862f8df9f99bec63a4096890db10</td>\n",
       "    </tr>\n",
       "    <tr>\n",
       "      <th>1</th>\n",
       "      <td>/courses/164/files/1387/preview?verifier=XTmZF...</td>\n",
       "      <td>Mozilla/5.0 (Macintosh; Intel Mac OS X 10_8_2)...</td>\n",
       "      <td>2014-09-01 21:59:50</td>\n",
       "      <td>944910f563a97827d0ad4b4c3c8cb2e8</td>\n",
       "      <td>a6ff862f8df9f99bec63a4096890db10</td>\n",
       "    </tr>\n",
       "    <tr>\n",
       "      <th>2</th>\n",
       "      <td>/api/v1/courses/164/pages/understanding-how-yo...</td>\n",
       "      <td>Mozilla/5.0 (Macintosh; Intel Mac OS X 10_9_4)...</td>\n",
       "      <td>2014-10-04 20:28:33</td>\n",
       "      <td>245f81ce9aaf6da728b8263551bb8673</td>\n",
       "      <td>a6ff862f8df9f99bec63a4096890db10</td>\n",
       "    </tr>\n",
       "    <tr>\n",
       "      <th>3</th>\n",
       "      <td>/api/v1/courses/164/pages/conventional-academi...</td>\n",
       "      <td>Mozilla/5.0 (Macintosh; Intel Mac OS X 10_9_5)...</td>\n",
       "      <td>2014-11-28 19:07:32</td>\n",
       "      <td>f20e922d0772d76f2db6b1939874bfb5</td>\n",
       "      <td>a6ff862f8df9f99bec63a4096890db10</td>\n",
       "    </tr>\n",
       "    <tr>\n",
       "      <th>4</th>\n",
       "      <td>/api/v1/courses/164/users/2358?per_page=50</td>\n",
       "      <td>iCanvas/3.7.1 (151)   Unknown iPad/iOS 8.1</td>\n",
       "      <td>2014-11-12 18:23:39</td>\n",
       "      <td>eb8eef99616f3825f89ac2c4e7fdc62a</td>\n",
       "      <td>a6ff862f8df9f99bec63a4096890db10</td>\n",
       "    </tr>\n",
       "  </tbody>\n",
       "</table>\n",
       "</div>"
      ],
      "text/plain": [
       "                                                 URL  \\\n",
       "0                          /courses/164/enroll_users   \n",
       "1  /courses/164/files/1387/preview?verifier=XTmZF...   \n",
       "2  /api/v1/courses/164/pages/understanding-how-yo...   \n",
       "3  /api/v1/courses/164/pages/conventional-academi...   \n",
       "4         /api/v1/courses/164/users/2358?per_page=50   \n",
       "\n",
       "                                          User Agent            TimeStamp  \\\n",
       "0  Mozilla/5.0 (Macintosh; Intel Mac OS X 10_10_1...  2014-11-26 20:10:05   \n",
       "1  Mozilla/5.0 (Macintosh; Intel Mac OS X 10_8_2)...  2014-09-01 21:59:50   \n",
       "2  Mozilla/5.0 (Macintosh; Intel Mac OS X 10_9_4)...  2014-10-04 20:28:33   \n",
       "3  Mozilla/5.0 (Macintosh; Intel Mac OS X 10_9_5)...  2014-11-28 19:07:32   \n",
       "4         iCanvas/3.7.1 (151)   Unknown iPad/iOS 8.1  2014-11-12 18:23:39   \n",
       "\n",
       "                               UUID                           ClassID  \n",
       "0  eb8eef99616f3825f89ac2c4e7fdc62a  a6ff862f8df9f99bec63a4096890db10  \n",
       "1  944910f563a97827d0ad4b4c3c8cb2e8  a6ff862f8df9f99bec63a4096890db10  \n",
       "2  245f81ce9aaf6da728b8263551bb8673  a6ff862f8df9f99bec63a4096890db10  \n",
       "3  f20e922d0772d76f2db6b1939874bfb5  a6ff862f8df9f99bec63a4096890db10  \n",
       "4  eb8eef99616f3825f89ac2c4e7fdc62a  a6ff862f8df9f99bec63a4096890db10  "
      ]
     },
     "execution_count": 24,
     "metadata": {},
     "output_type": "execute_result"
    }
   ],
   "source": [
    "#######CLUSTER 2 ANALYSIS\n",
    "df_cluster2 = pd.DataFrame(columns=('URL', 'User Agent', 'TimeStamp', 'UUID', 'ClassID'))\n",
    "for member in cluster2:\n",
    "    df_cluster2.loc[len(df_cluster2)] = df_reduced.ix[member]\n",
    "df_cluster2.head()"
   ]
  },
  {
   "cell_type": "code",
   "execution_count": 25,
   "metadata": {
    "collapsed": false
   },
   "outputs": [
    {
     "name": "stderr",
     "output_type": "stream",
     "text": [
      "/Users/andycho/anaconda/lib/python3.5/site-packages/ipykernel/__main__.py:2: FutureWarning: sort(columns=....) is deprecated, use sort_values(by=.....)\n",
      "  from ipykernel import kernelapp as app\n"
     ]
    },
    {
     "data": {
      "text/plain": [
       "<matplotlib.text.Text at 0x10fd88080>"
      ]
     },
     "execution_count": 25,
     "metadata": {},
     "output_type": "execute_result"
    },
    {
     "data": {
      "image/png": "[encoded data removed]",
      "text/plain": [
       "<matplotlib.figure.Figure at 0x143ba30b8>"
      ]
     },
     "metadata": {},
     "output_type": "display_data"
    }
   ],
   "source": [
    "#Descriptive Stats\n",
    "df_cluster2.groupby('UUID').count().sort(['URL']).plot(kind='hist', bins=6, legend=False,\n",
    "                                                    title = 'Distribution of Page Visits by Users')\n",
    "plt.xlabel('Page Visits')\n",
    "plt.ylabel('Number of Users')"
   ]
  },
  {
   "cell_type": "code",
   "execution_count": 26,
   "metadata": {
    "collapsed": false
   },
   "outputs": [
    {
     "data": {
      "text/plain": [
       "5.0033557046979862"
      ]
     },
     "execution_count": 26,
     "metadata": {},
     "output_type": "execute_result"
    }
   ],
   "source": [
    "df_cluster2.groupby('UUID').count().mean()['URL'] #average number of page views for each student in this group"
   ]
  },
  {
   "cell_type": "code",
   "execution_count": 27,
   "metadata": {
    "collapsed": false
   },
   "outputs": [],
   "source": [
    "#Time Series\n",
    "df_cluster2['date'] = pd.to_datetime(df_cluster2['TimeStamp'])\n",
    "df_cluster2.index = df_cluster2['date']\n",
    "del df_cluster2['date']\n",
    "del df_cluster2['TimeStamp']"
   ]
  },
  {
   "cell_type": "code",
   "execution_count": 28,
   "metadata": {
    "collapsed": false
   },
   "outputs": [
    {
     "name": "stderr",
     "output_type": "stream",
     "text": [
      "/Users/andycho/anaconda/lib/python3.5/site-packages/ipykernel/__main__.py:1: FutureWarning: sort(....) is deprecated, use sort_index(.....)\n",
      "  if __name__ == '__main__':\n"
     ]
    },
    {
     "data": {
      "text/html": [
       "<div>\n",
       "<table border=\"1\" class=\"dataframe\">\n",
       "  <thead>\n",
       "    <tr style=\"text-align: right;\">\n",
       "      <th></th>\n",
       "      <th>URL</th>\n",
       "      <th>User Agent</th>\n",
       "      <th>UUID</th>\n",
       "      <th>ClassID</th>\n",
       "    </tr>\n",
       "    <tr>\n",
       "      <th>date</th>\n",
       "      <th></th>\n",
       "      <th></th>\n",
       "      <th></th>\n",
       "      <th></th>\n",
       "    </tr>\n",
       "  </thead>\n",
       "  <tbody>\n",
       "    <tr>\n",
       "      <th>2014-08-12 11:15:02</th>\n",
       "      <td>/api/v1/courses/164/pages/blogging/revisions/l...</td>\n",
       "      <td>Mozilla/5.0 (Macintosh; Intel Mac OS X 10_9_4)...</td>\n",
       "      <td>eb8eef99616f3825f89ac2c4e7fdc62a</td>\n",
       "      <td>a6ff862f8df9f99bec63a4096890db10</td>\n",
       "    </tr>\n",
       "    <tr>\n",
       "      <th>2014-08-12 14:03:40</th>\n",
       "      <td>/api/v1/courses/164/pages/blogging/revisions/l...</td>\n",
       "      <td>Mozilla/5.0 (Macintosh; Intel Mac OS X 10_9_4)...</td>\n",
       "      <td>eb8eef99616f3825f89ac2c4e7fdc62a</td>\n",
       "      <td>a6ff862f8df9f99bec63a4096890db10</td>\n",
       "    </tr>\n",
       "    <tr>\n",
       "      <th>2014-08-12 14:09:43</th>\n",
       "      <td>/api/v1/courses/164/pages/blogging/revisions/l...</td>\n",
       "      <td>Mozilla/5.0 (Macintosh; Intel Mac OS X 10_9_4)...</td>\n",
       "      <td>eb8eef99616f3825f89ac2c4e7fdc62a</td>\n",
       "      <td>a6ff862f8df9f99bec63a4096890db10</td>\n",
       "    </tr>\n",
       "    <tr>\n",
       "      <th>2014-08-12 16:36:55</th>\n",
       "      <td>/api/v1/courses/164/pages/blogging/revisions/l...</td>\n",
       "      <td>Mozilla/5.0 (Windows NT 6.1; WOW64; rv:30.0) G...</td>\n",
       "      <td>a03f588d12a08e752f3dd99b78693f0b</td>\n",
       "      <td>a6ff862f8df9f99bec63a4096890db10</td>\n",
       "    </tr>\n",
       "    <tr>\n",
       "      <th>2014-08-13 17:18:13</th>\n",
       "      <td>/api/v1/courses/164/pages/which-room-do-i-go-f...</td>\n",
       "      <td>Mozilla/5.0 (Macintosh; Intel Mac OS X 10_9_4)...</td>\n",
       "      <td>eb8eef99616f3825f89ac2c4e7fdc62a</td>\n",
       "      <td>a6ff862f8df9f99bec63a4096890db10</td>\n",
       "    </tr>\n",
       "  </tbody>\n",
       "</table>\n",
       "</div>"
      ],
      "text/plain": [
       "                                                                   URL  \\\n",
       "date                                                                     \n",
       "2014-08-12 11:15:02  /api/v1/courses/164/pages/blogging/revisions/l...   \n",
       "2014-08-12 14:03:40  /api/v1/courses/164/pages/blogging/revisions/l...   \n",
       "2014-08-12 14:09:43  /api/v1/courses/164/pages/blogging/revisions/l...   \n",
       "2014-08-12 16:36:55  /api/v1/courses/164/pages/blogging/revisions/l...   \n",
       "2014-08-13 17:18:13  /api/v1/courses/164/pages/which-room-do-i-go-f...   \n",
       "\n",
       "                                                            User Agent  \\\n",
       "date                                                                     \n",
       "2014-08-12 11:15:02  Mozilla/5.0 (Macintosh; Intel Mac OS X 10_9_4)...   \n",
       "2014-08-12 14:03:40  Mozilla/5.0 (Macintosh; Intel Mac OS X 10_9_4)...   \n",
       "2014-08-12 14:09:43  Mozilla/5.0 (Macintosh; Intel Mac OS X 10_9_4)...   \n",
       "2014-08-12 16:36:55  Mozilla/5.0 (Windows NT 6.1; WOW64; rv:30.0) G...   \n",
       "2014-08-13 17:18:13  Mozilla/5.0 (Macintosh; Intel Mac OS X 10_9_4)...   \n",
       "\n",
       "                                                 UUID  \\\n",
       "date                                                    \n",
       "2014-08-12 11:15:02  eb8eef99616f3825f89ac2c4e7fdc62a   \n",
       "2014-08-12 14:03:40  eb8eef99616f3825f89ac2c4e7fdc62a   \n",
       "2014-08-12 14:09:43  eb8eef99616f3825f89ac2c4e7fdc62a   \n",
       "2014-08-12 16:36:55  a03f588d12a08e752f3dd99b78693f0b   \n",
       "2014-08-13 17:18:13  eb8eef99616f3825f89ac2c4e7fdc62a   \n",
       "\n",
       "                                              ClassID  \n",
       "date                                                   \n",
       "2014-08-12 11:15:02  a6ff862f8df9f99bec63a4096890db10  \n",
       "2014-08-12 14:03:40  a6ff862f8df9f99bec63a4096890db10  \n",
       "2014-08-12 14:09:43  a6ff862f8df9f99bec63a4096890db10  \n",
       "2014-08-12 16:36:55  a6ff862f8df9f99bec63a4096890db10  \n",
       "2014-08-13 17:18:13  a6ff862f8df9f99bec63a4096890db10  "
      ]
     },
     "execution_count": 28,
     "metadata": {},
     "output_type": "execute_result"
    }
   ],
   "source": [
    "df_cluster2 = df_cluster2.sort()\n",
    "df_cluster2.head()"
   ]
  },
  {
   "cell_type": "code",
   "execution_count": 29,
   "metadata": {
    "collapsed": false
   },
   "outputs": [
    {
     "data": {
      "text/html": [
       "<div>\n",
       "<table border=\"1\" class=\"dataframe\">\n",
       "  <thead>\n",
       "    <tr style=\"text-align: right;\">\n",
       "      <th></th>\n",
       "      <th>URL</th>\n",
       "      <th>User Agent</th>\n",
       "      <th>UUID</th>\n",
       "      <th>ClassID</th>\n",
       "      <th>HofD</th>\n",
       "      <th>DofM</th>\n",
       "    </tr>\n",
       "    <tr>\n",
       "      <th>date</th>\n",
       "      <th></th>\n",
       "      <th></th>\n",
       "      <th></th>\n",
       "      <th></th>\n",
       "      <th></th>\n",
       "      <th></th>\n",
       "    </tr>\n",
       "  </thead>\n",
       "  <tbody>\n",
       "    <tr>\n",
       "      <th>2014-08-12 11:15:02</th>\n",
       "      <td>/api/v1/courses/164/pages/blogging/revisions/l...</td>\n",
       "      <td>Mozilla/5.0 (Macintosh; Intel Mac OS X 10_9_4)...</td>\n",
       "      <td>eb8eef99616f3825f89ac2c4e7fdc62a</td>\n",
       "      <td>a6ff862f8df9f99bec63a4096890db10</td>\n",
       "      <td>11</td>\n",
       "      <td>12</td>\n",
       "    </tr>\n",
       "    <tr>\n",
       "      <th>2014-08-12 14:03:40</th>\n",
       "      <td>/api/v1/courses/164/pages/blogging/revisions/l...</td>\n",
       "      <td>Mozilla/5.0 (Macintosh; Intel Mac OS X 10_9_4)...</td>\n",
       "      <td>eb8eef99616f3825f89ac2c4e7fdc62a</td>\n",
       "      <td>a6ff862f8df9f99bec63a4096890db10</td>\n",
       "      <td>14</td>\n",
       "      <td>12</td>\n",
       "    </tr>\n",
       "    <tr>\n",
       "      <th>2014-08-12 14:09:43</th>\n",
       "      <td>/api/v1/courses/164/pages/blogging/revisions/l...</td>\n",
       "      <td>Mozilla/5.0 (Macintosh; Intel Mac OS X 10_9_4)...</td>\n",
       "      <td>eb8eef99616f3825f89ac2c4e7fdc62a</td>\n",
       "      <td>a6ff862f8df9f99bec63a4096890db10</td>\n",
       "      <td>14</td>\n",
       "      <td>12</td>\n",
       "    </tr>\n",
       "    <tr>\n",
       "      <th>2014-08-12 16:36:55</th>\n",
       "      <td>/api/v1/courses/164/pages/blogging/revisions/l...</td>\n",
       "      <td>Mozilla/5.0 (Windows NT 6.1; WOW64; rv:30.0) G...</td>\n",
       "      <td>a03f588d12a08e752f3dd99b78693f0b</td>\n",
       "      <td>a6ff862f8df9f99bec63a4096890db10</td>\n",
       "      <td>16</td>\n",
       "      <td>12</td>\n",
       "    </tr>\n",
       "    <tr>\n",
       "      <th>2014-08-13 17:18:13</th>\n",
       "      <td>/api/v1/courses/164/pages/which-room-do-i-go-f...</td>\n",
       "      <td>Mozilla/5.0 (Macintosh; Intel Mac OS X 10_9_4)...</td>\n",
       "      <td>eb8eef99616f3825f89ac2c4e7fdc62a</td>\n",
       "      <td>a6ff862f8df9f99bec63a4096890db10</td>\n",
       "      <td>17</td>\n",
       "      <td>13</td>\n",
       "    </tr>\n",
       "  </tbody>\n",
       "</table>\n",
       "</div>"
      ],
      "text/plain": [
       "                                                                   URL  \\\n",
       "date                                                                     \n",
       "2014-08-12 11:15:02  /api/v1/courses/164/pages/blogging/revisions/l...   \n",
       "2014-08-12 14:03:40  /api/v1/courses/164/pages/blogging/revisions/l...   \n",
       "2014-08-12 14:09:43  /api/v1/courses/164/pages/blogging/revisions/l...   \n",
       "2014-08-12 16:36:55  /api/v1/courses/164/pages/blogging/revisions/l...   \n",
       "2014-08-13 17:18:13  /api/v1/courses/164/pages/which-room-do-i-go-f...   \n",
       "\n",
       "                                                            User Agent  \\\n",
       "date                                                                     \n",
       "2014-08-12 11:15:02  Mozilla/5.0 (Macintosh; Intel Mac OS X 10_9_4)...   \n",
       "2014-08-12 14:03:40  Mozilla/5.0 (Macintosh; Intel Mac OS X 10_9_4)...   \n",
       "2014-08-12 14:09:43  Mozilla/5.0 (Macintosh; Intel Mac OS X 10_9_4)...   \n",
       "2014-08-12 16:36:55  Mozilla/5.0 (Windows NT 6.1; WOW64; rv:30.0) G...   \n",
       "2014-08-13 17:18:13  Mozilla/5.0 (Macintosh; Intel Mac OS X 10_9_4)...   \n",
       "\n",
       "                                                 UUID  \\\n",
       "date                                                    \n",
       "2014-08-12 11:15:02  eb8eef99616f3825f89ac2c4e7fdc62a   \n",
       "2014-08-12 14:03:40  eb8eef99616f3825f89ac2c4e7fdc62a   \n",
       "2014-08-12 14:09:43  eb8eef99616f3825f89ac2c4e7fdc62a   \n",
       "2014-08-12 16:36:55  a03f588d12a08e752f3dd99b78693f0b   \n",
       "2014-08-13 17:18:13  eb8eef99616f3825f89ac2c4e7fdc62a   \n",
       "\n",
       "                                              ClassID  HofD  DofM  \n",
       "date                                                               \n",
       "2014-08-12 11:15:02  a6ff862f8df9f99bec63a4096890db10    11    12  \n",
       "2014-08-12 14:03:40  a6ff862f8df9f99bec63a4096890db10    14    12  \n",
       "2014-08-12 14:09:43  a6ff862f8df9f99bec63a4096890db10    14    12  \n",
       "2014-08-12 16:36:55  a6ff862f8df9f99bec63a4096890db10    16    12  \n",
       "2014-08-13 17:18:13  a6ff862f8df9f99bec63a4096890db10    17    13  "
      ]
     },
     "execution_count": 29,
     "metadata": {},
     "output_type": "execute_result"
    }
   ],
   "source": [
    "#bin them into days or something and then use the count to see how many are in a certain day or hour\n",
    "df_cluster2['HofD'] = [r.hour for r in df_cluster2.index]\n",
    "df_cluster2['DofM'] = [r.day for r in df_cluster2.index]\n",
    "df_cluster2.head()"
   ]
  },
  {
   "cell_type": "code",
   "execution_count": 30,
   "metadata": {
    "collapsed": false
   },
   "outputs": [
    {
     "data": {
      "text/plain": [
       "<matplotlib.axes._subplots.AxesSubplot at 0x109fbaeb8>"
      ]
     },
     "execution_count": 30,
     "metadata": {},
     "output_type": "execute_result"
    },
    {
     "data": {
      "image/png": "[encoded data removed]",
      "text/plain": [
       "<matplotlib.figure.Figure at 0x10ff17470>"
      ]
     },
     "metadata": {},
     "output_type": "display_data"
    }
   ],
   "source": [
    "df_cluster2.groupby('HofD').count().plot(title='Cluster 2 Site Views by Hour')"
   ]
  },
  {
   "cell_type": "code",
   "execution_count": 31,
   "metadata": {
    "collapsed": false
   },
   "outputs": [
    {
     "data": {
      "text/plain": [
       "<matplotlib.axes._subplots.AxesSubplot at 0x109f72f98>"
      ]
     },
     "execution_count": 31,
     "metadata": {},
     "output_type": "execute_result"
    },
    {
     "data": {
      "image/png": "[encoded data removed]",
      "text/plain": [
       "<matplotlib.figure.Figure at 0x109f54240>"
      ]
     },
     "metadata": {},
     "output_type": "display_data"
    }
   ],
   "source": [
    "df_cluster2.groupby('DofM').count().plot(title='Cluster 2 Site Views by Day of Month')"
   ]
  },
  {
   "cell_type": "code",
   "execution_count": 32,
   "metadata": {
    "collapsed": false
   },
   "outputs": [
    {
     "data": {
      "text/html": [
       "<div>\n",
       "<table border=\"1\" class=\"dataframe\">\n",
       "  <thead>\n",
       "    <tr style=\"text-align: right;\">\n",
       "      <th></th>\n",
       "      <th>URL</th>\n",
       "      <th>User Agent</th>\n",
       "      <th>TimeStamp</th>\n",
       "      <th>UUID</th>\n",
       "      <th>ClassID</th>\n",
       "    </tr>\n",
       "  </thead>\n",
       "  <tbody>\n",
       "    <tr>\n",
       "      <th>0</th>\n",
       "      <td>/api/v1/courses/166/pages/dr-millers-lecture-0...</td>\n",
       "      <td>Mozilla/5.0 (Macintosh; Intel Mac OS X 10_10) ...</td>\n",
       "      <td>2014-11-12 06:42:11</td>\n",
       "      <td>4a0f519783d5f61dc72e37bcc6d592bd</td>\n",
       "      <td>05d0532840f04928dfdd86296c51189d</td>\n",
       "    </tr>\n",
       "    <tr>\n",
       "      <th>1</th>\n",
       "      <td>/api/v1/courses/166/pages/dr-millers-lecture-0...</td>\n",
       "      <td>Mozilla/5.0 (Windows NT 6.1; WOW64) AppleWebKi...</td>\n",
       "      <td>2014-10-14 23:23:36</td>\n",
       "      <td>dd23ed92d549a669bfa6030dd1284016</td>\n",
       "      <td>05d0532840f04928dfdd86296c51189d</td>\n",
       "    </tr>\n",
       "    <tr>\n",
       "      <th>2</th>\n",
       "      <td>/api/v1/courses/166/pages/dr-millers-lecture-0...</td>\n",
       "      <td>Mozilla/5.0 (Windows NT 6.3; WOW64; Trident/7....</td>\n",
       "      <td>2014-11-10 20:48:14</td>\n",
       "      <td>c3256f39d40fab02e1cc916136ae9f41</td>\n",
       "      <td>05d0532840f04928dfdd86296c51189d</td>\n",
       "    </tr>\n",
       "    <tr>\n",
       "      <th>3</th>\n",
       "      <td>/api/v1/courses/166/pages/dr-millers-lecture-0...</td>\n",
       "      <td>Mozilla/5.0 (Macintosh; Intel Mac OS X 10.9; r...</td>\n",
       "      <td>2014-10-14 03:34:13</td>\n",
       "      <td>74ea2d0aa5bed3de94ca9f00ef58dfd5</td>\n",
       "      <td>05d0532840f04928dfdd86296c51189d</td>\n",
       "    </tr>\n",
       "    <tr>\n",
       "      <th>4</th>\n",
       "      <td>/api/v1/courses/166/pages/dr-millers-lecture-0...</td>\n",
       "      <td>Mozilla/5.0 (Macintosh; Intel Mac OS X 10_10) ...</td>\n",
       "      <td>2014-11-26 02:44:41</td>\n",
       "      <td>5608070be64fc3358498dd86aa8d316f</td>\n",
       "      <td>05d0532840f04928dfdd86296c51189d</td>\n",
       "    </tr>\n",
       "  </tbody>\n",
       "</table>\n",
       "</div>"
      ],
      "text/plain": [
       "                                                 URL  \\\n",
       "0  /api/v1/courses/166/pages/dr-millers-lecture-0...   \n",
       "1  /api/v1/courses/166/pages/dr-millers-lecture-0...   \n",
       "2  /api/v1/courses/166/pages/dr-millers-lecture-0...   \n",
       "3  /api/v1/courses/166/pages/dr-millers-lecture-0...   \n",
       "4  /api/v1/courses/166/pages/dr-millers-lecture-0...   \n",
       "\n",
       "                                          User Agent            TimeStamp  \\\n",
       "0  Mozilla/5.0 (Macintosh; Intel Mac OS X 10_10) ...  2014-11-12 06:42:11   \n",
       "1  Mozilla/5.0 (Windows NT 6.1; WOW64) AppleWebKi...  2014-10-14 23:23:36   \n",
       "2  Mozilla/5.0 (Windows NT 6.3; WOW64; Trident/7....  2014-11-10 20:48:14   \n",
       "3  Mozilla/5.0 (Macintosh; Intel Mac OS X 10.9; r...  2014-10-14 03:34:13   \n",
       "4  Mozilla/5.0 (Macintosh; Intel Mac OS X 10_10) ...  2014-11-26 02:44:41   \n",
       "\n",
       "                               UUID                           ClassID  \n",
       "0  4a0f519783d5f61dc72e37bcc6d592bd  05d0532840f04928dfdd86296c51189d  \n",
       "1  dd23ed92d549a669bfa6030dd1284016  05d0532840f04928dfdd86296c51189d  \n",
       "2  c3256f39d40fab02e1cc916136ae9f41  05d0532840f04928dfdd86296c51189d  \n",
       "3  74ea2d0aa5bed3de94ca9f00ef58dfd5  05d0532840f04928dfdd86296c51189d  \n",
       "4  5608070be64fc3358498dd86aa8d316f  05d0532840f04928dfdd86296c51189d  "
      ]
     },
     "execution_count": 32,
     "metadata": {},
     "output_type": "execute_result"
    }
   ],
   "source": [
    "#######CLUSTER 3 ANALYSIS\n",
    "df_cluster3 = pd.DataFrame(columns=('URL', 'User Agent', 'TimeStamp', 'UUID', 'ClassID'))\n",
    "for member in cluster3:\n",
    "    df_cluster3.loc[len(df_cluster3)] = df_reduced.ix[member]\n",
    "df_cluster3.head()"
   ]
  },
  {
   "cell_type": "code",
   "execution_count": 33,
   "metadata": {
    "collapsed": false
   },
   "outputs": [
    {
     "name": "stderr",
     "output_type": "stream",
     "text": [
      "/Users/andycho/anaconda/lib/python3.5/site-packages/ipykernel/__main__.py:2: FutureWarning: sort(columns=....) is deprecated, use sort_values(by=.....)\n",
      "  from ipykernel import kernelapp as app\n"
     ]
    },
    {
     "data": {
      "text/plain": [
       "<matplotlib.text.Text at 0x10e57c048>"
      ]
     },
     "execution_count": 33,
     "metadata": {},
     "output_type": "execute_result"
    },
    {
     "data": {
      "image/png": "[encoded data removed]",
      "text/plain": [
       "<matplotlib.figure.Figure at 0x10e57de10>"
      ]
     },
     "metadata": {},
     "output_type": "display_data"
    }
   ],
   "source": [
    "#Descriptive Stats\n",
    "df_cluster3.groupby('UUID').count().sort(['URL']).plot(kind='hist', bins=6, legend=False,\n",
    "                                                    title = 'Distribution of Page Visits by Users')\n",
    "plt.xlabel('Page Visits')\n",
    "plt.ylabel('Number of Users')"
   ]
  },
  {
   "cell_type": "code",
   "execution_count": 34,
   "metadata": {
    "collapsed": false
   },
   "outputs": [
    {
     "data": {
      "text/plain": [
       "2.8238636363636362"
      ]
     },
     "execution_count": 34,
     "metadata": {},
     "output_type": "execute_result"
    }
   ],
   "source": [
    "df_cluster3.groupby('UUID').count().mean()['URL'] #average number of page views for each student in this group"
   ]
  },
  {
   "cell_type": "code",
   "execution_count": 35,
   "metadata": {
    "collapsed": true
   },
   "outputs": [],
   "source": [
    "#Time Series\n",
    "df_cluster3['date'] = pd.to_datetime(df_cluster3['TimeStamp'])\n",
    "df_cluster3.index = df_cluster3['date']\n",
    "del df_cluster3['date']\n",
    "del df_cluster3['TimeStamp']"
   ]
  },
  {
   "cell_type": "code",
   "execution_count": 36,
   "metadata": {
    "collapsed": false
   },
   "outputs": [
    {
     "name": "stderr",
     "output_type": "stream",
     "text": [
      "/Users/andycho/anaconda/lib/python3.5/site-packages/ipykernel/__main__.py:1: FutureWarning: sort(....) is deprecated, use sort_index(.....)\n",
      "  if __name__ == '__main__':\n"
     ]
    },
    {
     "data": {
      "text/html": [
       "<div>\n",
       "<table border=\"1\" class=\"dataframe\">\n",
       "  <thead>\n",
       "    <tr style=\"text-align: right;\">\n",
       "      <th></th>\n",
       "      <th>URL</th>\n",
       "      <th>User Agent</th>\n",
       "      <th>UUID</th>\n",
       "      <th>ClassID</th>\n",
       "    </tr>\n",
       "    <tr>\n",
       "      <th>date</th>\n",
       "      <th></th>\n",
       "      <th></th>\n",
       "      <th></th>\n",
       "      <th></th>\n",
       "    </tr>\n",
       "  </thead>\n",
       "  <tbody>\n",
       "    <tr>\n",
       "      <th>2014-09-05 15:20:22</th>\n",
       "      <td>/api/v1/courses/166/pages/dr-millers-lecture-0...</td>\n",
       "      <td>Mozilla/5.0 (Macintosh; Intel Mac OS X 10_9_4)...</td>\n",
       "      <td>12ad6efb91293b2eddb6f95c5c926028</td>\n",
       "      <td>05d0532840f04928dfdd86296c51189d</td>\n",
       "    </tr>\n",
       "    <tr>\n",
       "      <th>2014-09-05 15:50:21</th>\n",
       "      <td>/api/v1/courses/166/pages/dr-millers-lecture-0...</td>\n",
       "      <td>Mozilla/5.0 (Macintosh; Intel Mac OS X 10_7_4)...</td>\n",
       "      <td>7734162bdae803bec8e5fc999bad82dc</td>\n",
       "      <td>05d0532840f04928dfdd86296c51189d</td>\n",
       "    </tr>\n",
       "    <tr>\n",
       "      <th>2014-09-05 18:45:11</th>\n",
       "      <td>/api/v1/courses/166/pages/dr-millers-lecture-0...</td>\n",
       "      <td>Mozilla/5.0 (Windows NT 6.3; WOW64) AppleWebKi...</td>\n",
       "      <td>ef7aa56d65f83625d673628e00f042e3</td>\n",
       "      <td>05d0532840f04928dfdd86296c51189d</td>\n",
       "    </tr>\n",
       "    <tr>\n",
       "      <th>2014-09-08 00:58:28</th>\n",
       "      <td>/api/v1/courses/166/pages/dr-millers-lecture-0...</td>\n",
       "      <td>Mozilla/5.0 (Macintosh; Intel Mac OS X 10_9_4)...</td>\n",
       "      <td>c399155d47f93f9e1d38c68fc86bfafe</td>\n",
       "      <td>05d0532840f04928dfdd86296c51189d</td>\n",
       "    </tr>\n",
       "    <tr>\n",
       "      <th>2014-09-08 15:22:08</th>\n",
       "      <td>/api/v1/courses/166/pages/dr-millers-lecture-0...</td>\n",
       "      <td>Mozilla/5.0 (Macintosh; Intel Mac OS X 10_9_4)...</td>\n",
       "      <td>122eef61d18b09a0fad9bf3a40c01aa8</td>\n",
       "      <td>05d0532840f04928dfdd86296c51189d</td>\n",
       "    </tr>\n",
       "  </tbody>\n",
       "</table>\n",
       "</div>"
      ],
      "text/plain": [
       "                                                                   URL  \\\n",
       "date                                                                     \n",
       "2014-09-05 15:20:22  /api/v1/courses/166/pages/dr-millers-lecture-0...   \n",
       "2014-09-05 15:50:21  /api/v1/courses/166/pages/dr-millers-lecture-0...   \n",
       "2014-09-05 18:45:11  /api/v1/courses/166/pages/dr-millers-lecture-0...   \n",
       "2014-09-08 00:58:28  /api/v1/courses/166/pages/dr-millers-lecture-0...   \n",
       "2014-09-08 15:22:08  /api/v1/courses/166/pages/dr-millers-lecture-0...   \n",
       "\n",
       "                                                            User Agent  \\\n",
       "date                                                                     \n",
       "2014-09-05 15:20:22  Mozilla/5.0 (Macintosh; Intel Mac OS X 10_9_4)...   \n",
       "2014-09-05 15:50:21  Mozilla/5.0 (Macintosh; Intel Mac OS X 10_7_4)...   \n",
       "2014-09-05 18:45:11  Mozilla/5.0 (Windows NT 6.3; WOW64) AppleWebKi...   \n",
       "2014-09-08 00:58:28  Mozilla/5.0 (Macintosh; Intel Mac OS X 10_9_4)...   \n",
       "2014-09-08 15:22:08  Mozilla/5.0 (Macintosh; Intel Mac OS X 10_9_4)...   \n",
       "\n",
       "                                                 UUID  \\\n",
       "date                                                    \n",
       "2014-09-05 15:20:22  12ad6efb91293b2eddb6f95c5c926028   \n",
       "2014-09-05 15:50:21  7734162bdae803bec8e5fc999bad82dc   \n",
       "2014-09-05 18:45:11  ef7aa56d65f83625d673628e00f042e3   \n",
       "2014-09-08 00:58:28  c399155d47f93f9e1d38c68fc86bfafe   \n",
       "2014-09-08 15:22:08  122eef61d18b09a0fad9bf3a40c01aa8   \n",
       "\n",
       "                                              ClassID  \n",
       "date                                                   \n",
       "2014-09-05 15:20:22  05d0532840f04928dfdd86296c51189d  \n",
       "2014-09-05 15:50:21  05d0532840f04928dfdd86296c51189d  \n",
       "2014-09-05 18:45:11  05d0532840f04928dfdd86296c51189d  \n",
       "2014-09-08 00:58:28  05d0532840f04928dfdd86296c51189d  \n",
       "2014-09-08 15:22:08  05d0532840f04928dfdd86296c51189d  "
      ]
     },
     "execution_count": 36,
     "metadata": {},
     "output_type": "execute_result"
    }
   ],
   "source": [
    "df_cluster3 = df_cluster3.sort()\n",
    "df_cluster3.head()"
   ]
  },
  {
   "cell_type": "code",
   "execution_count": 37,
   "metadata": {
    "collapsed": false
   },
   "outputs": [
    {
     "data": {
      "text/html": [
       "<div>\n",
       "<table border=\"1\" class=\"dataframe\">\n",
       "  <thead>\n",
       "    <tr style=\"text-align: right;\">\n",
       "      <th></th>\n",
       "      <th>URL</th>\n",
       "      <th>User Agent</th>\n",
       "      <th>UUID</th>\n",
       "      <th>ClassID</th>\n",
       "      <th>HofD</th>\n",
       "      <th>DofM</th>\n",
       "    </tr>\n",
       "    <tr>\n",
       "      <th>date</th>\n",
       "      <th></th>\n",
       "      <th></th>\n",
       "      <th></th>\n",
       "      <th></th>\n",
       "      <th></th>\n",
       "      <th></th>\n",
       "    </tr>\n",
       "  </thead>\n",
       "  <tbody>\n",
       "    <tr>\n",
       "      <th>2014-09-05 15:20:22</th>\n",
       "      <td>/api/v1/courses/166/pages/dr-millers-lecture-0...</td>\n",
       "      <td>Mozilla/5.0 (Macintosh; Intel Mac OS X 10_9_4)...</td>\n",
       "      <td>12ad6efb91293b2eddb6f95c5c926028</td>\n",
       "      <td>05d0532840f04928dfdd86296c51189d</td>\n",
       "      <td>15</td>\n",
       "      <td>5</td>\n",
       "    </tr>\n",
       "    <tr>\n",
       "      <th>2014-09-05 15:50:21</th>\n",
       "      <td>/api/v1/courses/166/pages/dr-millers-lecture-0...</td>\n",
       "      <td>Mozilla/5.0 (Macintosh; Intel Mac OS X 10_7_4)...</td>\n",
       "      <td>7734162bdae803bec8e5fc999bad82dc</td>\n",
       "      <td>05d0532840f04928dfdd86296c51189d</td>\n",
       "      <td>15</td>\n",
       "      <td>5</td>\n",
       "    </tr>\n",
       "    <tr>\n",
       "      <th>2014-09-05 18:45:11</th>\n",
       "      <td>/api/v1/courses/166/pages/dr-millers-lecture-0...</td>\n",
       "      <td>Mozilla/5.0 (Windows NT 6.3; WOW64) AppleWebKi...</td>\n",
       "      <td>ef7aa56d65f83625d673628e00f042e3</td>\n",
       "      <td>05d0532840f04928dfdd86296c51189d</td>\n",
       "      <td>18</td>\n",
       "      <td>5</td>\n",
       "    </tr>\n",
       "    <tr>\n",
       "      <th>2014-09-08 00:58:28</th>\n",
       "      <td>/api/v1/courses/166/pages/dr-millers-lecture-0...</td>\n",
       "      <td>Mozilla/5.0 (Macintosh; Intel Mac OS X 10_9_4)...</td>\n",
       "      <td>c399155d47f93f9e1d38c68fc86bfafe</td>\n",
       "      <td>05d0532840f04928dfdd86296c51189d</td>\n",
       "      <td>0</td>\n",
       "      <td>8</td>\n",
       "    </tr>\n",
       "    <tr>\n",
       "      <th>2014-09-08 15:22:08</th>\n",
       "      <td>/api/v1/courses/166/pages/dr-millers-lecture-0...</td>\n",
       "      <td>Mozilla/5.0 (Macintosh; Intel Mac OS X 10_9_4)...</td>\n",
       "      <td>122eef61d18b09a0fad9bf3a40c01aa8</td>\n",
       "      <td>05d0532840f04928dfdd86296c51189d</td>\n",
       "      <td>15</td>\n",
       "      <td>8</td>\n",
       "    </tr>\n",
       "  </tbody>\n",
       "</table>\n",
       "</div>"
      ],
      "text/plain": [
       "                                                                   URL  \\\n",
       "date                                                                     \n",
       "2014-09-05 15:20:22  /api/v1/courses/166/pages/dr-millers-lecture-0...   \n",
       "2014-09-05 15:50:21  /api/v1/courses/166/pages/dr-millers-lecture-0...   \n",
       "2014-09-05 18:45:11  /api/v1/courses/166/pages/dr-millers-lecture-0...   \n",
       "2014-09-08 00:58:28  /api/v1/courses/166/pages/dr-millers-lecture-0...   \n",
       "2014-09-08 15:22:08  /api/v1/courses/166/pages/dr-millers-lecture-0...   \n",
       "\n",
       "                                                            User Agent  \\\n",
       "date                                                                     \n",
       "2014-09-05 15:20:22  Mozilla/5.0 (Macintosh; Intel Mac OS X 10_9_4)...   \n",
       "2014-09-05 15:50:21  Mozilla/5.0 (Macintosh; Intel Mac OS X 10_7_4)...   \n",
       "2014-09-05 18:45:11  Mozilla/5.0 (Windows NT 6.3; WOW64) AppleWebKi...   \n",
       "2014-09-08 00:58:28  Mozilla/5.0 (Macintosh; Intel Mac OS X 10_9_4)...   \n",
       "2014-09-08 15:22:08  Mozilla/5.0 (Macintosh; Intel Mac OS X 10_9_4)...   \n",
       "\n",
       "                                                 UUID  \\\n",
       "date                                                    \n",
       "2014-09-05 15:20:22  12ad6efb91293b2eddb6f95c5c926028   \n",
       "2014-09-05 15:50:21  7734162bdae803bec8e5fc999bad82dc   \n",
       "2014-09-05 18:45:11  ef7aa56d65f83625d673628e00f042e3   \n",
       "2014-09-08 00:58:28  c399155d47f93f9e1d38c68fc86bfafe   \n",
       "2014-09-08 15:22:08  122eef61d18b09a0fad9bf3a40c01aa8   \n",
       "\n",
       "                                              ClassID  HofD  DofM  \n",
       "date                                                               \n",
       "2014-09-05 15:20:22  05d0532840f04928dfdd86296c51189d    15     5  \n",
       "2014-09-05 15:50:21  05d0532840f04928dfdd86296c51189d    15     5  \n",
       "2014-09-05 18:45:11  05d0532840f04928dfdd86296c51189d    18     5  \n",
       "2014-09-08 00:58:28  05d0532840f04928dfdd86296c51189d     0     8  \n",
       "2014-09-08 15:22:08  05d0532840f04928dfdd86296c51189d    15     8  "
      ]
     },
     "execution_count": 37,
     "metadata": {},
     "output_type": "execute_result"
    }
   ],
   "source": [
    "#bin them into days or something and then use the count to see how many are in a certain day or hour\n",
    "df_cluster3['HofD'] = [r.hour for r in df_cluster3.index]\n",
    "df_cluster3['DofM'] = [r.day for r in df_cluster3.index]\n",
    "df_cluster3.head()"
   ]
  },
  {
   "cell_type": "code",
   "execution_count": 38,
   "metadata": {
    "collapsed": false
   },
   "outputs": [
    {
     "data": {
      "text/plain": [
       "<matplotlib.axes._subplots.AxesSubplot at 0x10f8cd550>"
      ]
     },
     "execution_count": 38,
     "metadata": {},
     "output_type": "execute_result"
    },
    {
     "data": {
      "image/png": "[encoded data removed]",
      "text/plain": [
       "<matplotlib.figure.Figure at 0x10f895898>"
      ]
     },
     "metadata": {},
     "output_type": "display_data"
    }
   ],
   "source": [
    "df_cluster3.groupby('HofD').count().plot(title='Cluster 3 Site Views by Hour')"
   ]
  },
  {
   "cell_type": "code",
   "execution_count": 39,
   "metadata": {
    "collapsed": false
   },
   "outputs": [
    {
     "data": {
      "text/plain": [
       "<matplotlib.axes._subplots.AxesSubplot at 0x10edf5898>"
      ]
     },
     "execution_count": 39,
     "metadata": {},
     "output_type": "execute_result"
    },
    {
     "data": {
      "image/png": "[encoded data removed]",
      "text/plain": [
       "<matplotlib.figure.Figure at 0x10eb86048>"
      ]
     },
     "metadata": {},
     "output_type": "display_data"
    }
   ],
   "source": [
    "df_cluster3.groupby('DofM').count().plot(title='Cluster 3 Site Views by Day of Month')"
   ]
  },
  {
   "cell_type": "code",
   "execution_count": 40,
   "metadata": {
    "collapsed": false
   },
   "outputs": [
    {
     "data": {
      "text/html": [
       "<div>\n",
       "<table border=\"1\" class=\"dataframe\">\n",
       "  <thead>\n",
       "    <tr style=\"text-align: right;\">\n",
       "      <th></th>\n",
       "      <th>URL</th>\n",
       "      <th>User Agent</th>\n",
       "      <th>TimeStamp</th>\n",
       "      <th>UUID</th>\n",
       "      <th>ClassID</th>\n",
       "    </tr>\n",
       "  </thead>\n",
       "  <tbody>\n",
       "    <tr>\n",
       "      <th>0</th>\n",
       "      <td>/api/v1/courses/166/pages/virtual-sites/revisi...</td>\n",
       "      <td>Mozilla/5.0 (Macintosh; Intel Mac OS X 10_9_4)...</td>\n",
       "      <td>2014-09-11 18:25:01</td>\n",
       "      <td>5505bf09e65a6274c577c7be6eab2307</td>\n",
       "      <td>05d0532840f04928dfdd86296c51189d</td>\n",
       "    </tr>\n",
       "    <tr>\n",
       "      <th>1</th>\n",
       "      <td>/api/v1/courses/166/pages/virtual-sites/revisi...</td>\n",
       "      <td>Mozilla/5.0 (Macintosh; Intel Mac OS X 10_8_5)...</td>\n",
       "      <td>2014-11-17 02:12:41</td>\n",
       "      <td>c5e69ec3988c674e22c269280c171871</td>\n",
       "      <td>05d0532840f04928dfdd86296c51189d</td>\n",
       "    </tr>\n",
       "    <tr>\n",
       "      <th>2</th>\n",
       "      <td>/api/v1/courses/166/pages/virtual-sites/revisi...</td>\n",
       "      <td>Mozilla/5.0 (Windows NT 6.1; WOW64) AppleWebKi...</td>\n",
       "      <td>2014-11-03 03:34:47</td>\n",
       "      <td>a6861472e9fb6255c95f35358f51f94b</td>\n",
       "      <td>05d0532840f04928dfdd86296c51189d</td>\n",
       "    </tr>\n",
       "    <tr>\n",
       "      <th>3</th>\n",
       "      <td>/api/v1/courses/166/pages/virtual-sites/revisi...</td>\n",
       "      <td>Mozilla/5.0 (Macintosh; Intel Mac OS X 10_8_5)...</td>\n",
       "      <td>2014-12-04 02:44:04</td>\n",
       "      <td>97f9c2eacb43843da0a5b8aa646a0a23</td>\n",
       "      <td>05d0532840f04928dfdd86296c51189d</td>\n",
       "    </tr>\n",
       "    <tr>\n",
       "      <th>4</th>\n",
       "      <td>/api/v1/courses/166/pages/virtual-sites/revisi...</td>\n",
       "      <td>Mozilla/5.0 (Windows NT 6.3; WOW64) AppleWebKi...</td>\n",
       "      <td>2014-09-24 20:20:50</td>\n",
       "      <td>20457479e30fa91d2100793fca0f718a</td>\n",
       "      <td>05d0532840f04928dfdd86296c51189d</td>\n",
       "    </tr>\n",
       "  </tbody>\n",
       "</table>\n",
       "</div>"
      ],
      "text/plain": [
       "                                                 URL  \\\n",
       "0  /api/v1/courses/166/pages/virtual-sites/revisi...   \n",
       "1  /api/v1/courses/166/pages/virtual-sites/revisi...   \n",
       "2  /api/v1/courses/166/pages/virtual-sites/revisi...   \n",
       "3  /api/v1/courses/166/pages/virtual-sites/revisi...   \n",
       "4  /api/v1/courses/166/pages/virtual-sites/revisi...   \n",
       "\n",
       "                                          User Agent            TimeStamp  \\\n",
       "0  Mozilla/5.0 (Macintosh; Intel Mac OS X 10_9_4)...  2014-09-11 18:25:01   \n",
       "1  Mozilla/5.0 (Macintosh; Intel Mac OS X 10_8_5)...  2014-11-17 02:12:41   \n",
       "2  Mozilla/5.0 (Windows NT 6.1; WOW64) AppleWebKi...  2014-11-03 03:34:47   \n",
       "3  Mozilla/5.0 (Macintosh; Intel Mac OS X 10_8_5)...  2014-12-04 02:44:04   \n",
       "4  Mozilla/5.0 (Windows NT 6.3; WOW64) AppleWebKi...  2014-09-24 20:20:50   \n",
       "\n",
       "                               UUID                           ClassID  \n",
       "0  5505bf09e65a6274c577c7be6eab2307  05d0532840f04928dfdd86296c51189d  \n",
       "1  c5e69ec3988c674e22c269280c171871  05d0532840f04928dfdd86296c51189d  \n",
       "2  a6861472e9fb6255c95f35358f51f94b  05d0532840f04928dfdd86296c51189d  \n",
       "3  97f9c2eacb43843da0a5b8aa646a0a23  05d0532840f04928dfdd86296c51189d  \n",
       "4  20457479e30fa91d2100793fca0f718a  05d0532840f04928dfdd86296c51189d  "
      ]
     },
     "execution_count": 40,
     "metadata": {},
     "output_type": "execute_result"
    }
   ],
   "source": [
    "#######CLUSTER 4 ANALYSIS\n",
    "df_cluster4 = pd.DataFrame(columns=('URL', 'User Agent', 'TimeStamp', 'UUID', 'ClassID'))\n",
    "for member in cluster4:\n",
    "    df_cluster4.loc[len(df_cluster4)] = df_reduced.ix[member]\n",
    "df_cluster4.head()"
   ]
  },
  {
   "cell_type": "code",
   "execution_count": 41,
   "metadata": {
    "collapsed": false
   },
   "outputs": [
    {
     "name": "stderr",
     "output_type": "stream",
     "text": [
      "/Users/andycho/anaconda/lib/python3.5/site-packages/ipykernel/__main__.py:2: FutureWarning: sort(columns=....) is deprecated, use sort_values(by=.....)\n",
      "  from ipykernel import kernelapp as app\n"
     ]
    },
    {
     "data": {
      "text/plain": [
       "<matplotlib.text.Text at 0x10f5b2160>"
      ]
     },
     "execution_count": 41,
     "metadata": {},
     "output_type": "execute_result"
    },
    {
     "data": {
      "image/png": "[encoded data removed]",
      "text/plain": [
       "<matplotlib.figure.Figure at 0x10ed3f908>"
      ]
     },
     "metadata": {},
     "output_type": "display_data"
    }
   ],
   "source": [
    "#Descriptive Stats\n",
    "df_cluster4.groupby('UUID').count().sort(['URL']).plot(kind='hist', bins=6, legend=False,\n",
    "                                                    title = 'Distribution of Page Visits by Users')\n",
    "plt.xlabel('Page Visits')\n",
    "plt.ylabel('Number of Users')"
   ]
  },
  {
   "cell_type": "code",
   "execution_count": 42,
   "metadata": {
    "collapsed": false
   },
   "outputs": [
    {
     "data": {
      "text/plain": [
       "1.5203488372093024"
      ]
     },
     "execution_count": 42,
     "metadata": {},
     "output_type": "execute_result"
    }
   ],
   "source": [
    "df_cluster4.groupby('UUID').count().mean()['URL'] #average number of page views for each student in this group"
   ]
  },
  {
   "cell_type": "code",
   "execution_count": 43,
   "metadata": {
    "collapsed": true
   },
   "outputs": [],
   "source": [
    "#Time Series\n",
    "df_cluster4['date'] = pd.to_datetime(df_cluster4['TimeStamp'])\n",
    "df_cluster4.index = df_cluster4['date']\n",
    "del df_cluster4['date']\n",
    "del df_cluster4['TimeStamp']"
   ]
  },
  {
   "cell_type": "code",
   "execution_count": 44,
   "metadata": {
    "collapsed": false
   },
   "outputs": [
    {
     "name": "stderr",
     "output_type": "stream",
     "text": [
      "/Users/andycho/anaconda/lib/python3.5/site-packages/ipykernel/__main__.py:1: FutureWarning: sort(....) is deprecated, use sort_index(.....)\n",
      "  if __name__ == '__main__':\n"
     ]
    },
    {
     "data": {
      "text/html": [
       "<div>\n",
       "<table border=\"1\" class=\"dataframe\">\n",
       "  <thead>\n",
       "    <tr style=\"text-align: right;\">\n",
       "      <th></th>\n",
       "      <th>URL</th>\n",
       "      <th>User Agent</th>\n",
       "      <th>UUID</th>\n",
       "      <th>ClassID</th>\n",
       "    </tr>\n",
       "    <tr>\n",
       "      <th>date</th>\n",
       "      <th></th>\n",
       "      <th></th>\n",
       "      <th></th>\n",
       "      <th></th>\n",
       "    </tr>\n",
       "  </thead>\n",
       "  <tbody>\n",
       "    <tr>\n",
       "      <th>2014-09-04 17:28:49</th>\n",
       "      <td>/api/v1/courses/166/pages/virtual-sites/revisi...</td>\n",
       "      <td>Mozilla/5.0 (Macintosh; Intel Mac OS X 10_7_5)...</td>\n",
       "      <td>2d191768a201f89ac7f3bd38e73e3b1e</td>\n",
       "      <td>05d0532840f04928dfdd86296c51189d</td>\n",
       "    </tr>\n",
       "    <tr>\n",
       "      <th>2014-09-07 21:25:29</th>\n",
       "      <td>/api/v1/courses/166/pages/virtual-sites/revisi...</td>\n",
       "      <td>Mozilla/5.0 (Windows NT 6.1; WOW64) AppleWebKi...</td>\n",
       "      <td>64eb5b31b413bb831636eca94d385fba</td>\n",
       "      <td>05d0532840f04928dfdd86296c51189d</td>\n",
       "    </tr>\n",
       "    <tr>\n",
       "      <th>2014-09-08 04:41:43</th>\n",
       "      <td>/api/v1/courses/166/pages/virtual-sites/revisi...</td>\n",
       "      <td>Mozilla/5.0 (Windows NT 6.1; WOW64) AppleWebKi...</td>\n",
       "      <td>c7422696709c1c95d5e9467c6dcf0011</td>\n",
       "      <td>05d0532840f04928dfdd86296c51189d</td>\n",
       "    </tr>\n",
       "    <tr>\n",
       "      <th>2014-09-08 07:22:23</th>\n",
       "      <td>/api/v1/courses/166/pages/virtual-sites/revisi...</td>\n",
       "      <td>Mozilla/5.0 (Windows NT 6.1; WOW64) AppleWebKi...</td>\n",
       "      <td>a83c57755761edd1ea010a374cd5f090</td>\n",
       "      <td>05d0532840f04928dfdd86296c51189d</td>\n",
       "    </tr>\n",
       "    <tr>\n",
       "      <th>2014-09-08 15:04:46</th>\n",
       "      <td>/api/v1/courses/166/pages/virtual-sites/revisi...</td>\n",
       "      <td>Mozilla/5.0 (Macintosh; Intel Mac OS X 10_9_3)...</td>\n",
       "      <td>e7206aa8d573d2814cc8a43b14e08c12</td>\n",
       "      <td>05d0532840f04928dfdd86296c51189d</td>\n",
       "    </tr>\n",
       "  </tbody>\n",
       "</table>\n",
       "</div>"
      ],
      "text/plain": [
       "                                                                   URL  \\\n",
       "date                                                                     \n",
       "2014-09-04 17:28:49  /api/v1/courses/166/pages/virtual-sites/revisi...   \n",
       "2014-09-07 21:25:29  /api/v1/courses/166/pages/virtual-sites/revisi...   \n",
       "2014-09-08 04:41:43  /api/v1/courses/166/pages/virtual-sites/revisi...   \n",
       "2014-09-08 07:22:23  /api/v1/courses/166/pages/virtual-sites/revisi...   \n",
       "2014-09-08 15:04:46  /api/v1/courses/166/pages/virtual-sites/revisi...   \n",
       "\n",
       "                                                            User Agent  \\\n",
       "date                                                                     \n",
       "2014-09-04 17:28:49  Mozilla/5.0 (Macintosh; Intel Mac OS X 10_7_5)...   \n",
       "2014-09-07 21:25:29  Mozilla/5.0 (Windows NT 6.1; WOW64) AppleWebKi...   \n",
       "2014-09-08 04:41:43  Mozilla/5.0 (Windows NT 6.1; WOW64) AppleWebKi...   \n",
       "2014-09-08 07:22:23  Mozilla/5.0 (Windows NT 6.1; WOW64) AppleWebKi...   \n",
       "2014-09-08 15:04:46  Mozilla/5.0 (Macintosh; Intel Mac OS X 10_9_3)...   \n",
       "\n",
       "                                                 UUID  \\\n",
       "date                                                    \n",
       "2014-09-04 17:28:49  2d191768a201f89ac7f3bd38e73e3b1e   \n",
       "2014-09-07 21:25:29  64eb5b31b413bb831636eca94d385fba   \n",
       "2014-09-08 04:41:43  c7422696709c1c95d5e9467c6dcf0011   \n",
       "2014-09-08 07:22:23  a83c57755761edd1ea010a374cd5f090   \n",
       "2014-09-08 15:04:46  e7206aa8d573d2814cc8a43b14e08c12   \n",
       "\n",
       "                                              ClassID  \n",
       "date                                                   \n",
       "2014-09-04 17:28:49  05d0532840f04928dfdd86296c51189d  \n",
       "2014-09-07 21:25:29  05d0532840f04928dfdd86296c51189d  \n",
       "2014-09-08 04:41:43  05d0532840f04928dfdd86296c51189d  \n",
       "2014-09-08 07:22:23  05d0532840f04928dfdd86296c51189d  \n",
       "2014-09-08 15:04:46  05d0532840f04928dfdd86296c51189d  "
      ]
     },
     "execution_count": 44,
     "metadata": {},
     "output_type": "execute_result"
    }
   ],
   "source": [
    "df_cluster4 = df_cluster4.sort()\n",
    "df_cluster4.head()"
   ]
  },
  {
   "cell_type": "code",
   "execution_count": 45,
   "metadata": {
    "collapsed": false
   },
   "outputs": [
    {
     "data": {
      "text/html": [
       "<div>\n",
       "<table border=\"1\" class=\"dataframe\">\n",
       "  <thead>\n",
       "    <tr style=\"text-align: right;\">\n",
       "      <th></th>\n",
       "      <th>URL</th>\n",
       "      <th>User Agent</th>\n",
       "      <th>UUID</th>\n",
       "      <th>ClassID</th>\n",
       "      <th>HofD</th>\n",
       "      <th>DofM</th>\n",
       "    </tr>\n",
       "    <tr>\n",
       "      <th>date</th>\n",
       "      <th></th>\n",
       "      <th></th>\n",
       "      <th></th>\n",
       "      <th></th>\n",
       "      <th></th>\n",
       "      <th></th>\n",
       "    </tr>\n",
       "  </thead>\n",
       "  <tbody>\n",
       "    <tr>\n",
       "      <th>2014-09-04 17:28:49</th>\n",
       "      <td>/api/v1/courses/166/pages/virtual-sites/revisi...</td>\n",
       "      <td>Mozilla/5.0 (Macintosh; Intel Mac OS X 10_7_5)...</td>\n",
       "      <td>2d191768a201f89ac7f3bd38e73e3b1e</td>\n",
       "      <td>05d0532840f04928dfdd86296c51189d</td>\n",
       "      <td>17</td>\n",
       "      <td>4</td>\n",
       "    </tr>\n",
       "    <tr>\n",
       "      <th>2014-09-07 21:25:29</th>\n",
       "      <td>/api/v1/courses/166/pages/virtual-sites/revisi...</td>\n",
       "      <td>Mozilla/5.0 (Windows NT 6.1; WOW64) AppleWebKi...</td>\n",
       "      <td>64eb5b31b413bb831636eca94d385fba</td>\n",
       "      <td>05d0532840f04928dfdd86296c51189d</td>\n",
       "      <td>21</td>\n",
       "      <td>7</td>\n",
       "    </tr>\n",
       "    <tr>\n",
       "      <th>2014-09-08 04:41:43</th>\n",
       "      <td>/api/v1/courses/166/pages/virtual-sites/revisi...</td>\n",
       "      <td>Mozilla/5.0 (Windows NT 6.1; WOW64) AppleWebKi...</td>\n",
       "      <td>c7422696709c1c95d5e9467c6dcf0011</td>\n",
       "      <td>05d0532840f04928dfdd86296c51189d</td>\n",
       "      <td>4</td>\n",
       "      <td>8</td>\n",
       "    </tr>\n",
       "    <tr>\n",
       "      <th>2014-09-08 07:22:23</th>\n",
       "      <td>/api/v1/courses/166/pages/virtual-sites/revisi...</td>\n",
       "      <td>Mozilla/5.0 (Windows NT 6.1; WOW64) AppleWebKi...</td>\n",
       "      <td>a83c57755761edd1ea010a374cd5f090</td>\n",
       "      <td>05d0532840f04928dfdd86296c51189d</td>\n",
       "      <td>7</td>\n",
       "      <td>8</td>\n",
       "    </tr>\n",
       "    <tr>\n",
       "      <th>2014-09-08 15:04:46</th>\n",
       "      <td>/api/v1/courses/166/pages/virtual-sites/revisi...</td>\n",
       "      <td>Mozilla/5.0 (Macintosh; Intel Mac OS X 10_9_3)...</td>\n",
       "      <td>e7206aa8d573d2814cc8a43b14e08c12</td>\n",
       "      <td>05d0532840f04928dfdd86296c51189d</td>\n",
       "      <td>15</td>\n",
       "      <td>8</td>\n",
       "    </tr>\n",
       "  </tbody>\n",
       "</table>\n",
       "</div>"
      ],
      "text/plain": [
       "                                                                   URL  \\\n",
       "date                                                                     \n",
       "2014-09-04 17:28:49  /api/v1/courses/166/pages/virtual-sites/revisi...   \n",
       "2014-09-07 21:25:29  /api/v1/courses/166/pages/virtual-sites/revisi...   \n",
       "2014-09-08 04:41:43  /api/v1/courses/166/pages/virtual-sites/revisi...   \n",
       "2014-09-08 07:22:23  /api/v1/courses/166/pages/virtual-sites/revisi...   \n",
       "2014-09-08 15:04:46  /api/v1/courses/166/pages/virtual-sites/revisi...   \n",
       "\n",
       "                                                            User Agent  \\\n",
       "date                                                                     \n",
       "2014-09-04 17:28:49  Mozilla/5.0 (Macintosh; Intel Mac OS X 10_7_5)...   \n",
       "2014-09-07 21:25:29  Mozilla/5.0 (Windows NT 6.1; WOW64) AppleWebKi...   \n",
       "2014-09-08 04:41:43  Mozilla/5.0 (Windows NT 6.1; WOW64) AppleWebKi...   \n",
       "2014-09-08 07:22:23  Mozilla/5.0 (Windows NT 6.1; WOW64) AppleWebKi...   \n",
       "2014-09-08 15:04:46  Mozilla/5.0 (Macintosh; Intel Mac OS X 10_9_3)...   \n",
       "\n",
       "                                                 UUID  \\\n",
       "date                                                    \n",
       "2014-09-04 17:28:49  2d191768a201f89ac7f3bd38e73e3b1e   \n",
       "2014-09-07 21:25:29  64eb5b31b413bb831636eca94d385fba   \n",
       "2014-09-08 04:41:43  c7422696709c1c95d5e9467c6dcf0011   \n",
       "2014-09-08 07:22:23  a83c57755761edd1ea010a374cd5f090   \n",
       "2014-09-08 15:04:46  e7206aa8d573d2814cc8a43b14e08c12   \n",
       "\n",
       "                                              ClassID  HofD  DofM  \n",
       "date                                                               \n",
       "2014-09-04 17:28:49  05d0532840f04928dfdd86296c51189d    17     4  \n",
       "2014-09-07 21:25:29  05d0532840f04928dfdd86296c51189d    21     7  \n",
       "2014-09-08 04:41:43  05d0532840f04928dfdd86296c51189d     4     8  \n",
       "2014-09-08 07:22:23  05d0532840f04928dfdd86296c51189d     7     8  \n",
       "2014-09-08 15:04:46  05d0532840f04928dfdd86296c51189d    15     8  "
      ]
     },
     "execution_count": 45,
     "metadata": {},
     "output_type": "execute_result"
    }
   ],
   "source": [
    "#bin them into days or something and then use the count to see how many are in a certain day or hour\n",
    "df_cluster4['HofD'] = [r.hour for r in df_cluster4.index]\n",
    "df_cluster4['DofM'] = [r.day for r in df_cluster4.index]\n",
    "df_cluster4.head()"
   ]
  },
  {
   "cell_type": "code",
   "execution_count": 46,
   "metadata": {
    "collapsed": false
   },
   "outputs": [
    {
     "data": {
      "text/plain": [
       "<matplotlib.axes._subplots.AxesSubplot at 0x110fbc7f0>"
      ]
     },
     "execution_count": 46,
     "metadata": {},
     "output_type": "execute_result"
    },
    {
     "data": {
      "image/png": "[encoded data removed]",
      "text/plain": [
       "<matplotlib.figure.Figure at 0x10f71c080>"
      ]
     },
     "metadata": {},
     "output_type": "display_data"
    }
   ],
   "source": [
    "df_cluster4.groupby('HofD').count().plot(title='Cluster 4 Site Views by Hour')"
   ]
  },
  {
   "cell_type": "code",
   "execution_count": 47,
   "metadata": {
    "collapsed": false
   },
   "outputs": [
    {
     "data": {
      "text/plain": [
       "<matplotlib.axes._subplots.AxesSubplot at 0x110ff30f0>"
      ]
     },
     "execution_count": 47,
     "metadata": {},
     "output_type": "execute_result"
    },
    {
     "data": {
      "image/png": "[encoded data removed]",
      "text/plain": [
       "<matplotlib.figure.Figure at 0x111039a90>"
      ]
     },
     "metadata": {},
     "output_type": "display_data"
    }
   ],
   "source": [
    "df_cluster4.groupby('DofM').count().plot(title='Cluster 4 Site Views by Day of Month')"
   ]
  },
  {
   "cell_type": "code",
   "execution_count": 48,
   "metadata": {
    "collapsed": false
   },
   "outputs": [
    {
     "data": {
      "text/html": [
       "<div>\n",
       "<table border=\"1\" class=\"dataframe\">\n",
       "  <thead>\n",
       "    <tr style=\"text-align: right;\">\n",
       "      <th></th>\n",
       "      <th>URL</th>\n",
       "      <th>User Agent</th>\n",
       "      <th>TimeStamp</th>\n",
       "      <th>UUID</th>\n",
       "      <th>ClassID</th>\n",
       "    </tr>\n",
       "  </thead>\n",
       "  <tbody>\n",
       "    <tr>\n",
       "      <th>0</th>\n",
       "      <td>/api/v1/courses/158/ping</td>\n",
       "      <td>Mozilla/5.0 (Windows NT 6.1) AppleWebKit/537.3...</td>\n",
       "      <td>2014-10-07 03:59:14</td>\n",
       "      <td>23086034542c094c805b27462ac051b0</td>\n",
       "      <td>08acd1cae6c97712fc8dbe400c35b47d</td>\n",
       "    </tr>\n",
       "    <tr>\n",
       "      <th>1</th>\n",
       "      <td>/api/v1/courses/158/ping</td>\n",
       "      <td>Mozilla/5.0 (Windows NT 6.3; WOW64) AppleWebKi...</td>\n",
       "      <td>2014-11-10 12:52:51</td>\n",
       "      <td>2ad3dc8ad09204737e62d5979287c163</td>\n",
       "      <td>08acd1cae6c97712fc8dbe400c35b47d</td>\n",
       "    </tr>\n",
       "    <tr>\n",
       "      <th>2</th>\n",
       "      <td>/api/v1/courses/158/ping</td>\n",
       "      <td>Mozilla/5.0 (Windows NT 6.1; WOW64) AppleWebKi...</td>\n",
       "      <td>2014-09-17 16:52:59</td>\n",
       "      <td>5e958d1919dd7753635406851709fbff</td>\n",
       "      <td>08acd1cae6c97712fc8dbe400c35b47d</td>\n",
       "    </tr>\n",
       "    <tr>\n",
       "      <th>3</th>\n",
       "      <td>/api/v1/courses/158/ping</td>\n",
       "      <td>Mozilla/5.0 (Windows NT 6.1; WOW64) AppleWebKi...</td>\n",
       "      <td>2014-09-11 18:13:53</td>\n",
       "      <td>88302671e242336be7f9f10fb32b0d8e</td>\n",
       "      <td>08acd1cae6c97712fc8dbe400c35b47d</td>\n",
       "    </tr>\n",
       "    <tr>\n",
       "      <th>4</th>\n",
       "      <td>/api/v1/courses/158/ping</td>\n",
       "      <td>Mozilla/5.0 (Windows NT 6.1; WOW64) AppleWebKi...</td>\n",
       "      <td>2014-10-09 12:22:03</td>\n",
       "      <td>418127ed04ba38547760fc1ca1c4e357</td>\n",
       "      <td>08acd1cae6c97712fc8dbe400c35b47d</td>\n",
       "    </tr>\n",
       "  </tbody>\n",
       "</table>\n",
       "</div>"
      ],
      "text/plain": [
       "                        URL  \\\n",
       "0  /api/v1/courses/158/ping   \n",
       "1  /api/v1/courses/158/ping   \n",
       "2  /api/v1/courses/158/ping   \n",
       "3  /api/v1/courses/158/ping   \n",
       "4  /api/v1/courses/158/ping   \n",
       "\n",
       "                                          User Agent            TimeStamp  \\\n",
       "0  Mozilla/5.0 (Windows NT 6.1) AppleWebKit/537.3...  2014-10-07 03:59:14   \n",
       "1  Mozilla/5.0 (Windows NT 6.3; WOW64) AppleWebKi...  2014-11-10 12:52:51   \n",
       "2  Mozilla/5.0 (Windows NT 6.1; WOW64) AppleWebKi...  2014-09-17 16:52:59   \n",
       "3  Mozilla/5.0 (Windows NT 6.1; WOW64) AppleWebKi...  2014-09-11 18:13:53   \n",
       "4  Mozilla/5.0 (Windows NT 6.1; WOW64) AppleWebKi...  2014-10-09 12:22:03   \n",
       "\n",
       "                               UUID                           ClassID  \n",
       "0  23086034542c094c805b27462ac051b0  08acd1cae6c97712fc8dbe400c35b47d  \n",
       "1  2ad3dc8ad09204737e62d5979287c163  08acd1cae6c97712fc8dbe400c35b47d  \n",
       "2  5e958d1919dd7753635406851709fbff  08acd1cae6c97712fc8dbe400c35b47d  \n",
       "3  88302671e242336be7f9f10fb32b0d8e  08acd1cae6c97712fc8dbe400c35b47d  \n",
       "4  418127ed04ba38547760fc1ca1c4e357  08acd1cae6c97712fc8dbe400c35b47d  "
      ]
     },
     "execution_count": 48,
     "metadata": {},
     "output_type": "execute_result"
    }
   ],
   "source": [
    "#######CLUSTER 5 ANALYSIS\n",
    "df_cluster5 = pd.DataFrame(columns=('URL', 'User Agent', 'TimeStamp', 'UUID', 'ClassID'))\n",
    "for member in cluster5:\n",
    "    df_cluster5.loc[len(df_cluster5)] = df_reduced.ix[member]\n",
    "df_cluster5.head()"
   ]
  },
  {
   "cell_type": "code",
   "execution_count": 49,
   "metadata": {
    "collapsed": false
   },
   "outputs": [
    {
     "name": "stderr",
     "output_type": "stream",
     "text": [
      "/Users/andycho/anaconda/lib/python3.5/site-packages/ipykernel/__main__.py:2: FutureWarning: sort(columns=....) is deprecated, use sort_values(by=.....)\n",
      "  from ipykernel import kernelapp as app\n"
     ]
    },
    {
     "data": {
      "text/plain": [
       "<matplotlib.text.Text at 0x111102d30>"
      ]
     },
     "execution_count": 49,
     "metadata": {},
     "output_type": "execute_result"
    },
    {
     "data": {
      "image/png": "[encoded data removed]",
      "text/plain": [
       "<matplotlib.figure.Figure at 0x1110798d0>"
      ]
     },
     "metadata": {},
     "output_type": "display_data"
    }
   ],
   "source": [
    "#Descriptive Stats\n",
    "df_cluster5.groupby('UUID').count().sort(['URL']).plot(kind='hist', bins=6, legend=False,\n",
    "                                                    title = 'Distribution of Page Visits by Users')\n",
    "plt.xlabel('Page Visits')\n",
    "plt.ylabel('Number of Users')"
   ]
  },
  {
   "cell_type": "code",
   "execution_count": 50,
   "metadata": {
    "collapsed": false
   },
   "outputs": [
    {
     "data": {
      "text/plain": [
       "1.3387096774193548"
      ]
     },
     "execution_count": 50,
     "metadata": {},
     "output_type": "execute_result"
    }
   ],
   "source": [
    "df_cluster5.groupby('UUID').count().mean()['URL'] #average number of page views for each student in this group"
   ]
  },
  {
   "cell_type": "code",
   "execution_count": 51,
   "metadata": {
    "collapsed": true
   },
   "outputs": [],
   "source": [
    "#Time Series\n",
    "df_cluster5['date'] = pd.to_datetime(df_cluster5['TimeStamp'])\n",
    "df_cluster5.index = df_cluster5['date']\n",
    "del df_cluster5['date']\n",
    "del df_cluster5['TimeStamp']"
   ]
  },
  {
   "cell_type": "code",
   "execution_count": 52,
   "metadata": {
    "collapsed": false
   },
   "outputs": [
    {
     "name": "stderr",
     "output_type": "stream",
     "text": [
      "/Users/andycho/anaconda/lib/python3.5/site-packages/ipykernel/__main__.py:1: FutureWarning: sort(....) is deprecated, use sort_index(.....)\n",
      "  if __name__ == '__main__':\n"
     ]
    },
    {
     "data": {
      "text/html": [
       "<div>\n",
       "<table border=\"1\" class=\"dataframe\">\n",
       "  <thead>\n",
       "    <tr style=\"text-align: right;\">\n",
       "      <th></th>\n",
       "      <th>URL</th>\n",
       "      <th>User Agent</th>\n",
       "      <th>UUID</th>\n",
       "      <th>ClassID</th>\n",
       "    </tr>\n",
       "    <tr>\n",
       "      <th>date</th>\n",
       "      <th></th>\n",
       "      <th></th>\n",
       "      <th></th>\n",
       "      <th></th>\n",
       "    </tr>\n",
       "  </thead>\n",
       "  <tbody>\n",
       "    <tr>\n",
       "      <th>2014-09-02 16:48:42</th>\n",
       "      <td>/api/v1/courses/158/ping</td>\n",
       "      <td>Mozilla/5.0 (Windows NT 6.1; WOW64) AppleWebKi...</td>\n",
       "      <td>3e8080b3d0e5c7b7d3e88a8fcc1a7aeb</td>\n",
       "      <td>08acd1cae6c97712fc8dbe400c35b47d</td>\n",
       "    </tr>\n",
       "    <tr>\n",
       "      <th>2014-09-03 01:18:29</th>\n",
       "      <td>/api/v1/courses/158/ping</td>\n",
       "      <td>Mozilla/5.0 (Macintosh; Intel Mac OS X 10_9_3)...</td>\n",
       "      <td>4e10015ea8d8b73570677cf5a14c8f73</td>\n",
       "      <td>08acd1cae6c97712fc8dbe400c35b47d</td>\n",
       "    </tr>\n",
       "    <tr>\n",
       "      <th>2014-09-05 17:38:19</th>\n",
       "      <td>/api/v1/courses/158/ping</td>\n",
       "      <td>Mozilla/5.0 (Windows NT 6.1; WOW64) AppleWebKi...</td>\n",
       "      <td>d85bd79aba765954f4955c68990331f0</td>\n",
       "      <td>08acd1cae6c97712fc8dbe400c35b47d</td>\n",
       "    </tr>\n",
       "    <tr>\n",
       "      <th>2014-09-09 21:44:23</th>\n",
       "      <td>/api/v1/courses/158/ping</td>\n",
       "      <td>Mozilla/5.0 (Windows NT 6.1; WOW64; rv:31.0) G...</td>\n",
       "      <td>dfa66799d71320bfc5853ee1f0cea49f</td>\n",
       "      <td>08acd1cae6c97712fc8dbe400c35b47d</td>\n",
       "    </tr>\n",
       "    <tr>\n",
       "      <th>2014-09-10 04:18:28</th>\n",
       "      <td>/api/v1/courses/158/ping</td>\n",
       "      <td>Mozilla/5.0 (Macintosh; Intel Mac OS X 10.9; r...</td>\n",
       "      <td>9c3c35198762749e2ec6abb8a3ea001f</td>\n",
       "      <td>08acd1cae6c97712fc8dbe400c35b47d</td>\n",
       "    </tr>\n",
       "  </tbody>\n",
       "</table>\n",
       "</div>"
      ],
      "text/plain": [
       "                                          URL  \\\n",
       "date                                            \n",
       "2014-09-02 16:48:42  /api/v1/courses/158/ping   \n",
       "2014-09-03 01:18:29  /api/v1/courses/158/ping   \n",
       "2014-09-05 17:38:19  /api/v1/courses/158/ping   \n",
       "2014-09-09 21:44:23  /api/v1/courses/158/ping   \n",
       "2014-09-10 04:18:28  /api/v1/courses/158/ping   \n",
       "\n",
       "                                                            User Agent  \\\n",
       "date                                                                     \n",
       "2014-09-02 16:48:42  Mozilla/5.0 (Windows NT 6.1; WOW64) AppleWebKi...   \n",
       "2014-09-03 01:18:29  Mozilla/5.0 (Macintosh; Intel Mac OS X 10_9_3)...   \n",
       "2014-09-05 17:38:19  Mozilla/5.0 (Windows NT 6.1; WOW64) AppleWebKi...   \n",
       "2014-09-09 21:44:23  Mozilla/5.0 (Windows NT 6.1; WOW64; rv:31.0) G...   \n",
       "2014-09-10 04:18:28  Mozilla/5.0 (Macintosh; Intel Mac OS X 10.9; r...   \n",
       "\n",
       "                                                 UUID  \\\n",
       "date                                                    \n",
       "2014-09-02 16:48:42  3e8080b3d0e5c7b7d3e88a8fcc1a7aeb   \n",
       "2014-09-03 01:18:29  4e10015ea8d8b73570677cf5a14c8f73   \n",
       "2014-09-05 17:38:19  d85bd79aba765954f4955c68990331f0   \n",
       "2014-09-09 21:44:23  dfa66799d71320bfc5853ee1f0cea49f   \n",
       "2014-09-10 04:18:28  9c3c35198762749e2ec6abb8a3ea001f   \n",
       "\n",
       "                                              ClassID  \n",
       "date                                                   \n",
       "2014-09-02 16:48:42  08acd1cae6c97712fc8dbe400c35b47d  \n",
       "2014-09-03 01:18:29  08acd1cae6c97712fc8dbe400c35b47d  \n",
       "2014-09-05 17:38:19  08acd1cae6c97712fc8dbe400c35b47d  \n",
       "2014-09-09 21:44:23  08acd1cae6c97712fc8dbe400c35b47d  \n",
       "2014-09-10 04:18:28  08acd1cae6c97712fc8dbe400c35b47d  "
      ]
     },
     "execution_count": 52,
     "metadata": {},
     "output_type": "execute_result"
    }
   ],
   "source": [
    "df_cluster5 = df_cluster5.sort()\n",
    "df_cluster5.head()"
   ]
  },
  {
   "cell_type": "code",
   "execution_count": 53,
   "metadata": {
    "collapsed": false
   },
   "outputs": [
    {
     "data": {
      "text/html": [
       "<div>\n",
       "<table border=\"1\" class=\"dataframe\">\n",
       "  <thead>\n",
       "    <tr style=\"text-align: right;\">\n",
       "      <th></th>\n",
       "      <th>URL</th>\n",
       "      <th>User Agent</th>\n",
       "      <th>UUID</th>\n",
       "      <th>ClassID</th>\n",
       "      <th>HofD</th>\n",
       "      <th>DofM</th>\n",
       "    </tr>\n",
       "    <tr>\n",
       "      <th>date</th>\n",
       "      <th></th>\n",
       "      <th></th>\n",
       "      <th></th>\n",
       "      <th></th>\n",
       "      <th></th>\n",
       "      <th></th>\n",
       "    </tr>\n",
       "  </thead>\n",
       "  <tbody>\n",
       "    <tr>\n",
       "      <th>2014-09-02 16:48:42</th>\n",
       "      <td>/api/v1/courses/158/ping</td>\n",
       "      <td>Mozilla/5.0 (Windows NT 6.1; WOW64) AppleWebKi...</td>\n",
       "      <td>3e8080b3d0e5c7b7d3e88a8fcc1a7aeb</td>\n",
       "      <td>08acd1cae6c97712fc8dbe400c35b47d</td>\n",
       "      <td>16</td>\n",
       "      <td>2</td>\n",
       "    </tr>\n",
       "    <tr>\n",
       "      <th>2014-09-03 01:18:29</th>\n",
       "      <td>/api/v1/courses/158/ping</td>\n",
       "      <td>Mozilla/5.0 (Macintosh; Intel Mac OS X 10_9_3)...</td>\n",
       "      <td>4e10015ea8d8b73570677cf5a14c8f73</td>\n",
       "      <td>08acd1cae6c97712fc8dbe400c35b47d</td>\n",
       "      <td>1</td>\n",
       "      <td>3</td>\n",
       "    </tr>\n",
       "    <tr>\n",
       "      <th>2014-09-05 17:38:19</th>\n",
       "      <td>/api/v1/courses/158/ping</td>\n",
       "      <td>Mozilla/5.0 (Windows NT 6.1; WOW64) AppleWebKi...</td>\n",
       "      <td>d85bd79aba765954f4955c68990331f0</td>\n",
       "      <td>08acd1cae6c97712fc8dbe400c35b47d</td>\n",
       "      <td>17</td>\n",
       "      <td>5</td>\n",
       "    </tr>\n",
       "    <tr>\n",
       "      <th>2014-09-09 21:44:23</th>\n",
       "      <td>/api/v1/courses/158/ping</td>\n",
       "      <td>Mozilla/5.0 (Windows NT 6.1; WOW64; rv:31.0) G...</td>\n",
       "      <td>dfa66799d71320bfc5853ee1f0cea49f</td>\n",
       "      <td>08acd1cae6c97712fc8dbe400c35b47d</td>\n",
       "      <td>21</td>\n",
       "      <td>9</td>\n",
       "    </tr>\n",
       "    <tr>\n",
       "      <th>2014-09-10 04:18:28</th>\n",
       "      <td>/api/v1/courses/158/ping</td>\n",
       "      <td>Mozilla/5.0 (Macintosh; Intel Mac OS X 10.9; r...</td>\n",
       "      <td>9c3c35198762749e2ec6abb8a3ea001f</td>\n",
       "      <td>08acd1cae6c97712fc8dbe400c35b47d</td>\n",
       "      <td>4</td>\n",
       "      <td>10</td>\n",
       "    </tr>\n",
       "  </tbody>\n",
       "</table>\n",
       "</div>"
      ],
      "text/plain": [
       "                                          URL  \\\n",
       "date                                            \n",
       "2014-09-02 16:48:42  /api/v1/courses/158/ping   \n",
       "2014-09-03 01:18:29  /api/v1/courses/158/ping   \n",
       "2014-09-05 17:38:19  /api/v1/courses/158/ping   \n",
       "2014-09-09 21:44:23  /api/v1/courses/158/ping   \n",
       "2014-09-10 04:18:28  /api/v1/courses/158/ping   \n",
       "\n",
       "                                                            User Agent  \\\n",
       "date                                                                     \n",
       "2014-09-02 16:48:42  Mozilla/5.0 (Windows NT 6.1; WOW64) AppleWebKi...   \n",
       "2014-09-03 01:18:29  Mozilla/5.0 (Macintosh; Intel Mac OS X 10_9_3)...   \n",
       "2014-09-05 17:38:19  Mozilla/5.0 (Windows NT 6.1; WOW64) AppleWebKi...   \n",
       "2014-09-09 21:44:23  Mozilla/5.0 (Windows NT 6.1; WOW64; rv:31.0) G...   \n",
       "2014-09-10 04:18:28  Mozilla/5.0 (Macintosh; Intel Mac OS X 10.9; r...   \n",
       "\n",
       "                                                 UUID  \\\n",
       "date                                                    \n",
       "2014-09-02 16:48:42  3e8080b3d0e5c7b7d3e88a8fcc1a7aeb   \n",
       "2014-09-03 01:18:29  4e10015ea8d8b73570677cf5a14c8f73   \n",
       "2014-09-05 17:38:19  d85bd79aba765954f4955c68990331f0   \n",
       "2014-09-09 21:44:23  dfa66799d71320bfc5853ee1f0cea49f   \n",
       "2014-09-10 04:18:28  9c3c35198762749e2ec6abb8a3ea001f   \n",
       "\n",
       "                                              ClassID  HofD  DofM  \n",
       "date                                                               \n",
       "2014-09-02 16:48:42  08acd1cae6c97712fc8dbe400c35b47d    16     2  \n",
       "2014-09-03 01:18:29  08acd1cae6c97712fc8dbe400c35b47d     1     3  \n",
       "2014-09-05 17:38:19  08acd1cae6c97712fc8dbe400c35b47d    17     5  \n",
       "2014-09-09 21:44:23  08acd1cae6c97712fc8dbe400c35b47d    21     9  \n",
       "2014-09-10 04:18:28  08acd1cae6c97712fc8dbe400c35b47d     4    10  "
      ]
     },
     "execution_count": 53,
     "metadata": {},
     "output_type": "execute_result"
    }
   ],
   "source": [
    "#bin them into days or something and then use the count to see how many are in a certain day or hour\n",
    "df_cluster5['HofD'] = [r.hour for r in df_cluster5.index]\n",
    "df_cluster5['DofM'] = [r.day for r in df_cluster5.index]\n",
    "df_cluster5.head()"
   ]
  },
  {
   "cell_type": "code",
   "execution_count": 54,
   "metadata": {
    "collapsed": false
   },
   "outputs": [
    {
     "data": {
      "text/plain": [
       "<matplotlib.axes._subplots.AxesSubplot at 0x111179cf8>"
      ]
     },
     "execution_count": 54,
     "metadata": {},
     "output_type": "execute_result"
    },
    {
     "data": {
      "image/png": "[encoded data removed]",
      "text/plain": [
       "<matplotlib.figure.Figure at 0x111141eb8>"
      ]
     },
     "metadata": {},
     "output_type": "display_data"
    }
   ],
   "source": [
    "df_cluster5.groupby('HofD').count().plot(title='Cluster 5 Site Views by Hour')"
   ]
  },
  {
   "cell_type": "code",
   "execution_count": 55,
   "metadata": {
    "collapsed": false
   },
   "outputs": [
    {
     "data": {
      "text/plain": [
       "<matplotlib.axes._subplots.AxesSubplot at 0x1111bd6a0>"
      ]
     },
     "execution_count": 55,
     "metadata": {},
     "output_type": "execute_result"
    },
    {
     "data": {
      "image/png": "[encoded data removed]",
      "text/plain": [
       "<matplotlib.figure.Figure at 0x1113c17b8>"
      ]
     },
     "metadata": {},
     "output_type": "display_data"
    }
   ],
   "source": [
    "df_cluster5.groupby('DofM').count().plot(title='Cluster 5 Site Views by Day of Month')"
   ]
  },
  {
   "cell_type": "code",
   "execution_count": 61,
   "metadata": {
    "collapsed": false
   },
   "outputs": [
    {
     "data": {
      "text/html": [
       "<div>\n",
       "<table border=\"1\" class=\"dataframe\">\n",
       "  <thead>\n",
       "    <tr style=\"text-align: right;\">\n",
       "      <th></th>\n",
       "      <th>URL</th>\n",
       "      <th>User Agent</th>\n",
       "      <th>TimeStamp</th>\n",
       "      <th>UUID</th>\n",
       "      <th>ClassID</th>\n",
       "    </tr>\n",
       "  </thead>\n",
       "  <tbody>\n",
       "    <tr>\n",
       "      <th>0</th>\n",
       "      <td>/api/v1/courses/166/ping</td>\n",
       "      <td>Mozilla/5.0 (Windows NT 6.1; WOW64) AppleWebKi...</td>\n",
       "      <td>2014-09-16 16:44:26</td>\n",
       "      <td>199225151486e66b50eddfd52a4dede1</td>\n",
       "      <td>05d0532840f04928dfdd86296c51189d</td>\n",
       "    </tr>\n",
       "    <tr>\n",
       "      <th>1</th>\n",
       "      <td>/api/v1/courses/166/ping</td>\n",
       "      <td>Mozilla/5.0 (Windows NT 6.3; WOW64) AppleWebKi...</td>\n",
       "      <td>2014-10-15 00:56:09</td>\n",
       "      <td>9776df708e036c7a4e02500dbc460034</td>\n",
       "      <td>05d0532840f04928dfdd86296c51189d</td>\n",
       "    </tr>\n",
       "    <tr>\n",
       "      <th>2</th>\n",
       "      <td>/api/v1/courses/166/ping</td>\n",
       "      <td>Mozilla/5.0 (Macintosh; Intel Mac OS X 10_8_5)...</td>\n",
       "      <td>2014-12-03 14:03:57</td>\n",
       "      <td>6508697e7260a5e087c6109a54c64443</td>\n",
       "      <td>05d0532840f04928dfdd86296c51189d</td>\n",
       "    </tr>\n",
       "    <tr>\n",
       "      <th>3</th>\n",
       "      <td>/api/v1/courses/166/ping</td>\n",
       "      <td>Mozilla/5.0 (Windows NT 6.1; WOW64) AppleWebKi...</td>\n",
       "      <td>2014-11-18 14:44:47</td>\n",
       "      <td>b93752c3d851614af0f384d4d0179dee</td>\n",
       "      <td>05d0532840f04928dfdd86296c51189d</td>\n",
       "    </tr>\n",
       "    <tr>\n",
       "      <th>4</th>\n",
       "      <td>/api/v1/courses/166/ping</td>\n",
       "      <td>Mozilla/5.0 (Macintosh; Intel Mac OS X 10_8_5)...</td>\n",
       "      <td>2014-11-05 14:16:47</td>\n",
       "      <td>4d83449dc00c71b159897baeac708b34</td>\n",
       "      <td>05d0532840f04928dfdd86296c51189d</td>\n",
       "    </tr>\n",
       "  </tbody>\n",
       "</table>\n",
       "</div>"
      ],
      "text/plain": [
       "                        URL  \\\n",
       "0  /api/v1/courses/166/ping   \n",
       "1  /api/v1/courses/166/ping   \n",
       "2  /api/v1/courses/166/ping   \n",
       "3  /api/v1/courses/166/ping   \n",
       "4  /api/v1/courses/166/ping   \n",
       "\n",
       "                                          User Agent            TimeStamp  \\\n",
       "0  Mozilla/5.0 (Windows NT 6.1; WOW64) AppleWebKi...  2014-09-16 16:44:26   \n",
       "1  Mozilla/5.0 (Windows NT 6.3; WOW64) AppleWebKi...  2014-10-15 00:56:09   \n",
       "2  Mozilla/5.0 (Macintosh; Intel Mac OS X 10_8_5)...  2014-12-03 14:03:57   \n",
       "3  Mozilla/5.0 (Windows NT 6.1; WOW64) AppleWebKi...  2014-11-18 14:44:47   \n",
       "4  Mozilla/5.0 (Macintosh; Intel Mac OS X 10_8_5)...  2014-11-05 14:16:47   \n",
       "\n",
       "                               UUID                           ClassID  \n",
       "0  199225151486e66b50eddfd52a4dede1  05d0532840f04928dfdd86296c51189d  \n",
       "1  9776df708e036c7a4e02500dbc460034  05d0532840f04928dfdd86296c51189d  \n",
       "2  6508697e7260a5e087c6109a54c64443  05d0532840f04928dfdd86296c51189d  \n",
       "3  b93752c3d851614af0f384d4d0179dee  05d0532840f04928dfdd86296c51189d  \n",
       "4  4d83449dc00c71b159897baeac708b34  05d0532840f04928dfdd86296c51189d  "
      ]
     },
     "execution_count": 61,
     "metadata": {},
     "output_type": "execute_result"
    }
   ],
   "source": [
    "#######CLUSTER 6 ANALYSIS\n",
    "df_cluster6 = pd.DataFrame(columns=('URL', 'User Agent', 'TimeStamp', 'UUID', 'ClassID'))\n",
    "for member in cluster6:\n",
    "    df_cluster6.loc[len(df_cluster6)] = df_reduced.ix[member]\n",
    "df_cluster6.head()"
   ]
  },
  {
   "cell_type": "code",
   "execution_count": 62,
   "metadata": {
    "collapsed": false
   },
   "outputs": [
    {
     "name": "stderr",
     "output_type": "stream",
     "text": [
      "/Users/andycho/anaconda/lib/python3.5/site-packages/ipykernel/__main__.py:2: FutureWarning: sort(columns=....) is deprecated, use sort_values(by=.....)\n",
      "  from ipykernel import kernelapp as app\n"
     ]
    },
    {
     "data": {
      "text/plain": [
       "<matplotlib.text.Text at 0x11484e208>"
      ]
     },
     "execution_count": 62,
     "metadata": {},
     "output_type": "execute_result"
    },
    {
     "data": {
      "image/png": "[encoded data removed]",
      "text/plain": [
       "<matplotlib.figure.Figure at 0x1149280b8>"
      ]
     },
     "metadata": {},
     "output_type": "display_data"
    }
   ],
   "source": [
    "#Descriptive Stats\n",
    "df_cluster5.groupby('UUID').count().sort(['URL']).plot(kind='hist', bins=6, legend=False,\n",
    "                                                    title = 'Distribution of Page Visits by Users')\n",
    "plt.xlabel('Page Visits')\n",
    "plt.ylabel('Number of Users')"
   ]
  },
  {
   "cell_type": "code",
   "execution_count": 63,
   "metadata": {
    "collapsed": false
   },
   "outputs": [
    {
     "data": {
      "text/plain": [
       "1.3387096774193548"
      ]
     },
     "execution_count": 63,
     "metadata": {},
     "output_type": "execute_result"
    }
   ],
   "source": [
    "df_cluster6.groupby('UUID').count().mean()['URL'] #average number of page views for each student in this group"
   ]
  },
  {
   "cell_type": "code",
   "execution_count": 65,
   "metadata": {
    "collapsed": false
   },
   "outputs": [],
   "source": [
    "#Time Series\n",
    "df_cluster6['date'] = pd.to_datetime(df_cluster6['TimeStamp'])\n",
    "df_cluster6.index = df_cluster6['date']\n",
    "del df_cluster6['date']\n",
    "del df_cluster6['TimeStamp']"
   ]
  },
  {
   "cell_type": "code",
   "execution_count": 66,
   "metadata": {
    "collapsed": false
   },
   "outputs": [
    {
     "name": "stderr",
     "output_type": "stream",
     "text": [
      "/Users/andycho/anaconda/lib/python3.5/site-packages/ipykernel/__main__.py:1: FutureWarning: sort(....) is deprecated, use sort_index(.....)\n",
      "  if __name__ == '__main__':\n"
     ]
    },
    {
     "data": {
      "text/html": [
       "<div>\n",
       "<table border=\"1\" class=\"dataframe\">\n",
       "  <thead>\n",
       "    <tr style=\"text-align: right;\">\n",
       "      <th></th>\n",
       "      <th>URL</th>\n",
       "      <th>User Agent</th>\n",
       "      <th>UUID</th>\n",
       "      <th>ClassID</th>\n",
       "    </tr>\n",
       "    <tr>\n",
       "      <th>date</th>\n",
       "      <th></th>\n",
       "      <th></th>\n",
       "      <th></th>\n",
       "      <th></th>\n",
       "    </tr>\n",
       "  </thead>\n",
       "  <tbody>\n",
       "    <tr>\n",
       "      <th>2014-08-28 15:33:32</th>\n",
       "      <td>/api/v1/courses/166/ping</td>\n",
       "      <td>Mozilla/5.0 (Windows NT 6.3; WOW64) AppleWebKi...</td>\n",
       "      <td>e07fc7b544792eb611408f89f9923d24</td>\n",
       "      <td>05d0532840f04928dfdd86296c51189d</td>\n",
       "    </tr>\n",
       "    <tr>\n",
       "      <th>2014-08-31 18:36:24</th>\n",
       "      <td>/api/v1/courses/166/ping</td>\n",
       "      <td>Mozilla/5.0 (Macintosh; Intel Mac OS X 10_9_4)...</td>\n",
       "      <td>5bb9defa1b3288ff20d24d19fdd2beb8</td>\n",
       "      <td>05d0532840f04928dfdd86296c51189d</td>\n",
       "    </tr>\n",
       "    <tr>\n",
       "      <th>2014-09-02 13:55:39</th>\n",
       "      <td>/api/v1/courses/166/ping</td>\n",
       "      <td>Mozilla/5.0 (Windows NT 6.2; WOW64) AppleWebKi...</td>\n",
       "      <td>f0203543987311316eeccd8b67d3c02f</td>\n",
       "      <td>05d0532840f04928dfdd86296c51189d</td>\n",
       "    </tr>\n",
       "    <tr>\n",
       "      <th>2014-09-03 03:11:46</th>\n",
       "      <td>/api/v1/courses/166/ping</td>\n",
       "      <td>Mozilla/5.0 (Windows NT 6.1; WOW64) AppleWebKi...</td>\n",
       "      <td>c426d779bb112d8aaf1a5c7c882fe7b7</td>\n",
       "      <td>05d0532840f04928dfdd86296c51189d</td>\n",
       "    </tr>\n",
       "    <tr>\n",
       "      <th>2014-09-03 16:04:24</th>\n",
       "      <td>/api/v1/courses/166/ping</td>\n",
       "      <td>Mozilla/5.0 (Windows NT 6.1; WOW64) AppleWebKi...</td>\n",
       "      <td>a366ea47f4c633fc9810a6ca2dec729b</td>\n",
       "      <td>05d0532840f04928dfdd86296c51189d</td>\n",
       "    </tr>\n",
       "  </tbody>\n",
       "</table>\n",
       "</div>"
      ],
      "text/plain": [
       "                                          URL  \\\n",
       "date                                            \n",
       "2014-08-28 15:33:32  /api/v1/courses/166/ping   \n",
       "2014-08-31 18:36:24  /api/v1/courses/166/ping   \n",
       "2014-09-02 13:55:39  /api/v1/courses/166/ping   \n",
       "2014-09-03 03:11:46  /api/v1/courses/166/ping   \n",
       "2014-09-03 16:04:24  /api/v1/courses/166/ping   \n",
       "\n",
       "                                                            User Agent  \\\n",
       "date                                                                     \n",
       "2014-08-28 15:33:32  Mozilla/5.0 (Windows NT 6.3; WOW64) AppleWebKi...   \n",
       "2014-08-31 18:36:24  Mozilla/5.0 (Macintosh; Intel Mac OS X 10_9_4)...   \n",
       "2014-09-02 13:55:39  Mozilla/5.0 (Windows NT 6.2; WOW64) AppleWebKi...   \n",
       "2014-09-03 03:11:46  Mozilla/5.0 (Windows NT 6.1; WOW64) AppleWebKi...   \n",
       "2014-09-03 16:04:24  Mozilla/5.0 (Windows NT 6.1; WOW64) AppleWebKi...   \n",
       "\n",
       "                                                 UUID  \\\n",
       "date                                                    \n",
       "2014-08-28 15:33:32  e07fc7b544792eb611408f89f9923d24   \n",
       "2014-08-31 18:36:24  5bb9defa1b3288ff20d24d19fdd2beb8   \n",
       "2014-09-02 13:55:39  f0203543987311316eeccd8b67d3c02f   \n",
       "2014-09-03 03:11:46  c426d779bb112d8aaf1a5c7c882fe7b7   \n",
       "2014-09-03 16:04:24  a366ea47f4c633fc9810a6ca2dec729b   \n",
       "\n",
       "                                              ClassID  \n",
       "date                                                   \n",
       "2014-08-28 15:33:32  05d0532840f04928dfdd86296c51189d  \n",
       "2014-08-31 18:36:24  05d0532840f04928dfdd86296c51189d  \n",
       "2014-09-02 13:55:39  05d0532840f04928dfdd86296c51189d  \n",
       "2014-09-03 03:11:46  05d0532840f04928dfdd86296c51189d  \n",
       "2014-09-03 16:04:24  05d0532840f04928dfdd86296c51189d  "
      ]
     },
     "execution_count": 66,
     "metadata": {},
     "output_type": "execute_result"
    }
   ],
   "source": [
    "df_cluster6 = df_cluster6.sort()\n",
    "df_cluster6.head()"
   ]
  },
  {
   "cell_type": "code",
   "execution_count": 67,
   "metadata": {
    "collapsed": false
   },
   "outputs": [
    {
     "data": {
      "text/html": [
       "<div>\n",
       "<table border=\"1\" class=\"dataframe\">\n",
       "  <thead>\n",
       "    <tr style=\"text-align: right;\">\n",
       "      <th></th>\n",
       "      <th>URL</th>\n",
       "      <th>User Agent</th>\n",
       "      <th>UUID</th>\n",
       "      <th>ClassID</th>\n",
       "      <th>HofD</th>\n",
       "      <th>DofM</th>\n",
       "    </tr>\n",
       "    <tr>\n",
       "      <th>date</th>\n",
       "      <th></th>\n",
       "      <th></th>\n",
       "      <th></th>\n",
       "      <th></th>\n",
       "      <th></th>\n",
       "      <th></th>\n",
       "    </tr>\n",
       "  </thead>\n",
       "  <tbody>\n",
       "    <tr>\n",
       "      <th>2014-09-02 16:48:42</th>\n",
       "      <td>/api/v1/courses/158/ping</td>\n",
       "      <td>Mozilla/5.0 (Windows NT 6.1; WOW64) AppleWebKi...</td>\n",
       "      <td>3e8080b3d0e5c7b7d3e88a8fcc1a7aeb</td>\n",
       "      <td>08acd1cae6c97712fc8dbe400c35b47d</td>\n",
       "      <td>16</td>\n",
       "      <td>2</td>\n",
       "    </tr>\n",
       "    <tr>\n",
       "      <th>2014-09-03 01:18:29</th>\n",
       "      <td>/api/v1/courses/158/ping</td>\n",
       "      <td>Mozilla/5.0 (Macintosh; Intel Mac OS X 10_9_3)...</td>\n",
       "      <td>4e10015ea8d8b73570677cf5a14c8f73</td>\n",
       "      <td>08acd1cae6c97712fc8dbe400c35b47d</td>\n",
       "      <td>1</td>\n",
       "      <td>3</td>\n",
       "    </tr>\n",
       "    <tr>\n",
       "      <th>2014-09-05 17:38:19</th>\n",
       "      <td>/api/v1/courses/158/ping</td>\n",
       "      <td>Mozilla/5.0 (Windows NT 6.1; WOW64) AppleWebKi...</td>\n",
       "      <td>d85bd79aba765954f4955c68990331f0</td>\n",
       "      <td>08acd1cae6c97712fc8dbe400c35b47d</td>\n",
       "      <td>17</td>\n",
       "      <td>5</td>\n",
       "    </tr>\n",
       "    <tr>\n",
       "      <th>2014-09-09 21:44:23</th>\n",
       "      <td>/api/v1/courses/158/ping</td>\n",
       "      <td>Mozilla/5.0 (Windows NT 6.1; WOW64; rv:31.0) G...</td>\n",
       "      <td>dfa66799d71320bfc5853ee1f0cea49f</td>\n",
       "      <td>08acd1cae6c97712fc8dbe400c35b47d</td>\n",
       "      <td>21</td>\n",
       "      <td>9</td>\n",
       "    </tr>\n",
       "    <tr>\n",
       "      <th>2014-09-10 04:18:28</th>\n",
       "      <td>/api/v1/courses/158/ping</td>\n",
       "      <td>Mozilla/5.0 (Macintosh; Intel Mac OS X 10.9; r...</td>\n",
       "      <td>9c3c35198762749e2ec6abb8a3ea001f</td>\n",
       "      <td>08acd1cae6c97712fc8dbe400c35b47d</td>\n",
       "      <td>4</td>\n",
       "      <td>10</td>\n",
       "    </tr>\n",
       "  </tbody>\n",
       "</table>\n",
       "</div>"
      ],
      "text/plain": [
       "                                          URL  \\\n",
       "date                                            \n",
       "2014-09-02 16:48:42  /api/v1/courses/158/ping   \n",
       "2014-09-03 01:18:29  /api/v1/courses/158/ping   \n",
       "2014-09-05 17:38:19  /api/v1/courses/158/ping   \n",
       "2014-09-09 21:44:23  /api/v1/courses/158/ping   \n",
       "2014-09-10 04:18:28  /api/v1/courses/158/ping   \n",
       "\n",
       "                                                            User Agent  \\\n",
       "date                                                                     \n",
       "2014-09-02 16:48:42  Mozilla/5.0 (Windows NT 6.1; WOW64) AppleWebKi...   \n",
       "2014-09-03 01:18:29  Mozilla/5.0 (Macintosh; Intel Mac OS X 10_9_3)...   \n",
       "2014-09-05 17:38:19  Mozilla/5.0 (Windows NT 6.1; WOW64) AppleWebKi...   \n",
       "2014-09-09 21:44:23  Mozilla/5.0 (Windows NT 6.1; WOW64; rv:31.0) G...   \n",
       "2014-09-10 04:18:28  Mozilla/5.0 (Macintosh; Intel Mac OS X 10.9; r...   \n",
       "\n",
       "                                                 UUID  \\\n",
       "date                                                    \n",
       "2014-09-02 16:48:42  3e8080b3d0e5c7b7d3e88a8fcc1a7aeb   \n",
       "2014-09-03 01:18:29  4e10015ea8d8b73570677cf5a14c8f73   \n",
       "2014-09-05 17:38:19  d85bd79aba765954f4955c68990331f0   \n",
       "2014-09-09 21:44:23  dfa66799d71320bfc5853ee1f0cea49f   \n",
       "2014-09-10 04:18:28  9c3c35198762749e2ec6abb8a3ea001f   \n",
       "\n",
       "                                              ClassID  HofD  DofM  \n",
       "date                                                               \n",
       "2014-09-02 16:48:42  08acd1cae6c97712fc8dbe400c35b47d    16     2  \n",
       "2014-09-03 01:18:29  08acd1cae6c97712fc8dbe400c35b47d     1     3  \n",
       "2014-09-05 17:38:19  08acd1cae6c97712fc8dbe400c35b47d    17     5  \n",
       "2014-09-09 21:44:23  08acd1cae6c97712fc8dbe400c35b47d    21     9  \n",
       "2014-09-10 04:18:28  08acd1cae6c97712fc8dbe400c35b47d     4    10  "
      ]
     },
     "execution_count": 67,
     "metadata": {},
     "output_type": "execute_result"
    }
   ],
   "source": [
    "#bin them into days or something and then use the count to see how many are in a certain day or hour\n",
    "df_cluster5['HofD'] = [r.hour for r in df_cluster5.index]\n",
    "df_cluster5['DofM'] = [r.day for r in df_cluster5.index]\n",
    "df_cluster5.head()"
   ]
  },
  {
   "cell_type": "code",
   "execution_count": null,
   "metadata": {
    "collapsed": true
   },
   "outputs": [],
   "source": []
  }
 ],
 "metadata": {
  "kernelspec": {
   "display_name": "Python 3",
   "language": "python",
   "name": "python3"
  },
  "language_info": {
   "codemirror_mode": {
    "name": "ipython",
    "version": 3
   },
   "file_extension": ".py",
   "mimetype": "text/x-python",
   "name": "python",
   "nbconvert_exporter": "python",
   "pygments_lexer": "ipython3",
   "version": "3.5.1"
  }
 },
 "nbformat": 4,
 "nbformat_minor": 0
}
