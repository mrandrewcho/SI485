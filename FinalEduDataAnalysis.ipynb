{
 "cells": [
  {
   "cell_type": "code",
   "execution_count": 1,
   "metadata": {
    "collapsed": true
   },
   "outputs": [],
   "source": [
    "import pandas as pd\n",
    "import re\n",
    "import seaborn as sns\n",
    "import matplotlib.pyplot as plt\n",
    "import numpy as np\n",
    "import scipy as sp\n",
    "import scipy.spatial.distance as spd\n",
    "import scipy.cluster.hierarchy as sph\n",
    "import sklearn as sk\n",
    "import sklearn.metrics as skm\n",
    "import sklearn.cluster as skc\n",
    "import sklearn.decomposition as skd\n",
    "import sklearn.mixture as skmix\n",
    "%matplotlib inline"
   ]
  },
  {
   "cell_type": "code",
   "execution_count": 2,
   "metadata": {
    "collapsed": true
   },
   "outputs": [],
   "source": [
    "df = pd.read_csv('requests_export000.tsv', delimiter = '\\t')"
   ]
  },
  {
   "cell_type": "code",
   "execution_count": 3,
   "metadata": {
    "collapsed": false
   },
   "outputs": [
    {
     "name": "stdout",
     "output_type": "stream",
     "text": [
      "15566499\n"
     ]
    }
   ],
   "source": [
    "df.head(5)\n",
    "print(len(df))"
   ]
  },
  {
   "cell_type": "code",
   "execution_count": 4,
   "metadata": {
    "collapsed": true
   },
   "outputs": [],
   "source": [
    "df = df.dropna()"
   ]
  },
  {
   "cell_type": "code",
   "execution_count": 5,
   "metadata": {
    "collapsed": true
   },
   "outputs": [],
   "source": [
    "df_reduced = df.sample(10000)"
   ]
  },
  {
   "cell_type": "code",
   "execution_count": 20,
   "metadata": {
    "collapsed": false
   },
   "outputs": [
    {
     "data": {
      "text/html": [
       "<div>\n",
       "<table border=\"1\" class=\"dataframe\">\n",
       "  <thead>\n",
       "    <tr style=\"text-align: right;\">\n",
       "      <th></th>\n",
       "      <th>URL</th>\n",
       "      <th>User Agent</th>\n",
       "      <th>UUID</th>\n",
       "      <th>TimeStamp</th>\n",
       "      <th>ClassID</th>\n",
       "      <th>URL1</th>\n",
       "      <th>URL2</th>\n",
       "      <th>URL3</th>\n",
       "      <th>URL4</th>\n",
       "      <th>URL5</th>\n",
       "      <th>URL6</th>\n",
       "      <th>URL7</th>\n",
       "      <th>URL8</th>\n",
       "      <th>URL9</th>\n",
       "      <th>ClassID1</th>\n",
       "      <th>ClassID2</th>\n",
       "      <th>ClassID3</th>\n",
       "    </tr>\n",
       "  </thead>\n",
       "  <tbody>\n",
       "    <tr>\n",
       "      <th>9237227</th>\n",
       "      <td>/courses/166</td>\n",
       "      <td>Mozilla/5.0 (Windows NT 6.1; WOW64) AppleWebKi...</td>\n",
       "      <td>a5e9b18f00846f5d55dc49041a442c8e</td>\n",
       "      <td>2014-09-23 14:09:27</td>\n",
       "      <td>05d0532840f04928dfdd86296c51189d</td>\n",
       "      <td>0</td>\n",
       "      <td>0</td>\n",
       "      <td>0</td>\n",
       "      <td>0</td>\n",
       "      <td>0</td>\n",
       "      <td>0</td>\n",
       "      <td>0</td>\n",
       "      <td>0</td>\n",
       "      <td>0</td>\n",
       "      <td>1</td>\n",
       "      <td>0</td>\n",
       "      <td>0</td>\n",
       "    </tr>\n",
       "    <tr>\n",
       "      <th>13157894</th>\n",
       "      <td>/courses/166/files/577/preview?verifier=NwilNK...</td>\n",
       "      <td>Mozilla/5.0 (Windows NT 6.1; WOW64) AppleWebKi...</td>\n",
       "      <td>7ed92d191b05e6d1400d385f935c8747</td>\n",
       "      <td>2014-11-12 19:51:55</td>\n",
       "      <td>05d0532840f04928dfdd86296c51189d</td>\n",
       "      <td>0</td>\n",
       "      <td>0</td>\n",
       "      <td>0</td>\n",
       "      <td>0</td>\n",
       "      <td>0</td>\n",
       "      <td>0</td>\n",
       "      <td>0</td>\n",
       "      <td>0</td>\n",
       "      <td>0</td>\n",
       "      <td>1</td>\n",
       "      <td>0</td>\n",
       "      <td>0</td>\n",
       "    </tr>\n",
       "    <tr>\n",
       "      <th>7989018</th>\n",
       "      <td>/api/v1/courses/164/pages/course-related-resou...</td>\n",
       "      <td>Mozilla/5.0 (Macintosh; Intel Mac OS X 10_9_4)...</td>\n",
       "      <td>3447feecce046beca179320f26d080c1</td>\n",
       "      <td>2014-09-05 20:47:48</td>\n",
       "      <td>a6ff862f8df9f99bec63a4096890db10</td>\n",
       "      <td>0</td>\n",
       "      <td>0</td>\n",
       "      <td>0</td>\n",
       "      <td>0</td>\n",
       "      <td>0</td>\n",
       "      <td>0</td>\n",
       "      <td>0</td>\n",
       "      <td>0</td>\n",
       "      <td>0</td>\n",
       "      <td>0</td>\n",
       "      <td>0</td>\n",
       "      <td>1</td>\n",
       "    </tr>\n",
       "    <tr>\n",
       "      <th>12970248</th>\n",
       "      <td>/api/v1/courses/166/pages/dr-millers-lecture-0...</td>\n",
       "      <td>Mozilla/5.0 (Windows NT 6.1; WOW64) AppleWebKi...</td>\n",
       "      <td>a23368df1b6bbf80c3aeb99493d1bfa1</td>\n",
       "      <td>2014-11-10 23:27:13</td>\n",
       "      <td>05d0532840f04928dfdd86296c51189d</td>\n",
       "      <td>0</td>\n",
       "      <td>0</td>\n",
       "      <td>1</td>\n",
       "      <td>0</td>\n",
       "      <td>0</td>\n",
       "      <td>0</td>\n",
       "      <td>0</td>\n",
       "      <td>0</td>\n",
       "      <td>0</td>\n",
       "      <td>1</td>\n",
       "      <td>0</td>\n",
       "      <td>0</td>\n",
       "    </tr>\n",
       "    <tr>\n",
       "      <th>10488172</th>\n",
       "      <td>/api/v1/courses/166/pages/home-page/revisions/...</td>\n",
       "      <td>Mozilla/5.0 (Macintosh; Intel Mac OS X 10_9_2)...</td>\n",
       "      <td>c27f4523d6975f848c9e1602556e2ad9</td>\n",
       "      <td>2014-10-09 04:47:33</td>\n",
       "      <td>05d0532840f04928dfdd86296c51189d</td>\n",
       "      <td>0</td>\n",
       "      <td>0</td>\n",
       "      <td>0</td>\n",
       "      <td>0</td>\n",
       "      <td>0</td>\n",
       "      <td>0</td>\n",
       "      <td>0</td>\n",
       "      <td>0</td>\n",
       "      <td>0</td>\n",
       "      <td>1</td>\n",
       "      <td>0</td>\n",
       "      <td>0</td>\n",
       "    </tr>\n",
       "  </tbody>\n",
       "</table>\n",
       "</div>"
      ],
      "text/plain": [
       "                                                        URL  \\\n",
       "9237227                                        /courses/166   \n",
       "13157894  /courses/166/files/577/preview?verifier=NwilNK...   \n",
       "7989018   /api/v1/courses/164/pages/course-related-resou...   \n",
       "12970248  /api/v1/courses/166/pages/dr-millers-lecture-0...   \n",
       "10488172  /api/v1/courses/166/pages/home-page/revisions/...   \n",
       "\n",
       "                                                 User Agent  \\\n",
       "9237227   Mozilla/5.0 (Windows NT 6.1; WOW64) AppleWebKi...   \n",
       "13157894  Mozilla/5.0 (Windows NT 6.1; WOW64) AppleWebKi...   \n",
       "7989018   Mozilla/5.0 (Macintosh; Intel Mac OS X 10_9_4)...   \n",
       "12970248  Mozilla/5.0 (Windows NT 6.1; WOW64) AppleWebKi...   \n",
       "10488172  Mozilla/5.0 (Macintosh; Intel Mac OS X 10_9_2)...   \n",
       "\n",
       "                                      UUID            TimeStamp  \\\n",
       "9237227   a5e9b18f00846f5d55dc49041a442c8e  2014-09-23 14:09:27   \n",
       "13157894  7ed92d191b05e6d1400d385f935c8747  2014-11-12 19:51:55   \n",
       "7989018   3447feecce046beca179320f26d080c1  2014-09-05 20:47:48   \n",
       "12970248  a23368df1b6bbf80c3aeb99493d1bfa1  2014-11-10 23:27:13   \n",
       "10488172  c27f4523d6975f848c9e1602556e2ad9  2014-10-09 04:47:33   \n",
       "\n",
       "                                   ClassID  URL1  URL2  URL3  URL4  URL5  \\\n",
       "9237227   05d0532840f04928dfdd86296c51189d     0     0     0     0     0   \n",
       "13157894  05d0532840f04928dfdd86296c51189d     0     0     0     0     0   \n",
       "7989018   a6ff862f8df9f99bec63a4096890db10     0     0     0     0     0   \n",
       "12970248  05d0532840f04928dfdd86296c51189d     0     0     1     0     0   \n",
       "10488172  05d0532840f04928dfdd86296c51189d     0     0     0     0     0   \n",
       "\n",
       "          URL6  URL7  URL8  URL9  ClassID1  ClassID2  ClassID3  \n",
       "9237227      0     0     0     0         1         0         0  \n",
       "13157894     0     0     0     0         1         0         0  \n",
       "7989018      0     0     0     0         0         0         1  \n",
       "12970248     0     0     0     0         1         0         0  \n",
       "10488172     0     0     0     0         1         0         0  "
      ]
     },
     "execution_count": 20,
     "metadata": {},
     "output_type": "execute_result"
    }
   ],
   "source": [
    "df_reduced.head()"
   ]
  },
  {
   "cell_type": "code",
   "execution_count": 7,
   "metadata": {
    "collapsed": true
   },
   "outputs": [],
   "source": [
    "new_header = ['URL', 'User Agent', 'Unknown', 'UUID', 'TimeStamp', 'ClassID']\n",
    "df_reduced.columns = new_header"
   ]
  },
  {
   "cell_type": "code",
   "execution_count": 8,
   "metadata": {
    "collapsed": false
   },
   "outputs": [
    {
     "data": {
      "text/html": [
       "<div>\n",
       "<table border=\"1\" class=\"dataframe\">\n",
       "  <thead>\n",
       "    <tr style=\"text-align: right;\">\n",
       "      <th></th>\n",
       "      <th>URL</th>\n",
       "      <th>User Agent</th>\n",
       "      <th>Unknown</th>\n",
       "      <th>UUID</th>\n",
       "      <th>TimeStamp</th>\n",
       "      <th>ClassID</th>\n",
       "    </tr>\n",
       "  </thead>\n",
       "  <tbody>\n",
       "    <tr>\n",
       "      <th>9237227</th>\n",
       "      <td>/courses/166</td>\n",
       "      <td>Mozilla/5.0 (Windows NT 6.1; WOW64) AppleWebKi...</td>\n",
       "      <td>2458878</td>\n",
       "      <td>a5e9b18f00846f5d55dc49041a442c8e</td>\n",
       "      <td>2014-09-23 14:09:27</td>\n",
       "      <td>05d0532840f04928dfdd86296c51189d</td>\n",
       "    </tr>\n",
       "    <tr>\n",
       "      <th>13157894</th>\n",
       "      <td>/courses/166/files/577/preview?verifier=NwilNK...</td>\n",
       "      <td>Mozilla/5.0 (Windows NT 6.1; WOW64) AppleWebKi...</td>\n",
       "      <td>167369</td>\n",
       "      <td>7ed92d191b05e6d1400d385f935c8747</td>\n",
       "      <td>2014-11-12 19:51:55</td>\n",
       "      <td>05d0532840f04928dfdd86296c51189d</td>\n",
       "    </tr>\n",
       "    <tr>\n",
       "      <th>7989018</th>\n",
       "      <td>/api/v1/courses/164/pages/course-related-resou...</td>\n",
       "      <td>Mozilla/5.0 (Macintosh; Intel Mac OS X 10_9_4)...</td>\n",
       "      <td>185840</td>\n",
       "      <td>3447feecce046beca179320f26d080c1</td>\n",
       "      <td>2014-09-05 20:47:48</td>\n",
       "      <td>a6ff862f8df9f99bec63a4096890db10</td>\n",
       "    </tr>\n",
       "    <tr>\n",
       "      <th>12970248</th>\n",
       "      <td>/api/v1/courses/166/pages/dr-millers-lecture-0...</td>\n",
       "      <td>Mozilla/5.0 (Windows NT 6.1; WOW64) AppleWebKi...</td>\n",
       "      <td>153438</td>\n",
       "      <td>a23368df1b6bbf80c3aeb99493d1bfa1</td>\n",
       "      <td>2014-11-10 23:27:13</td>\n",
       "      <td>05d0532840f04928dfdd86296c51189d</td>\n",
       "    </tr>\n",
       "    <tr>\n",
       "      <th>10488172</th>\n",
       "      <td>/api/v1/courses/166/pages/home-page/revisions/...</td>\n",
       "      <td>Mozilla/5.0 (Macintosh; Intel Mac OS X 10_9_2)...</td>\n",
       "      <td>95412</td>\n",
       "      <td>c27f4523d6975f848c9e1602556e2ad9</td>\n",
       "      <td>2014-10-09 04:47:33</td>\n",
       "      <td>05d0532840f04928dfdd86296c51189d</td>\n",
       "    </tr>\n",
       "  </tbody>\n",
       "</table>\n",
       "</div>"
      ],
      "text/plain": [
       "                                                        URL  \\\n",
       "9237227                                        /courses/166   \n",
       "13157894  /courses/166/files/577/preview?verifier=NwilNK...   \n",
       "7989018   /api/v1/courses/164/pages/course-related-resou...   \n",
       "12970248  /api/v1/courses/166/pages/dr-millers-lecture-0...   \n",
       "10488172  /api/v1/courses/166/pages/home-page/revisions/...   \n",
       "\n",
       "                                                 User Agent  Unknown  \\\n",
       "9237227   Mozilla/5.0 (Windows NT 6.1; WOW64) AppleWebKi...  2458878   \n",
       "13157894  Mozilla/5.0 (Windows NT 6.1; WOW64) AppleWebKi...   167369   \n",
       "7989018   Mozilla/5.0 (Macintosh; Intel Mac OS X 10_9_4)...   185840   \n",
       "12970248  Mozilla/5.0 (Windows NT 6.1; WOW64) AppleWebKi...   153438   \n",
       "10488172  Mozilla/5.0 (Macintosh; Intel Mac OS X 10_9_2)...    95412   \n",
       "\n",
       "                                      UUID            TimeStamp  \\\n",
       "9237227   a5e9b18f00846f5d55dc49041a442c8e  2014-09-23 14:09:27   \n",
       "13157894  7ed92d191b05e6d1400d385f935c8747  2014-11-12 19:51:55   \n",
       "7989018   3447feecce046beca179320f26d080c1  2014-09-05 20:47:48   \n",
       "12970248  a23368df1b6bbf80c3aeb99493d1bfa1  2014-11-10 23:27:13   \n",
       "10488172  c27f4523d6975f848c9e1602556e2ad9  2014-10-09 04:47:33   \n",
       "\n",
       "                                   ClassID  \n",
       "9237227   05d0532840f04928dfdd86296c51189d  \n",
       "13157894  05d0532840f04928dfdd86296c51189d  \n",
       "7989018   a6ff862f8df9f99bec63a4096890db10  \n",
       "12970248  05d0532840f04928dfdd86296c51189d  \n",
       "10488172  05d0532840f04928dfdd86296c51189d  "
      ]
     },
     "execution_count": 8,
     "metadata": {},
     "output_type": "execute_result"
    }
   ],
   "source": [
    "df_reduced.head()"
   ]
  },
  {
   "cell_type": "code",
   "execution_count": 9,
   "metadata": {
    "collapsed": true
   },
   "outputs": [],
   "source": [
    "del df_reduced['Unknown']"
   ]
  },
  {
   "cell_type": "code",
   "execution_count": 21,
   "metadata": {
    "collapsed": false
   },
   "outputs": [
    {
     "data": {
      "text/html": [
       "<div>\n",
       "<table border=\"1\" class=\"dataframe\">\n",
       "  <thead>\n",
       "    <tr style=\"text-align: right;\">\n",
       "      <th></th>\n",
       "      <th>URL</th>\n",
       "      <th>User Agent</th>\n",
       "      <th>UUID</th>\n",
       "      <th>TimeStamp</th>\n",
       "      <th>ClassID</th>\n",
       "      <th>URL1</th>\n",
       "      <th>URL2</th>\n",
       "      <th>URL3</th>\n",
       "      <th>URL4</th>\n",
       "      <th>URL5</th>\n",
       "      <th>URL6</th>\n",
       "      <th>URL7</th>\n",
       "      <th>URL8</th>\n",
       "      <th>URL9</th>\n",
       "      <th>ClassID1</th>\n",
       "      <th>ClassID2</th>\n",
       "      <th>ClassID3</th>\n",
       "    </tr>\n",
       "  </thead>\n",
       "  <tbody>\n",
       "    <tr>\n",
       "      <th>9237227</th>\n",
       "      <td>/courses/166</td>\n",
       "      <td>Mozilla/5.0 (Windows NT 6.1; WOW64) AppleWebKi...</td>\n",
       "      <td>a5e9b18f00846f5d55dc49041a442c8e</td>\n",
       "      <td>2014-09-23 14:09:27</td>\n",
       "      <td>05d0532840f04928dfdd86296c51189d</td>\n",
       "      <td>0</td>\n",
       "      <td>0</td>\n",
       "      <td>0</td>\n",
       "      <td>0</td>\n",
       "      <td>0</td>\n",
       "      <td>0</td>\n",
       "      <td>0</td>\n",
       "      <td>0</td>\n",
       "      <td>0</td>\n",
       "      <td>1</td>\n",
       "      <td>0</td>\n",
       "      <td>0</td>\n",
       "    </tr>\n",
       "    <tr>\n",
       "      <th>13157894</th>\n",
       "      <td>/courses/166/files/577/preview?verifier=NwilNK...</td>\n",
       "      <td>Mozilla/5.0 (Windows NT 6.1; WOW64) AppleWebKi...</td>\n",
       "      <td>7ed92d191b05e6d1400d385f935c8747</td>\n",
       "      <td>2014-11-12 19:51:55</td>\n",
       "      <td>05d0532840f04928dfdd86296c51189d</td>\n",
       "      <td>0</td>\n",
       "      <td>0</td>\n",
       "      <td>0</td>\n",
       "      <td>0</td>\n",
       "      <td>0</td>\n",
       "      <td>0</td>\n",
       "      <td>0</td>\n",
       "      <td>0</td>\n",
       "      <td>0</td>\n",
       "      <td>1</td>\n",
       "      <td>0</td>\n",
       "      <td>0</td>\n",
       "    </tr>\n",
       "    <tr>\n",
       "      <th>7989018</th>\n",
       "      <td>/api/v1/courses/164/pages/course-related-resou...</td>\n",
       "      <td>Mozilla/5.0 (Macintosh; Intel Mac OS X 10_9_4)...</td>\n",
       "      <td>3447feecce046beca179320f26d080c1</td>\n",
       "      <td>2014-09-05 20:47:48</td>\n",
       "      <td>a6ff862f8df9f99bec63a4096890db10</td>\n",
       "      <td>0</td>\n",
       "      <td>0</td>\n",
       "      <td>0</td>\n",
       "      <td>0</td>\n",
       "      <td>0</td>\n",
       "      <td>0</td>\n",
       "      <td>0</td>\n",
       "      <td>0</td>\n",
       "      <td>0</td>\n",
       "      <td>0</td>\n",
       "      <td>0</td>\n",
       "      <td>1</td>\n",
       "    </tr>\n",
       "    <tr>\n",
       "      <th>12970248</th>\n",
       "      <td>/api/v1/courses/166/pages/dr-millers-lecture-0...</td>\n",
       "      <td>Mozilla/5.0 (Windows NT 6.1; WOW64) AppleWebKi...</td>\n",
       "      <td>a23368df1b6bbf80c3aeb99493d1bfa1</td>\n",
       "      <td>2014-11-10 23:27:13</td>\n",
       "      <td>05d0532840f04928dfdd86296c51189d</td>\n",
       "      <td>0</td>\n",
       "      <td>0</td>\n",
       "      <td>1</td>\n",
       "      <td>0</td>\n",
       "      <td>0</td>\n",
       "      <td>0</td>\n",
       "      <td>0</td>\n",
       "      <td>0</td>\n",
       "      <td>0</td>\n",
       "      <td>1</td>\n",
       "      <td>0</td>\n",
       "      <td>0</td>\n",
       "    </tr>\n",
       "    <tr>\n",
       "      <th>10488172</th>\n",
       "      <td>/api/v1/courses/166/pages/home-page/revisions/...</td>\n",
       "      <td>Mozilla/5.0 (Macintosh; Intel Mac OS X 10_9_2)...</td>\n",
       "      <td>c27f4523d6975f848c9e1602556e2ad9</td>\n",
       "      <td>2014-10-09 04:47:33</td>\n",
       "      <td>05d0532840f04928dfdd86296c51189d</td>\n",
       "      <td>0</td>\n",
       "      <td>0</td>\n",
       "      <td>0</td>\n",
       "      <td>0</td>\n",
       "      <td>0</td>\n",
       "      <td>0</td>\n",
       "      <td>0</td>\n",
       "      <td>0</td>\n",
       "      <td>0</td>\n",
       "      <td>1</td>\n",
       "      <td>0</td>\n",
       "      <td>0</td>\n",
       "    </tr>\n",
       "  </tbody>\n",
       "</table>\n",
       "</div>"
      ],
      "text/plain": [
       "                                                        URL  \\\n",
       "9237227                                        /courses/166   \n",
       "13157894  /courses/166/files/577/preview?verifier=NwilNK...   \n",
       "7989018   /api/v1/courses/164/pages/course-related-resou...   \n",
       "12970248  /api/v1/courses/166/pages/dr-millers-lecture-0...   \n",
       "10488172  /api/v1/courses/166/pages/home-page/revisions/...   \n",
       "\n",
       "                                                 User Agent  \\\n",
       "9237227   Mozilla/5.0 (Windows NT 6.1; WOW64) AppleWebKi...   \n",
       "13157894  Mozilla/5.0 (Windows NT 6.1; WOW64) AppleWebKi...   \n",
       "7989018   Mozilla/5.0 (Macintosh; Intel Mac OS X 10_9_4)...   \n",
       "12970248  Mozilla/5.0 (Windows NT 6.1; WOW64) AppleWebKi...   \n",
       "10488172  Mozilla/5.0 (Macintosh; Intel Mac OS X 10_9_2)...   \n",
       "\n",
       "                                      UUID            TimeStamp  \\\n",
       "9237227   a5e9b18f00846f5d55dc49041a442c8e  2014-09-23 14:09:27   \n",
       "13157894  7ed92d191b05e6d1400d385f935c8747  2014-11-12 19:51:55   \n",
       "7989018   3447feecce046beca179320f26d080c1  2014-09-05 20:47:48   \n",
       "12970248  a23368df1b6bbf80c3aeb99493d1bfa1  2014-11-10 23:27:13   \n",
       "10488172  c27f4523d6975f848c9e1602556e2ad9  2014-10-09 04:47:33   \n",
       "\n",
       "                                   ClassID  URL1  URL2  URL3  URL4  URL5  \\\n",
       "9237227   05d0532840f04928dfdd86296c51189d     0     0     0     0     0   \n",
       "13157894  05d0532840f04928dfdd86296c51189d     0     0     0     0     0   \n",
       "7989018   a6ff862f8df9f99bec63a4096890db10     0     0     0     0     0   \n",
       "12970248  05d0532840f04928dfdd86296c51189d     0     0     1     0     0   \n",
       "10488172  05d0532840f04928dfdd86296c51189d     0     0     0     0     0   \n",
       "\n",
       "          URL6  URL7  URL8  URL9  ClassID1  ClassID2  ClassID3  \n",
       "9237227      0     0     0     0         1         0         0  \n",
       "13157894     0     0     0     0         1         0         0  \n",
       "7989018      0     0     0     0         0         0         1  \n",
       "12970248     0     0     0     0         1         0         0  \n",
       "10488172     0     0     0     0         1         0         0  "
      ]
     },
     "execution_count": 21,
     "metadata": {},
     "output_type": "execute_result"
    }
   ],
   "source": [
    "df_reduced.head()"
   ]
  },
  {
   "cell_type": "code",
   "execution_count": 142,
   "metadata": {
    "collapsed": false
   },
   "outputs": [
    {
     "name": "stdout",
     "output_type": "stream",
     "text": [
      "10000\n"
     ]
    }
   ],
   "source": [
    "#cluster\n",
    "# the links below for URLs 1 thru 9 are the three most clicked links for each course, based on the sorting code that Connie did. \n",
    "\n",
    "dfnew = df_reduced\n",
    "\n",
    "dfnew['URL1'] = np.where(dfnew['URL']=='/api/v1/courses/166/ping', 1, 0)\n",
    "dfnew['URL2'] = np.where(dfnew['URL']=='/api/v1/courses/166/pages/virtual-sites/revisions/latest?summary=true', 1, 0)\n",
    "dfnew['URL3'] = np.where(dfnew['URL']=='/api/v1/courses/166/pages/dr-millers-lecture-003-recordings/revisions/latest?summary=true', 1, 0)\n",
    "\n",
    "dfnew['URL4'] = np.where(dfnew['URL']=='/api/v1/courses/158/pages/sketching-videos/revisions/latest?summary=true', 1, 0)\n",
    "dfnew['URL5'] = np.where(dfnew['URL']=='/api/v1/courses/158/ping', 1, 0)\n",
    "dfnew['URL6'] = np.where(dfnew['URL']=='/courses/158', 1, 0)\n",
    "\n",
    "dfnew['URL7'] = np.where(dfnew['URL']=='/api/v1/courses/164/pages/blogging/revisions/latest?summary=true', 1, 0)\n",
    "dfnew['URL8'] = np.where(dfnew['URL']=='/api/v1/courses/164/ping', 1, 0)\n",
    "dfnew['URL9'] = np.where(dfnew['URL']=='/courses/164/', 1, 0)\n",
    "\n",
    "\n",
    "dfnew['ClassID1'] = np.where(dfnew['ClassID']=='05d0532840f04928dfdd86296c51189d', 1, 0)\n",
    "dfnew['ClassID2'] = np.where(dfnew['ClassID']=='08acd1cae6c97712fc8dbe400c35b47d', 1, 0)\n",
    "dfnew['ClassID3'] = np.where(dfnew['ClassID']=='a6ff862f8df9f99bec63a4096890db10', 1, 0)\n",
    "\n",
    "dfnew = dfnew.drop('URL', 1)\n",
    "dfnew = dfnew.drop('ClassID', 1)\n",
    "dfnew.head() "
   ]
  },
  {
   "cell_type": "code",
   "execution_count": 140,
   "metadata": {
    "collapsed": false
   },
   "outputs": [
    {
     "data": {
      "text/html": [
       "<div>\n",
       "<table border=\"1\" class=\"dataframe\">\n",
       "  <thead>\n",
       "    <tr style=\"text-align: right;\">\n",
       "      <th></th>\n",
       "      <th>URL1</th>\n",
       "      <th>URL2</th>\n",
       "      <th>URL3</th>\n",
       "      <th>URL4</th>\n",
       "      <th>URL5</th>\n",
       "      <th>URL6</th>\n",
       "      <th>URL7</th>\n",
       "      <th>URL8</th>\n",
       "      <th>URL9</th>\n",
       "      <th>ClassID1</th>\n",
       "      <th>ClassID2</th>\n",
       "      <th>ClassID3</th>\n",
       "    </tr>\n",
       "  </thead>\n",
       "  <tbody>\n",
       "    <tr>\n",
       "      <th>9237227</th>\n",
       "      <td>-0.23109</td>\n",
       "      <td>-0.16434</td>\n",
       "      <td>-0.156134</td>\n",
       "      <td>-0.086925</td>\n",
       "      <td>-0.06723</td>\n",
       "      <td>-0.03466</td>\n",
       "      <td>-0.094758</td>\n",
       "      <td>-0.067976</td>\n",
       "      <td>-0.017322</td>\n",
       "      <td>0.401440</td>\n",
       "      <td>-0.263217</td>\n",
       "      <td>-0.282676</td>\n",
       "    </tr>\n",
       "    <tr>\n",
       "      <th>13157894</th>\n",
       "      <td>-0.23109</td>\n",
       "      <td>-0.16434</td>\n",
       "      <td>-0.156134</td>\n",
       "      <td>-0.086925</td>\n",
       "      <td>-0.06723</td>\n",
       "      <td>-0.03466</td>\n",
       "      <td>-0.094758</td>\n",
       "      <td>-0.067976</td>\n",
       "      <td>-0.017322</td>\n",
       "      <td>0.401440</td>\n",
       "      <td>-0.263217</td>\n",
       "      <td>-0.282676</td>\n",
       "    </tr>\n",
       "    <tr>\n",
       "      <th>7989018</th>\n",
       "      <td>-0.23109</td>\n",
       "      <td>-0.16434</td>\n",
       "      <td>-0.156134</td>\n",
       "      <td>-0.086925</td>\n",
       "      <td>-0.06723</td>\n",
       "      <td>-0.03466</td>\n",
       "      <td>-0.094758</td>\n",
       "      <td>-0.067976</td>\n",
       "      <td>-0.017322</td>\n",
       "      <td>-2.490781</td>\n",
       "      <td>-0.263217</td>\n",
       "      <td>3.537268</td>\n",
       "    </tr>\n",
       "    <tr>\n",
       "      <th>12970248</th>\n",
       "      <td>-0.23109</td>\n",
       "      <td>-0.16434</td>\n",
       "      <td>6.404116</td>\n",
       "      <td>-0.086925</td>\n",
       "      <td>-0.06723</td>\n",
       "      <td>-0.03466</td>\n",
       "      <td>-0.094758</td>\n",
       "      <td>-0.067976</td>\n",
       "      <td>-0.017322</td>\n",
       "      <td>0.401440</td>\n",
       "      <td>-0.263217</td>\n",
       "      <td>-0.282676</td>\n",
       "    </tr>\n",
       "    <tr>\n",
       "      <th>10488172</th>\n",
       "      <td>-0.23109</td>\n",
       "      <td>-0.16434</td>\n",
       "      <td>-0.156134</td>\n",
       "      <td>-0.086925</td>\n",
       "      <td>-0.06723</td>\n",
       "      <td>-0.03466</td>\n",
       "      <td>-0.094758</td>\n",
       "      <td>-0.067976</td>\n",
       "      <td>-0.017322</td>\n",
       "      <td>0.401440</td>\n",
       "      <td>-0.263217</td>\n",
       "      <td>-0.282676</td>\n",
       "    </tr>\n",
       "  </tbody>\n",
       "</table>\n",
       "</div>"
      ],
      "text/plain": [
       "             URL1     URL2      URL3      URL4     URL5     URL6      URL7  \\\n",
       "9237227  -0.23109 -0.16434 -0.156134 -0.086925 -0.06723 -0.03466 -0.094758   \n",
       "13157894 -0.23109 -0.16434 -0.156134 -0.086925 -0.06723 -0.03466 -0.094758   \n",
       "7989018  -0.23109 -0.16434 -0.156134 -0.086925 -0.06723 -0.03466 -0.094758   \n",
       "12970248 -0.23109 -0.16434  6.404116 -0.086925 -0.06723 -0.03466 -0.094758   \n",
       "10488172 -0.23109 -0.16434 -0.156134 -0.086925 -0.06723 -0.03466 -0.094758   \n",
       "\n",
       "              URL8      URL9  ClassID1  ClassID2  ClassID3  \n",
       "9237227  -0.067976 -0.017322  0.401440 -0.263217 -0.282676  \n",
       "13157894 -0.067976 -0.017322  0.401440 -0.263217 -0.282676  \n",
       "7989018  -0.067976 -0.017322 -2.490781 -0.263217  3.537268  \n",
       "12970248 -0.067976 -0.017322  0.401440 -0.263217 -0.282676  \n",
       "10488172 -0.067976 -0.017322  0.401440 -0.263217 -0.282676  "
      ]
     },
     "execution_count": 140,
     "metadata": {},
     "output_type": "execute_result"
    }
   ],
   "source": [
    "#Normalize the data. (When working with a smaller subset of the data, there were NAN columns that need to be removed if you want to see the clustering\n",
    "#analysis) \n",
    "df_filtered = dfnew[['URL1', 'URL2', 'URL3', 'URL4', 'URL5', 'URL6', 'URL7', 'URL8','URL9', 'ClassID1','ClassID2','ClassID3',]]\n",
    "df_norm = df_filtered.apply(lambda x: (x - x.mean()) / x.std())\n",
    "df_norm.head()"
   ]
  },
  {
   "cell_type": "code",
   "execution_count": 13,
   "metadata": {
    "collapsed": false
   },
   "outputs": [
    {
     "data": {
      "text/plain": [
       "<matplotlib.figure.Figure at 0x106726b00>"
      ]
     },
     "metadata": {},
     "output_type": "display_data"
    },
    {
     "data": {
      "image/png": "[encoded data removed]",
      "text/plain": [
       "<matplotlib.figure.Figure at 0x1443bf7b8>"
      ]
     },
     "metadata": {},
     "output_type": "display_data"
    },
    {
     "data": {
      "text/plain": [
       "<matplotlib.figure.Figure at 0x1443bedd8>"
      ]
     },
     "metadata": {},
     "output_type": "display_data"
    },
    {
     "data": {
      "image/png": "[encoded data removed]",
      "text/plain": [
       "<matplotlib.figure.Figure at 0x10e8dd860>"
      ]
     },
     "metadata": {},
     "output_type": "display_data"
    },
    {
     "data": {
      "text/plain": [
       "<matplotlib.figure.Figure at 0x10e907240>"
      ]
     },
     "metadata": {},
     "output_type": "display_data"
    },
    {
     "data": {
      "image/png": "[encoded data removed]",
      "text/plain": [
       "<matplotlib.figure.Figure at 0x10e91f828>"
      ]
     },
     "metadata": {},
     "output_type": "display_data"
    },
    {
     "data": {
      "text/plain": [
       "<matplotlib.figure.Figure at 0x10e8cb278>"
      ]
     },
     "metadata": {},
     "output_type": "display_data"
    },
    {
     "data": {
      "image/png": "[encoded data removed]",
      "text/plain": [
       "<matplotlib.figure.Figure at 0x10ec590f0>"
      ]
     },
     "metadata": {},
     "output_type": "display_data"
    },
    {
     "data": {
      "text/plain": [
       "<matplotlib.figure.Figure at 0x10e941940>"
      ]
     },
     "metadata": {},
     "output_type": "display_data"
    },
    {
     "data": {
      "image/png": "[encoded data removed]",
      "text/plain": [
       "<matplotlib.figure.Figure at 0x1103fa3c8>"
      ]
     },
     "metadata": {},
     "output_type": "display_data"
    }
   ],
   "source": [
    "#kmeans clustering visualization\n",
    "\n",
    "pca_model = skd.PCA(n_components=2).fit(df_norm)\n",
    "pca_data = pca_model.transform(df_norm)\n",
    "df_pca = pd.DataFrame(pca_data, columns=['pca0', 'pca1'])\n",
    "\n",
    "for k in range(2,7):\n",
    "    kmeans_model = skc.KMeans(k).fit(df_norm)\n",
    "    centroids = kmeans_model.cluster_centers_\n",
    "    centroids_pca = pca_model.transform(centroids)\n",
    "    cluster_labels = kmeans_model.labels_\n",
    "    df_pca['label'] = cluster_labels\n",
    "    silh_score = skm.silhouette_score(df_norm, cluster_labels)\n",
    "    \n",
    "    plt.figure()\n",
    "    f = sns.lmplot(x='pca0', y='pca1', data=df_pca, \n",
    "                   hue='label', fit_reg=False, \n",
    "                   scatter_kws={'s': 100})\n",
    "    f.ax.scatter(centroids_pca[:,0], centroids_pca[:,1], \n",
    "                 marker='+', s=200, linewidths=2, color='black')\n",
    "    plt.title('k-means: k=%d\\nSilhouette_score=%f'%(\n",
    "                k, silh_score), fontsize=15)"
   ]
  },
  {
   "cell_type": "code",
   "execution_count": 139,
   "metadata": {
    "collapsed": false
   },
   "outputs": [
    {
     "name": "stdout",
     "output_type": "stream",
     "text": [
      "There are 5 clusters\n",
      "238\n"
     ]
    }
   ],
   "source": [
    "max_label_id = np.max(kmeans_model.labels_)\n",
    "print('There are %d clusters'%max_label_id)\n",
    "for i in range(1, max_label_id + 1):\n",
    "    members = df_norm.index[cluster_labels == i]\n",
    "    if i == 1:\n",
    "        cluster1 = members\n",
    "    elif i == 2:\n",
    "        cluster2 = members\n",
    "    elif i == 3:\n",
    "        cluster3 = members\n",
    "    elif i == 4:\n",
    "        cluster4 = members\n",
    "    elif i == 5:\n",
    "        cluster5 = members\n",
    "print(len(cluster5))"
   ]
  },
  {
   "cell_type": "code",
   "execution_count": 80,
   "metadata": {
    "collapsed": false,
    "scrolled": false
   },
   "outputs": [
    {
     "data": {
      "text/html": [
       "<div>\n",
       "<table border=\"1\" class=\"dataframe\">\n",
       "  <thead>\n",
       "    <tr style=\"text-align: right;\">\n",
       "      <th></th>\n",
       "      <th>URL</th>\n",
       "      <th>User Agent</th>\n",
       "      <th>TimeStamp</th>\n",
       "      <th>UUID</th>\n",
       "      <th>ClassID</th>\n",
       "    </tr>\n",
       "  </thead>\n",
       "  <tbody>\n",
       "    <tr>\n",
       "      <th>0</th>\n",
       "      <td>/api/v1/courses/158/pages/me250-home-page/revi...</td>\n",
       "      <td>Mozilla/5.0 (Windows NT 6.1; WOW64; rv:32.0) G...</td>\n",
       "      <td>2014-10-03 20:25:07</td>\n",
       "      <td>3a4ad0ec6eeb12d53f60563e3d732026</td>\n",
       "      <td>08acd1cae6c97712fc8dbe400c35b47d</td>\n",
       "    </tr>\n",
       "    <tr>\n",
       "      <th>1</th>\n",
       "      <td>/api/v1/courses/158/pages/me250-home-page/revi...</td>\n",
       "      <td>Mozilla/5.0 (Windows NT 6.1; WOW64) AppleWebKi...</td>\n",
       "      <td>2014-12-12 06:24:00</td>\n",
       "      <td>eaa2ed547c291798305355c0ae871aad</td>\n",
       "      <td>08acd1cae6c97712fc8dbe400c35b47d</td>\n",
       "    </tr>\n",
       "    <tr>\n",
       "      <th>2</th>\n",
       "      <td>/api/v1/courses/158/pages/me250-home-page/revi...</td>\n",
       "      <td>Mozilla/5.0 (Macintosh; Intel Mac OS X 10_9_5)...</td>\n",
       "      <td>2014-11-13 04:06:24</td>\n",
       "      <td>ec5bee2fa25afb593ffea7f76b42bcda</td>\n",
       "      <td>08acd1cae6c97712fc8dbe400c35b47d</td>\n",
       "    </tr>\n",
       "    <tr>\n",
       "      <th>3</th>\n",
       "      <td>/api/v1/courses/158/pages/me250-home-page/revi...</td>\n",
       "      <td>Mozilla/5.0 (Macintosh; Intel Mac OS X 10_10_1...</td>\n",
       "      <td>2014-11-08 03:29:52</td>\n",
       "      <td>fb7f98e6f225545d69095d6e7eb27dc0</td>\n",
       "      <td>08acd1cae6c97712fc8dbe400c35b47d</td>\n",
       "    </tr>\n",
       "    <tr>\n",
       "      <th>4</th>\n",
       "      <td>/api/v1/courses/158/pages/me250-home-page/revi...</td>\n",
       "      <td>Mozilla/5.0 (Windows NT 6.1; WOW64) AppleWebKi...</td>\n",
       "      <td>2014-10-22 02:04:42</td>\n",
       "      <td>bf30ec5e8ded7c682aa7c820f7a4c7ba</td>\n",
       "      <td>08acd1cae6c97712fc8dbe400c35b47d</td>\n",
       "    </tr>\n",
       "  </tbody>\n",
       "</table>\n",
       "</div>"
      ],
      "text/plain": [
       "                                                 URL  \\\n",
       "0  /api/v1/courses/158/pages/me250-home-page/revi...   \n",
       "1  /api/v1/courses/158/pages/me250-home-page/revi...   \n",
       "2  /api/v1/courses/158/pages/me250-home-page/revi...   \n",
       "3  /api/v1/courses/158/pages/me250-home-page/revi...   \n",
       "4  /api/v1/courses/158/pages/me250-home-page/revi...   \n",
       "\n",
       "                                          User Agent            TimeStamp  \\\n",
       "0  Mozilla/5.0 (Windows NT 6.1; WOW64; rv:32.0) G...  2014-10-03 20:25:07   \n",
       "1  Mozilla/5.0 (Windows NT 6.1; WOW64) AppleWebKi...  2014-12-12 06:24:00   \n",
       "2  Mozilla/5.0 (Macintosh; Intel Mac OS X 10_9_5)...  2014-11-13 04:06:24   \n",
       "3  Mozilla/5.0 (Macintosh; Intel Mac OS X 10_10_1...  2014-11-08 03:29:52   \n",
       "4  Mozilla/5.0 (Windows NT 6.1; WOW64) AppleWebKi...  2014-10-22 02:04:42   \n",
       "\n",
       "                               UUID                           ClassID  \n",
       "0  3a4ad0ec6eeb12d53f60563e3d732026  08acd1cae6c97712fc8dbe400c35b47d  \n",
       "1  eaa2ed547c291798305355c0ae871aad  08acd1cae6c97712fc8dbe400c35b47d  \n",
       "2  ec5bee2fa25afb593ffea7f76b42bcda  08acd1cae6c97712fc8dbe400c35b47d  \n",
       "3  fb7f98e6f225545d69095d6e7eb27dc0  08acd1cae6c97712fc8dbe400c35b47d  \n",
       "4  bf30ec5e8ded7c682aa7c820f7a4c7ba  08acd1cae6c97712fc8dbe400c35b47d  "
      ]
     },
     "execution_count": 80,
     "metadata": {},
     "output_type": "execute_result"
    }
   ],
   "source": [
    "#######CLUSTER 1 ANALYSIS\n",
    "df_cluster1 = pd.DataFrame(columns=('URL', 'User Agent', 'TimeStamp', 'UUID', 'ClassID'))\n",
    "for member in cluster1:\n",
    "    df_cluster1.loc[len(df_cluster1)] = df_reduced.ix[member]\n",
    "df_cluster1.head()"
   ]
  },
  {
   "cell_type": "code",
   "execution_count": 91,
   "metadata": {
    "collapsed": false
   },
   "outputs": [
    {
     "name": "stderr",
     "output_type": "stream",
     "text": [
      "/Users/andycho/anaconda/lib/python3.5/site-packages/ipykernel/__main__.py:2: FutureWarning: sort(columns=....) is deprecated, use sort_values(by=.....)\n",
      "  from ipykernel import kernelapp as app\n"
     ]
    },
    {
     "data": {
      "text/plain": [
       "<matplotlib.text.Text at 0x111ccfbe0>"
      ]
     },
     "execution_count": 91,
     "metadata": {},
     "output_type": "execute_result"
    },
    {
     "data": {
      "image/png": "[encoded data removed]",
      "text/plain": [
       "<matplotlib.figure.Figure at 0x111c90518>"
      ]
     },
     "metadata": {},
     "output_type": "display_data"
    }
   ],
   "source": [
    "#Descriptive Stats\n",
    "df_cluster1.groupby('UUID').count().sort(['URL']).plot(kind='hist', bins=6, legend=False,\n",
    "                                                    title = 'Distribution of Page Visits by Users')\n",
    "plt.xlabel('Page Visits')\n",
    "plt.ylabel('Number of Users')"
   ]
  },
  {
   "cell_type": "code",
   "execution_count": 103,
   "metadata": {
    "collapsed": false
   },
   "outputs": [
    {
     "data": {
      "text/plain": [
       "3.9512195121951219"
      ]
     },
     "execution_count": 103,
     "metadata": {},
     "output_type": "execute_result"
    }
   ],
   "source": [
    "df_cluster1.groupby('UUID').count().mean()['URL'] #average number of page views for each student in this group"
   ]
  },
  {
   "cell_type": "code",
   "execution_count": 81,
   "metadata": {
    "collapsed": false
   },
   "outputs": [],
   "source": [
    "#Time Series\n",
    "df_cluster1['date'] = pd.to_datetime(df_cluster1['TimeStamp'])\n",
    "df_cluster1.index = df_cluster1['date']\n",
    "del df_cluster1['date']\n",
    "del df_cluster1['TimeStamp']"
   ]
  },
  {
   "cell_type": "code",
   "execution_count": 82,
   "metadata": {
    "collapsed": false
   },
   "outputs": [
    {
     "name": "stderr",
     "output_type": "stream",
     "text": [
      "/Users/andycho/anaconda/lib/python3.5/site-packages/ipykernel/__main__.py:1: FutureWarning: sort(....) is deprecated, use sort_index(.....)\n",
      "  if __name__ == '__main__':\n"
     ]
    },
    {
     "data": {
      "text/html": [
       "<div>\n",
       "<table border=\"1\" class=\"dataframe\">\n",
       "  <thead>\n",
       "    <tr style=\"text-align: right;\">\n",
       "      <th></th>\n",
       "      <th>URL</th>\n",
       "      <th>User Agent</th>\n",
       "      <th>UUID</th>\n",
       "      <th>ClassID</th>\n",
       "    </tr>\n",
       "    <tr>\n",
       "      <th>date</th>\n",
       "      <th></th>\n",
       "      <th></th>\n",
       "      <th></th>\n",
       "      <th></th>\n",
       "    </tr>\n",
       "  </thead>\n",
       "  <tbody>\n",
       "    <tr>\n",
       "      <th>2014-08-31 21:47:56</th>\n",
       "      <td>/courses/158/folders/1389?page_view_id=2aff593...</td>\n",
       "      <td>Mozilla/5.0 (Windows NT 6.1; WOW64) AppleWebKi...</td>\n",
       "      <td>d85bd79aba765954f4955c68990331f0</td>\n",
       "      <td>08acd1cae6c97712fc8dbe400c35b47d</td>\n",
       "    </tr>\n",
       "    <tr>\n",
       "      <th>2014-09-01 18:33:37</th>\n",
       "      <td>/api/v1/courses/158/pages/me250-home-page/revi...</td>\n",
       "      <td>Mozilla/5.0 (Macintosh; Intel Mac OS X 10_9_2)...</td>\n",
       "      <td>2bdf591f72e13015b39c574544fce225</td>\n",
       "      <td>08acd1cae6c97712fc8dbe400c35b47d</td>\n",
       "    </tr>\n",
       "    <tr>\n",
       "      <th>2014-09-01 19:00:49</th>\n",
       "      <td>/courses/158/discussion_topics</td>\n",
       "      <td>Mozilla/5.0 (Macintosh; Intel Mac OS X 10_6_8)...</td>\n",
       "      <td>a04c43bdec74d649bd98f0377a6ebf15</td>\n",
       "      <td>08acd1cae6c97712fc8dbe400c35b47d</td>\n",
       "    </tr>\n",
       "    <tr>\n",
       "      <th>2014-09-02 00:54:18</th>\n",
       "      <td>/courses/158/details</td>\n",
       "      <td>Mozilla/5.0 (Windows NT 6.1; WOW64) AppleWebKi...</td>\n",
       "      <td>c24dff30d6fcbf0366648e6512a8802d</td>\n",
       "      <td>08acd1cae6c97712fc8dbe400c35b47d</td>\n",
       "    </tr>\n",
       "    <tr>\n",
       "      <th>2014-09-02 13:31:17</th>\n",
       "      <td>/api/v1/courses/158</td>\n",
       "      <td>Mozilla/5.0 (Macintosh; Intel Mac OS X 10_8_5)...</td>\n",
       "      <td>423e26e95a50ce72dae50e3b8e7bbe65</td>\n",
       "      <td>08acd1cae6c97712fc8dbe400c35b47d</td>\n",
       "    </tr>\n",
       "  </tbody>\n",
       "</table>\n",
       "</div>"
      ],
      "text/plain": [
       "                                                                   URL  \\\n",
       "date                                                                     \n",
       "2014-08-31 21:47:56  /courses/158/folders/1389?page_view_id=2aff593...   \n",
       "2014-09-01 18:33:37  /api/v1/courses/158/pages/me250-home-page/revi...   \n",
       "2014-09-01 19:00:49                     /courses/158/discussion_topics   \n",
       "2014-09-02 00:54:18                               /courses/158/details   \n",
       "2014-09-02 13:31:17                                /api/v1/courses/158   \n",
       "\n",
       "                                                            User Agent  \\\n",
       "date                                                                     \n",
       "2014-08-31 21:47:56  Mozilla/5.0 (Windows NT 6.1; WOW64) AppleWebKi...   \n",
       "2014-09-01 18:33:37  Mozilla/5.0 (Macintosh; Intel Mac OS X 10_9_2)...   \n",
       "2014-09-01 19:00:49  Mozilla/5.0 (Macintosh; Intel Mac OS X 10_6_8)...   \n",
       "2014-09-02 00:54:18  Mozilla/5.0 (Windows NT 6.1; WOW64) AppleWebKi...   \n",
       "2014-09-02 13:31:17  Mozilla/5.0 (Macintosh; Intel Mac OS X 10_8_5)...   \n",
       "\n",
       "                                                 UUID  \\\n",
       "date                                                    \n",
       "2014-08-31 21:47:56  d85bd79aba765954f4955c68990331f0   \n",
       "2014-09-01 18:33:37  2bdf591f72e13015b39c574544fce225   \n",
       "2014-09-01 19:00:49  a04c43bdec74d649bd98f0377a6ebf15   \n",
       "2014-09-02 00:54:18  c24dff30d6fcbf0366648e6512a8802d   \n",
       "2014-09-02 13:31:17  423e26e95a50ce72dae50e3b8e7bbe65   \n",
       "\n",
       "                                              ClassID  \n",
       "date                                                   \n",
       "2014-08-31 21:47:56  08acd1cae6c97712fc8dbe400c35b47d  \n",
       "2014-09-01 18:33:37  08acd1cae6c97712fc8dbe400c35b47d  \n",
       "2014-09-01 19:00:49  08acd1cae6c97712fc8dbe400c35b47d  \n",
       "2014-09-02 00:54:18  08acd1cae6c97712fc8dbe400c35b47d  \n",
       "2014-09-02 13:31:17  08acd1cae6c97712fc8dbe400c35b47d  "
      ]
     },
     "execution_count": 82,
     "metadata": {},
     "output_type": "execute_result"
    }
   ],
   "source": [
    "df_cluster1 = df_cluster1.sort()\n",
    "df_cluster1.head()"
   ]
  },
  {
   "cell_type": "code",
   "execution_count": 83,
   "metadata": {
    "collapsed": false
   },
   "outputs": [
    {
     "data": {
      "text/html": [
       "<div>\n",
       "<table border=\"1\" class=\"dataframe\">\n",
       "  <thead>\n",
       "    <tr style=\"text-align: right;\">\n",
       "      <th></th>\n",
       "      <th>URL</th>\n",
       "      <th>User Agent</th>\n",
       "      <th>UUID</th>\n",
       "      <th>ClassID</th>\n",
       "      <th>HofD</th>\n",
       "      <th>DofM</th>\n",
       "    </tr>\n",
       "    <tr>\n",
       "      <th>date</th>\n",
       "      <th></th>\n",
       "      <th></th>\n",
       "      <th></th>\n",
       "      <th></th>\n",
       "      <th></th>\n",
       "      <th></th>\n",
       "    </tr>\n",
       "  </thead>\n",
       "  <tbody>\n",
       "    <tr>\n",
       "      <th>2014-08-31 21:47:56</th>\n",
       "      <td>/courses/158/folders/1389?page_view_id=2aff593...</td>\n",
       "      <td>Mozilla/5.0 (Windows NT 6.1; WOW64) AppleWebKi...</td>\n",
       "      <td>d85bd79aba765954f4955c68990331f0</td>\n",
       "      <td>08acd1cae6c97712fc8dbe400c35b47d</td>\n",
       "      <td>21</td>\n",
       "      <td>31</td>\n",
       "    </tr>\n",
       "    <tr>\n",
       "      <th>2014-09-01 18:33:37</th>\n",
       "      <td>/api/v1/courses/158/pages/me250-home-page/revi...</td>\n",
       "      <td>Mozilla/5.0 (Macintosh; Intel Mac OS X 10_9_2)...</td>\n",
       "      <td>2bdf591f72e13015b39c574544fce225</td>\n",
       "      <td>08acd1cae6c97712fc8dbe400c35b47d</td>\n",
       "      <td>18</td>\n",
       "      <td>1</td>\n",
       "    </tr>\n",
       "    <tr>\n",
       "      <th>2014-09-01 19:00:49</th>\n",
       "      <td>/courses/158/discussion_topics</td>\n",
       "      <td>Mozilla/5.0 (Macintosh; Intel Mac OS X 10_6_8)...</td>\n",
       "      <td>a04c43bdec74d649bd98f0377a6ebf15</td>\n",
       "      <td>08acd1cae6c97712fc8dbe400c35b47d</td>\n",
       "      <td>19</td>\n",
       "      <td>1</td>\n",
       "    </tr>\n",
       "    <tr>\n",
       "      <th>2014-09-02 00:54:18</th>\n",
       "      <td>/courses/158/details</td>\n",
       "      <td>Mozilla/5.0 (Windows NT 6.1; WOW64) AppleWebKi...</td>\n",
       "      <td>c24dff30d6fcbf0366648e6512a8802d</td>\n",
       "      <td>08acd1cae6c97712fc8dbe400c35b47d</td>\n",
       "      <td>0</td>\n",
       "      <td>2</td>\n",
       "    </tr>\n",
       "    <tr>\n",
       "      <th>2014-09-02 13:31:17</th>\n",
       "      <td>/api/v1/courses/158</td>\n",
       "      <td>Mozilla/5.0 (Macintosh; Intel Mac OS X 10_8_5)...</td>\n",
       "      <td>423e26e95a50ce72dae50e3b8e7bbe65</td>\n",
       "      <td>08acd1cae6c97712fc8dbe400c35b47d</td>\n",
       "      <td>13</td>\n",
       "      <td>2</td>\n",
       "    </tr>\n",
       "  </tbody>\n",
       "</table>\n",
       "</div>"
      ],
      "text/plain": [
       "                                                                   URL  \\\n",
       "date                                                                     \n",
       "2014-08-31 21:47:56  /courses/158/folders/1389?page_view_id=2aff593...   \n",
       "2014-09-01 18:33:37  /api/v1/courses/158/pages/me250-home-page/revi...   \n",
       "2014-09-01 19:00:49                     /courses/158/discussion_topics   \n",
       "2014-09-02 00:54:18                               /courses/158/details   \n",
       "2014-09-02 13:31:17                                /api/v1/courses/158   \n",
       "\n",
       "                                                            User Agent  \\\n",
       "date                                                                     \n",
       "2014-08-31 21:47:56  Mozilla/5.0 (Windows NT 6.1; WOW64) AppleWebKi...   \n",
       "2014-09-01 18:33:37  Mozilla/5.0 (Macintosh; Intel Mac OS X 10_9_2)...   \n",
       "2014-09-01 19:00:49  Mozilla/5.0 (Macintosh; Intel Mac OS X 10_6_8)...   \n",
       "2014-09-02 00:54:18  Mozilla/5.0 (Windows NT 6.1; WOW64) AppleWebKi...   \n",
       "2014-09-02 13:31:17  Mozilla/5.0 (Macintosh; Intel Mac OS X 10_8_5)...   \n",
       "\n",
       "                                                 UUID  \\\n",
       "date                                                    \n",
       "2014-08-31 21:47:56  d85bd79aba765954f4955c68990331f0   \n",
       "2014-09-01 18:33:37  2bdf591f72e13015b39c574544fce225   \n",
       "2014-09-01 19:00:49  a04c43bdec74d649bd98f0377a6ebf15   \n",
       "2014-09-02 00:54:18  c24dff30d6fcbf0366648e6512a8802d   \n",
       "2014-09-02 13:31:17  423e26e95a50ce72dae50e3b8e7bbe65   \n",
       "\n",
       "                                              ClassID  HofD  DofM  \n",
       "date                                                               \n",
       "2014-08-31 21:47:56  08acd1cae6c97712fc8dbe400c35b47d    21    31  \n",
       "2014-09-01 18:33:37  08acd1cae6c97712fc8dbe400c35b47d    18     1  \n",
       "2014-09-01 19:00:49  08acd1cae6c97712fc8dbe400c35b47d    19     1  \n",
       "2014-09-02 00:54:18  08acd1cae6c97712fc8dbe400c35b47d     0     2  \n",
       "2014-09-02 13:31:17  08acd1cae6c97712fc8dbe400c35b47d    13     2  "
      ]
     },
     "execution_count": 83,
     "metadata": {},
     "output_type": "execute_result"
    }
   ],
   "source": [
    "#bin them into days or something and then use the count to see how many are in a certain day or hour\n",
    "df_cluster1['HofD'] = [r.hour for r in df_cluster1.index]\n",
    "df_cluster1['DofM'] = [r.day for r in df_cluster1.index]\n",
    "df_cluster1.head()"
   ]
  },
  {
   "cell_type": "code",
   "execution_count": 85,
   "metadata": {
    "collapsed": false
   },
   "outputs": [
    {
     "data": {
      "text/plain": [
       "<matplotlib.axes._subplots.AxesSubplot at 0x10e91fdd8>"
      ]
     },
     "execution_count": 85,
     "metadata": {},
     "output_type": "execute_result"
    },
    {
     "data": {
      "image/png": "[encoded data removed]",
      "text/plain": [
       "<matplotlib.figure.Figure at 0x10e917828>"
      ]
     },
     "metadata": {},
     "output_type": "display_data"
    }
   ],
   "source": [
    "df_cluster1.groupby('HofD').count().plot(title='Cluster 1 Site Views by Hour')"
   ]
  },
  {
   "cell_type": "code",
   "execution_count": 86,
   "metadata": {
    "collapsed": false
   },
   "outputs": [
    {
     "data": {
      "text/plain": [
       "<matplotlib.axes._subplots.AxesSubplot at 0x10e8cb080>"
      ]
     },
     "execution_count": 86,
     "metadata": {},
     "output_type": "execute_result"
    },
    {
     "data": {
      "image/png": "[encoded data removed]",
      "text/plain": [
       "<matplotlib.figure.Figure at 0x10f0f2b38>"
      ]
     },
     "metadata": {},
     "output_type": "display_data"
    }
   ],
   "source": [
    "df_cluster1.groupby('DofM').count().plot(title='Cluster 1 Site Views by Day of Month')"
   ]
  },
  {
   "cell_type": "code",
   "execution_count": 104,
   "metadata": {
    "collapsed": false,
    "scrolled": true
   },
   "outputs": [
    {
     "data": {
      "text/html": [
       "<div>\n",
       "<table border=\"1\" class=\"dataframe\">\n",
       "  <thead>\n",
       "    <tr style=\"text-align: right;\">\n",
       "      <th></th>\n",
       "      <th>URL</th>\n",
       "      <th>User Agent</th>\n",
       "      <th>TimeStamp</th>\n",
       "      <th>UUID</th>\n",
       "      <th>ClassID</th>\n",
       "    </tr>\n",
       "  </thead>\n",
       "  <tbody>\n",
       "    <tr>\n",
       "      <th>0</th>\n",
       "      <td>/api/v1/courses/164/pages/course-related-resou...</td>\n",
       "      <td>Mozilla/5.0 (Macintosh; Intel Mac OS X 10_9_4)...</td>\n",
       "      <td>2014-09-05 20:47:48</td>\n",
       "      <td>3447feecce046beca179320f26d080c1</td>\n",
       "      <td>a6ff862f8df9f99bec63a4096890db10</td>\n",
       "    </tr>\n",
       "    <tr>\n",
       "      <th>1</th>\n",
       "      <td>/courses/164</td>\n",
       "      <td>Mozilla/5.0 (Macintosh; Intel Mac OS X 10_7_5)...</td>\n",
       "      <td>2014-09-24 15:24:47</td>\n",
       "      <td>113bf4d649847427ce4ee905bdad86b0</td>\n",
       "      <td>a6ff862f8df9f99bec63a4096890db10</td>\n",
       "    </tr>\n",
       "    <tr>\n",
       "      <th>2</th>\n",
       "      <td>/courses/164/grades</td>\n",
       "      <td>Mozilla/5.0 (Windows NT 6.1; WOW64) AppleWebKi...</td>\n",
       "      <td>2014-10-02 05:41:37</td>\n",
       "      <td>9a34d948138ea3e768121fd0658ac7ed</td>\n",
       "      <td>a6ff862f8df9f99bec63a4096890db10</td>\n",
       "    </tr>\n",
       "    <tr>\n",
       "      <th>3</th>\n",
       "      <td>/courses/164/external_tools/61</td>\n",
       "      <td>Mozilla/5.0 (Windows NT 6.3; WOW64) AppleWebKi...</td>\n",
       "      <td>2014-10-23 12:44:22</td>\n",
       "      <td>430355f1b6c7a3bef6267f9bc53ec6ef</td>\n",
       "      <td>a6ff862f8df9f99bec63a4096890db10</td>\n",
       "    </tr>\n",
       "    <tr>\n",
       "      <th>4</th>\n",
       "      <td>/courses/164/quizzes/459/submissions/backup?us...</td>\n",
       "      <td>Mozilla/5.0 (Macintosh; Intel Mac OS X 10_9_2)...</td>\n",
       "      <td>2014-10-04 18:23:12</td>\n",
       "      <td>2138ed03733b8c3d885af8ed4b0b1dfc</td>\n",
       "      <td>a6ff862f8df9f99bec63a4096890db10</td>\n",
       "    </tr>\n",
       "  </tbody>\n",
       "</table>\n",
       "</div>"
      ],
      "text/plain": [
       "                                                 URL  \\\n",
       "0  /api/v1/courses/164/pages/course-related-resou...   \n",
       "1                                       /courses/164   \n",
       "2                                /courses/164/grades   \n",
       "3                     /courses/164/external_tools/61   \n",
       "4  /courses/164/quizzes/459/submissions/backup?us...   \n",
       "\n",
       "                                          User Agent            TimeStamp  \\\n",
       "0  Mozilla/5.0 (Macintosh; Intel Mac OS X 10_9_4)...  2014-09-05 20:47:48   \n",
       "1  Mozilla/5.0 (Macintosh; Intel Mac OS X 10_7_5)...  2014-09-24 15:24:47   \n",
       "2  Mozilla/5.0 (Windows NT 6.1; WOW64) AppleWebKi...  2014-10-02 05:41:37   \n",
       "3  Mozilla/5.0 (Windows NT 6.3; WOW64) AppleWebKi...  2014-10-23 12:44:22   \n",
       "4  Mozilla/5.0 (Macintosh; Intel Mac OS X 10_9_2)...  2014-10-04 18:23:12   \n",
       "\n",
       "                               UUID                           ClassID  \n",
       "0  3447feecce046beca179320f26d080c1  a6ff862f8df9f99bec63a4096890db10  \n",
       "1  113bf4d649847427ce4ee905bdad86b0  a6ff862f8df9f99bec63a4096890db10  \n",
       "2  9a34d948138ea3e768121fd0658ac7ed  a6ff862f8df9f99bec63a4096890db10  \n",
       "3  430355f1b6c7a3bef6267f9bc53ec6ef  a6ff862f8df9f99bec63a4096890db10  \n",
       "4  2138ed03733b8c3d885af8ed4b0b1dfc  a6ff862f8df9f99bec63a4096890db10  "
      ]
     },
     "execution_count": 104,
     "metadata": {},
     "output_type": "execute_result"
    }
   ],
   "source": [
    "#######CLUSTER 2 ANALYSIS\n",
    "df_cluster2 = pd.DataFrame(columns=('URL', 'User Agent', 'TimeStamp', 'UUID', 'ClassID'))\n",
    "for member in cluster2:\n",
    "    df_cluster2.loc[len(df_cluster2)] = df_reduced.ix[member]\n",
    "df_cluster2.head()"
   ]
  },
  {
   "cell_type": "code",
   "execution_count": 105,
   "metadata": {
    "collapsed": false
   },
   "outputs": [
    {
     "name": "stderr",
     "output_type": "stream",
     "text": [
      "/Users/andycho/anaconda/lib/python3.5/site-packages/ipykernel/__main__.py:2: FutureWarning: sort(columns=....) is deprecated, use sort_values(by=.....)\n",
      "  from ipykernel import kernelapp as app\n"
     ]
    },
    {
     "data": {
      "text/plain": [
       "<matplotlib.text.Text at 0x11220b240>"
      ]
     },
     "execution_count": 105,
     "metadata": {},
     "output_type": "execute_result"
    },
    {
     "data": {
      "image/png": "[encoded data removed]",
      "text/plain": [
       "<matplotlib.figure.Figure at 0x112208128>"
      ]
     },
     "metadata": {},
     "output_type": "display_data"
    }
   ],
   "source": [
    "#Descriptive Stats\n",
    "df_cluster2.groupby('UUID').count().sort(['URL']).plot(kind='hist', bins=6, legend=False,\n",
    "                                                    title = 'Distribution of Page Visits by Users')\n",
    "plt.xlabel('Page Visits')\n",
    "plt.ylabel('Number of Users')"
   ]
  },
  {
   "cell_type": "code",
   "execution_count": 106,
   "metadata": {
    "collapsed": false
   },
   "outputs": [
    {
     "data": {
      "text/plain": [
       "2.8030303030303032"
      ]
     },
     "execution_count": 106,
     "metadata": {},
     "output_type": "execute_result"
    }
   ],
   "source": [
    "df_cluster2.groupby('UUID').count().mean()['URL'] #average number of page views for each student in this group"
   ]
  },
  {
   "cell_type": "code",
   "execution_count": 107,
   "metadata": {
    "collapsed": false
   },
   "outputs": [],
   "source": [
    "#Time Series\n",
    "df_cluster2['date'] = pd.to_datetime(df_cluster2['TimeStamp'])\n",
    "df_cluster2.index = df_cluster2['date']\n",
    "del df_cluster2['date']\n",
    "del df_cluster2['TimeStamp']"
   ]
  },
  {
   "cell_type": "code",
   "execution_count": 108,
   "metadata": {
    "collapsed": false
   },
   "outputs": [
    {
     "name": "stderr",
     "output_type": "stream",
     "text": [
      "/Users/andycho/anaconda/lib/python3.5/site-packages/ipykernel/__main__.py:1: FutureWarning: sort(....) is deprecated, use sort_index(.....)\n",
      "  if __name__ == '__main__':\n"
     ]
    },
    {
     "data": {
      "text/html": [
       "<div>\n",
       "<table border=\"1\" class=\"dataframe\">\n",
       "  <thead>\n",
       "    <tr style=\"text-align: right;\">\n",
       "      <th></th>\n",
       "      <th>URL</th>\n",
       "      <th>User Agent</th>\n",
       "      <th>UUID</th>\n",
       "      <th>ClassID</th>\n",
       "    </tr>\n",
       "    <tr>\n",
       "      <th>date</th>\n",
       "      <th></th>\n",
       "      <th></th>\n",
       "      <th></th>\n",
       "      <th></th>\n",
       "    </tr>\n",
       "  </thead>\n",
       "  <tbody>\n",
       "    <tr>\n",
       "      <th>2014-08-08 14:56:51</th>\n",
       "      <td>/api/v1/courses/164/ping</td>\n",
       "      <td>Mozilla/5.0 (Macintosh; Intel Mac OS X 10_9_4)...</td>\n",
       "      <td>eb8eef99616f3825f89ac2c4e7fdc62a</td>\n",
       "      <td>a6ff862f8df9f99bec63a4096890db10</td>\n",
       "    </tr>\n",
       "    <tr>\n",
       "      <th>2014-08-12 23:33:17</th>\n",
       "      <td>/api/v1/courses/164/pages/readings/revisions/l...</td>\n",
       "      <td>Mozilla/5.0 (Macintosh; Intel Mac OS X 10_9_4)...</td>\n",
       "      <td>eb8eef99616f3825f89ac2c4e7fdc62a</td>\n",
       "      <td>a6ff862f8df9f99bec63a4096890db10</td>\n",
       "    </tr>\n",
       "    <tr>\n",
       "      <th>2014-08-12 23:51:28</th>\n",
       "      <td>/api/v1/courses/164/pages/readings/revisions/l...</td>\n",
       "      <td>Mozilla/5.0 (Macintosh; Intel Mac OS X 10_9_4)...</td>\n",
       "      <td>eb8eef99616f3825f89ac2c4e7fdc62a</td>\n",
       "      <td>a6ff862f8df9f99bec63a4096890db10</td>\n",
       "    </tr>\n",
       "    <tr>\n",
       "      <th>2014-08-13 21:38:39</th>\n",
       "      <td>/api/v1/courses/164/pages/blogging/revisions/l...</td>\n",
       "      <td>Mozilla/5.0 (Macintosh; Intel Mac OS X 10_9_4)...</td>\n",
       "      <td>e615051e71cf6f13c86385f3d6e0317c</td>\n",
       "      <td>a6ff862f8df9f99bec63a4096890db10</td>\n",
       "    </tr>\n",
       "    <tr>\n",
       "      <th>2014-08-14 22:09:26</th>\n",
       "      <td>/api/v1/courses/164/pages/instructors/revision...</td>\n",
       "      <td>Mozilla/5.0 (Macintosh; Intel Mac OS X 10_9_4)...</td>\n",
       "      <td>eb8eef99616f3825f89ac2c4e7fdc62a</td>\n",
       "      <td>a6ff862f8df9f99bec63a4096890db10</td>\n",
       "    </tr>\n",
       "  </tbody>\n",
       "</table>\n",
       "</div>"
      ],
      "text/plain": [
       "                                                                   URL  \\\n",
       "date                                                                     \n",
       "2014-08-08 14:56:51                           /api/v1/courses/164/ping   \n",
       "2014-08-12 23:33:17  /api/v1/courses/164/pages/readings/revisions/l...   \n",
       "2014-08-12 23:51:28  /api/v1/courses/164/pages/readings/revisions/l...   \n",
       "2014-08-13 21:38:39  /api/v1/courses/164/pages/blogging/revisions/l...   \n",
       "2014-08-14 22:09:26  /api/v1/courses/164/pages/instructors/revision...   \n",
       "\n",
       "                                                            User Agent  \\\n",
       "date                                                                     \n",
       "2014-08-08 14:56:51  Mozilla/5.0 (Macintosh; Intel Mac OS X 10_9_4)...   \n",
       "2014-08-12 23:33:17  Mozilla/5.0 (Macintosh; Intel Mac OS X 10_9_4)...   \n",
       "2014-08-12 23:51:28  Mozilla/5.0 (Macintosh; Intel Mac OS X 10_9_4)...   \n",
       "2014-08-13 21:38:39  Mozilla/5.0 (Macintosh; Intel Mac OS X 10_9_4)...   \n",
       "2014-08-14 22:09:26  Mozilla/5.0 (Macintosh; Intel Mac OS X 10_9_4)...   \n",
       "\n",
       "                                                 UUID  \\\n",
       "date                                                    \n",
       "2014-08-08 14:56:51  eb8eef99616f3825f89ac2c4e7fdc62a   \n",
       "2014-08-12 23:33:17  eb8eef99616f3825f89ac2c4e7fdc62a   \n",
       "2014-08-12 23:51:28  eb8eef99616f3825f89ac2c4e7fdc62a   \n",
       "2014-08-13 21:38:39  e615051e71cf6f13c86385f3d6e0317c   \n",
       "2014-08-14 22:09:26  eb8eef99616f3825f89ac2c4e7fdc62a   \n",
       "\n",
       "                                              ClassID  \n",
       "date                                                   \n",
       "2014-08-08 14:56:51  a6ff862f8df9f99bec63a4096890db10  \n",
       "2014-08-12 23:33:17  a6ff862f8df9f99bec63a4096890db10  \n",
       "2014-08-12 23:51:28  a6ff862f8df9f99bec63a4096890db10  \n",
       "2014-08-13 21:38:39  a6ff862f8df9f99bec63a4096890db10  \n",
       "2014-08-14 22:09:26  a6ff862f8df9f99bec63a4096890db10  "
      ]
     },
     "execution_count": 108,
     "metadata": {},
     "output_type": "execute_result"
    }
   ],
   "source": [
    "df_cluster2 = df_cluster2.sort()\n",
    "df_cluster2.head()"
   ]
  },
  {
   "cell_type": "code",
   "execution_count": 109,
   "metadata": {
    "collapsed": false
   },
   "outputs": [
    {
     "data": {
      "text/html": [
       "<div>\n",
       "<table border=\"1\" class=\"dataframe\">\n",
       "  <thead>\n",
       "    <tr style=\"text-align: right;\">\n",
       "      <th></th>\n",
       "      <th>URL</th>\n",
       "      <th>User Agent</th>\n",
       "      <th>UUID</th>\n",
       "      <th>ClassID</th>\n",
       "      <th>HofD</th>\n",
       "      <th>DofM</th>\n",
       "    </tr>\n",
       "    <tr>\n",
       "      <th>date</th>\n",
       "      <th></th>\n",
       "      <th></th>\n",
       "      <th></th>\n",
       "      <th></th>\n",
       "      <th></th>\n",
       "      <th></th>\n",
       "    </tr>\n",
       "  </thead>\n",
       "  <tbody>\n",
       "    <tr>\n",
       "      <th>2014-08-08 14:56:51</th>\n",
       "      <td>/api/v1/courses/164/ping</td>\n",
       "      <td>Mozilla/5.0 (Macintosh; Intel Mac OS X 10_9_4)...</td>\n",
       "      <td>eb8eef99616f3825f89ac2c4e7fdc62a</td>\n",
       "      <td>a6ff862f8df9f99bec63a4096890db10</td>\n",
       "      <td>14</td>\n",
       "      <td>8</td>\n",
       "    </tr>\n",
       "    <tr>\n",
       "      <th>2014-08-12 23:33:17</th>\n",
       "      <td>/api/v1/courses/164/pages/readings/revisions/l...</td>\n",
       "      <td>Mozilla/5.0 (Macintosh; Intel Mac OS X 10_9_4)...</td>\n",
       "      <td>eb8eef99616f3825f89ac2c4e7fdc62a</td>\n",
       "      <td>a6ff862f8df9f99bec63a4096890db10</td>\n",
       "      <td>23</td>\n",
       "      <td>12</td>\n",
       "    </tr>\n",
       "    <tr>\n",
       "      <th>2014-08-12 23:51:28</th>\n",
       "      <td>/api/v1/courses/164/pages/readings/revisions/l...</td>\n",
       "      <td>Mozilla/5.0 (Macintosh; Intel Mac OS X 10_9_4)...</td>\n",
       "      <td>eb8eef99616f3825f89ac2c4e7fdc62a</td>\n",
       "      <td>a6ff862f8df9f99bec63a4096890db10</td>\n",
       "      <td>23</td>\n",
       "      <td>12</td>\n",
       "    </tr>\n",
       "    <tr>\n",
       "      <th>2014-08-13 21:38:39</th>\n",
       "      <td>/api/v1/courses/164/pages/blogging/revisions/l...</td>\n",
       "      <td>Mozilla/5.0 (Macintosh; Intel Mac OS X 10_9_4)...</td>\n",
       "      <td>e615051e71cf6f13c86385f3d6e0317c</td>\n",
       "      <td>a6ff862f8df9f99bec63a4096890db10</td>\n",
       "      <td>21</td>\n",
       "      <td>13</td>\n",
       "    </tr>\n",
       "    <tr>\n",
       "      <th>2014-08-14 22:09:26</th>\n",
       "      <td>/api/v1/courses/164/pages/instructors/revision...</td>\n",
       "      <td>Mozilla/5.0 (Macintosh; Intel Mac OS X 10_9_4)...</td>\n",
       "      <td>eb8eef99616f3825f89ac2c4e7fdc62a</td>\n",
       "      <td>a6ff862f8df9f99bec63a4096890db10</td>\n",
       "      <td>22</td>\n",
       "      <td>14</td>\n",
       "    </tr>\n",
       "  </tbody>\n",
       "</table>\n",
       "</div>"
      ],
      "text/plain": [
       "                                                                   URL  \\\n",
       "date                                                                     \n",
       "2014-08-08 14:56:51                           /api/v1/courses/164/ping   \n",
       "2014-08-12 23:33:17  /api/v1/courses/164/pages/readings/revisions/l...   \n",
       "2014-08-12 23:51:28  /api/v1/courses/164/pages/readings/revisions/l...   \n",
       "2014-08-13 21:38:39  /api/v1/courses/164/pages/blogging/revisions/l...   \n",
       "2014-08-14 22:09:26  /api/v1/courses/164/pages/instructors/revision...   \n",
       "\n",
       "                                                            User Agent  \\\n",
       "date                                                                     \n",
       "2014-08-08 14:56:51  Mozilla/5.0 (Macintosh; Intel Mac OS X 10_9_4)...   \n",
       "2014-08-12 23:33:17  Mozilla/5.0 (Macintosh; Intel Mac OS X 10_9_4)...   \n",
       "2014-08-12 23:51:28  Mozilla/5.0 (Macintosh; Intel Mac OS X 10_9_4)...   \n",
       "2014-08-13 21:38:39  Mozilla/5.0 (Macintosh; Intel Mac OS X 10_9_4)...   \n",
       "2014-08-14 22:09:26  Mozilla/5.0 (Macintosh; Intel Mac OS X 10_9_4)...   \n",
       "\n",
       "                                                 UUID  \\\n",
       "date                                                    \n",
       "2014-08-08 14:56:51  eb8eef99616f3825f89ac2c4e7fdc62a   \n",
       "2014-08-12 23:33:17  eb8eef99616f3825f89ac2c4e7fdc62a   \n",
       "2014-08-12 23:51:28  eb8eef99616f3825f89ac2c4e7fdc62a   \n",
       "2014-08-13 21:38:39  e615051e71cf6f13c86385f3d6e0317c   \n",
       "2014-08-14 22:09:26  eb8eef99616f3825f89ac2c4e7fdc62a   \n",
       "\n",
       "                                              ClassID  HofD  DofM  \n",
       "date                                                               \n",
       "2014-08-08 14:56:51  a6ff862f8df9f99bec63a4096890db10    14     8  \n",
       "2014-08-12 23:33:17  a6ff862f8df9f99bec63a4096890db10    23    12  \n",
       "2014-08-12 23:51:28  a6ff862f8df9f99bec63a4096890db10    23    12  \n",
       "2014-08-13 21:38:39  a6ff862f8df9f99bec63a4096890db10    21    13  \n",
       "2014-08-14 22:09:26  a6ff862f8df9f99bec63a4096890db10    22    14  "
      ]
     },
     "execution_count": 109,
     "metadata": {},
     "output_type": "execute_result"
    }
   ],
   "source": [
    "#bin them into days or something and then use the count to see how many are in a certain day or hour\n",
    "df_cluster2['HofD'] = [r.hour for r in df_cluster2.index]\n",
    "df_cluster2['DofM'] = [r.day for r in df_cluster2.index]\n",
    "df_cluster2.head()"
   ]
  },
  {
   "cell_type": "code",
   "execution_count": 110,
   "metadata": {
    "collapsed": false
   },
   "outputs": [
    {
     "data": {
      "text/plain": [
       "<matplotlib.axes._subplots.AxesSubplot at 0x111e0a8d0>"
      ]
     },
     "execution_count": 110,
     "metadata": {},
     "output_type": "execute_result"
    },
    {
     "data": {
      "image/png": "[encoded data removed]",
      "text/plain": [
       "<matplotlib.figure.Figure at 0x1122084a8>"
      ]
     },
     "metadata": {},
     "output_type": "display_data"
    }
   ],
   "source": [
    "df_cluster2.groupby('HofD').count().plot(title='Cluster 2 Site Views by Hour')"
   ]
  },
  {
   "cell_type": "code",
   "execution_count": 111,
   "metadata": {
    "collapsed": false
   },
   "outputs": [
    {
     "data": {
      "text/plain": [
       "<matplotlib.axes._subplots.AxesSubplot at 0x1122aba90>"
      ]
     },
     "execution_count": 111,
     "metadata": {},
     "output_type": "execute_result"
    },
    {
     "data": {
      "image/png": "[encoded data removed]",
      "text/plain": [
       "<matplotlib.figure.Figure at 0x1122b29e8>"
      ]
     },
     "metadata": {},
     "output_type": "display_data"
    }
   ],
   "source": [
    "df_cluster2.groupby('DofM').count().plot(title='Cluster 2 Site Views by Day of Month')"
   ]
  },
  {
   "cell_type": "code",
   "execution_count": 112,
   "metadata": {
    "collapsed": false
   },
   "outputs": [
    {
     "data": {
      "text/html": [
       "<div>\n",
       "<table border=\"1\" class=\"dataframe\">\n",
       "  <thead>\n",
       "    <tr style=\"text-align: right;\">\n",
       "      <th></th>\n",
       "      <th>URL</th>\n",
       "      <th>User Agent</th>\n",
       "      <th>TimeStamp</th>\n",
       "      <th>UUID</th>\n",
       "      <th>ClassID</th>\n",
       "    </tr>\n",
       "  </thead>\n",
       "  <tbody>\n",
       "    <tr>\n",
       "      <th>0</th>\n",
       "      <td>/api/v1/courses/166/pages/virtual-sites/revisi...</td>\n",
       "      <td>Mozilla/5.0 (Macintosh; Intel Mac OS X 10_10_1...</td>\n",
       "      <td>2014-11-21 02:16:00</td>\n",
       "      <td>6108fbfd4bb5edd4d71fbbc086b3dc42</td>\n",
       "      <td>05d0532840f04928dfdd86296c51189d</td>\n",
       "    </tr>\n",
       "    <tr>\n",
       "      <th>1</th>\n",
       "      <td>/api/v1/courses/166/pages/virtual-sites/revisi...</td>\n",
       "      <td>Mozilla/5.0 (Windows NT 6.3; WOW64) AppleWebKi...</td>\n",
       "      <td>2014-11-08 19:01:28</td>\n",
       "      <td>3ac5ec2d6be2c369a9f5d34df3554cf7</td>\n",
       "      <td>05d0532840f04928dfdd86296c51189d</td>\n",
       "    </tr>\n",
       "    <tr>\n",
       "      <th>2</th>\n",
       "      <td>/api/v1/courses/166/pages/virtual-sites/revisi...</td>\n",
       "      <td>Mozilla/5.0 (Macintosh; Intel Mac OS X 10_10_0...</td>\n",
       "      <td>2014-11-05 20:24:03</td>\n",
       "      <td>4e0123692663b20b454b723ce30548e1</td>\n",
       "      <td>05d0532840f04928dfdd86296c51189d</td>\n",
       "    </tr>\n",
       "    <tr>\n",
       "      <th>3</th>\n",
       "      <td>/api/v1/courses/166/pages/virtual-sites/revisi...</td>\n",
       "      <td>Mozilla/5.0 (Windows NT 6.1; WOW64) AppleWebKi...</td>\n",
       "      <td>2014-09-10 14:31:01</td>\n",
       "      <td>9473e2dcbe6938bb5441d0a9d7ff7e05</td>\n",
       "      <td>05d0532840f04928dfdd86296c51189d</td>\n",
       "    </tr>\n",
       "    <tr>\n",
       "      <th>4</th>\n",
       "      <td>/api/v1/courses/166/pages/virtual-sites/revisi...</td>\n",
       "      <td>Mozilla/5.0 (Macintosh; Intel Mac OS X 10_9_4)...</td>\n",
       "      <td>2014-09-21 22:52:06</td>\n",
       "      <td>2457fbc269793615dd242013eac3d470</td>\n",
       "      <td>05d0532840f04928dfdd86296c51189d</td>\n",
       "    </tr>\n",
       "  </tbody>\n",
       "</table>\n",
       "</div>"
      ],
      "text/plain": [
       "                                                 URL  \\\n",
       "0  /api/v1/courses/166/pages/virtual-sites/revisi...   \n",
       "1  /api/v1/courses/166/pages/virtual-sites/revisi...   \n",
       "2  /api/v1/courses/166/pages/virtual-sites/revisi...   \n",
       "3  /api/v1/courses/166/pages/virtual-sites/revisi...   \n",
       "4  /api/v1/courses/166/pages/virtual-sites/revisi...   \n",
       "\n",
       "                                          User Agent            TimeStamp  \\\n",
       "0  Mozilla/5.0 (Macintosh; Intel Mac OS X 10_10_1...  2014-11-21 02:16:00   \n",
       "1  Mozilla/5.0 (Windows NT 6.3; WOW64) AppleWebKi...  2014-11-08 19:01:28   \n",
       "2  Mozilla/5.0 (Macintosh; Intel Mac OS X 10_10_0...  2014-11-05 20:24:03   \n",
       "3  Mozilla/5.0 (Windows NT 6.1; WOW64) AppleWebKi...  2014-09-10 14:31:01   \n",
       "4  Mozilla/5.0 (Macintosh; Intel Mac OS X 10_9_4)...  2014-09-21 22:52:06   \n",
       "\n",
       "                               UUID                           ClassID  \n",
       "0  6108fbfd4bb5edd4d71fbbc086b3dc42  05d0532840f04928dfdd86296c51189d  \n",
       "1  3ac5ec2d6be2c369a9f5d34df3554cf7  05d0532840f04928dfdd86296c51189d  \n",
       "2  4e0123692663b20b454b723ce30548e1  05d0532840f04928dfdd86296c51189d  \n",
       "3  9473e2dcbe6938bb5441d0a9d7ff7e05  05d0532840f04928dfdd86296c51189d  \n",
       "4  2457fbc269793615dd242013eac3d470  05d0532840f04928dfdd86296c51189d  "
      ]
     },
     "execution_count": 112,
     "metadata": {},
     "output_type": "execute_result"
    }
   ],
   "source": [
    "#######CLUSTER 3 ANALYSIS\n",
    "df_cluster3 = pd.DataFrame(columns=('URL', 'User Agent', 'TimeStamp', 'UUID', 'ClassID'))\n",
    "for member in cluster3:\n",
    "    df_cluster3.loc[len(df_cluster3)] = df_reduced.ix[member]\n",
    "df_cluster3.head()"
   ]
  },
  {
   "cell_type": "code",
   "execution_count": 113,
   "metadata": {
    "collapsed": false
   },
   "outputs": [
    {
     "name": "stderr",
     "output_type": "stream",
     "text": [
      "/Users/andycho/anaconda/lib/python3.5/site-packages/ipykernel/__main__.py:2: FutureWarning: sort(columns=....) is deprecated, use sort_values(by=.....)\n",
      "  from ipykernel import kernelapp as app\n"
     ]
    },
    {
     "data": {
      "text/plain": [
       "<matplotlib.text.Text at 0x1124abda0>"
      ]
     },
     "execution_count": 113,
     "metadata": {},
     "output_type": "execute_result"
    },
    {
     "data": {
      "image/png": "[encoded data removed]",
      "text/plain": [
       "<matplotlib.figure.Figure at 0x1124a7e48>"
      ]
     },
     "metadata": {},
     "output_type": "display_data"
    }
   ],
   "source": [
    "#Descriptive Stats\n",
    "df_cluster3.groupby('UUID').count().sort(['URL']).plot(kind='hist', bins=6, legend=False,\n",
    "                                                    title = 'Distribution of Page Visits by Users')\n",
    "plt.xlabel('Page Visits')\n",
    "plt.ylabel('Number of Users')"
   ]
  },
  {
   "cell_type": "code",
   "execution_count": 114,
   "metadata": {
    "collapsed": false
   },
   "outputs": [
    {
     "data": {
      "text/plain": [
       "1.301980198019802"
      ]
     },
     "execution_count": 114,
     "metadata": {},
     "output_type": "execute_result"
    }
   ],
   "source": [
    "df_cluster3.groupby('UUID').count().mean()['URL'] #average number of page views for each student in this group"
   ]
  },
  {
   "cell_type": "code",
   "execution_count": 115,
   "metadata": {
    "collapsed": true
   },
   "outputs": [],
   "source": [
    "#Time Series\n",
    "df_cluster3['date'] = pd.to_datetime(df_cluster3['TimeStamp'])\n",
    "df_cluster3.index = df_cluster3['date']\n",
    "del df_cluster3['date']\n",
    "del df_cluster3['TimeStamp']"
   ]
  },
  {
   "cell_type": "code",
   "execution_count": 116,
   "metadata": {
    "collapsed": false
   },
   "outputs": [
    {
     "name": "stderr",
     "output_type": "stream",
     "text": [
      "/Users/andycho/anaconda/lib/python3.5/site-packages/ipykernel/__main__.py:1: FutureWarning: sort(....) is deprecated, use sort_index(.....)\n",
      "  if __name__ == '__main__':\n"
     ]
    },
    {
     "data": {
      "text/html": [
       "<div>\n",
       "<table border=\"1\" class=\"dataframe\">\n",
       "  <thead>\n",
       "    <tr style=\"text-align: right;\">\n",
       "      <th></th>\n",
       "      <th>URL</th>\n",
       "      <th>User Agent</th>\n",
       "      <th>UUID</th>\n",
       "      <th>ClassID</th>\n",
       "    </tr>\n",
       "    <tr>\n",
       "      <th>date</th>\n",
       "      <th></th>\n",
       "      <th></th>\n",
       "      <th></th>\n",
       "      <th></th>\n",
       "    </tr>\n",
       "  </thead>\n",
       "  <tbody>\n",
       "    <tr>\n",
       "      <th>2014-09-02 17:33:25</th>\n",
       "      <td>/api/v1/courses/166/pages/virtual-sites/revisi...</td>\n",
       "      <td>Mozilla/5.0 (Macintosh; Intel Mac OS X 10_9_4)...</td>\n",
       "      <td>f6614fd264046995a6037b8cfe4021e7</td>\n",
       "      <td>05d0532840f04928dfdd86296c51189d</td>\n",
       "    </tr>\n",
       "    <tr>\n",
       "      <th>2014-09-05 02:25:42</th>\n",
       "      <td>/api/v1/courses/166/pages/virtual-sites/revisi...</td>\n",
       "      <td>Mozilla/5.0 (Macintosh; Intel Mac OS X 10_9_4)...</td>\n",
       "      <td>b94c02ff31af56fef1bccb66aa152661</td>\n",
       "      <td>05d0532840f04928dfdd86296c51189d</td>\n",
       "    </tr>\n",
       "    <tr>\n",
       "      <th>2014-09-07 21:15:02</th>\n",
       "      <td>/api/v1/courses/166/pages/virtual-sites/revisi...</td>\n",
       "      <td>Mozilla/5.0 (Macintosh; Intel Mac OS X 10_9_4)...</td>\n",
       "      <td>0dc04e5a381c3a1d228d8df0d5e58966</td>\n",
       "      <td>05d0532840f04928dfdd86296c51189d</td>\n",
       "    </tr>\n",
       "    <tr>\n",
       "      <th>2014-09-08 12:59:19</th>\n",
       "      <td>/api/v1/courses/166/pages/virtual-sites/revisi...</td>\n",
       "      <td>Mozilla/5.0 (Windows NT 6.1; WOW64) AppleWebKi...</td>\n",
       "      <td>6ec20a87eacbc5bd08531d4728341639</td>\n",
       "      <td>05d0532840f04928dfdd86296c51189d</td>\n",
       "    </tr>\n",
       "    <tr>\n",
       "      <th>2014-09-08 13:02:32</th>\n",
       "      <td>/api/v1/courses/166/pages/virtual-sites/revisi...</td>\n",
       "      <td>Mozilla/5.0 (Windows NT 6.1; WOW64) AppleWebKi...</td>\n",
       "      <td>93e51a97a2353383d7fe1d357e89c276</td>\n",
       "      <td>05d0532840f04928dfdd86296c51189d</td>\n",
       "    </tr>\n",
       "  </tbody>\n",
       "</table>\n",
       "</div>"
      ],
      "text/plain": [
       "                                                                   URL  \\\n",
       "date                                                                     \n",
       "2014-09-02 17:33:25  /api/v1/courses/166/pages/virtual-sites/revisi...   \n",
       "2014-09-05 02:25:42  /api/v1/courses/166/pages/virtual-sites/revisi...   \n",
       "2014-09-07 21:15:02  /api/v1/courses/166/pages/virtual-sites/revisi...   \n",
       "2014-09-08 12:59:19  /api/v1/courses/166/pages/virtual-sites/revisi...   \n",
       "2014-09-08 13:02:32  /api/v1/courses/166/pages/virtual-sites/revisi...   \n",
       "\n",
       "                                                            User Agent  \\\n",
       "date                                                                     \n",
       "2014-09-02 17:33:25  Mozilla/5.0 (Macintosh; Intel Mac OS X 10_9_4)...   \n",
       "2014-09-05 02:25:42  Mozilla/5.0 (Macintosh; Intel Mac OS X 10_9_4)...   \n",
       "2014-09-07 21:15:02  Mozilla/5.0 (Macintosh; Intel Mac OS X 10_9_4)...   \n",
       "2014-09-08 12:59:19  Mozilla/5.0 (Windows NT 6.1; WOW64) AppleWebKi...   \n",
       "2014-09-08 13:02:32  Mozilla/5.0 (Windows NT 6.1; WOW64) AppleWebKi...   \n",
       "\n",
       "                                                 UUID  \\\n",
       "date                                                    \n",
       "2014-09-02 17:33:25  f6614fd264046995a6037b8cfe4021e7   \n",
       "2014-09-05 02:25:42  b94c02ff31af56fef1bccb66aa152661   \n",
       "2014-09-07 21:15:02  0dc04e5a381c3a1d228d8df0d5e58966   \n",
       "2014-09-08 12:59:19  6ec20a87eacbc5bd08531d4728341639   \n",
       "2014-09-08 13:02:32  93e51a97a2353383d7fe1d357e89c276   \n",
       "\n",
       "                                              ClassID  \n",
       "date                                                   \n",
       "2014-09-02 17:33:25  05d0532840f04928dfdd86296c51189d  \n",
       "2014-09-05 02:25:42  05d0532840f04928dfdd86296c51189d  \n",
       "2014-09-07 21:15:02  05d0532840f04928dfdd86296c51189d  \n",
       "2014-09-08 12:59:19  05d0532840f04928dfdd86296c51189d  \n",
       "2014-09-08 13:02:32  05d0532840f04928dfdd86296c51189d  "
      ]
     },
     "execution_count": 116,
     "metadata": {},
     "output_type": "execute_result"
    }
   ],
   "source": [
    "df_cluster3 = df_cluster3.sort()\n",
    "df_cluster3.head()"
   ]
  },
  {
   "cell_type": "code",
   "execution_count": 117,
   "metadata": {
    "collapsed": false
   },
   "outputs": [
    {
     "data": {
      "text/html": [
       "<div>\n",
       "<table border=\"1\" class=\"dataframe\">\n",
       "  <thead>\n",
       "    <tr style=\"text-align: right;\">\n",
       "      <th></th>\n",
       "      <th>URL</th>\n",
       "      <th>User Agent</th>\n",
       "      <th>UUID</th>\n",
       "      <th>ClassID</th>\n",
       "      <th>HofD</th>\n",
       "      <th>DofM</th>\n",
       "    </tr>\n",
       "    <tr>\n",
       "      <th>date</th>\n",
       "      <th></th>\n",
       "      <th></th>\n",
       "      <th></th>\n",
       "      <th></th>\n",
       "      <th></th>\n",
       "      <th></th>\n",
       "    </tr>\n",
       "  </thead>\n",
       "  <tbody>\n",
       "    <tr>\n",
       "      <th>2014-09-02 17:33:25</th>\n",
       "      <td>/api/v1/courses/166/pages/virtual-sites/revisi...</td>\n",
       "      <td>Mozilla/5.0 (Macintosh; Intel Mac OS X 10_9_4)...</td>\n",
       "      <td>f6614fd264046995a6037b8cfe4021e7</td>\n",
       "      <td>05d0532840f04928dfdd86296c51189d</td>\n",
       "      <td>17</td>\n",
       "      <td>2</td>\n",
       "    </tr>\n",
       "    <tr>\n",
       "      <th>2014-09-05 02:25:42</th>\n",
       "      <td>/api/v1/courses/166/pages/virtual-sites/revisi...</td>\n",
       "      <td>Mozilla/5.0 (Macintosh; Intel Mac OS X 10_9_4)...</td>\n",
       "      <td>b94c02ff31af56fef1bccb66aa152661</td>\n",
       "      <td>05d0532840f04928dfdd86296c51189d</td>\n",
       "      <td>2</td>\n",
       "      <td>5</td>\n",
       "    </tr>\n",
       "    <tr>\n",
       "      <th>2014-09-07 21:15:02</th>\n",
       "      <td>/api/v1/courses/166/pages/virtual-sites/revisi...</td>\n",
       "      <td>Mozilla/5.0 (Macintosh; Intel Mac OS X 10_9_4)...</td>\n",
       "      <td>0dc04e5a381c3a1d228d8df0d5e58966</td>\n",
       "      <td>05d0532840f04928dfdd86296c51189d</td>\n",
       "      <td>21</td>\n",
       "      <td>7</td>\n",
       "    </tr>\n",
       "    <tr>\n",
       "      <th>2014-09-08 12:59:19</th>\n",
       "      <td>/api/v1/courses/166/pages/virtual-sites/revisi...</td>\n",
       "      <td>Mozilla/5.0 (Windows NT 6.1; WOW64) AppleWebKi...</td>\n",
       "      <td>6ec20a87eacbc5bd08531d4728341639</td>\n",
       "      <td>05d0532840f04928dfdd86296c51189d</td>\n",
       "      <td>12</td>\n",
       "      <td>8</td>\n",
       "    </tr>\n",
       "    <tr>\n",
       "      <th>2014-09-08 13:02:32</th>\n",
       "      <td>/api/v1/courses/166/pages/virtual-sites/revisi...</td>\n",
       "      <td>Mozilla/5.0 (Windows NT 6.1; WOW64) AppleWebKi...</td>\n",
       "      <td>93e51a97a2353383d7fe1d357e89c276</td>\n",
       "      <td>05d0532840f04928dfdd86296c51189d</td>\n",
       "      <td>13</td>\n",
       "      <td>8</td>\n",
       "    </tr>\n",
       "  </tbody>\n",
       "</table>\n",
       "</div>"
      ],
      "text/plain": [
       "                                                                   URL  \\\n",
       "date                                                                     \n",
       "2014-09-02 17:33:25  /api/v1/courses/166/pages/virtual-sites/revisi...   \n",
       "2014-09-05 02:25:42  /api/v1/courses/166/pages/virtual-sites/revisi...   \n",
       "2014-09-07 21:15:02  /api/v1/courses/166/pages/virtual-sites/revisi...   \n",
       "2014-09-08 12:59:19  /api/v1/courses/166/pages/virtual-sites/revisi...   \n",
       "2014-09-08 13:02:32  /api/v1/courses/166/pages/virtual-sites/revisi...   \n",
       "\n",
       "                                                            User Agent  \\\n",
       "date                                                                     \n",
       "2014-09-02 17:33:25  Mozilla/5.0 (Macintosh; Intel Mac OS X 10_9_4)...   \n",
       "2014-09-05 02:25:42  Mozilla/5.0 (Macintosh; Intel Mac OS X 10_9_4)...   \n",
       "2014-09-07 21:15:02  Mozilla/5.0 (Macintosh; Intel Mac OS X 10_9_4)...   \n",
       "2014-09-08 12:59:19  Mozilla/5.0 (Windows NT 6.1; WOW64) AppleWebKi...   \n",
       "2014-09-08 13:02:32  Mozilla/5.0 (Windows NT 6.1; WOW64) AppleWebKi...   \n",
       "\n",
       "                                                 UUID  \\\n",
       "date                                                    \n",
       "2014-09-02 17:33:25  f6614fd264046995a6037b8cfe4021e7   \n",
       "2014-09-05 02:25:42  b94c02ff31af56fef1bccb66aa152661   \n",
       "2014-09-07 21:15:02  0dc04e5a381c3a1d228d8df0d5e58966   \n",
       "2014-09-08 12:59:19  6ec20a87eacbc5bd08531d4728341639   \n",
       "2014-09-08 13:02:32  93e51a97a2353383d7fe1d357e89c276   \n",
       "\n",
       "                                              ClassID  HofD  DofM  \n",
       "date                                                               \n",
       "2014-09-02 17:33:25  05d0532840f04928dfdd86296c51189d    17     2  \n",
       "2014-09-05 02:25:42  05d0532840f04928dfdd86296c51189d     2     5  \n",
       "2014-09-07 21:15:02  05d0532840f04928dfdd86296c51189d    21     7  \n",
       "2014-09-08 12:59:19  05d0532840f04928dfdd86296c51189d    12     8  \n",
       "2014-09-08 13:02:32  05d0532840f04928dfdd86296c51189d    13     8  "
      ]
     },
     "execution_count": 117,
     "metadata": {},
     "output_type": "execute_result"
    }
   ],
   "source": [
    "#bin them into days or something and then use the count to see how many are in a certain day or hour\n",
    "df_cluster3['HofD'] = [r.hour for r in df_cluster3.index]\n",
    "df_cluster3['DofM'] = [r.day for r in df_cluster3.index]\n",
    "df_cluster3.head()"
   ]
  },
  {
   "cell_type": "code",
   "execution_count": 118,
   "metadata": {
    "collapsed": false
   },
   "outputs": [
    {
     "data": {
      "text/plain": [
       "<matplotlib.axes._subplots.AxesSubplot at 0x1125436d8>"
      ]
     },
     "execution_count": 118,
     "metadata": {},
     "output_type": "execute_result"
    },
    {
     "data": {
      "image/png": "[encoded data removed]",
      "text/plain": [
       "<matplotlib.figure.Figure at 0x1125a0080>"
      ]
     },
     "metadata": {},
     "output_type": "display_data"
    }
   ],
   "source": [
    "df_cluster3.groupby('HofD').count().plot(title='Cluster 3 Site Views by Hour')"
   ]
  },
  {
   "cell_type": "code",
   "execution_count": 119,
   "metadata": {
    "collapsed": false
   },
   "outputs": [
    {
     "data": {
      "text/plain": [
       "<matplotlib.axes._subplots.AxesSubplot at 0x1125d4240>"
      ]
     },
     "execution_count": 119,
     "metadata": {},
     "output_type": "execute_result"
    },
    {
     "data": {
      "image/png": "[encoded data removed]",
      "text/plain": [
       "<matplotlib.figure.Figure at 0x1125d8860>"
      ]
     },
     "metadata": {},
     "output_type": "display_data"
    }
   ],
   "source": [
    "df_cluster3.groupby('DofM').count().plot(title='Cluster 3 Site Views by Day of Month')"
   ]
  },
  {
   "cell_type": "code",
   "execution_count": 120,
   "metadata": {
    "collapsed": false
   },
   "outputs": [
    {
     "data": {
      "text/html": [
       "<div>\n",
       "<table border=\"1\" class=\"dataframe\">\n",
       "  <thead>\n",
       "    <tr style=\"text-align: right;\">\n",
       "      <th></th>\n",
       "      <th>URL</th>\n",
       "      <th>User Agent</th>\n",
       "      <th>TimeStamp</th>\n",
       "      <th>UUID</th>\n",
       "      <th>ClassID</th>\n",
       "    </tr>\n",
       "  </thead>\n",
       "  <tbody>\n",
       "    <tr>\n",
       "      <th>0</th>\n",
       "      <td>/api/v1/courses/166/ping</td>\n",
       "      <td>Mozilla/5.0 (Macintosh; Intel Mac OS X 10_10_1...</td>\n",
       "      <td>2014-12-14 23:17:05</td>\n",
       "      <td>99945860957b0e1ea1ee043eb6c0e56a</td>\n",
       "      <td>05d0532840f04928dfdd86296c51189d</td>\n",
       "    </tr>\n",
       "    <tr>\n",
       "      <th>1</th>\n",
       "      <td>/api/v1/courses/166/ping</td>\n",
       "      <td>Mozilla/5.0 (Windows NT 6.1; WOW64) AppleWebKi...</td>\n",
       "      <td>2014-12-03 15:32:55</td>\n",
       "      <td>96670526f2388ab299fca4734362c7d9</td>\n",
       "      <td>05d0532840f04928dfdd86296c51189d</td>\n",
       "    </tr>\n",
       "    <tr>\n",
       "      <th>2</th>\n",
       "      <td>/api/v1/courses/166/ping</td>\n",
       "      <td>Mozilla/5.0 (Windows NT 6.1; WOW64) AppleWebKi...</td>\n",
       "      <td>2014-10-06 16:17:09</td>\n",
       "      <td>a8bc7be4845743ed8f0fdac0c23cf22d</td>\n",
       "      <td>05d0532840f04928dfdd86296c51189d</td>\n",
       "    </tr>\n",
       "    <tr>\n",
       "      <th>3</th>\n",
       "      <td>/api/v1/courses/166/ping</td>\n",
       "      <td>Mozilla/5.0 (Windows NT 6.1; WOW64) AppleWebKi...</td>\n",
       "      <td>2014-11-19 21:50:27</td>\n",
       "      <td>325c1b5272574a77eb87b39213441305</td>\n",
       "      <td>05d0532840f04928dfdd86296c51189d</td>\n",
       "    </tr>\n",
       "    <tr>\n",
       "      <th>4</th>\n",
       "      <td>/api/v1/courses/166/ping</td>\n",
       "      <td>Mozilla/5.0 (Macintosh; Intel Mac OS X 10_9_5)...</td>\n",
       "      <td>2014-10-09 23:23:55</td>\n",
       "      <td>c6daa99162d2e0caaf356ab2316ee6fe</td>\n",
       "      <td>05d0532840f04928dfdd86296c51189d</td>\n",
       "    </tr>\n",
       "  </tbody>\n",
       "</table>\n",
       "</div>"
      ],
      "text/plain": [
       "                        URL  \\\n",
       "0  /api/v1/courses/166/ping   \n",
       "1  /api/v1/courses/166/ping   \n",
       "2  /api/v1/courses/166/ping   \n",
       "3  /api/v1/courses/166/ping   \n",
       "4  /api/v1/courses/166/ping   \n",
       "\n",
       "                                          User Agent            TimeStamp  \\\n",
       "0  Mozilla/5.0 (Macintosh; Intel Mac OS X 10_10_1...  2014-12-14 23:17:05   \n",
       "1  Mozilla/5.0 (Windows NT 6.1; WOW64) AppleWebKi...  2014-12-03 15:32:55   \n",
       "2  Mozilla/5.0 (Windows NT 6.1; WOW64) AppleWebKi...  2014-10-06 16:17:09   \n",
       "3  Mozilla/5.0 (Windows NT 6.1; WOW64) AppleWebKi...  2014-11-19 21:50:27   \n",
       "4  Mozilla/5.0 (Macintosh; Intel Mac OS X 10_9_5)...  2014-10-09 23:23:55   \n",
       "\n",
       "                               UUID                           ClassID  \n",
       "0  99945860957b0e1ea1ee043eb6c0e56a  05d0532840f04928dfdd86296c51189d  \n",
       "1  96670526f2388ab299fca4734362c7d9  05d0532840f04928dfdd86296c51189d  \n",
       "2  a8bc7be4845743ed8f0fdac0c23cf22d  05d0532840f04928dfdd86296c51189d  \n",
       "3  325c1b5272574a77eb87b39213441305  05d0532840f04928dfdd86296c51189d  \n",
       "4  c6daa99162d2e0caaf356ab2316ee6fe  05d0532840f04928dfdd86296c51189d  "
      ]
     },
     "execution_count": 120,
     "metadata": {},
     "output_type": "execute_result"
    }
   ],
   "source": [
    "#######CLUSTER 4 ANALYSIS\n",
    "df_cluster4 = pd.DataFrame(columns=('URL', 'User Agent', 'TimeStamp', 'UUID', 'ClassID'))\n",
    "for member in cluster4:\n",
    "    df_cluster4.loc[len(df_cluster4)] = df_reduced.ix[member]\n",
    "df_cluster4.head()"
   ]
  },
  {
   "cell_type": "code",
   "execution_count": 121,
   "metadata": {
    "collapsed": false
   },
   "outputs": [
    {
     "name": "stderr",
     "output_type": "stream",
     "text": [
      "/Users/andycho/anaconda/lib/python3.5/site-packages/ipykernel/__main__.py:2: FutureWarning: sort(columns=....) is deprecated, use sort_values(by=.....)\n",
      "  from ipykernel import kernelapp as app\n"
     ]
    },
    {
     "data": {
      "text/plain": [
       "<matplotlib.text.Text at 0x1130c8a20>"
      ]
     },
     "execution_count": 121,
     "metadata": {},
     "output_type": "execute_result"
    },
    {
     "data": {
      "image/png": "[encoded data removed]",
      "text/plain": [
       "<matplotlib.figure.Figure at 0x1130beac8>"
      ]
     },
     "metadata": {},
     "output_type": "display_data"
    }
   ],
   "source": [
    "#Descriptive Stats\n",
    "df_cluster4.groupby('UUID').count().sort(['URL']).plot(kind='hist', bins=6, legend=False,\n",
    "                                                    title = 'Distribution of Page Visits by Users')\n",
    "plt.xlabel('Page Visits')\n",
    "plt.ylabel('Number of Users')"
   ]
  },
  {
   "cell_type": "code",
   "execution_count": 122,
   "metadata": {
    "collapsed": false
   },
   "outputs": [
    {
     "data": {
      "text/plain": [
       "1.195754716981132"
      ]
     },
     "execution_count": 122,
     "metadata": {},
     "output_type": "execute_result"
    }
   ],
   "source": [
    "df_cluster4.groupby('UUID').count().mean()['URL'] #average number of page views for each student in this group"
   ]
  },
  {
   "cell_type": "code",
   "execution_count": 123,
   "metadata": {
    "collapsed": true
   },
   "outputs": [],
   "source": [
    "#Time Series\n",
    "df_cluster4['date'] = pd.to_datetime(df_cluster4['TimeStamp'])\n",
    "df_cluster4.index = df_cluster4['date']\n",
    "del df_cluster4['date']\n",
    "del df_cluster4['TimeStamp']"
   ]
  },
  {
   "cell_type": "code",
   "execution_count": 124,
   "metadata": {
    "collapsed": false
   },
   "outputs": [
    {
     "name": "stderr",
     "output_type": "stream",
     "text": [
      "/Users/andycho/anaconda/lib/python3.5/site-packages/ipykernel/__main__.py:1: FutureWarning: sort(....) is deprecated, use sort_index(.....)\n",
      "  if __name__ == '__main__':\n"
     ]
    },
    {
     "data": {
      "text/html": [
       "<div>\n",
       "<table border=\"1\" class=\"dataframe\">\n",
       "  <thead>\n",
       "    <tr style=\"text-align: right;\">\n",
       "      <th></th>\n",
       "      <th>URL</th>\n",
       "      <th>User Agent</th>\n",
       "      <th>UUID</th>\n",
       "      <th>ClassID</th>\n",
       "    </tr>\n",
       "    <tr>\n",
       "      <th>date</th>\n",
       "      <th></th>\n",
       "      <th></th>\n",
       "      <th></th>\n",
       "      <th></th>\n",
       "    </tr>\n",
       "  </thead>\n",
       "  <tbody>\n",
       "    <tr>\n",
       "      <th>2014-08-21 18:44:35</th>\n",
       "      <td>/api/v1/courses/166/ping</td>\n",
       "      <td>Mozilla/5.0 (Macintosh; Intel Mac OS X 10_7_5)...</td>\n",
       "      <td>a73a161be4b117c8904599121d9f1315</td>\n",
       "      <td>05d0532840f04928dfdd86296c51189d</td>\n",
       "    </tr>\n",
       "    <tr>\n",
       "      <th>2014-08-26 17:39:32</th>\n",
       "      <td>/api/v1/courses/166/ping</td>\n",
       "      <td>Mozilla/5.0 (Windows NT 6.1; WOW64) AppleWebKi...</td>\n",
       "      <td>3e3285a3f7fc205049a674f35246ec10</td>\n",
       "      <td>05d0532840f04928dfdd86296c51189d</td>\n",
       "    </tr>\n",
       "    <tr>\n",
       "      <th>2014-08-27 00:25:15</th>\n",
       "      <td>/api/v1/courses/166/ping</td>\n",
       "      <td>Mozilla/5.0 (Windows NT 6.1; WOW64) AppleWebKi...</td>\n",
       "      <td>93d0dd5ce186ff96c09c0d08ec55eb86</td>\n",
       "      <td>05d0532840f04928dfdd86296c51189d</td>\n",
       "    </tr>\n",
       "    <tr>\n",
       "      <th>2014-09-02 13:02:07</th>\n",
       "      <td>/api/v1/courses/166/ping</td>\n",
       "      <td>Mozilla/5.0 (Macintosh; Intel Mac OS X 10_8_5)...</td>\n",
       "      <td>db997cbf81d3504c0b8cf5656656a59a</td>\n",
       "      <td>05d0532840f04928dfdd86296c51189d</td>\n",
       "    </tr>\n",
       "    <tr>\n",
       "      <th>2014-09-03 15:35:35</th>\n",
       "      <td>/api/v1/courses/166/ping</td>\n",
       "      <td>Mozilla/5.0 (Macintosh; Intel Mac OS X 10_9_4)...</td>\n",
       "      <td>7f98a03a18b8816086d9c40d99d49282</td>\n",
       "      <td>05d0532840f04928dfdd86296c51189d</td>\n",
       "    </tr>\n",
       "  </tbody>\n",
       "</table>\n",
       "</div>"
      ],
      "text/plain": [
       "                                          URL  \\\n",
       "date                                            \n",
       "2014-08-21 18:44:35  /api/v1/courses/166/ping   \n",
       "2014-08-26 17:39:32  /api/v1/courses/166/ping   \n",
       "2014-08-27 00:25:15  /api/v1/courses/166/ping   \n",
       "2014-09-02 13:02:07  /api/v1/courses/166/ping   \n",
       "2014-09-03 15:35:35  /api/v1/courses/166/ping   \n",
       "\n",
       "                                                            User Agent  \\\n",
       "date                                                                     \n",
       "2014-08-21 18:44:35  Mozilla/5.0 (Macintosh; Intel Mac OS X 10_7_5)...   \n",
       "2014-08-26 17:39:32  Mozilla/5.0 (Windows NT 6.1; WOW64) AppleWebKi...   \n",
       "2014-08-27 00:25:15  Mozilla/5.0 (Windows NT 6.1; WOW64) AppleWebKi...   \n",
       "2014-09-02 13:02:07  Mozilla/5.0 (Macintosh; Intel Mac OS X 10_8_5)...   \n",
       "2014-09-03 15:35:35  Mozilla/5.0 (Macintosh; Intel Mac OS X 10_9_4)...   \n",
       "\n",
       "                                                 UUID  \\\n",
       "date                                                    \n",
       "2014-08-21 18:44:35  a73a161be4b117c8904599121d9f1315   \n",
       "2014-08-26 17:39:32  3e3285a3f7fc205049a674f35246ec10   \n",
       "2014-08-27 00:25:15  93d0dd5ce186ff96c09c0d08ec55eb86   \n",
       "2014-09-02 13:02:07  db997cbf81d3504c0b8cf5656656a59a   \n",
       "2014-09-03 15:35:35  7f98a03a18b8816086d9c40d99d49282   \n",
       "\n",
       "                                              ClassID  \n",
       "date                                                   \n",
       "2014-08-21 18:44:35  05d0532840f04928dfdd86296c51189d  \n",
       "2014-08-26 17:39:32  05d0532840f04928dfdd86296c51189d  \n",
       "2014-08-27 00:25:15  05d0532840f04928dfdd86296c51189d  \n",
       "2014-09-02 13:02:07  05d0532840f04928dfdd86296c51189d  \n",
       "2014-09-03 15:35:35  05d0532840f04928dfdd86296c51189d  "
      ]
     },
     "execution_count": 124,
     "metadata": {},
     "output_type": "execute_result"
    }
   ],
   "source": [
    "df_cluster4 = df_cluster4.sort()\n",
    "df_cluster4.head()"
   ]
  },
  {
   "cell_type": "code",
   "execution_count": 125,
   "metadata": {
    "collapsed": false
   },
   "outputs": [
    {
     "data": {
      "text/html": [
       "<div>\n",
       "<table border=\"1\" class=\"dataframe\">\n",
       "  <thead>\n",
       "    <tr style=\"text-align: right;\">\n",
       "      <th></th>\n",
       "      <th>URL</th>\n",
       "      <th>User Agent</th>\n",
       "      <th>UUID</th>\n",
       "      <th>ClassID</th>\n",
       "      <th>HofD</th>\n",
       "      <th>DofM</th>\n",
       "    </tr>\n",
       "    <tr>\n",
       "      <th>date</th>\n",
       "      <th></th>\n",
       "      <th></th>\n",
       "      <th></th>\n",
       "      <th></th>\n",
       "      <th></th>\n",
       "      <th></th>\n",
       "    </tr>\n",
       "  </thead>\n",
       "  <tbody>\n",
       "    <tr>\n",
       "      <th>2014-08-21 18:44:35</th>\n",
       "      <td>/api/v1/courses/166/ping</td>\n",
       "      <td>Mozilla/5.0 (Macintosh; Intel Mac OS X 10_7_5)...</td>\n",
       "      <td>a73a161be4b117c8904599121d9f1315</td>\n",
       "      <td>05d0532840f04928dfdd86296c51189d</td>\n",
       "      <td>18</td>\n",
       "      <td>21</td>\n",
       "    </tr>\n",
       "    <tr>\n",
       "      <th>2014-08-26 17:39:32</th>\n",
       "      <td>/api/v1/courses/166/ping</td>\n",
       "      <td>Mozilla/5.0 (Windows NT 6.1; WOW64) AppleWebKi...</td>\n",
       "      <td>3e3285a3f7fc205049a674f35246ec10</td>\n",
       "      <td>05d0532840f04928dfdd86296c51189d</td>\n",
       "      <td>17</td>\n",
       "      <td>26</td>\n",
       "    </tr>\n",
       "    <tr>\n",
       "      <th>2014-08-27 00:25:15</th>\n",
       "      <td>/api/v1/courses/166/ping</td>\n",
       "      <td>Mozilla/5.0 (Windows NT 6.1; WOW64) AppleWebKi...</td>\n",
       "      <td>93d0dd5ce186ff96c09c0d08ec55eb86</td>\n",
       "      <td>05d0532840f04928dfdd86296c51189d</td>\n",
       "      <td>0</td>\n",
       "      <td>27</td>\n",
       "    </tr>\n",
       "    <tr>\n",
       "      <th>2014-09-02 13:02:07</th>\n",
       "      <td>/api/v1/courses/166/ping</td>\n",
       "      <td>Mozilla/5.0 (Macintosh; Intel Mac OS X 10_8_5)...</td>\n",
       "      <td>db997cbf81d3504c0b8cf5656656a59a</td>\n",
       "      <td>05d0532840f04928dfdd86296c51189d</td>\n",
       "      <td>13</td>\n",
       "      <td>2</td>\n",
       "    </tr>\n",
       "    <tr>\n",
       "      <th>2014-09-03 15:35:35</th>\n",
       "      <td>/api/v1/courses/166/ping</td>\n",
       "      <td>Mozilla/5.0 (Macintosh; Intel Mac OS X 10_9_4)...</td>\n",
       "      <td>7f98a03a18b8816086d9c40d99d49282</td>\n",
       "      <td>05d0532840f04928dfdd86296c51189d</td>\n",
       "      <td>15</td>\n",
       "      <td>3</td>\n",
       "    </tr>\n",
       "  </tbody>\n",
       "</table>\n",
       "</div>"
      ],
      "text/plain": [
       "                                          URL  \\\n",
       "date                                            \n",
       "2014-08-21 18:44:35  /api/v1/courses/166/ping   \n",
       "2014-08-26 17:39:32  /api/v1/courses/166/ping   \n",
       "2014-08-27 00:25:15  /api/v1/courses/166/ping   \n",
       "2014-09-02 13:02:07  /api/v1/courses/166/ping   \n",
       "2014-09-03 15:35:35  /api/v1/courses/166/ping   \n",
       "\n",
       "                                                            User Agent  \\\n",
       "date                                                                     \n",
       "2014-08-21 18:44:35  Mozilla/5.0 (Macintosh; Intel Mac OS X 10_7_5)...   \n",
       "2014-08-26 17:39:32  Mozilla/5.0 (Windows NT 6.1; WOW64) AppleWebKi...   \n",
       "2014-08-27 00:25:15  Mozilla/5.0 (Windows NT 6.1; WOW64) AppleWebKi...   \n",
       "2014-09-02 13:02:07  Mozilla/5.0 (Macintosh; Intel Mac OS X 10_8_5)...   \n",
       "2014-09-03 15:35:35  Mozilla/5.0 (Macintosh; Intel Mac OS X 10_9_4)...   \n",
       "\n",
       "                                                 UUID  \\\n",
       "date                                                    \n",
       "2014-08-21 18:44:35  a73a161be4b117c8904599121d9f1315   \n",
       "2014-08-26 17:39:32  3e3285a3f7fc205049a674f35246ec10   \n",
       "2014-08-27 00:25:15  93d0dd5ce186ff96c09c0d08ec55eb86   \n",
       "2014-09-02 13:02:07  db997cbf81d3504c0b8cf5656656a59a   \n",
       "2014-09-03 15:35:35  7f98a03a18b8816086d9c40d99d49282   \n",
       "\n",
       "                                              ClassID  HofD  DofM  \n",
       "date                                                               \n",
       "2014-08-21 18:44:35  05d0532840f04928dfdd86296c51189d    18    21  \n",
       "2014-08-26 17:39:32  05d0532840f04928dfdd86296c51189d    17    26  \n",
       "2014-08-27 00:25:15  05d0532840f04928dfdd86296c51189d     0    27  \n",
       "2014-09-02 13:02:07  05d0532840f04928dfdd86296c51189d    13     2  \n",
       "2014-09-03 15:35:35  05d0532840f04928dfdd86296c51189d    15     3  "
      ]
     },
     "execution_count": 125,
     "metadata": {},
     "output_type": "execute_result"
    }
   ],
   "source": [
    "#bin them into days or something and then use the count to see how many are in a certain day or hour\n",
    "df_cluster4['HofD'] = [r.hour for r in df_cluster4.index]\n",
    "df_cluster4['DofM'] = [r.day for r in df_cluster4.index]\n",
    "df_cluster4.head()"
   ]
  },
  {
   "cell_type": "code",
   "execution_count": 126,
   "metadata": {
    "collapsed": false
   },
   "outputs": [
    {
     "data": {
      "text/plain": [
       "<matplotlib.axes._subplots.AxesSubplot at 0x1132c47f0>"
      ]
     },
     "execution_count": 126,
     "metadata": {},
     "output_type": "execute_result"
    },
    {
     "data": {
      "image/png": "[encoded data removed]",
      "text/plain": [
       "<matplotlib.figure.Figure at 0x11307e438>"
      ]
     },
     "metadata": {},
     "output_type": "display_data"
    }
   ],
   "source": [
    "df_cluster4.groupby('HofD').count().plot(title='Cluster 4 Site Views by Hour')"
   ]
  },
  {
   "cell_type": "code",
   "execution_count": 127,
   "metadata": {
    "collapsed": false
   },
   "outputs": [
    {
     "data": {
      "text/plain": [
       "<matplotlib.axes._subplots.AxesSubplot at 0x1132ff6a0>"
      ]
     },
     "execution_count": 127,
     "metadata": {},
     "output_type": "execute_result"
    },
    {
     "data": {
      "image/png": "[encoded data removed]",
      "text/plain": [
       "<matplotlib.figure.Figure at 0x11330b0f0>"
      ]
     },
     "metadata": {},
     "output_type": "display_data"
    }
   ],
   "source": [
    "df_cluster4.groupby('DofM').count().plot(title='Cluster 4 Site Views by Day of Month')"
   ]
  },
  {
   "cell_type": "code",
   "execution_count": 128,
   "metadata": {
    "collapsed": false
   },
   "outputs": [
    {
     "data": {
      "text/html": [
       "<div>\n",
       "<table border=\"1\" class=\"dataframe\">\n",
       "  <thead>\n",
       "    <tr style=\"text-align: right;\">\n",
       "      <th></th>\n",
       "      <th>URL</th>\n",
       "      <th>User Agent</th>\n",
       "      <th>TimeStamp</th>\n",
       "      <th>UUID</th>\n",
       "      <th>ClassID</th>\n",
       "    </tr>\n",
       "  </thead>\n",
       "  <tbody>\n",
       "    <tr>\n",
       "      <th>0</th>\n",
       "      <td>/api/v1/courses/166/pages/dr-millers-lecture-0...</td>\n",
       "      <td>Mozilla/5.0 (Windows NT 6.1; WOW64) AppleWebKi...</td>\n",
       "      <td>2014-11-10 23:27:13</td>\n",
       "      <td>a23368df1b6bbf80c3aeb99493d1bfa1</td>\n",
       "      <td>05d0532840f04928dfdd86296c51189d</td>\n",
       "    </tr>\n",
       "    <tr>\n",
       "      <th>1</th>\n",
       "      <td>/api/v1/courses/166/pages/dr-millers-lecture-0...</td>\n",
       "      <td>Mozilla/5.0 (Windows NT 6.1; WOW64) AppleWebKi...</td>\n",
       "      <td>2014-11-17 22:12:19</td>\n",
       "      <td>88842a61fa06828f9db6ac43b4a2401c</td>\n",
       "      <td>05d0532840f04928dfdd86296c51189d</td>\n",
       "    </tr>\n",
       "    <tr>\n",
       "      <th>2</th>\n",
       "      <td>/api/v1/courses/166/pages/dr-millers-lecture-0...</td>\n",
       "      <td>Mozilla/5.0 (Macintosh; Intel Mac OS X 10_10_1...</td>\n",
       "      <td>2014-12-10 17:10:38</td>\n",
       "      <td>7921f730292ce28177d1c64deacf3b1e</td>\n",
       "      <td>05d0532840f04928dfdd86296c51189d</td>\n",
       "    </tr>\n",
       "    <tr>\n",
       "      <th>3</th>\n",
       "      <td>/api/v1/courses/166/pages/dr-millers-lecture-0...</td>\n",
       "      <td>Mozilla/5.0 (Windows NT 6.2; WOW64) AppleWebKi...</td>\n",
       "      <td>2014-11-16 05:21:44</td>\n",
       "      <td>ade3957103c6a62bd12893f9f4b63a55</td>\n",
       "      <td>05d0532840f04928dfdd86296c51189d</td>\n",
       "    </tr>\n",
       "    <tr>\n",
       "      <th>4</th>\n",
       "      <td>/api/v1/courses/166/pages/dr-millers-lecture-0...</td>\n",
       "      <td>Mozilla/5.0 (Macintosh; Intel Mac OS X 10_9_2)...</td>\n",
       "      <td>2014-12-07 23:44:13</td>\n",
       "      <td>2d73ffead88db0762f4df97060dd4964</td>\n",
       "      <td>05d0532840f04928dfdd86296c51189d</td>\n",
       "    </tr>\n",
       "  </tbody>\n",
       "</table>\n",
       "</div>"
      ],
      "text/plain": [
       "                                                 URL  \\\n",
       "0  /api/v1/courses/166/pages/dr-millers-lecture-0...   \n",
       "1  /api/v1/courses/166/pages/dr-millers-lecture-0...   \n",
       "2  /api/v1/courses/166/pages/dr-millers-lecture-0...   \n",
       "3  /api/v1/courses/166/pages/dr-millers-lecture-0...   \n",
       "4  /api/v1/courses/166/pages/dr-millers-lecture-0...   \n",
       "\n",
       "                                          User Agent            TimeStamp  \\\n",
       "0  Mozilla/5.0 (Windows NT 6.1; WOW64) AppleWebKi...  2014-11-10 23:27:13   \n",
       "1  Mozilla/5.0 (Windows NT 6.1; WOW64) AppleWebKi...  2014-11-17 22:12:19   \n",
       "2  Mozilla/5.0 (Macintosh; Intel Mac OS X 10_10_1...  2014-12-10 17:10:38   \n",
       "3  Mozilla/5.0 (Windows NT 6.2; WOW64) AppleWebKi...  2014-11-16 05:21:44   \n",
       "4  Mozilla/5.0 (Macintosh; Intel Mac OS X 10_9_2)...  2014-12-07 23:44:13   \n",
       "\n",
       "                               UUID                           ClassID  \n",
       "0  a23368df1b6bbf80c3aeb99493d1bfa1  05d0532840f04928dfdd86296c51189d  \n",
       "1  88842a61fa06828f9db6ac43b4a2401c  05d0532840f04928dfdd86296c51189d  \n",
       "2  7921f730292ce28177d1c64deacf3b1e  05d0532840f04928dfdd86296c51189d  \n",
       "3  ade3957103c6a62bd12893f9f4b63a55  05d0532840f04928dfdd86296c51189d  \n",
       "4  2d73ffead88db0762f4df97060dd4964  05d0532840f04928dfdd86296c51189d  "
      ]
     },
     "execution_count": 128,
     "metadata": {},
     "output_type": "execute_result"
    }
   ],
   "source": [
    "#######CLUSTER 5 ANALYSIS\n",
    "df_cluster5 = pd.DataFrame(columns=('URL', 'User Agent', 'TimeStamp', 'UUID', 'ClassID'))\n",
    "for member in cluster5:\n",
    "    df_cluster5.loc[len(df_cluster5)] = df_reduced.ix[member]\n",
    "df_cluster5.head()"
   ]
  },
  {
   "cell_type": "code",
   "execution_count": 129,
   "metadata": {
    "collapsed": false
   },
   "outputs": [
    {
     "name": "stderr",
     "output_type": "stream",
     "text": [
      "/Users/andycho/anaconda/lib/python3.5/site-packages/ipykernel/__main__.py:2: FutureWarning: sort(columns=....) is deprecated, use sort_values(by=.....)\n",
      "  from ipykernel import kernelapp as app\n"
     ]
    },
    {
     "data": {
      "text/plain": [
       "<matplotlib.text.Text at 0x1134f89b0>"
      ]
     },
     "execution_count": 129,
     "metadata": {},
     "output_type": "execute_result"
    },
    {
     "data": {
      "image/png": "[encoded data removed]",
      "text/plain": [
       "<matplotlib.figure.Figure at 0x1133e0eb8>"
      ]
     },
     "metadata": {},
     "output_type": "display_data"
    }
   ],
   "source": [
    "#Descriptive Stats\n",
    "df_cluster5.groupby('UUID').count().sort(['URL']).plot(kind='hist', bins=6, legend=False,\n",
    "                                                    title = 'Distribution of Page Visits by Users')\n",
    "plt.xlabel('Page Visits')\n",
    "plt.ylabel('Number of Users')"
   ]
  },
  {
   "cell_type": "code",
   "execution_count": 130,
   "metadata": {
    "collapsed": false
   },
   "outputs": [
    {
     "data": {
      "text/plain": [
       "1.803030303030303"
      ]
     },
     "execution_count": 130,
     "metadata": {},
     "output_type": "execute_result"
    }
   ],
   "source": [
    "df_cluster5.groupby('UUID').count().mean()['URL'] #average number of page views for each student in this group"
   ]
  },
  {
   "cell_type": "code",
   "execution_count": 131,
   "metadata": {
    "collapsed": true
   },
   "outputs": [],
   "source": [
    "#Time Series\n",
    "df_cluster5['date'] = pd.to_datetime(df_cluster5['TimeStamp'])\n",
    "df_cluster5.index = df_cluster5['date']\n",
    "del df_cluster5['date']\n",
    "del df_cluster5['TimeStamp']"
   ]
  },
  {
   "cell_type": "code",
   "execution_count": 132,
   "metadata": {
    "collapsed": false
   },
   "outputs": [
    {
     "name": "stderr",
     "output_type": "stream",
     "text": [
      "/Users/andycho/anaconda/lib/python3.5/site-packages/ipykernel/__main__.py:1: FutureWarning: sort(....) is deprecated, use sort_index(.....)\n",
      "  if __name__ == '__main__':\n"
     ]
    },
    {
     "data": {
      "text/html": [
       "<div>\n",
       "<table border=\"1\" class=\"dataframe\">\n",
       "  <thead>\n",
       "    <tr style=\"text-align: right;\">\n",
       "      <th></th>\n",
       "      <th>URL</th>\n",
       "      <th>User Agent</th>\n",
       "      <th>UUID</th>\n",
       "      <th>ClassID</th>\n",
       "    </tr>\n",
       "    <tr>\n",
       "      <th>date</th>\n",
       "      <th></th>\n",
       "      <th></th>\n",
       "      <th></th>\n",
       "      <th></th>\n",
       "    </tr>\n",
       "  </thead>\n",
       "  <tbody>\n",
       "    <tr>\n",
       "      <th>2014-09-05 15:51:12</th>\n",
       "      <td>/api/v1/courses/166/pages/dr-millers-lecture-0...</td>\n",
       "      <td>Mozilla/5.0 (Windows NT 6.2; WOW64; rv:31.0) G...</td>\n",
       "      <td>e0af9226342996dd18502403649ae30c</td>\n",
       "      <td>05d0532840f04928dfdd86296c51189d</td>\n",
       "    </tr>\n",
       "    <tr>\n",
       "      <th>2014-09-08 02:12:56</th>\n",
       "      <td>/api/v1/courses/166/pages/dr-millers-lecture-0...</td>\n",
       "      <td>Mozilla/5.0 (Macintosh; Intel Mac OS X 10_7_5)...</td>\n",
       "      <td>53a8426b9561e50d5c40ee827df02b62</td>\n",
       "      <td>05d0532840f04928dfdd86296c51189d</td>\n",
       "    </tr>\n",
       "    <tr>\n",
       "      <th>2014-09-08 17:00:05</th>\n",
       "      <td>/api/v1/courses/166/pages/dr-millers-lecture-0...</td>\n",
       "      <td>Mozilla/5.0 (Windows NT 6.1; WOW64) AppleWebKi...</td>\n",
       "      <td>b25c37a8e3c8e8413b743f95d3c670bc</td>\n",
       "      <td>05d0532840f04928dfdd86296c51189d</td>\n",
       "    </tr>\n",
       "    <tr>\n",
       "      <th>2014-09-08 21:01:20</th>\n",
       "      <td>/api/v1/courses/166/pages/dr-millers-lecture-0...</td>\n",
       "      <td>Mozilla/5.0 (Macintosh; Intel Mac OS X 10_9_4)...</td>\n",
       "      <td>fac6e0994b3f58ed031a437873c04e79</td>\n",
       "      <td>05d0532840f04928dfdd86296c51189d</td>\n",
       "    </tr>\n",
       "    <tr>\n",
       "      <th>2014-09-10 00:35:32</th>\n",
       "      <td>/api/v1/courses/166/pages/dr-millers-lecture-0...</td>\n",
       "      <td>Mozilla/5.0 (Macintosh; Intel Mac OS X 10_9_4)...</td>\n",
       "      <td>5d269ab0999eb64e0e43086e5eb0fc9a</td>\n",
       "      <td>05d0532840f04928dfdd86296c51189d</td>\n",
       "    </tr>\n",
       "  </tbody>\n",
       "</table>\n",
       "</div>"
      ],
      "text/plain": [
       "                                                                   URL  \\\n",
       "date                                                                     \n",
       "2014-09-05 15:51:12  /api/v1/courses/166/pages/dr-millers-lecture-0...   \n",
       "2014-09-08 02:12:56  /api/v1/courses/166/pages/dr-millers-lecture-0...   \n",
       "2014-09-08 17:00:05  /api/v1/courses/166/pages/dr-millers-lecture-0...   \n",
       "2014-09-08 21:01:20  /api/v1/courses/166/pages/dr-millers-lecture-0...   \n",
       "2014-09-10 00:35:32  /api/v1/courses/166/pages/dr-millers-lecture-0...   \n",
       "\n",
       "                                                            User Agent  \\\n",
       "date                                                                     \n",
       "2014-09-05 15:51:12  Mozilla/5.0 (Windows NT 6.2; WOW64; rv:31.0) G...   \n",
       "2014-09-08 02:12:56  Mozilla/5.0 (Macintosh; Intel Mac OS X 10_7_5)...   \n",
       "2014-09-08 17:00:05  Mozilla/5.0 (Windows NT 6.1; WOW64) AppleWebKi...   \n",
       "2014-09-08 21:01:20  Mozilla/5.0 (Macintosh; Intel Mac OS X 10_9_4)...   \n",
       "2014-09-10 00:35:32  Mozilla/5.0 (Macintosh; Intel Mac OS X 10_9_4)...   \n",
       "\n",
       "                                                 UUID  \\\n",
       "date                                                    \n",
       "2014-09-05 15:51:12  e0af9226342996dd18502403649ae30c   \n",
       "2014-09-08 02:12:56  53a8426b9561e50d5c40ee827df02b62   \n",
       "2014-09-08 17:00:05  b25c37a8e3c8e8413b743f95d3c670bc   \n",
       "2014-09-08 21:01:20  fac6e0994b3f58ed031a437873c04e79   \n",
       "2014-09-10 00:35:32  5d269ab0999eb64e0e43086e5eb0fc9a   \n",
       "\n",
       "                                              ClassID  \n",
       "date                                                   \n",
       "2014-09-05 15:51:12  05d0532840f04928dfdd86296c51189d  \n",
       "2014-09-08 02:12:56  05d0532840f04928dfdd86296c51189d  \n",
       "2014-09-08 17:00:05  05d0532840f04928dfdd86296c51189d  \n",
       "2014-09-08 21:01:20  05d0532840f04928dfdd86296c51189d  \n",
       "2014-09-10 00:35:32  05d0532840f04928dfdd86296c51189d  "
      ]
     },
     "execution_count": 132,
     "metadata": {},
     "output_type": "execute_result"
    }
   ],
   "source": [
    "df_cluster5 = df_cluster5.sort()\n",
    "df_cluster5.head()"
   ]
  },
  {
   "cell_type": "code",
   "execution_count": 133,
   "metadata": {
    "collapsed": false
   },
   "outputs": [
    {
     "data": {
      "text/html": [
       "<div>\n",
       "<table border=\"1\" class=\"dataframe\">\n",
       "  <thead>\n",
       "    <tr style=\"text-align: right;\">\n",
       "      <th></th>\n",
       "      <th>URL</th>\n",
       "      <th>User Agent</th>\n",
       "      <th>UUID</th>\n",
       "      <th>ClassID</th>\n",
       "      <th>HofD</th>\n",
       "      <th>DofM</th>\n",
       "    </tr>\n",
       "    <tr>\n",
       "      <th>date</th>\n",
       "      <th></th>\n",
       "      <th></th>\n",
       "      <th></th>\n",
       "      <th></th>\n",
       "      <th></th>\n",
       "      <th></th>\n",
       "    </tr>\n",
       "  </thead>\n",
       "  <tbody>\n",
       "    <tr>\n",
       "      <th>2014-09-05 15:51:12</th>\n",
       "      <td>/api/v1/courses/166/pages/dr-millers-lecture-0...</td>\n",
       "      <td>Mozilla/5.0 (Windows NT 6.2; WOW64; rv:31.0) G...</td>\n",
       "      <td>e0af9226342996dd18502403649ae30c</td>\n",
       "      <td>05d0532840f04928dfdd86296c51189d</td>\n",
       "      <td>15</td>\n",
       "      <td>5</td>\n",
       "    </tr>\n",
       "    <tr>\n",
       "      <th>2014-09-08 02:12:56</th>\n",
       "      <td>/api/v1/courses/166/pages/dr-millers-lecture-0...</td>\n",
       "      <td>Mozilla/5.0 (Macintosh; Intel Mac OS X 10_7_5)...</td>\n",
       "      <td>53a8426b9561e50d5c40ee827df02b62</td>\n",
       "      <td>05d0532840f04928dfdd86296c51189d</td>\n",
       "      <td>2</td>\n",
       "      <td>8</td>\n",
       "    </tr>\n",
       "    <tr>\n",
       "      <th>2014-09-08 17:00:05</th>\n",
       "      <td>/api/v1/courses/166/pages/dr-millers-lecture-0...</td>\n",
       "      <td>Mozilla/5.0 (Windows NT 6.1; WOW64) AppleWebKi...</td>\n",
       "      <td>b25c37a8e3c8e8413b743f95d3c670bc</td>\n",
       "      <td>05d0532840f04928dfdd86296c51189d</td>\n",
       "      <td>17</td>\n",
       "      <td>8</td>\n",
       "    </tr>\n",
       "    <tr>\n",
       "      <th>2014-09-08 21:01:20</th>\n",
       "      <td>/api/v1/courses/166/pages/dr-millers-lecture-0...</td>\n",
       "      <td>Mozilla/5.0 (Macintosh; Intel Mac OS X 10_9_4)...</td>\n",
       "      <td>fac6e0994b3f58ed031a437873c04e79</td>\n",
       "      <td>05d0532840f04928dfdd86296c51189d</td>\n",
       "      <td>21</td>\n",
       "      <td>8</td>\n",
       "    </tr>\n",
       "    <tr>\n",
       "      <th>2014-09-10 00:35:32</th>\n",
       "      <td>/api/v1/courses/166/pages/dr-millers-lecture-0...</td>\n",
       "      <td>Mozilla/5.0 (Macintosh; Intel Mac OS X 10_9_4)...</td>\n",
       "      <td>5d269ab0999eb64e0e43086e5eb0fc9a</td>\n",
       "      <td>05d0532840f04928dfdd86296c51189d</td>\n",
       "      <td>0</td>\n",
       "      <td>10</td>\n",
       "    </tr>\n",
       "  </tbody>\n",
       "</table>\n",
       "</div>"
      ],
      "text/plain": [
       "                                                                   URL  \\\n",
       "date                                                                     \n",
       "2014-09-05 15:51:12  /api/v1/courses/166/pages/dr-millers-lecture-0...   \n",
       "2014-09-08 02:12:56  /api/v1/courses/166/pages/dr-millers-lecture-0...   \n",
       "2014-09-08 17:00:05  /api/v1/courses/166/pages/dr-millers-lecture-0...   \n",
       "2014-09-08 21:01:20  /api/v1/courses/166/pages/dr-millers-lecture-0...   \n",
       "2014-09-10 00:35:32  /api/v1/courses/166/pages/dr-millers-lecture-0...   \n",
       "\n",
       "                                                            User Agent  \\\n",
       "date                                                                     \n",
       "2014-09-05 15:51:12  Mozilla/5.0 (Windows NT 6.2; WOW64; rv:31.0) G...   \n",
       "2014-09-08 02:12:56  Mozilla/5.0 (Macintosh; Intel Mac OS X 10_7_5)...   \n",
       "2014-09-08 17:00:05  Mozilla/5.0 (Windows NT 6.1; WOW64) AppleWebKi...   \n",
       "2014-09-08 21:01:20  Mozilla/5.0 (Macintosh; Intel Mac OS X 10_9_4)...   \n",
       "2014-09-10 00:35:32  Mozilla/5.0 (Macintosh; Intel Mac OS X 10_9_4)...   \n",
       "\n",
       "                                                 UUID  \\\n",
       "date                                                    \n",
       "2014-09-05 15:51:12  e0af9226342996dd18502403649ae30c   \n",
       "2014-09-08 02:12:56  53a8426b9561e50d5c40ee827df02b62   \n",
       "2014-09-08 17:00:05  b25c37a8e3c8e8413b743f95d3c670bc   \n",
       "2014-09-08 21:01:20  fac6e0994b3f58ed031a437873c04e79   \n",
       "2014-09-10 00:35:32  5d269ab0999eb64e0e43086e5eb0fc9a   \n",
       "\n",
       "                                              ClassID  HofD  DofM  \n",
       "date                                                               \n",
       "2014-09-05 15:51:12  05d0532840f04928dfdd86296c51189d    15     5  \n",
       "2014-09-08 02:12:56  05d0532840f04928dfdd86296c51189d     2     8  \n",
       "2014-09-08 17:00:05  05d0532840f04928dfdd86296c51189d    17     8  \n",
       "2014-09-08 21:01:20  05d0532840f04928dfdd86296c51189d    21     8  \n",
       "2014-09-10 00:35:32  05d0532840f04928dfdd86296c51189d     0    10  "
      ]
     },
     "execution_count": 133,
     "metadata": {},
     "output_type": "execute_result"
    }
   ],
   "source": [
    "#bin them into days or something and then use the count to see how many are in a certain day or hour\n",
    "df_cluster5['HofD'] = [r.hour for r in df_cluster5.index]\n",
    "df_cluster5['DofM'] = [r.day for r in df_cluster5.index]\n",
    "df_cluster5.head()"
   ]
  },
  {
   "cell_type": "code",
   "execution_count": 134,
   "metadata": {
    "collapsed": false
   },
   "outputs": [
    {
     "data": {
      "text/plain": [
       "<matplotlib.axes._subplots.AxesSubplot at 0x1136bf748>"
      ]
     },
     "execution_count": 134,
     "metadata": {},
     "output_type": "execute_result"
    },
    {
     "data": {
      "image/png": "[encoded data removed]",
      "text/plain": [
       "<matplotlib.figure.Figure at 0x1136ded30>"
      ]
     },
     "metadata": {},
     "output_type": "display_data"
    }
   ],
   "source": [
    "df_cluster5.groupby('HofD').count().plot(title='Cluster 5 Site Views by Hour')"
   ]
  },
  {
   "cell_type": "code",
   "execution_count": 135,
   "metadata": {
    "collapsed": false
   },
   "outputs": [
    {
     "data": {
      "text/plain": [
       "<matplotlib.axes._subplots.AxesSubplot at 0x11368c518>"
      ]
     },
     "execution_count": 135,
     "metadata": {},
     "output_type": "execute_result"
    },
    {
     "data": {
      "image/png": "[encoded data removed]",
      "text/plain": [
       "<matplotlib.figure.Figure at 0x1137984a8>"
      ]
     },
     "metadata": {},
     "output_type": "display_data"
    }
   ],
   "source": [
    "df_cluster5.groupby('DofM').count().plot(title='Cluster 5 Site Views by Day of Month')"
   ]
  },
  {
   "cell_type": "code",
   "execution_count": null,
   "metadata": {
    "collapsed": true
   },
   "outputs": [],
   "source": []
  }
 ],
 "metadata": {
  "kernelspec": {
   "display_name": "Python 3",
   "language": "python",
   "name": "python3"
  },
  "language_info": {
   "codemirror_mode": {
    "name": "ipython",
    "version": 3
   },
   "file_extension": ".py",
   "mimetype": "text/x-python",
   "name": "python",
   "nbconvert_exporter": "python",
   "pygments_lexer": "ipython3",
   "version": "3.5.1"
  }
 },
 "nbformat": 4,
 "nbformat_minor": 0
}
